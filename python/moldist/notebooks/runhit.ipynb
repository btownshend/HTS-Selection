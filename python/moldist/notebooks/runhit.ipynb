{
 "cells": [
  {
   "cell_type": "code",
   "execution_count": 3,
   "metadata": {
    "collapsed": true
   },
   "outputs": [],
   "source": [
    "# OPTIONAL: Load the \"autoreload\" extension so that code can change\n",
    "%load_ext autoreload\n",
    "# OPTIONAL: always reload modules so that as you change code in src, it gets loaded\n",
    "%autoreload 2\n",
    "seed=42"
   ]
  },
  {
   "cell_type": "code",
   "execution_count": 8,
   "outputs": [],
   "source": [
    "%load_ext dotenv\n",
    "%dotenv"
   ],
   "metadata": {
    "collapsed": false,
    "pycharm": {
     "name": "#%%\n"
    }
   }
  },
  {
   "cell_type": "code",
   "execution_count": 21,
   "outputs": [
    {
     "name": "stdout",
     "output_type": "stream",
     "text": [
      "001A02\n",
      "001A03\n",
      "001A04\n",
      "001A05\n",
      "001A06\n",
      "001A07\n",
      "001A08\n",
      "001A09\n",
      "001A10\n",
      "001A11\n",
      "001B02\n",
      "001B03\n",
      "001B04\n",
      "001B05\n",
      "001B06\n",
      "001B07\n",
      "001B08\n",
      "001B09\n",
      "001B10\n",
      "001B11\n",
      "001C02\n",
      "001C03\n",
      "001C04\n",
      "001C05\n",
      "001C06\n",
      "001C07\n",
      "001C08\n",
      "001C09\n",
      "001C10\n",
      "001C11\n",
      "001D02\n",
      "001D03\n",
      "001D04\n",
      "001D05\n",
      "001D06\n",
      "001D07\n",
      "001D08\n",
      "001D09\n",
      "001D10\n",
      "001D11\n",
      "001E02\n",
      "001E03\n",
      "001E04\n",
      "001E05\n",
      "001E06\n",
      "001E07\n",
      "001E08\n",
      "001E09\n",
      "001E10\n",
      "001E11\n",
      "001F02\n",
      "001F03\n",
      "001F04\n",
      "001F05\n",
      "001F06\n",
      "001F07\n",
      "001F08\n",
      "001F09\n",
      "001F10\n",
      "001F11\n",
      "001G02\n",
      "001G03\n",
      "001G04\n",
      "001G05\n",
      "001G06\n",
      "001G07\n",
      "001G08\n",
      "001G09\n",
      "001G10\n",
      "001G11\n",
      "001H02\n",
      "001H03\n",
      "001H04\n",
      "001H05\n",
      "001H06\n",
      "001H07\n",
      "001H08\n",
      "001H09\n",
      "001H10\n",
      "001H11\n",
      "002A02\n",
      "002A03\n",
      "002A04\n",
      "002A05\n",
      "002A06\n",
      "002A07\n",
      "002A08\n",
      "002A09\n",
      "002A10\n",
      "002A11\n",
      "002B02\n",
      "002B03\n",
      "002B04\n",
      "002B05\n",
      "002B06\n",
      "002B07\n",
      "002B08\n",
      "002B09\n",
      "002B10\n",
      "002B11\n",
      "002C02\n",
      "50000 30\n"
     ]
    }
   ],
   "source": [
    "# Load data\n",
    "from src.data import make_dataset\n",
    "molecules=make_dataset.load()"
   ],
   "metadata": {
    "collapsed": false,
    "pycharm": {
     "name": "#%%\n"
    }
   }
  },
  {
   "cell_type": "code",
   "execution_count": 26,
   "outputs": [
    {
     "name": "stdout",
     "output_type": "stream",
     "text": [
      "45B02\n",
      "InChI=1S/C21H23N3O5/c1-14(10-15-8-6-5-7-9-15)24-13-19(29-23-24)22-21(25)16-11-17(26-2)20(28-4)18(12-16)27-3/h5-9,11-14H,10H2,1-4H3/b22-19+\n",
      "COc1cc(C(=O)/N=c2\\[cH-][n+](C(C)Cc3ccccc3)no2)cc(OC)c1OC\n",
      "\n",
      "\n",
      "206E05\n",
      "InChI=1S/C21H26N2O3S/c1-14(2)26-12-7-11-22-20(24)18-15-8-4-5-9-16(15)21(25)23(3)19(18)17-10-6-13-27-17/h4-6,8-10,13-14,18-19H,7,11-12H2,1-3H3,(H,22,24)\n",
      "CC(C)OCCCNC(=O)C1c2ccccc2C(=O)N(C)C1c1cccs1\n",
      "\n",
      "\n",
      "208H04\n",
      "InChI=1S/C18H21ClN4O/c19-15-7-3-6-14-16(11-20-21-17(14)15)23-10-4-5-13(12-23)18(24)22-8-1-2-9-22/h3,6-7,11,13H,1-2,4-5,8-10,12H2\n",
      "O=C(C1CCCN(c2cnnc3c(Cl)cccc23)C1)N1CCCC1\n",
      "\n",
      "\n",
      "247B08\n",
      "InChI=1S/C14H12Cl2N4S/c1-8-5-13(20-14(17-8)18-9(2)19-20)21-7-10-3-4-11(15)12(16)6-10/h3-6H,7H2,1-2H3\n",
      "Cc1cc(SCc2ccc(Cl)c(Cl)c2)n2nc(C)nc2n1\n",
      "\n",
      "\n",
      "247C06\n",
      "InChI=1S/C12H7ClN4O3/c13-7-3-1-6(2-4-7)9(18)5-8-12(19)15-11-10(14-8)16-20-17-11/h1-5H,(H,14,16)(H,15,17,19)/b8-5+\n",
      "O=C1Nc2nonc2N/C1=C/C(=O)c1ccc(Cl)cc1\n",
      "\n",
      "\n",
      "247E05\n",
      "InChI=1S/C14H15N5O5S/c1-8-12(13(20)19-14(17-8)15-7-16-19)18-25(21,22)9-4-5-10(23-2)11(6-9)24-3/h4-7,18,20H,1-3H3\n",
      "COc1ccc(S(=O)(=O)Nc2c(C)nc3ncnn3c2O)cc1OC\n",
      "\n",
      "\n",
      "286E11\n",
      "InChI=1S/C20H24ClNO3/c1-13-7-10-20(11-8-13)17(14(2)19(24)25-20)18(23)22-12-9-15-3-5-16(21)6-4-15/h3-6,13H,7-12H2,1-2H3,(H,22,23)\n",
      "CC1=C(C(=O)NCCc2ccc(Cl)cc2)C2(CCC(C)CC2)OC1=O\n",
      "\n",
      "\n",
      "287E04\n",
      "InChI=1S/C16H18N2O3/c1-11-13(14(19)18-12-5-9-17-10-6-12)16(21-15(11)20)7-3-2-4-8-16/h5-6,9-10H,2-4,7-8H2,1H3,(H,17,18,19)\n",
      "CC1=C(C(=O)Nc2ccncc2)C2(CCCCC2)OC1=O\n",
      "\n",
      "\n",
      "326C10\n",
      "InChI=1S/C20H21N3O2S/c1-14-6-8-15(9-7-14)13-26-20-22-18-17(5-2-10-21-18)19(24)23(20)12-16-4-3-11-25-16/h2,5-10,16H,3-4,11-13H2,1H3\n",
      "Cc1ccc(CSc2nc3ncccc3c(=O)n2CC2CCCO2)cc1\n",
      "\n",
      "\n",
      "445F10\n",
      "InChI=1S/C22H27N5OS/c1-2-24-12-14-25(15-13-24)21(28)18-29-17-19-16-23-27(20-8-4-3-5-9-20)22(19)26-10-6-7-11-26/h3-11,16H,2,12-15,17-18H2,1H3\n",
      "CCN1CCN(C(=O)CSCc2cnn(-c3ccccc3)c2-n2cccc2)CC1\n",
      "\n",
      "\n",
      "446A08\n",
      "InChI=1S/C13H16N2O2S/c1-4-14-13-10(3)12(18(16,17)15-13)11-7-5-9(2)6-8-11/h5-8H,4H2,1-3H3,(H,14,15)\n",
      "CCNC1=NS(=O)(=O)C(c2ccc(C)cc2)=C1C\n",
      "\n",
      "\n",
      "446G07\n",
      "InChI=1S/C17H24N2O3S/c1-12(2)22-11-5-10-18-17-14(4)16(23(20,21)19-17)15-8-6-13(3)7-9-15/h6-9,12H,5,10-11H2,1-4H3,(H,18,19)\n",
      "CC1=C(c2ccc(C)cc2)S(=O)(=O)N=C1NCCCOC(C)C\n",
      "\n",
      "\n",
      "446G08\n",
      "InChI=1S/C21H31N3O2S/c1-15-9-11-19(12-10-15)20-18(4)21(23-27(20,25)26)22-13-6-14-24-16(2)7-5-8-17(24)3/h9-12,16-17H,5-8,13-14H2,1-4H3,(H,22,23)\n",
      "CC1=C(c2ccc(C)cc2)S(=O)(=O)N=C1NCCCN1C(C)CCCC1C\n",
      "\n",
      "\n",
      "447E02\n",
      "InChI=1S/C22H26N2O2S/c1-16(2)19-11-13-20(14-12-19)21-17(3)22(24-27(21,25)26)23-15-7-10-18-8-5-4-6-9-18/h4-6,8-9,11-14,16H,7,10,15H2,1-3H3,(H,23,24)\n",
      "CC1=C(c2ccc(C(C)C)cc2)S(=O)(=O)N=C1NCCCc1ccccc1\n",
      "\n",
      "\n",
      "448H09\n",
      "InChI=1S/C24H32N6O2S/c31-21-7-3-13-30(21)24-27-26-23(33-24)29-15-9-19(10-16-29)22(32)25-11-4-12-28-14-8-18-5-1-2-6-20(18)17-28/h1-2,5-6,19H,3-4,7-17H2,(H,25,32)\n",
      "O=C(NCCCN1CCc2ccccc2C1)C1CCN(c2nnc(N3CCCC3=O)s2)CC1\n",
      "\n",
      "\n",
      "485D02\n",
      "InChI=1S/C19H17N5O2/c25-17(22-13-14-5-1-2-9-20-14)8-12-24-18-15(6-3-10-21-18)23-11-4-7-16(23)19(24)26/h1-7,9-11H,8,12-13H2,(H,22,25)\n",
      "O=C(CCn1c(=O)c2cccn2c2cccnc21)NCc1ccccn1\n",
      "\n",
      "\n",
      "486E07\n",
      "InChI=1S/C19H21ClN2O5S/c1-2-26-19(24)22-10-8-21(9-11-22)18(23)17-7-6-15(27-17)13-28(25)16-5-3-4-14(20)12-16/h3-7,12H,2,8-11,13H2,1H3\n",
      "CCOC(=O)N1CCN(C(=O)c2ccc(CS(=O)c3cccc(Cl)c3)o2)CC1\n",
      "\n",
      "\n",
      "487E04\n",
      "InChI=1S/C23H30N2O4S/c1-28-19-7-10-21(11-8-19)30(27)17-20-9-12-22(29-20)23(26)25-15-13-24(14-16-25)18-5-3-2-4-6-18/h7-12,18H,2-6,13-17H2,1H3\n",
      "COc1ccc(S(=O)Cc2ccc(C(=O)N3CCN(C4CCCCC4)CC3)o2)cc1\n",
      "\n",
      "\n",
      "487F04\n",
      "InChI=1S/C22H23NO4S/c1-3-23(15-17-7-5-4-6-8-17)22(24)21-14-11-19(27-21)16-28(25)20-12-9-18(26-2)10-13-20/h4-14H,3,15-16H2,1-2H3\n",
      "CCN(Cc1ccccc1)C(=O)c1ccc(CS(=O)c2ccc(OC)cc2)o1\n",
      "\n",
      "\n",
      "488D10\n",
      "InChI=1S/C13H12F5N3O3/c1-3-21-11-10(6(2)19-21)7(12(14,15)13(16,17)18)4-8(22)20(11)5-9(23)24/h4H,3,5H2,1-2H3,(H,23,24)\n",
      "CCn1nc(C)c2c(C(F)(F)C(F)(F)F)cc(=O)n(CC(=O)O)c21\n",
      "\n",
      "\n",
      "525D02\n",
      "InChI=1S/C17H18ClNO4S/c1-11-7-8-16(12(2)9-11)24(22,23)19-15(10-17(20)21)13-5-3-4-6-14(13)18/h3-9,15,19H,10H2,1-2H3,(H,20,21)\n",
      "Cc1ccc(S(=O)(=O)NC(CC(=O)O)c2ccccc2Cl)c(C)c1\n",
      "\n",
      "\n",
      "526A09\n",
      "InChI=1S/C18H24N4O/c1-2-10-20-18(23)16-13-21-22(15-6-4-3-5-7-15)17(16)14-8-11-19-12-9-14/h3-7,13-14,19H,2,8-12H2,1H3,(H,20,23)\n",
      "CCCNC(=O)c1cnn(-c2ccccc2)c1C1CCNCC1\n",
      "\n",
      "\n",
      "526B09\n",
      "InChI=1S/C20H26N4O/c25-20(23-16-6-4-5-7-16)18-14-22-24(17-8-2-1-3-9-17)19(18)15-10-12-21-13-11-15/h1-3,8-9,14-16,21H,4-7,10-13H2,(H,23,25)\n",
      "O=C(NC1CCCC1)c1cnn(-c2ccccc2)c1C1CCNCC1\n",
      "\n",
      "\n",
      "526D09\n",
      "InChI=1S/C18H23N5O3/c24-17(14-12-20-21-16(14)13-3-5-19-6-4-13)22-7-9-23(10-8-22)18(25)15-2-1-11-26-15/h1-2,11-13,19H,3-10H2,(H,20,21)\n",
      "O=C(c1ccco1)N1CCN(C(=O)c2cn[nH]c2C2CCNCC2)CC1\n",
      "\n",
      "\n",
      "526H07\n",
      "InChI=1S/C24H34N6O4/c1-17-8-10-29(11-9-17)22(31)7-6-21-25-20(26-34-21)16-28-12-14-30(15-13-28)24(32)23-18-4-2-3-5-19(18)33-27-23/h17H,2-16H2,1H3\n",
      "CC1CCN(C(=O)CCc2nc(CN3CCN(C(=O)c4noc5c4CCCC5)CC3)no2)CC1\n",
      "\n",
      "\n",
      "526H11\n",
      "InChI=1S/C22H25FN2O2/c1-4-15(3)24-12-18-17-10-9-14(2)11-20(17)25(21(18)22(26)27)13-16-7-5-6-8-19(16)23/h5-11,15,24H,4,12-13H2,1-3H3,(H,26,27)\n",
      "CCC(C)NCc1c(C(=O)O)n(Cc2ccccc2F)c2cc(C)ccc12\n",
      "\n",
      "\n",
      "568B08\n",
      "InChI=1S/C23H32N4O/c1-3-19-20(4-2)25-22-16-17(8-9-21(22)24-19)23(28)27-14-10-18(11-15-27)26-12-6-5-7-13-26/h8-9,16,18H,3-7,10-15H2,1-2H3\n",
      "CCc1nc2ccc(C(=O)N3CCC(N4CCCCC4)CC3)cc2nc1CC\n",
      "\n",
      "\n",
      "568C04\n",
      "InChI=1S/C22H15F2N3O/c1-25-22(28)15-6-11-18-19(12-15)27-21(14-4-9-17(24)10-5-14)20(26-18)13-2-7-16(23)8-3-13/h2-12H,1H3,(H,25,28)\n",
      "CNC(=O)c1ccc2nc(-c3ccc(F)cc3)c(-c3ccc(F)cc3)nc2c1\n",
      "\n",
      "\n",
      "568C07\n",
      "InChI=1S/C23H27N3O2/c1-5-19-20(6-2)26-22-13-17(9-12-21(22)25-19)23(27)24-14-16-7-10-18(11-8-16)28-15(3)4/h7-13,15H,5-6,14H2,1-4H3,(H,24,27)\n",
      "CCc1nc2ccc(C(=O)NCc3ccc(OC(C)C)cc3)cc2nc1CC\n",
      "\n",
      "\n",
      "607C11\n",
      "InChI=1S/C19H25N3O3/c1-25-16-7-5-15(6-8-16)17-9-10-19(24)22(20-17)14-11-18(23)21-12-3-2-4-13-21/h5-8H,2-4,9-14H2,1H3\n",
      "COc1ccc(C2=NN(CCC(=O)N3CCCCC3)C(=O)CC2)cc1\n",
      "\n",
      "\n"
     ]
    }
   ],
   "source": [
    "make_dataset.dumpInchi(molecules)"
   ],
   "metadata": {
    "collapsed": false,
    "pycharm": {
     "name": "#%%\n"
    }
   }
  },
  {
   "cell_type": "code",
   "execution_count": null,
   "outputs": [],
   "source": [
    "from rdkit.Chem import AllChem\n",
    "print(molecules[0].GetProp(\"NAME\"),AllChem.MolToSmiles(molecules[0]))"
   ],
   "metadata": {
    "collapsed": false,
    "pycharm": {
     "name": "#%%\n"
    }
   }
  },
  {
   "cell_type": "code",
   "execution_count": 15,
   "outputs": [
    {
     "name": "stdout",
     "output_type": "stream",
     "text": [
      "1A02 Cc1cc(O)n2ncnc2n1\n"
     ]
    }
   ],
   "source": [
    "from rdkit.Chem import AllChem\n",
    "print(molecules[0].GetProp(\"NAME\"),AllChem.MolToSmiles(molecules[0]))"
   ],
   "metadata": {
    "collapsed": false,
    "pycharm": {
     "name": "#%%\n"
    }
   }
  },
  {
   "cell_type": "code",
   "execution_count": null,
   "outputs": [],
   "source": [
    "# Build the features\n",
    "from src.features import build_features\n",
    "X=build_features.build(molecules)"
   ],
   "metadata": {
    "collapsed": false,
    "pycharm": {
     "name": "#%%\n"
    }
   }
  },
  {
   "cell_type": "code",
   "execution_count": 2,
   "outputs": [
    {
     "ename": "TypeError",
     "evalue": "unsupported operand type(s) for +: 'NoneType' and 'str'",
     "output_type": "error",
     "traceback": [
      "\u001B[0;31m---------------------------------------------------------------------------\u001B[0m",
      "\u001B[0;31mTypeError\u001B[0m                                 Traceback (most recent call last)",
      "\u001B[0;32m<ipython-input-2-0ba641158283>\u001B[0m in \u001B[0;36m<module>\u001B[0;34m\u001B[0m\n\u001B[1;32m      1\u001B[0m \u001B[0;31m# Load data\u001B[0m\u001B[0;34m\u001B[0m\u001B[0;34m\u001B[0m\u001B[0;34m\u001B[0m\u001B[0m\n\u001B[1;32m      2\u001B[0m \u001B[0;32mfrom\u001B[0m \u001B[0msrc\u001B[0m\u001B[0;34m.\u001B[0m\u001B[0mdata\u001B[0m \u001B[0;32mimport\u001B[0m \u001B[0mmake_dataset\u001B[0m\u001B[0;34m\u001B[0m\u001B[0;34m\u001B[0m\u001B[0m\n\u001B[0;32m----> 3\u001B[0;31m \u001B[0mmolecules\u001B[0m\u001B[0;34m=\u001B[0m\u001B[0mmake_dataset\u001B[0m\u001B[0;34m.\u001B[0m\u001B[0mload\u001B[0m\u001B[0;34m(\u001B[0m\u001B[0;34m)\u001B[0m\u001B[0;34m\u001B[0m\u001B[0;34m\u001B[0m\u001B[0m\n\u001B[0m",
      "\u001B[0;32m~/Dropbox/SynBio/HTS-Selection/python/moldist/src/data/make_dataset.py\u001B[0m in \u001B[0;36mload\u001B[0;34m()\u001B[0m\n\u001B[1;32m      6\u001B[0m \u001B[0;32mdef\u001B[0m \u001B[0mload\u001B[0m\u001B[0;34m(\u001B[0m\u001B[0;34m)\u001B[0m\u001B[0;34m:\u001B[0m\u001B[0;34m\u001B[0m\u001B[0;34m\u001B[0m\u001B[0m\n\u001B[1;32m      7\u001B[0m     \u001B[0;31m# Read in the CDIV molecules\u001B[0m\u001B[0;34m\u001B[0m\u001B[0;34m\u001B[0m\u001B[0;34m\u001B[0m\u001B[0m\n\u001B[0;32m----> 8\u001B[0;31m     \u001B[0msuppl\u001B[0m \u001B[0;34m=\u001B[0m \u001B[0mAllChem\u001B[0m\u001B[0;34m.\u001B[0m\u001B[0mSDMolSupplier\u001B[0m\u001B[0;34m(\u001B[0m\u001B[0mos\u001B[0m\u001B[0;34m.\u001B[0m\u001B[0mgetenv\u001B[0m\u001B[0;34m(\u001B[0m\u001B[0;34m\"DATA\"\u001B[0m\u001B[0;34m)\u001B[0m \u001B[0;34m+\u001B[0m \u001B[0;34m\"/HTBCFiles/ChemDivFull.sdf\"\u001B[0m\u001B[0;34m)\u001B[0m\u001B[0;34m\u001B[0m\u001B[0;34m\u001B[0m\u001B[0m\n\u001B[0m\u001B[1;32m      9\u001B[0m \u001B[0;34m\u001B[0m\u001B[0m\n\u001B[1;32m     10\u001B[0m     \u001B[0;31m# Extract only the 960 tested molecules\u001B[0m\u001B[0;34m\u001B[0m\u001B[0;34m\u001B[0m\u001B[0;34m\u001B[0m\u001B[0m\n",
      "\u001B[0;31mTypeError\u001B[0m: unsupported operand type(s) for +: 'NoneType' and 'str'"
     ]
    }
   ],
   "source": [
    "# Build the features\n",
    "from src.features import build_features\n",
    "X=build_features.build(molecules)"
   ],
   "metadata": {
    "collapsed": false,
    "pycharm": {
     "name": "#%%\n"
    }
   }
  },
  {
   "cell_type": "code",
   "execution_count": 3,
   "outputs": [
    {
     "name": "stdout",
     "text": [
      "mean value of features = 0.039648946126302084\n"
     ],
     "output_type": "stream"
    }
   ],
   "source": [
    "# Build the features\n",
    "from src.features import build_features\n",
    "X=build_features.build(molecules)"
   ],
   "metadata": {
    "collapsed": false,
    "pycharm": {
     "name": "#%%\n",
     "is_executing": false
    }
   }
  },
  {
   "cell_type": "code",
   "execution_count": 5,
   "outputs": [
    {
     "name": "stdout",
     "text": [
      "Processed 46 hits.\n",
      "Matched 46 hits\n"
     ],
     "output_type": "stream"
    }
   ],
   "source": [
    "# Build the targets\n",
    "from src.features import build_targets\n",
    "y=build_targets.build_hit(molecules)\n"
   ],
   "metadata": {
    "collapsed": false,
    "pycharm": {
     "name": "#%%\n",
     "is_executing": false
    }
   }
  },
  {
   "cell_type": "code",
   "execution_count": 6,
   "outputs": [
    {
     "name": "stdout",
     "text": [
      "Fraction hits: train: 0.049, test: 0.047\n"
     ],
     "output_type": "stream"
    }
   ],
   "source": [
    "# Create train/test sets\n",
    "from src.models import split_data\n",
    "X_train, X_test, y_train, y_test, ind_train, ind_test = split_data.split(0.4,X,y,seed)\n",
    "mol_test=[molecules[x] for x in ind_test]\n",
    "mol_train=[molecules[x] for x in ind_train]\n",
    "    "
   ],
   "metadata": {
    "collapsed": false,
    "pycharm": {
     "name": "#%%\n",
     "is_executing": false
    }
   }
  },
  {
   "cell_type": "code",
   "execution_count": 7,
   "outputs": [
    {
     "name": "stdout",
     "text": [
      "LogisticRegression(C=1.0, class_weight='balanced', dual=False,\n",
      "                   fit_intercept=True, intercept_scaling=1, l1_ratio=None,\n",
      "                   max_iter=1000, multi_class='auto', n_jobs=None, penalty='l2',\n",
      "                   random_state=42, solver='liblinear', tol=0.0001, verbose=0,\n",
      "                   warm_start=False)\n",
      "Cross-validation score = 0.784 += 0.135\n",
      "RandomForestClassifier(bootstrap=True, class_weight='balanced',\n",
      "                       criterion='gini', max_depth=None, max_features='auto',\n",
      "                       max_leaf_nodes=None, min_impurity_decrease=0.0,\n",
      "                       min_impurity_split=None, min_samples_leaf=1,\n",
      "                       min_samples_split=2, min_weight_fraction_leaf=0.0,\n",
      "                       n_estimators=10, n_jobs=None, oob_score=False,\n",
      "                       random_state=42, verbose=0, warm_start=False)\n",
      "Cross-validation score = 0.762 += 0.121\n"
     ],
     "output_type": "stream"
    }
   ],
   "source": [
    "# Train model\n",
    "from src.models import train_model\n",
    "models=[train_model.train_lr(X_train,y_train,seed),train_model.train_rfc(X_train,y_train,seed,n_estimators=10)]"
   ],
   "metadata": {
    "collapsed": false,
    "pycharm": {
     "name": "#%%\n",
     "is_executing": false
    }
   }
  },
  {
   "cell_type": "code",
   "execution_count": 8,
   "outputs": [
    {
     "name": "stdout",
     "text": [
      "------\n",
      "LogisticRegression(C=1.0, class_weight='balanced', dual=False,\n",
      "                   fit_intercept=True, intercept_scaling=1, l1_ratio=None,\n",
      "                   max_iter=1000, multi_class='auto', n_jobs=None, penalty='l2',\n",
      "                   random_state=42, solver='liblinear', tol=0.0001, verbose=0,\n",
      "                   warm_start=False)\n",
      "Train:\n",
      "              precision    recall  f1-score   support\n",
      "\n",
      "         0.0       1.00      1.00      1.00       548\n",
      "         1.0       1.00      1.00      1.00        28\n",
      "\n",
      "    accuracy                           1.00       576\n",
      "   macro avg       1.00      1.00      1.00       576\n",
      "weighted avg       1.00      1.00      1.00       576\n",
      "\n",
      "[[548   0]\n",
      " [  0  28]]\n",
      "ROC_AUC Score = 1.000\n",
      "Test:\n",
      "              precision    recall  f1-score   support\n",
      "\n",
      "         0.0       0.98      0.99      0.98       366\n",
      "         1.0       0.67      0.56      0.61        18\n",
      "\n",
      "    accuracy                           0.97       384\n",
      "   macro avg       0.82      0.77      0.79       384\n",
      "weighted avg       0.96      0.97      0.96       384\n",
      "\n",
      "[[361   5]\n",
      " [  8  10]]\n",
      "ROC_AUC Score = 0.771\n",
      " 31F10: predict=1.0, actual=0.0\n",
      "  31E3: predict=0.0, actual=1.0\n",
      " 101G6: predict=0.0, actual=1.0\n",
      "  41E7: predict=1.0, actual=0.0\n",
      " 101E6: predict=0.0, actual=1.0\n",
      " 31B11: predict=0.0, actual=1.0\n",
      "   1A4: predict=0.0, actual=1.0\n",
      "  51D8: predict=1.0, actual=0.0\n",
      "   1F7: predict=0.0, actual=1.0\n",
      "  51F8: predict=1.0, actual=0.0\n",
      " 41H10: predict=0.0, actual=1.0\n",
      "  61E4: predict=0.0, actual=1.0\n",
      "  91E3: predict=1.0, actual=0.0\n",
      "LOO:\n",
      "Running Leave-out validation on 960 molecules...\n",
      "0...\n",
      "   1A4: predict=0.0, actual=1.0\n",
      "20...40...\n",
      "   1F7: predict=0.0, actual=1.0\n",
      "60...80...100...\n",
      "  11D3: predict=0.0, actual=1.0\n",
      "120...140...160...180...200...220...\n",
      "  21G8: predict=0.0, actual=1.0\n",
      "240...260...\n",
      "  31D8: predict=0.0, actual=1.0\n",
      "280...\n",
      "  31E3: predict=0.0, actual=1.0\n",
      "\n",
      "  31E4: predict=0.0, actual=1.0\n",
      "\n",
      "  31E7: predict=0.0, actual=1.0\n",
      "\n",
      "  31E9: predict=0.0, actual=1.0\n",
      "\n",
      " 31E10: predict=0.0, actual=1.0\n",
      "\n",
      " 31F10: predict=1.0, actual=0.0\n",
      "300...320...340...360...\n",
      "  41E7: predict=1.0, actual=0.0\n",
      "\n",
      " 41E10: predict=0.0, actual=1.0\n",
      "\n",
      "  41F7: predict=0.0, actual=1.0\n",
      "380...\n",
      " 41H10: predict=0.0, actual=1.0\n",
      "400...\n",
      "  51B8: predict=0.0, actual=1.0\n",
      "420...440...\n",
      "  51F8: predict=1.0, actual=0.0\n",
      "460...\n",
      "  51G2: predict=0.0, actual=1.0\n",
      "\n",
      "  51H8: predict=0.0, actual=1.0\n",
      "480...500...\n",
      "  61C4: predict=0.0, actual=1.0\n",
      "520...\n",
      "  61E4: predict=0.0, actual=1.0\n",
      "\n",
      "  61F4: predict=1.0, actual=0.0\n",
      "540...560...580...\n",
      " 71D11: predict=1.0, actual=0.0\n",
      "600...\n",
      "  71F6: predict=1.0, actual=0.0\n",
      "620...640...660...680...700...720...\n",
      "  91A4: predict=1.0, actual=0.0\n",
      "740...760...\n",
      "  91E3: predict=1.0, actual=0.0\n",
      "\n",
      "  91F3: predict=1.0, actual=0.0\n",
      "780...800...820...840...\n",
      " 101E6: predict=0.0, actual=1.0\n",
      "\n",
      " 101F6: predict=1.0, actual=0.0\n",
      "860...\n",
      " 101G6: predict=0.0, actual=1.0\n",
      "\n",
      " 101G7: predict=1.0, actual=0.0\n",
      "880...900...920...\n",
      " 111E3: predict=0.0, actual=1.0\n",
      "940...done\n",
      "              precision    recall  f1-score   support\n",
      "\n",
      "         0.0       0.98      0.99      0.98       914\n",
      "         1.0       0.69      0.54      0.61        46\n",
      "\n",
      "    accuracy                           0.97       960\n",
      "   macro avg       0.84      0.77      0.80       960\n",
      "weighted avg       0.96      0.97      0.96       960\n",
      "\n",
      "[[903  11]\n",
      " [ 21  25]]\n",
      "ROC_AUC Score = 0.766\n",
      "------\n",
      "RandomForestClassifier(bootstrap=True, class_weight='balanced',\n",
      "                       criterion='gini', max_depth=None, max_features='auto',\n",
      "                       max_leaf_nodes=None, min_impurity_decrease=0.0,\n",
      "                       min_impurity_split=None, min_samples_leaf=1,\n",
      "                       min_samples_split=2, min_weight_fraction_leaf=0.0,\n",
      "                       n_estimators=10, n_jobs=None, oob_score=False,\n",
      "                       random_state=42, verbose=0, warm_start=False)\n",
      "Train:\n",
      "              precision    recall  f1-score   support\n",
      "\n",
      "         0.0       0.99      1.00      1.00       548\n",
      "         1.0       1.00      0.89      0.94        28\n",
      "\n",
      "    accuracy                           0.99       576\n",
      "   macro avg       1.00      0.95      0.97       576\n",
      "weighted avg       0.99      0.99      0.99       576\n",
      "\n",
      "[[548   0]\n",
      " [  3  25]]\n",
      "ROC_AUC Score = 0.946\n",
      "  41F7: predict=0.0, actual=1.0\n",
      "  31E9: predict=0.0, actual=1.0\n",
      "  51G2: predict=0.0, actual=1.0\n",
      "Test:\n",
      "              precision    recall  f1-score   support\n",
      "\n",
      "         0.0       0.97      1.00      0.98       366\n",
      "         1.0       0.88      0.39      0.54        18\n",
      "\n",
      "    accuracy                           0.97       384\n",
      "   macro avg       0.92      0.69      0.76       384\n",
      "weighted avg       0.97      0.97      0.96       384\n",
      "\n",
      "[[365   1]\n",
      " [ 11   7]]\n",
      "ROC_AUC Score = 0.693\n",
      "  31E3: predict=0.0, actual=1.0\n",
      "  41D7: predict=0.0, actual=1.0\n",
      " 101G6: predict=0.0, actual=1.0\n",
      "  91B2: predict=0.0, actual=1.0\n",
      " 101E6: predict=0.0, actual=1.0\n",
      " 31B11: predict=0.0, actual=1.0\n",
      "   1A4: predict=0.0, actual=1.0\n",
      " 101D7: predict=0.0, actual=1.0\n",
      "   1F7: predict=0.0, actual=1.0\n",
      " 41H10: predict=0.0, actual=1.0\n",
      "  61E4: predict=0.0, actual=1.0\n",
      "  91E3: predict=1.0, actual=0.0\n",
      "LOO:\n",
      "Running Leave-out validation on 960 molecules...\n",
      "0...\n",
      "   1A4: predict=0.0, actual=1.0\n",
      "20...40...\n",
      "   1F7: predict=0.0, actual=1.0\n",
      "60...80...100...\n",
      "  11D3: predict=0.0, actual=1.0\n",
      "120...140...160...180...200...220...\n",
      "  21G8: predict=0.0, actual=1.0\n",
      "240...\n",
      " 31B11: predict=0.0, actual=1.0\n",
      "260...\n",
      "  31D8: predict=0.0, actual=1.0\n",
      "280...\n",
      "  31E3: predict=0.0, actual=1.0\n",
      "\n",
      "  31E4: predict=0.0, actual=1.0\n",
      "\n",
      "  31E7: predict=0.0, actual=1.0\n",
      "\n",
      "  31E9: predict=0.0, actual=1.0\n",
      "\n",
      " 31E10: predict=0.0, actual=1.0\n",
      "300...320...340...\n",
      "  41C7: predict=0.0, actual=1.0\n",
      "\n",
      "  41D7: predict=0.0, actual=1.0\n",
      "360...\n",
      " 41E10: predict=0.0, actual=1.0\n",
      "\n",
      "  41F7: predict=0.0, actual=1.0\n",
      "380...\n",
      " 41H10: predict=0.0, actual=1.0\n",
      "400...\n",
      "  51B8: predict=0.0, actual=1.0\n",
      "420...440...\n",
      "  51E9: predict=0.0, actual=1.0\n",
      "\n",
      "  51F8: predict=1.0, actual=0.0\n",
      "460...\n",
      "  51G2: predict=0.0, actual=1.0\n",
      "\n",
      "  51H8: predict=0.0, actual=1.0\n",
      "480...500...\n",
      "  61C4: predict=0.0, actual=1.0\n",
      "520...\n",
      "  61E4: predict=0.0, actual=1.0\n",
      "540...560...580...600...620...640...660...680...700...720...740...760...\n",
      "  91E3: predict=1.0, actual=0.0\n",
      "\n",
      "  91F3: predict=1.0, actual=0.0\n",
      "\n",
      "  91F5: predict=0.0, actual=1.0\n",
      "780...\n",
      "  91G4: predict=0.0, actual=1.0\n",
      "800...820...\n",
      " 101D7: predict=0.0, actual=1.0\n",
      "840...\n",
      " 101E6: predict=0.0, actual=1.0\n",
      "860...\n",
      " 101G6: predict=0.0, actual=1.0\n",
      "\n",
      " 101G7: predict=1.0, actual=0.0\n",
      "\n",
      " 101H6: predict=0.0, actual=1.0\n",
      "880...900...920...\n",
      " 111E3: predict=0.0, actual=1.0\n",
      "940...done\n",
      "              precision    recall  f1-score   support\n",
      "\n",
      "         0.0       0.97      1.00      0.98       914\n",
      "         1.0       0.81      0.37      0.51        46\n",
      "\n",
      "    accuracy                           0.97       960\n",
      "   macro avg       0.89      0.68      0.74       960\n",
      "weighted avg       0.96      0.97      0.96       960\n",
      "\n",
      "[[910   4]\n",
      " [ 29  17]]\n",
      "ROC_AUC Score = 0.683\n"
     ],
     "output_type": "stream"
    }
   ],
   "source": [
    "# Test model\n",
    "from src.models import predict_model\n",
    "for model in models:\n",
    "    print(\"------\")\n",
    "    print(model)\n",
    "    print(\"Train:\")\n",
    "    yp_train=predict_model.predict(model,X_train,y_train,mol_train)\n",
    "    print(\"Test:\")\n",
    "    yp_test=predict_model.predict(model,X_test,y_test,mol_test)\n",
    "    print(\"LOO:\")\n",
    "    yp_loo=predict_model.predictLOO(model,X,y,molecules)\n",
    "\n"
   ],
   "metadata": {
    "collapsed": false,
    "pycharm": {
     "name": "#%%\n",
     "is_executing": false
    }
   }
  },
  {
   "cell_type": "code",
   "execution_count": null,
   "outputs": [],
   "source": [
    "\n"
   ],
   "metadata": {
    "collapsed": false,
    "pycharm": {
     "name": "#%%\n",
     "is_executing": false
    }
   }
  }
 ],
 "metadata": {
  "kernelspec": {
   "display_name": "Python 3",
   "language": "python",
   "name": "python3"
  },
  "language_info": {
   "codemirror_mode": {
    "name": "ipython",
    "version": 2
   },
   "file_extension": ".py",
   "mimetype": "text/x-python",
   "name": "python",
   "nbconvert_exporter": "python",
   "pygments_lexer": "ipython2",
   "version": "2.7.6"
  }
 },
 "nbformat": 4,
 "nbformat_minor": 0
}