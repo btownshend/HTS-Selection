{
 "cells": [
  {
   "cell_type": "code",
   "execution_count": 1,
   "metadata": {
    "pycharm": {
     "name": "#%%\n"
    }
   },
   "outputs": [
    {
     "name": "stderr",
     "output_type": "stream",
     "text": [
      "RDKit WARNING: [21:59:45] Enabling RDKit 2019.09.2 jupyter extensions\n"
     ]
    }
   ],
   "source": [
    "import sys\n",
    "sys.path.append('../')\n",
    "import numpy as np\n",
    "from rdkit import Chem\n",
    "from rdkit.Chem import Descriptors\n",
    "from rdkit.Chem.rdMolDescriptors import CalcMolFormula\n",
    "from src.data import make_dataset\n",
    "from src.features import build_features, build_targets\n",
    "from src.models import split_data, train_model, predict_model, bitranking"
   ]
  },
  {
   "cell_type": "code",
   "execution_count": 2,
   "metadata": {
    "pycharm": {
     "name": "#%%\n"
    }
   },
   "outputs": [],
   "source": [
    "# OPTIONAL: Load the \"autoreload\" extension so that code can change\n",
    "%load_ext autoreload\n",
    "# OPTIONAL: always reload modules so that as you change code in src, it gets loaded\n",
    "%autoreload 2\n",
    "seed=42"
   ]
  },
  {
   "cell_type": "code",
   "execution_count": 2,
   "metadata": {
    "pycharm": {
     "name": "#%%\n"
    }
   },
   "outputs": [
    {
     "ename": "OSError",
     "evalue": "File error: Bad input file ../data/raw/ChemDivFull.sdf",
     "output_type": "error",
     "traceback": [
      "\u001B[0;31m---------------------------------------------------------------------------\u001B[0m",
      "\u001B[0;31mOSError\u001B[0m                                   Traceback (most recent call last)",
      "\u001B[0;32m<ipython-input-2-95c14dedce8f>\u001B[0m in \u001B[0;36m<module>\u001B[0;34m\u001B[0m\n\u001B[1;32m      1\u001B[0m \u001B[0;31m# Load data\u001B[0m\u001B[0;34m\u001B[0m\u001B[0;34m\u001B[0m\u001B[0;34m\u001B[0m\u001B[0m\n\u001B[0;32m----> 2\u001B[0;31m \u001B[0mmolecules\u001B[0m\u001B[0;34m=\u001B[0m\u001B[0mmake_dataset\u001B[0m\u001B[0;34m.\u001B[0m\u001B[0mload\u001B[0m\u001B[0;34m(\u001B[0m\u001B[0;34m)\u001B[0m\u001B[0;34m\u001B[0m\u001B[0;34m\u001B[0m\u001B[0m\n\u001B[0m\u001B[1;32m      3\u001B[0m \u001B[0;34m\u001B[0m\u001B[0m\n",
      "\u001B[0;32m~/Dropbox/SynBio/HTS-Selection/python/moldist/src/data/make_dataset.py\u001B[0m in \u001B[0;36mload\u001B[0;34m()\u001B[0m\n\u001B[1;32m      4\u001B[0m \u001B[0;32mdef\u001B[0m \u001B[0mload\u001B[0m\u001B[0;34m(\u001B[0m\u001B[0;34m)\u001B[0m\u001B[0;34m:\u001B[0m\u001B[0;34m\u001B[0m\u001B[0;34m\u001B[0m\u001B[0m\n\u001B[1;32m      5\u001B[0m     \u001B[0;31m# Read in the CDIV molecules\u001B[0m\u001B[0;34m\u001B[0m\u001B[0;34m\u001B[0m\u001B[0;34m\u001B[0m\u001B[0m\n\u001B[0;32m----> 6\u001B[0;31m     \u001B[0msuppl\u001B[0m \u001B[0;34m=\u001B[0m \u001B[0mAllChem\u001B[0m\u001B[0;34m.\u001B[0m\u001B[0mSDMolSupplier\u001B[0m\u001B[0;34m(\u001B[0m\u001B[0;34m'../data/raw/ChemDivFull.sdf'\u001B[0m\u001B[0;34m)\u001B[0m\u001B[0;34m\u001B[0m\u001B[0;34m\u001B[0m\u001B[0m\n\u001B[0m\u001B[1;32m      7\u001B[0m \u001B[0;34m\u001B[0m\u001B[0m\n\u001B[1;32m      8\u001B[0m     \u001B[0;31m# Extract only the 960 tested molecules\u001B[0m\u001B[0;34m\u001B[0m\u001B[0;34m\u001B[0m\u001B[0;34m\u001B[0m\u001B[0m\n",
      "\u001B[0;31mOSError\u001B[0m: File error: Bad input file ../data/raw/ChemDivFull.sdf"
     ]
    }
   ],
   "source": [
    "# Load data\n",
    "molecules=make_dataset.load()"
   ]
  },
  {
   "cell_type": "code",
   "execution_count": 4,
   "metadata": {
    "pycharm": {
     "name": "#%%\n"
    }
   },
   "outputs": [
    {
     "name": "stdout",
     "output_type": "stream",
     "text": [
      "Num functional groups: 39\n",
      "Have 48716 fragments in library\n"
     ]
    }
   ],
   "source": [
    "# Build the features\n",
    "Xfull,fpcat=build_features.buildFragment(molecules)"
   ]
  },
  {
   "cell_type": "code",
   "execution_count": 7,
   "metadata": {
    "pycharm": {
     "name": "#%%\n"
    }
   },
   "outputs": [
    {
     "name": "stdout",
     "output_type": "stream",
     "text": [
      "Column names are Target, H960-319, H960-940, H960-003, H960-650, H960-050, H960-616, H960-724, H960-256, H960-920, Amb-767, Amb-751, Amb-816, Amb-720, Amb-318, Amb-6319\n",
      "Processed 960 targets.\n",
      "['1A02', '1A03', '1A04', '1A05', '1A06', '1A07', '1A08', '1A09', '1A10', '1A11', '1B02', '1B03', '1B04', '1B05', '1B06', '1B07', '1B08', '1B09', '1B10', '1B11', '1C02', '1C03', '1C04', '1C05', '1C06', '1C07', '1C08', '1C09', '1C10', '1C11', '1D02', '1D03', '1D04', '1D05', '1D06', '1D07', '1D08', '1D09', '1D10', '1D11', '1E02', '1E03', '1E04', '1E05', '1E06', '1E07', '1E08', '1E09', '1E10', '1E11', '1F02', '1F03', '1F04', '1F05', '1F06', '1F07', '1F08', '1F09', '1F10', '1F11', '1G02', '1G03', '1G04', '1G05', '1G06', '1G07', '1G08', '1G09', '1G10', '1G11', '1H02', '1H03', '1H04', '1H05', '1H06', '1H07', '1H08', '1H09', '1H10', '1H11', '11A02', '11A03', '11A04', '11A05', '11A06', '11A07', '11A08', '11A09', '11A10', '11A11', '11B02', '11B03', '11B04', '11B05', '11B06', '11B07', '11B08', '11B09', '11B10', '11B11', '11C02', '11C03', '11C04', '11C05', '11C06', '11C07', '11C08', '11C09', '11C10', '11C11', '11D02', '11D03', '11D04', '11D05', '11D06', '11D07', '11D08', '11D09', '11D10', '11D11', '11E02', '11E03', '11E04', '11E05', '11E06', '11E07', '11E08', '11E09', '11E10', '11E11', '11F02', '11F03', '11F04', '11F05', '11F06', '11F07', '11F08', '11F09', '11F10', '11F11', '11G02', '11G03', '11G04', '11G05', '11G06', '11G07', '11G08', '11G09', '11G10', '11G11', '11H02', '11H03', '11H04', '11H05', '11H06', '11H07', '11H08', '11H09', '11H10', '11H11', '21A02', '21A03', '21A04', '21A05', '21A06', '21A07', '21A08', '21A09', '21A10', '21A11', '21B02', '21B03', '21B04', '21B05', '21B06', '21B07', '21B08', '21B09', '21B10', '21B11', '21C02', '21C03', '21C04', '21C05', '21C06', '21C07', '21C08', '21C09', '21C10', '21C11', '21D02', '21D03', '21D04', '21D05', '21D06', '21D07', '21D08', '21D09', '21D10', '21D11', '21E02', '21E03', '21E04', '21E05', '21E06', '21E07', '21E08', '21E09', '21E10', '21E11', '21F02', '21F03', '21F04', '21F05', '21F06', '21F07', '21F08', '21F09', '21F10', '21F11', '21G02', '21G03', '21G04', '21G05', '21G06', '21G07', '21G08', '21G09', '21G10', '21G11', '21H02', '21H03', '21H04', '21H05', '21H06', '21H07', '21H08', '21H09', '21H10', '21H11', '31A02', '31A03', '31A04', '31A05', '31A06', '31A07', '31A08', '31A09', '31A10', '31A11', '31B02', '31B03', '31B04', '31B05', '31B06', '31B07', '31B08', '31B09', '31B10', '31B11', '31C02', '31C03', '31C04', '31C05', '31C06', '31C07', '31C08', '31C09', '31C10', '31C11', '31D02', '31D03', '31D04', '31D05', '31D06', '31D07', '31D08', '31D09', '31D10', '31D11', '31E02', '31E03', '31E04', '31E05', '31E06', '31E07', '31E08', '31E09', '31E10', '31E11', '31F02', '31F03', '31F04', '31F05', '31F06', '31F07', '31F08', '31F09', '31F10', '31F11', '31G02', '31G03', '31G04', '31G05', '31G06', '31G07', '31G08', '31G09', '31G10', '31G11', '31H02', '31H03', '31H04', '31H05', '31H06', '31H07', '31H08', '31H09', '31H10', '31H11', '41A02', '41A03', '41A04', '41A05', '41A06', '41A07', '41A08', '41A09', '41A10', '41A11', '41B02', '41B03', '41B04', '41B05', '41B06', '41B07', '41B08', '41B09', '41B10', '41B11', '41C02', '41C03', '41C04', '41C05', '41C06', '41C07', '41C08', '41C09', '41C10', '41C11', '41D02', '41D03', '41D04', '41D05', '41D06', '41D07', '41D08', '41D09', '41D10', '41D11', '41E02', '41E03', '41E04', '41E05', '41E06', '41E07', '41E08', '41E09', '41E10', '41E11', '41F02', '41F03', '41F04', '41F05', '41F06', '41F07', '41F08', '41F09', '41F10', '41F11', '41G02', '41G03', '41G04', '41G05', '41G06', '41G07', '41G08', '41G09', '41G10', '41G11', '41H02', '41H03', '41H04', '41H05', '41H06', '41H07', '41H08', '41H09', '41H10', '41H11', '51A02', '51A03', '51A04', '51A05', '51A06', '51A07', '51A08', '51A09', '51A10', '51A11', '51B02', '51B03', '51B04', '51B05', '51B06', '51B07', '51B08', '51B09', '51B10', '51B11', '51C02', '51C03', '51C04', '51C05', '51C06', '51C07', '51C08', '51C09', '51C10', '51C11', '51D02', '51D03', '51D04', '51D05', '51D06', '51D07', '51D08', '51D09', '51D10', '51D11', '51E02', '51E03', '51E04', '51E05', '51E06', '51E07', '51E08', '51E09', '51E10', '51E11', '51F02', '51F03', '51F04', '51F05', '51F06', '51F07', '51F08', '51F09', '51F10', '51F11', '51G02', '51G03', '51G04', '51G05', '51G06', '51G07', '51G08', '51G09', '51G10', '51G11', '51H02', '51H03', '51H04', '51H05', '51H06', '51H07', '51H08', '51H09', '51H10', '51H11', '61A02', '61A03', '61A04', '61A05', '61A06', '61A07', '61A08', '61A09', '61A10', '61A11', '61B02', '61B03', '61B04', '61B05', '61B06', '61B07', '61B08', '61B09', '61B10', '61B11', '61C02', '61C03', '61C04', '61C05', '61C06', '61C07', '61C08', '61C09', '61C10', '61C11', '61D02', '61D03', '61D04', '61D05', '61D06', '61D07', '61D08', '61D09', '61D10', '61D11', '61E02', '61E03', '61E04', '61E05', '61E06', '61E07', '61E08', '61E09', '61E10', '61E11', '61F02', '61F03', '61F04', '61F05', '61F06', '61F07', '61F08', '61F09', '61F10', '61F11', '61G02', '61G03', '61G04', '61G05', '61G06', '61G07', '61G08', '61G09', '61G10', '61G11', '61H02', '61H03', '61H04', '61H05', '61H06', '61H07', '61H08', '61H09', '61H10', '61H11', '71A02', '71A03', '71A04', '71A05', '71A06', '71A07', '71A08', '71A09', '71A10', '71A11', '71B02', '71B03', '71B04', '71B05', '71B06', '71B07', '71B08', '71B09', '71B10', '71B11', '71C02', '71C03', '71C04', '71C05', '71C06', '71C07', '71C08', '71C09', '71C10', '71C11', '71D02', '71D03', '71D04', '71D05', '71D06', '71D07', '71D08', '71D09', '71D10', '71D11', '71E02', '71E03', '71E04', '71E05', '71E06', '71E07', '71E08', '71E09', '71E10', '71E11', '71F02', '71F03', '71F04', '71F05', '71F06', '71F07', '71F08', '71F09', '71F10', '71F11', '71G02', '71G03', '71G04', '71G05', '71G06', '71G07', '71G08', '71G09', '71G10', '71G11', '71H02', '71H03', '71H04', '71H05', '71H06', '71H07', '71H08', '71H09', '71H10', '71H11', '81A02', '81A03', '81A04', '81A05', '81A06', '81A07', '81A08', '81A09', '81A10', '81A11', '81B02', '81B03', '81B04', '81B05', '81B06', '81B07', '81B08', '81B09', '81B10', '81B11', '81C02', '81C03', '81C04', '81C05', '81C06', '81C07', '81C08', '81C09', '81C10', '81C11', '81D02', '81D03', '81D04', '81D05', '81D06', '81D07', '81D08', '81D09', '81D10', '81D11', '81E02', '81E03', '81E04', '81E05', '81E06', '81E07', '81E08', '81E09', '81E10', '81E11', '81F02', '81F03', '81F04', '81F05', '81F06', '81F07', '81F08', '81F09', '81F10', '81F11', '81G02', '81G03', '81G04', '81G05', '81G06', '81G07', '81G08', '81G09', '81G10', '81G11', '81H02', '81H03', '81H04', '81H05', '81H06', '81H07', '81H08', '81H09', '81H10', '81H11', '91A02', '91A03', '91A04', '91A05', '91A06', '91A07', '91A08', '91A09', '91A10', '91A11', '91B02', '91B03', '91B04', '91B05', '91B06', '91B07', '91B08', '91B09', '91B10', '91B11', '91C02', '91C03', '91C04', '91C05', '91C06', '91C07', '91C08', '91C09', '91C10', '91C11', '91D02', '91D03', '91D04', '91D05', '91D06', '91D07', '91D08', '91D09', '91D10', '91D11', '91E02', '91E03', '91E04', '91E05', '91E06', '91E07', '91E08', '91E09', '91E10', '91E11', '91F02', '91F03', '91F04', '91F05', '91F06', '91F07', '91F08', '91F09', '91F10', '91F11', '91G02', '91G03', '91G04', '91G05', '91G06', '91G07', '91G08', '91G09', '91G10', '91G11', '91H02', '91H03', '91H04', '91H05', '91H06', '91H07', '91H08', '91H09', '91H10', '91H11', '101A02', '101A03', '101A04', '101A05', '101A06', '101A07', '101A08', '101A09', '101A10', '101A11', '101B02', '101B03', '101B04', '101B05', '101B06', '101B07', '101B08', '101B09', '101B10', '101B11', '101C02', '101C03', '101C04', '101C05', '101C06', '101C07', '101C08', '101C09', '101C10', '101C11', '101D02', '101D03', '101D04', '101D05', '101D06', '101D07', '101D08', '101D09', '101D10', '101D11', '101E02', '101E03', '101E04', '101E05', '101E06', '101E07', '101E08', '101E09', '101E10', '101E11', '101F02', '101F03', '101F04', '101F05', '101F06', '101F07', '101F08', '101F09', '101F10', '101F11', '101G02', '101G03', '101G04', '101G05', '101G06', '101G07', '101G08', '101G09', '101G10', '101G11', '101H02', '101H03', '101H04', '101H05', '101H06', '101H07', '101H08', '101H09', '101H10', '101H11', '111A02', '111A03', '111A04', '111A05', '111A06', '111A07', '111A08', '111A09', '111A10', '111A11', '111B02', '111B03', '111B04', '111B05', '111B06', '111B07', '111B08', '111B09', '111B10', '111B11', '111C02', '111C03', '111C04', '111C05', '111C06', '111C07', '111C08', '111C09', '111C10', '111C11', '111D02', '111D03', '111D04', '111D05', '111D06', '111D07', '111D08', '111D09', '111D10', '111D11', '111E02', '111E03', '111E04', '111E05', '111E06', '111E07', '111E08', '111E09', '111E10', '111E11', '111F02', '111F03', '111F04', '111F05', '111F06', '111F07', '111F08', '111F09', '111F10', '111F11', '111G02', '111G03', '111G04', '111G05', '111G06', '111G07', '111G08', '111G09', '111G10', '111G11', '111H02', '111H03', '111H04', '111H05', '111H06', '111H07', '111H08', '111H09', '111H10', '111H11']\n",
      "Loaded 15 aptamers and 960 targets.\n"
     ]
    }
   ],
   "source": [
    "# Build the targets]\n",
    "yfull,aptamers,tfull=build_targets.build_hitbyapt(molecules)\n",
    "print(\"Loaded\",len(aptamers),\"aptamers and\",len(tfull),\"targets.\")"
   ]
  },
  {
   "cell_type": "code",
   "execution_count": 10,
   "metadata": {
    "pycharm": {
     "name": "#%%\n"
    }
   },
   "outputs": [
    {
     "name": "stdout",
     "output_type": "stream",
     "text": [
      "Testing H960-050\n"
     ]
    }
   ],
   "source": [
    "# Choose an aptamer to work on\n",
    "# Setup training data to include only the ones for which we have definite hit/miss classification\n",
    "apt=4\n",
    "print(\"Testing\",aptamers[apt])\n",
    "tsel=[True if np.isfinite(yi) else False for yi in yfull[apt]]\n",
    "y=yfull[apt][tsel]\n",
    "X=[Xfull[i] for i in range(len(tsel)) if tsel[i]]\n",
    "targets=[tfull[i] for i in range(len(tsel)) if tsel[i] ]"
   ]
  },
  {
   "cell_type": "code",
   "execution_count": 11,
   "metadata": {
    "pycharm": {
     "name": "#%%\n"
    }
   },
   "outputs": [
    {
     "name": "stdout",
     "output_type": "stream",
     "text": [
      "Fraction hits: train: 0.017, test: 0.004\n"
     ]
    }
   ],
   "source": [
    "# Create train/test sets\n",
    "X_train, X_test, y_train, y_test, ind_train, ind_test = split_data.split(0.4,X,y,seed)\n",
    "tgt_test=[targets[x] for x in ind_test]\n",
    "tgt_train=[targets[x] for x in ind_train]\n",
    "    "
   ]
  },
  {
   "cell_type": "code",
   "execution_count": 12,
   "metadata": {
    "pycharm": {
     "name": "#%%\n"
    }
   },
   "outputs": [
    {
     "name": "stdout",
     "output_type": "stream",
     "text": [
      "RandomForestClassifier(bootstrap=True, class_weight='balanced',\n",
      "                       criterion='gini', max_depth=None, max_features='auto',\n",
      "                       max_leaf_nodes=None, min_impurity_decrease=0.0,\n",
      "                       min_impurity_split=None, min_samples_leaf=1,\n",
      "                       min_samples_split=2, min_weight_fraction_leaf=0.0,\n",
      "                       n_estimators=10, n_jobs=None, oob_score=False,\n",
      "                       random_state=42, verbose=0, warm_start=False)\n",
      "Cross-validation score = 0.993 += 0.014\n"
     ]
    }
   ],
   "source": [
    "# Train model\n",
    "# Need to handle NaNs!\n",
    "models=[train_model.train_rfc(X_train,y_train,seed,n_estimators=10)]"
   ]
  },
  {
   "cell_type": "code",
   "execution_count": 13,
   "metadata": {
    "pycharm": {
     "name": "#%%\n"
    }
   },
   "outputs": [
    {
     "name": "stdout",
     "output_type": "stream",
     "text": [
      "------\n",
      "RandomForestClassifier(bootstrap=True, class_weight='balanced',\n",
      "                       criterion='gini', max_depth=None, max_features='auto',\n",
      "                       max_leaf_nodes=None, min_impurity_decrease=0.0,\n",
      "                       min_impurity_split=None, min_samples_leaf=1,\n",
      "                       min_samples_split=2, min_weight_fraction_leaf=0.0,\n",
      "                       n_estimators=10, n_jobs=None, oob_score=False,\n",
      "                       random_state=42, verbose=0, warm_start=False)\n",
      "Train:\n",
      "              precision    recall  f1-score   support\n",
      "\n",
      "         0.0       1.00      1.00      1.00       352\n",
      "         1.0       1.00      1.00      1.00         6\n",
      "\n",
      "    accuracy                           1.00       358\n",
      "   macro avg       1.00      1.00      1.00       358\n",
      "weighted avg       1.00      1.00      1.00       358\n",
      "\n",
      "[[352   0]\n",
      " [  0   6]]\n",
      "ROC_AUC Score = 1.000\n",
      "Test:\n",
      "              precision    recall  f1-score   support\n",
      "\n",
      "         0.0       1.00      1.00      1.00       239\n",
      "         1.0       1.00      1.00      1.00         1\n",
      "\n",
      "    accuracy                           1.00       240\n",
      "   macro avg       1.00      1.00      1.00       240\n",
      "weighted avg       1.00      1.00      1.00       240\n",
      "\n",
      "[[239   0]\n",
      " [  0   1]]\n",
      "ROC_AUC Score = 1.000\n",
      "LOO:\n",
      "Running Leave-out validation on 598 molecules...\n",
      "0...20...40...60...80...100...120...140...160...180...200...220...240...260...280...300...\n",
      "  51H8: predict=0.0, actual=1.0\n",
      "320...340...360...380...400...420...440...460...480...\n",
      "  91A2: predict=0.0, actual=1.0\n",
      "500...\n",
      "  91C2: predict=0.0, actual=1.0\n",
      "520...540...560...580...done\n",
      "              precision    recall  f1-score   support\n",
      "\n",
      "         0.0       0.99      1.00      1.00       591\n",
      "         1.0       1.00      0.57      0.73         7\n",
      "\n",
      "    accuracy                           0.99       598\n",
      "   macro avg       1.00      0.79      0.86       598\n",
      "weighted avg       1.00      0.99      0.99       598\n",
      "\n",
      "[[591   0]\n",
      " [  3   4]]\n",
      "ROC_AUC Score = 0.786\n"
     ]
    }
   ],
   "source": [
    "# Test model\n",
    "for model in models:\n",
    "    print(\"------\")\n",
    "    print(model)\n",
    "    print(\"Train:\")\n",
    "    yp_train=predict_model.predict(model,X_train,y_train,tgt_train)\n",
    "    print(\"Test:\")\n",
    "    yp_test=predict_model.predict(model,X_test,y_test,tgt_test)\n",
    "    print(\"LOO:\")\n",
    "    yp_loo=predict_model.predictLOO(model,X,y,targets)"
   ]
  },
  {
   "cell_type": "code",
   "execution_count": 12,
   "metadata": {
    "pycharm": {
     "is_executing": false,
     "name": "#%%\n"
    }
   },
   "outputs": [
    {
     "name": "stdout",
     "output_type": "stream",
     "text": [
      "51F8 may be an untested hit\n",
      "91G3 may be an untested hit\n"
     ]
    }
   ],
   "source": [
    "model.fit(X,y)\n",
    "yfull = model.predict(Xfull)\n",
    "for i in range(len(yfull)):\n",
    "    if yfull[i]==1:\n",
    "        if molecules[i].GetProp(\"NAME\") not in targets:\n",
    "            print(molecules[i].GetProp(\"NAME\"),\"may be an untested hit\")    "
   ]
  },
  {
   "cell_type": "code",
   "execution_count": 8,
   "metadata": {
    "pycharm": {
     "name": "#%%\n"
    }
   },
   "outputs": [
    {
     "name": "stdout",
     "output_type": "stream",
     "text": [
      "Testing H960-319\n",
      "Num of targets active: 3, inactive: 891\n",
      " 6895 0.021 11  3 +++ C<=O>ccccnC\n",
      "41313 0.021 11  3 +++ c<=N>c(c)C<=O>N\n",
      "41326 0.021 11  3 +++ C<=O>cc<=N>ncn\n",
      "41307 0.021 11  3 +++ C<=O>cc<=N>nC\n",
      "41302 0.021 11  3 +++ C<=O>cc<=N>n\n",
      "41314 0.021 11  3 +++ c<=N>cC<=O>NC\n",
      "41304 0.021 11  3 +++ c<=N>cC<=O>N\n",
      "41330 0.021 11  3 +++ cc(C<=O>)c<=N>nC\n",
      "41323 0.021 11  3 +++ cccc(c<=N>)C<=O>\n",
      "41329 0.021 11  3 +++ cn(C)c<=N>cC<=O>\n",
      "41328 0.021 11  3 +++ C<=O>cc<=N>nCC\n",
      "41303 0.021 11  3 +++ c<=N>c(c)C<=O>\n",
      "41310 0.021 11  3 +++ nc<=N>cC<=O>N\n",
      "41301 0.021 11  3 +++ c<=N>cC<=O>\n",
      "41332 0.021 11  3 +++ cnc<=N>c(c)C<=O>\n",
      "41331 0.021 11  3 +++ Cnc<=N>cC<=O>N\n",
      "41317 0.021 11  3 +++ ccnc<=N>cC<=O>\n",
      "41312 0.021 11  3 +++ ccc(c<=N>)C<=O>\n",
      "41309 0.021 11  3 +++ cc(C<=O>)c<=N>n\n",
      "41308 0.021 11  3 +++ cnc<=N>cC<=O>\n",
      "Postives       :  ['91B03', '91D02', '91E02']\n",
      "False negatives:  []\n",
      "False positives:  ['91A03', '91B04', '91C03', '91D04', '91E03', '91E04', '91F02', '91F03', '91F04', '91G02', '91G04']\n",
      "\n",
      "Testing H960-940\n",
      "Num of targets active: 2, inactive: 893\n",
      "41308 0.014 12  2 ++ cnc<=N>cC<=O>\n",
      "41312 0.014 12  2 ++ ccc(c<=N>)C<=O>\n",
      "41323 0.014 12  2 ++ cccc(c<=N>)C<=O>\n",
      "41326 0.014 12  2 ++ C<=O>cc<=N>ncn\n",
      "41302 0.014 12  2 ++ C<=O>cc<=N>n\n",
      "41313 0.014 12  2 ++ c<=N>c(c)C<=O>N\n",
      "41304 0.014 12  2 ++ c<=N>cC<=O>N\n",
      "41330 0.014 12  2 ++ cc(C<=O>)c<=N>nC\n",
      "41317 0.014 12  2 ++ ccnc<=N>cC<=O>\n",
      "41329 0.014 12  2 ++ cn(C)c<=N>cC<=O>\n",
      "41328 0.014 12  2 ++ C<=O>cc<=N>nCC\n",
      "41303 0.014 12  2 ++ c<=N>c(c)C<=O>\n",
      "41307 0.014 12  2 ++ C<=O>cc<=N>nC\n",
      " 6895 0.014 12  2 ++ C<=O>ccccnC\n",
      "41332 0.014 12  2 ++ cnc<=N>c(c)C<=O>\n",
      "41331 0.014 12  2 ++ Cnc<=N>cC<=O>N\n",
      "41314 0.014 12  2 ++ c<=N>cC<=O>NC\n",
      "41310 0.014 12  2 ++ nc<=N>cC<=O>N\n",
      "41309 0.014 12  2 ++ cc(C<=O>)c<=N>n\n",
      "41301 0.014 12  2 ++ c<=N>cC<=O>\n",
      "Postives       :  ['91F04', '91G02']\n",
      "False negatives:  []\n",
      "False positives:  ['91A04', '91B03', '91B04', '91D02', '91D03', '91D04', '91E02', '91E03', '91E04', '91F03', '91G04', '91H03']\n",
      "\n",
      "Testing H960-003\n",
      "Num of targets active: 9, inactive: 844\n",
      "18403 0.044 18  8 -++++++++ ccc<=O>[nH]cnc\n",
      "18391 0.044 18  8 -++++++++ cc(c)c<=O>[nH]cn\n",
      "18380 0.044 18  8 -++++++++ c<=O>c(c)cnc[nH]\n",
      "18384 0.044 18  8 -++++++++ c[nH]c<=O>c(c)cn\n",
      "18329 0.044 19  8 -++++++++ cc(cn)c<=O>[nH]\n",
      "18381 0.044 19  8 -++++++++ cncc(c)c<=O>[nH]\n",
      "18379 0.044 19  8 -++++++++ cccnc[nH]c<=O>\n",
      "41147 0.043  2  6 --+-+++++ C<-OMe>CCn\n",
      "41206 0.043  2  6 --+-+++++ cc(n)nCCC<-OMe>\n",
      "41156 0.043  2  6 --+-+++++ cnCCC<-OMe>\n",
      "41205 0.043  2  6 --+-+++++ ccn(c<=N>)CCC<-OMe>\n",
      "41164 0.043  2  6 --+-+++++ c<=N>nCCC<-OMe>\n",
      "41192 0.043  2  6 --+-+++++ C<-OMe>CCncn\n",
      "41165 0.043  2  6 --+-+++++ ccnCCC<-OMe>\n",
      "41285 0.043  2  6 --+-+++++ c<=N>n(cn)CCC<-OMe>\n",
      "41282 0.043  2  6 --+-+++++ cncnCCC<-OMe>\n",
      "41208 0.043  2  6 --+-+++++ c<=O>ccnCCC<-OMe>\n",
      "41207 0.043  2  6 --+-+++++ cccnCCC<-OMe>\n",
      "41195 0.043  2  6 --+-+++++ cn(c<=N>)CCC<-OMe>\n",
      "16079 0.043 20  8 -++++++++ cnc<=O>c(c)c\n",
      "Postives       :  ['41H04', '91B02', '91B03', '91D02', '91E02', '91F02', '91G02', '91H02']\n",
      "False negatives:  ['41F07']\n",
      "False positives:  ['31A03', '31B03', '31C03', '31G02', '31H02', '41C05', '91A02', '91A03', '91A04', '91B04', '91C03', '91C04', '91D04', '91E03', '91E04', '91F03', '91F04', '91H03']\n",
      "\n",
      "Testing H960-650\n",
      "Num of targets active: 6, inactive: 890\n",
      "41391 0.041  1  5 -+++++ C<=O>cc<=N>nCCC<-OMe>\n",
      "41307 0.040 12  6 ++++++ C<=O>cc<=N>nC\n",
      "41323 0.040 12  6 ++++++ cccc(c<=N>)C<=O>\n",
      "41326 0.040 12  6 ++++++ C<=O>cc<=N>ncn\n",
      "41312 0.040 12  6 ++++++ ccc(c<=N>)C<=O>\n",
      "41313 0.040 12  6 ++++++ c<=N>c(c)C<=O>N\n",
      " 6895 0.040 12  6 ++++++ C<=O>ccccnC\n",
      "41330 0.040 12  6 ++++++ cc(C<=O>)c<=N>nC\n",
      "41317 0.040 12  6 ++++++ ccnc<=N>cC<=O>\n",
      "41329 0.040 12  6 ++++++ cn(C)c<=N>cC<=O>\n",
      "41328 0.040 12  6 ++++++ C<=O>cc<=N>nCC\n",
      "41302 0.040 12  6 ++++++ C<=O>cc<=N>n\n",
      "41303 0.040 12  6 ++++++ c<=N>c(c)C<=O>\n",
      "41301 0.040 12  6 ++++++ c<=N>cC<=O>\n",
      "41308 0.040 12  6 ++++++ cnc<=N>cC<=O>\n",
      "41332 0.040 12  6 ++++++ cnc<=N>c(c)C<=O>\n",
      "41331 0.040 12  6 ++++++ Cnc<=N>cC<=O>N\n",
      "41314 0.040 12  6 ++++++ c<=N>cC<=O>NC\n",
      "41310 0.040 12  6 ++++++ nc<=N>cC<=O>N\n",
      "41309 0.040 12  6 ++++++ cc(C<=O>)c<=N>n\n",
      "Postives       :  ['91D02', '91E02', '91F02', '91G02', '91H02']\n",
      "False negatives:  ['91B03']\n",
      "False positives:  ['91A03']\n",
      "\n",
      "Testing H960-050\n",
      "Num of targets active: 8, inactive: 745\n",
      "29683 0.043 16  7 -+++++++ cncn(c<=N>)C\n",
      "29595 0.043 16  7 -+++++++ c<=N>nC\n",
      "30976 0.043 16  7 -+++++++ cncn(c<=N>)CC\n",
      "29664 0.043 16  7 -+++++++ ccncnc<=N>\n",
      "29607 0.043 16  7 -+++++++ c<=N>ncn\n",
      "29606 0.043 16  7 -+++++++ c<=N>n(c)C\n",
      "29596 0.043 16  7 -+++++++ c<=N>nc\n",
      "30956 0.043 16  7 -+++++++ c<=N>nCC\n",
      "29629 0.043 16  7 -+++++++ cncnc<=N>\n",
      "29758 0.043 16  7 -+++++++ ccncn(c<=N>)C\n",
      "29631 0.043 16  7 -+++++++ c<=N>n(C)cn\n",
      "29731 0.043 16  7 -+++++++ cccncnc<=N>\n",
      "30965 0.043 16  7 -+++++++ c<=N>n(cn)CC\n",
      "30959 0.043 16  7 -+++++++ c<=N>n(c)CC\n",
      "29592 0.043 16  7 -+++++++ c<=N>n\n",
      "  764 0.038 25  7 -+++++++ ccncnCC\n",
      "10906 0.037 27  7 -+++++++ cccncnC\n",
      "  627 0.037 28  7 -+++++++ cncnCC\n",
      "  543 0.035 34  7 -+++++++ CCncn\n",
      "41141 0.034 15  6 --++++++ ccnc<=N>\n",
      "Postives       :  ['51H08', '91A02', '91B02', '91C02', '91C03', '91C04', '91D03']\n",
      "False negatives:  ['31B07']\n",
      "False positives:  ['51F08', '91A03', '91A04', '91B03', '91B04', '91D02', '91D04', '91E02', '91E03', '91E04', '91F02', '91F04', '91G02', '91G04', '91H02', '91H03']\n",
      "\n",
      "Testing H960-616\n",
      "Num of targets active: 2, inactive: 875\n",
      " 1147 0.012 19  2 ++ cc(c)cccn\n",
      "  310 0.011 34  2 ++ cc(c)c(c)c\n",
      "  342 0.011 34  2 ++ ccc(c)c(c)c\n",
      "21448 0.011  0  1 +- cc([nH])cnc-c\n",
      "21447 0.011  0  1 +- cc(c[nH])nc-c\n",
      "21439 0.011  0  1 +- cc<-O>ccc-c\n",
      "21444 0.011  0  1 +- cc[nH]c(-c)nc\n",
      "21452 0.011  0  1 +- ccc<-O>ccc-c\n",
      "21453 0.011  0  1 +- cc<-O>ccc(c)-c\n",
      "21435 0.011  0  1 +- c<-O>ccc-c\n",
      "21449 0.011  0  1 +- cc<-O>ccc-c[nH]\n",
      "21441 0.011  0  1 +- c<-O>ccc-cnc\n",
      "21446 0.011  0  1 +- cc(c)nc(-c)[nH]\n",
      "21440 0.011  0  1 +- c<-O>ccc(c)-c\n",
      "43902 0.011  0  1 -+ C<=O>C(C<=O>)c\n",
      "43901 0.011  0  1 -+ C<=O>Ccn\n",
      "21454 0.011  0  1 +- c<-O>ccc(-c)cc\n",
      "21451 0.011  0  1 +- c<-O>ccc-c([nH])n\n",
      "21450 0.011  0  1 +- c<-O>ccc(c)-c[nH]\n",
      "21438 0.011  0  1 +- c<-O>ccc-c[nH]\n",
      "Postives       :  ['31E03', '91F05']\n",
      "False negatives:  []\n",
      "False positives:  ['1B05', '1B08', '1C05', '21D03', '21E03', '41A11', '41B10', '41B11', '41C10', '41D07', '41E07', '41F07', '41G07', '41G10', '41H07', '41H10', '51C03', '71F11', '81D08']\n",
      "\n",
      "Testing H960-724\n",
      "Num of targets active: 2, inactive: 904\n",
      "42643 0.015  7  2 ++ CccncnC\n",
      "42642 0.015  7  2 ++ Ccc(n)ncn\n",
      "42644 0.015  7  2 ++ c<=N>ncnccC\n",
      "19743 0.014  9  2 ++ cnc(cC)nc\n",
      "19741 0.014  9  2 ++ ccnc(n)cC\n",
      "19745 0.014  9  2 ++ c<=O>nc(cC)nc\n",
      "19735 0.014  9  2 ++ c<=O>nc(n)c(c)C\n",
      "19679 0.014  9  2 ++ c<=O>nc(n)cC\n",
      "19676 0.014  9  2 ++ cc(C)c(n)n\n",
      "19744 0.014  9  2 ++ cc<=O>nc(n)cC\n",
      "19678 0.014  9  2 ++ cnc(n)cC\n",
      "19655 0.014  9  2 ++ Ccc(n)n\n",
      "19749 0.014  9  2 ++ c<=O>ccnccC\n",
      "19734 0.014  9  2 ++ cnc(n)c(c)C\n",
      "19742 0.014  9  2 ++ c<=O>n(c)c(n)cC\n",
      "19732 0.014  9  2 ++ ccc(C)c(n)n\n",
      "41447 0.013 15  2 ++ cc(C)cncn\n",
      "19702 0.012 17  2 ++ cc<=O>nccC\n",
      "19697 0.012 17  2 ++ c<=O>n(c)ccC\n",
      "19809 0.012 17  2 ++ cc(C)cn(c<=O>)c\n",
      "Postives       :  ['91C02', '91C04']\n",
      "False negatives:  []\n",
      "False positives:  ['91C03', '91D03', '91D04', '91E04', '91F04', '91G04', '91H03']\n",
      "\n",
      "Testing H960-256\n",
      "Num of targets active: 7, inactive: 868\n",
      "41391 0.039  1  5 --+++++ C<=O>cc<=N>nCCC<-OMe>\n",
      "41327 0.037  2  5 --+++++ cc<=N>nCCC<-OMe>\n",
      "41390 0.037  2  5 --+++++ ccc<=N>nCCC<-OMe>\n",
      "41389 0.037  2  5 --+++++ cc<=N>n(c)CCC<-OMe>\n",
      "41309 0.036 11  6 -++++++ cc(C<=O>)c<=N>n\n",
      "41326 0.036 11  6 -++++++ C<=O>cc<=N>ncn\n",
      "41307 0.036 11  6 -++++++ C<=O>cc<=N>nC\n",
      "41314 0.036 11  6 -++++++ c<=N>cC<=O>NC\n",
      "41329 0.036 11  6 -++++++ cn(C)c<=N>cC<=O>\n",
      "41328 0.036 11  6 -++++++ C<=O>cc<=N>nCC\n",
      "41310 0.036 11  6 -++++++ nc<=N>cC<=O>N\n",
      "41317 0.036 11  6 -++++++ ccnc<=N>cC<=O>\n",
      "41313 0.036 11  6 -++++++ c<=N>c(c)C<=O>N\n",
      "41302 0.036 11  6 -++++++ C<=O>cc<=N>n\n",
      "41303 0.036 11  6 -++++++ c<=N>c(c)C<=O>\n",
      "41301 0.036 11  6 -++++++ c<=N>cC<=O>\n",
      " 6895 0.036 11  6 -++++++ C<=O>ccccnC\n",
      "41331 0.036 11  6 -++++++ Cnc<=N>cC<=O>N\n",
      "41330 0.036 11  6 -++++++ cc(C<=O>)c<=N>nC\n",
      "41323 0.036 11  6 -++++++ cccc(c<=N>)C<=O>\n",
      "Postives       :  ['91D02', '91E02', '91F02', '91G02', '91H02']\n",
      "False negatives:  ['41F07', '91B03']\n",
      "False positives:  ['91A03']\n",
      "\n",
      "Testing H960-920\n",
      "Num of targets active: 9, inactive: 830\n",
      "18403 0.045 18  8 -++++++++ ccc<=O>[nH]cnc\n",
      "18391 0.045 18  8 -++++++++ cc(c)c<=O>[nH]cn\n",
      "18380 0.045 18  8 -++++++++ c<=O>c(c)cnc[nH]\n",
      "18384 0.045 18  8 -++++++++ c[nH]c<=O>c(c)cn\n",
      "18329 0.044 19  8 -++++++++ cc(cn)c<=O>[nH]\n",
      "18381 0.044 19  8 -++++++++ cncc(c)c<=O>[nH]\n",
      "18379 0.044 19  8 -++++++++ cccnc[nH]c<=O>\n",
      "16079 0.044 20  8 -++++++++ cnc<=O>c(c)c\n",
      "41164 0.042  3  6 --+-+++++ c<=N>nCCC<-OMe>\n",
      "41208 0.042  3  6 --+-+++++ c<=O>ccnCCC<-OMe>\n",
      "41206 0.042  3  6 --+-+++++ cc(n)nCCC<-OMe>\n",
      "41195 0.042  3  6 --+-+++++ cn(c<=N>)CCC<-OMe>\n",
      "41192 0.042  3  6 --+-+++++ C<-OMe>CCncn\n",
      "41156 0.042  3  6 --+-+++++ cnCCC<-OMe>\n",
      "41165 0.042  3  6 --+-+++++ ccnCCC<-OMe>\n",
      "41285 0.042  3  6 --+-+++++ c<=N>n(cn)CCC<-OMe>\n",
      "41282 0.042  3  6 --+-+++++ cncnCCC<-OMe>\n",
      "41207 0.042  3  6 --+-+++++ cccnCCC<-OMe>\n",
      "41205 0.042  3  6 --+-+++++ ccn(c<=N>)CCC<-OMe>\n",
      "41147 0.042  3  6 --+-+++++ C<-OMe>CCn\n",
      "Postives       :  ['41H04', '91B02', '91B03', '91D02', '91E02', '91F02', '91G02', '91H02']\n",
      "False negatives:  ['41F07']\n",
      "False positives:  ['31A03', '31B03', '31G02', '31H02', '41A05', '41C05', '91A02', '91A03', '91A04', '91B04', '91C02', '91C03', '91C04', '91D04', '91E03', '91E04', '91F03', '91H03']\n",
      "\n",
      "Testing Amb-767\n",
      "Num of targets active: 5, inactive: 616\n",
      "  310 0.017 17  3 +++-- cc(c)c(c)c\n",
      "  342 0.017 17  3 +++-- ccc(c)c(c)c\n",
      "23617 0.016  3  2 ---++ c<-OMe>ccc-cn[nH]\n",
      " 3449 0.015  4  2 +-+-- cc(c)cc(c)[nH]\n",
      "12285 0.014  5  2 ---++ c-cccncC\n",
      " 3665 0.014  5  2 +-+-- cc(c)cc(c)c\n",
      "45186 0.013  6  2 ---++ cc(-c)nncn\n",
      "45188 0.013  6  2 ---++ c-c(n)cc(n)n\n",
      "17698 0.013  6  2 ---++ ccc-cccc<-OMe>\n",
      " 4467 0.012  7  2 ---++ c<-OMe>ccc-c(c)n\n",
      " 1467 0.012  7  2 +-+-- cnccc(c)c\n",
      "31625 0.012  7  2 ---++ cc-ccc(n)n\n",
      "31641 0.012  7  2 ---++ cnc(n)cc-c\n",
      "31643 0.012  7  2 ---++ c-ccc(n)nn\n",
      "17731 0.012  8  2 ---++ cc(n)nnc-c\n",
      "15133 0.012  8  2 ---++ c-ccc(n)n\n",
      " 3456 0.012  8  2 +-+-- cc(c)c(c)c[nH]\n",
      "17752 0.012  8  2 ---++ cncnnc-c\n",
      " 4468 0.012  8  2 ---++ cc<-OMe>ccc-cn\n",
      " 4475 0.011  9  2 ---++ cc-c(c)ccc<-OMe>\n",
      "Postives       :  ['31E03', '31E09', '41F07']\n",
      "False negatives:  ['101E06', '101G06']\n",
      "False positives:  ['1B04', '1D02', '1D10', '21D03', '21E03', '31E04', '31G08', '41A04', '41E07', '71C05', '71F11', '81C07', '81G04', '91E05', '91F05', '91G05', '111B04']\n",
      "\n",
      "Testing Amb-751\n",
      "Num of targets active: 2, inactive: 543\n",
      "  342 0.017 19  2 ++ ccc(c)c(c)c\n",
      "  310 0.017 19  2 ++ cc(c)c(c)c\n",
      "21438 0.016  0  1 +- c<-O>ccc-c[nH]\n",
      "21450 0.016  0  1 +- c<-O>ccc(c)-c[nH]\n",
      "21435 0.016  0  1 +- c<-O>ccc-c\n",
      "21446 0.016  0  1 +- cc(c)nc(-c)[nH]\n",
      "21451 0.016  0  1 +- c<-O>ccc-c([nH])n\n",
      "21447 0.016  0  1 +- cc(c[nH])nc-c\n",
      "21454 0.016  0  1 +- c<-O>ccc(-c)cc\n",
      "21453 0.016  0  1 +- cc<-O>ccc(c)-c\n",
      "21449 0.016  0  1 +- cc<-O>ccc-c[nH]\n",
      "21441 0.016  0  1 +- c<-O>ccc-cnc\n",
      "21448 0.016  0  1 +- cc([nH])cnc-c\n",
      "21440 0.016  0  1 +- c<-O>ccc(c)-c\n",
      "21709 0.016  0  1 -+ cC<=O>N(C<=O>)CCN\n",
      "21708 0.016  0  1 -+ CNCCN(C<=O>)C<=O>\n",
      "21452 0.016  0  1 +- ccc<-O>ccc-c\n",
      "21444 0.016  0  1 +- cc[nH]c(-c)nc\n",
      "21439 0.016  0  1 +- cc<-O>ccc-c\n",
      "  340 0.013 49  2 ++ ccc(cc)cc\n",
      "Postives       :  ['31E03', '31E09']\n",
      "False negatives:  []\n",
      "False positives:  ['1B04', '1D02', '21D03', '31D02', '31E04', '31G08', '41A04', '41B02', '41E07', '71C05', '71F11', '71G06', '71G09', '81C07', '81G04', '91E05', '91F05', '91G05', '111B04']\n",
      "\n",
      "Testing Amb-816\n",
      "Num of targets active: 3, inactive: 854\n",
      "25221 0.016  2  2 ++- C(<-OEt>)<=O>ccNCC\n",
      "25239 0.016  2  2 ++- cc(cC(<-OEt>)<=O>)NCC\n",
      "25231 0.016  2  2 ++- cc(C(<-OEt>)<=O>)cNCC\n",
      "25244 0.016  2  2 ++- cc(n)cccC(<-OEt>)<=O>\n",
      "25237 0.015  3  2 ++- ccc(c)NCC\n",
      "25226 0.015  3  2 ++- cc(c)NCC\n",
      "25224 0.014  4  2 ++- cc(c)ccC(<-OEt>)<=O>\n",
      "25228 0.014  4  2 ++- cncc(C(<-OEt>)<=O>)cN\n",
      "25233 0.014  4  2 ++- ccc(N)c(c)C(<-OEt>)<=O>\n",
      "25234 0.014  4  2 ++- cc(C(<-OEt>)<=O>)cccn\n",
      "25219 0.014  4  2 ++- C(<-OEt>)<=O>c(cN)cn\n",
      "25223 0.014  4  2 ++- C(<-OEt>)<=O>ccccn\n",
      "24981 0.014  4  2 ++- cc(n)ccNC\n",
      "25230 0.014  4  2 ++- cc(N)c(C(<-OEt>)<=O>)cn\n",
      "25220 0.014  4  2 ++- cc(C(<-OEt>)<=O>)c(c)N\n",
      "25241 0.014  4  2 ++- cccc(N)cC(<-OEt>)<=O>\n",
      "25240 0.014  4  2 ++- ccc(cC(<-OEt>)<=O>)NC\n",
      "25235 0.014  4  2 ++- cc(C(<-OEt>)<=O>)cc(c)c\n",
      "25232 0.014  4  2 ++- cc(C(<-OEt>)<=O>)c(c)NC\n",
      "25229 0.014  4  2 ++- CNcc(C(<-OEt>)<=O>)cn\n",
      "Postives       :  ['41D07', '41F07']\n",
      "False negatives:  ['91D02']\n",
      "False positives:  ['41C07', '41H07']\n",
      "\n",
      "Testing Amb-720\n",
      "Num of targets active: 4, inactive: 684\n",
      "  342 0.016 26  3 +++- ccc(c)c(c)c\n",
      "  310 0.016 26  3 +++- cc(c)c(c)c\n",
      " 3449 0.015  4  2 +-+- cc(c)cc(c)[nH]\n",
      " 3665 0.014  5  2 +-+- cc(c)cc(c)c\n",
      " 3456 0.012  9  2 +-+- cc(c)c(c)c[nH]\n",
      " 1467 0.012  9  2 +-+- cnccc(c)c\n",
      "21440 0.011  0  1 +--- c<-O>ccc(c)-c\n",
      "21449 0.011  0  1 +--- cc<-O>ccc-c[nH]\n",
      "21447 0.011  0  1 +--- cc(c[nH])nc-c\n",
      "21441 0.011  0  1 +--- c<-O>ccc-cnc\n",
      "21438 0.011  0  1 +--- c<-O>ccc-c[nH]\n",
      "21435 0.011  0  1 +--- c<-O>ccc-c\n",
      "21439 0.011  0  1 +--- cc<-O>ccc-c\n",
      "21448 0.011  0  1 +--- cc([nH])cnc-c\n",
      "21446 0.011  0  1 +--- cc(c)nc(-c)[nH]\n",
      "21453 0.011  0  1 +--- cc<-O>ccc(c)-c\n",
      "21452 0.011  0  1 +--- ccc<-O>ccc-c\n",
      "21451 0.011  0  1 +--- c<-O>ccc-c([nH])n\n",
      "21450 0.011  0  1 +--- c<-O>ccc(c)-c[nH]\n",
      "21444 0.011  0  1 +--- cc[nH]c(-c)nc\n",
      "Postives       :  ['31E03', '31E09', '41F07']\n",
      "False negatives:  ['101E06']\n",
      "False positives:  ['1A04', '1B04', '1D02', '1D10', '21D03', '21E03', '31D02', '31E04', '31G08', '41A04', '41B02', '41E07', '51C03', '51G03', '71B06', '71B10', '71C05', '71F06', '71F11', '71G06', '71G09', '81C07', '81G04', '91F05', '91G05', '111B04']\n",
      "\n",
      "Testing Amb-318\n",
      "Num of targets active: 3, inactive: 833\n",
      "  342 0.017 29  3 +++ ccc(c)c(c)c\n",
      "  310 0.017 29  3 +++ cc(c)c(c)c\n",
      " 3449 0.014  4  2 +-+ cc(c)cc(c)[nH]\n",
      " 3665 0.014  5  2 +-+ cc(c)cc(c)c\n",
      "  340 0.013 72  3 +++ ccc(cc)cc\n",
      " 3456 0.012  9  2 +-+ cc(c)c(c)c[nH]\n",
      " 1467 0.012  9  2 +-+ cnccc(c)c\n",
      "  331 0.011 102  3 +++ ccccc(c)c\n",
      "  327 0.011 107  3 +++ ccccccc\n",
      "  334 0.010 111  3 +++ cccc(c)cc\n",
      "  303 0.010 113  3 +++ cccc(c)c\n",
      "  306 0.010 114  3 +++ ccc(c)cc\n",
      "21444 0.010  0  1 +-- cc[nH]c(-c)nc\n",
      "21440 0.010  0  1 +-- c<-O>ccc(c)-c\n",
      "21438 0.010  0  1 +-- c<-O>ccc-c[nH]\n",
      "21435 0.010  0  1 +-- c<-O>ccc-c\n",
      "21447 0.010  0  1 +-- cc(c[nH])nc-c\n",
      "21446 0.010  0  1 +-- cc(c)nc(-c)[nH]\n",
      "21441 0.010  0  1 +-- c<-O>ccc-cnc\n",
      "21439 0.010  0  1 +-- cc<-O>ccc-c\n",
      "Postives       :  ['31E03', '31E09', '41F07']\n",
      "False negatives:  []\n",
      "False positives:  ['1B04', '1D02', '1D10', '11G07', '21D03', '21E03', '31D02', '31D11', '31E05', '31G08', '41A04', '41B02', '41E07', '51C03', '51F03', '51G03', '71B06', '71B10', '71C05', '71F06', '71F11', '71G06', '71G09', '81C07', '81G04', '91E05', '91F05', '91G05', '111B04']\n",
      "\n",
      "Testing Amb-6319\n",
      "Num of targets active: 2, inactive: 615\n",
      "  342 0.016 21  2 ++ ccc(c)c(c)c\n",
      "  310 0.016 21  2 ++ cc(c)c(c)c\n",
      "21444 0.014  0  1 +- cc[nH]c(-c)nc\n",
      "21451 0.014  0  1 +- c<-O>ccc-c([nH])n\n",
      "21453 0.014  0  1 +- cc<-O>ccc(c)-c\n",
      "21438 0.014  0  1 +- c<-O>ccc-c[nH]\n",
      "21440 0.014  0  1 +- c<-O>ccc(c)-c\n",
      "21439 0.014  0  1 +- cc<-O>ccc-c\n",
      "21708 0.014  0  1 -+ CNCCN(C<=O>)C<=O>\n",
      "21454 0.014  0  1 +- c<-O>ccc(-c)cc\n",
      "21452 0.014  0  1 +- ccc<-O>ccc-c\n",
      "21447 0.014  0  1 +- cc(c[nH])nc-c\n",
      "21448 0.014  0  1 +- cc([nH])cnc-c\n",
      "21441 0.014  0  1 +- c<-O>ccc-cnc\n",
      "21709 0.014  0  1 -+ cC<=O>N(C<=O>)CCN\n",
      "21450 0.014  0  1 +- c<-O>ccc(c)-c[nH]\n",
      "21449 0.014  0  1 +- cc<-O>ccc-c[nH]\n",
      "21446 0.014  0  1 +- cc(c)nc(-c)[nH]\n",
      "21435 0.014  0  1 +- c<-O>ccc-c\n",
      "  340 0.011 54  2 ++ ccc(cc)cc\n",
      "Postives       :  ['31E03', '31E09']\n",
      "False negatives:  []\n",
      "False positives:  ['1A04', '1B04', '1D02', '21D03', '21E03', '31G08', '41B02', '41E07', '71B06', '71B10', '71C05', '71F06', '71F11', '71G06', '71G09', '81C07', '81G04', '91E05', '91F05', '91G05', '111B04']\n",
      "\n"
     ]
    }
   ],
   "source": [
    "# Rank fragments based on observed activity\n",
    "ntop=20\n",
    "for apt in range(len(aptamers)):\n",
    "    print(\"Testing\",aptamers[apt])\n",
    "    tsel=[True if np.isfinite(yi) else False for yi in yfull[apt]]\n",
    "    y=yfull[apt][tsel]\n",
    "    X=[Xfull[i] for i in range(len(tsel)) if tsel[i]]\n",
    "    targets=[tfull[i] for i in range(len(tsel)) if tsel[i] ]\n",
    "\n",
    "    frag=bitranking.getFragRanks(fpcat, X, y,ntop=ntop)\n",
    "    print('Postives       : ',[targets[i] for i in range(len(targets)) if y[i]==1 and X[i].GetBit(int(frag))])\n",
    "    print('False negatives: ',[targets[i] for i in range(len(targets)) if y[i]==1 and not X[i].GetBit(int(frag))])\n",
    "    print('False positives: ',[targets[i] for i in range(len(targets)) if y[i]==0 and X[i].GetBit(int(frag))])\n",
    "    print()"
   ]
  },
  {
   "cell_type": "code",
   "execution_count": 21,
   "metadata": {
    "pycharm": {
     "is_executing": false,
     "name": "#%%\n"
    }
   },
   "outputs": [
    {
     "name": "stdout",
     "output_type": "stream",
     "text": [
      "C23H26N2O7S [H]/C(=C1\\C(=O)N(C([H])([H])C([H])([H])C([H])([H])OC([H])([H])[H])C(C([H])([H])[H])=C1C(=O)OC([H])([H])[H])c1oc(C([H])([H])N([H])S(=O)(=O)c2c([H])c([H])c([H])c([H])c2[H])c([H])c1[H]\n",
      "474.14607217200063\n"
     ]
    }
   ],
   "source": [
    "m=molecules[648]\n",
    "m2=Chem.AddHs(m)\n",
    "print(CalcMolFormula(m2), Chem.MolToSmiles(m2))\n",
    "print(Chem.Descriptors.ExactMolWt(m2))"
   ]
  },
  {
   "cell_type": "code",
   "execution_count": null,
   "metadata": {
    "pycharm": {
     "name": "#%%\n"
    }
   },
   "outputs": [],
   "source": [
    "\n"
   ]
  }
 ],
 "metadata": {
  "kernelspec": {
   "name": "pycharm-cce01591",
   "language": "python",
   "display_name": "PyCharm (moldist)"
  },
  "language_info": {
   "codemirror_mode": {
    "name": "ipython",
    "version": 3
   },
   "file_extension": ".py",
   "mimetype": "text/x-python",
   "name": "python",
   "nbconvert_exporter": "python",
   "pygments_lexer": "ipython3",
   "version": "3.7.5"
  }
 },
 "nbformat": 4,
 "nbformat_minor": 1
}