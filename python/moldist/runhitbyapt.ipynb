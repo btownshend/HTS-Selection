{
 "cells": [
  {
   "cell_type": "code",
   "execution_count": 1,
   "metadata": {
    "pycharm": {
     "is_executing": false,
     "name": "#%%\n"
    }
   },
   "outputs": [
    {
     "name": "stderr",
     "output_type": "stream",
     "text": [
      "RDKit WARNING: [00:14:57] Enabling RDKit 2019.09.2 jupyter extensions\n"
     ]
    },
    {
     "ename": "ModuleNotFoundError",
     "evalue": "No module named 'src'",
     "output_type": "error",
     "traceback": [
      "\u001b[0;31m---------------------------------------------------------------------------\u001b[0m",
      "\u001b[0;31mModuleNotFoundError\u001b[0m                       Traceback (most recent call last)",
      "\u001b[0;32m<ipython-input-1-9ad9d791d506>\u001b[0m in \u001b[0;36m<module>\u001b[0;34m\u001b[0m\n\u001b[1;32m      3\u001b[0m \u001b[0;32mfrom\u001b[0m \u001b[0mrdkit\u001b[0m\u001b[0;34m.\u001b[0m\u001b[0mChem\u001b[0m \u001b[0;32mimport\u001b[0m \u001b[0mDescriptors\u001b[0m\u001b[0;34m\u001b[0m\u001b[0;34m\u001b[0m\u001b[0m\n\u001b[1;32m      4\u001b[0m \u001b[0;32mfrom\u001b[0m \u001b[0mrdkit\u001b[0m\u001b[0;34m.\u001b[0m\u001b[0mChem\u001b[0m\u001b[0;34m.\u001b[0m\u001b[0mrdMolDescriptors\u001b[0m \u001b[0;32mimport\u001b[0m \u001b[0mCalcMolFormula\u001b[0m\u001b[0;34m\u001b[0m\u001b[0;34m\u001b[0m\u001b[0m\n\u001b[0;32m----> 5\u001b[0;31m \u001b[0;32mfrom\u001b[0m \u001b[0msrc\u001b[0m\u001b[0;34m.\u001b[0m\u001b[0mdata\u001b[0m \u001b[0;32mimport\u001b[0m \u001b[0mmake_dataset\u001b[0m\u001b[0;34m\u001b[0m\u001b[0;34m\u001b[0m\u001b[0m\n\u001b[0m\u001b[1;32m      6\u001b[0m \u001b[0;32mfrom\u001b[0m \u001b[0msrc\u001b[0m\u001b[0;34m.\u001b[0m\u001b[0mfeatures\u001b[0m \u001b[0;32mimport\u001b[0m \u001b[0mbuild_features\u001b[0m\u001b[0;34m,\u001b[0m \u001b[0mbuild_targets\u001b[0m\u001b[0;34m\u001b[0m\u001b[0;34m\u001b[0m\u001b[0m\n\u001b[1;32m      7\u001b[0m \u001b[0;32mfrom\u001b[0m \u001b[0msrc\u001b[0m\u001b[0;34m.\u001b[0m\u001b[0mmodels\u001b[0m \u001b[0;32mimport\u001b[0m \u001b[0msplit_data\u001b[0m\u001b[0;34m,\u001b[0m \u001b[0mtrain_model\u001b[0m\u001b[0;34m,\u001b[0m \u001b[0mpredict_model\u001b[0m\u001b[0;34m,\u001b[0m \u001b[0mbitranking\u001b[0m\u001b[0;34m\u001b[0m\u001b[0;34m\u001b[0m\u001b[0m\n",
      "\u001b[0;31mModuleNotFoundError\u001b[0m: No module named 'src'"
     ]
    }
   ],
   "source": [
    "import numpy as np\n",
    "from rdkit import Chem\n",
    "from rdkit.Chem import Descriptors\n",
    "from rdkit.Chem.rdMolDescriptors import CalcMolFormula\n",
    "from src.data import make_dataset\n",
    "from src.features import build_features, build_targets\n",
    "from src.models import split_data, train_model, predict_model, bitranking"
   ]
  },
  {
   "cell_type": "code",
   "execution_count": null,
   "metadata": {
    "pycharm": {
     "is_executing": false,
     "name": "#%%\n"
    }
   },
   "outputs": [],
   "source": [
    "# OPTIONAL: Load the \"autoreload\" extension so that code can change\n",
    "%load_ext autoreload\n",
    "# OPTIONAL: always reload modules so that as you change code in src, it gets loaded\n",
    "%autoreload 2\n",
    "seed=42"
   ]
  },
  {
   "cell_type": "code",
   "execution_count": 5,
   "metadata": {
    "pycharm": {
     "is_executing": false,
     "name": "#%%\n"
    }
   },
   "outputs": [],
   "source": [
    "# Load data\n",
    "molecules=make_dataset.load()"
   ]
  },
  {
   "cell_type": "code",
   "execution_count": 6,
   "metadata": {
    "pycharm": {
     "is_executing": false,
     "name": "#%%\n"
    }
   },
   "outputs": [
    {
     "name": "stdout",
     "output_type": "stream",
     "text": [
      "Num functional groups: 39\n",
      "Have 48716 fragments in library\n"
     ]
    }
   ],
   "source": [
    "# Build the features\n",
    "Xfull,fpcat=build_features.buildFragment(molecules)"
   ]
  },
  {
   "cell_type": "code",
   "execution_count": 14,
   "metadata": {
    "pycharm": {
     "is_executing": false,
     "name": "#%%\n"
    }
   },
   "outputs": [
    {
     "name": "stdout",
     "output_type": "stream",
     "text": [
      "Column names are Target, H960-319, H960-940, H960-003, H960-650, H960-050, H960-616, H960-724, H960-354, H960-256, H960-920, H960-337, Amb-767, Amb-563, Amb-113, Amb-751, Amb-816, Amb-720, Amb-318, Amb-6319\n",
      "Processed 960 targets.\n",
      "['1A2', '1A3', '1A4', '1A5', '1A6', '1A7', '1A8', '1A9', '1A10', '1A11', '1B2', '1B3', '1B4', '1B5', '1B6', '1B7', '1B8', '1B9', '1B10', '1B11', '1C2', '1C3', '1C4', '1C5', '1C6', '1C7', '1C8', '1C9', '1C10', '1C11', '1D2', '1D3', '1D4', '1D5', '1D6', '1D7', '1D8', '1D9', '1D10', '1D11', '1E2', '1E3', '1E4', '1E5', '1E6', '1E7', '1E8', '1E9', '1E10', '1E11', '1F2', '1F3', '1F4', '1F5', '1F6', '1F7', '1F8', '1F9', '1F10', '1F11', '1G2', '1G3', '1G4', '1G5', '1G6', '1G7', '1G8', '1G9', '1G10', '1G11', '1H2', '1H3', '1H4', '1H5', '1H6', '1H7', '1H8', '1H9', '1H10', '1H11', '11A2', '11A3', '11A4', '11A5', '11A6', '11A7', '11A8', '11A9', '11A10', '11A11', '11B2', '11B3', '11B4', '11B5', '11B6', '11B7', '11B8', '11B9', '11B10', '11B11', '11C2', '11C3', '11C4', '11C5', '11C6', '11C7', '11C8', '11C9', '11C10', '11C11', '11D2', '11D3', '11D4', '11D5', '11D6', '11D7', '11D8', '11D9', '11D10', '11D11', '11E2', '11E3', '11E4', '11E5', '11E6', '11E7', '11E8', '11E9', '11E10', '11E11', '11F2', '11F3', '11F4', '11F5', '11F6', '11F7', '11F8', '11F9', '11F10', '11F11', '11G2', '11G3', '11G4', '11G5', '11G6', '11G7', '11G8', '11G9', '11G10', '11G11', '11H2', '11H3', '11H4', '11H5', '11H6', '11H7', '11H8', '11H9', '11H10', '11H11', '21A2', '21A3', '21A4', '21A5', '21A6', '21A7', '21A8', '21A9', '21A10', '21A11', '21B2', '21B3', '21B4', '21B5', '21B6', '21B7', '21B8', '21B9', '21B10', '21B11', '21C2', '21C3', '21C4', '21C5', '21C6', '21C7', '21C8', '21C9', '21C10', '21C11', '21D2', '21D3', '21D4', '21D5', '21D6', '21D7', '21D8', '21D9', '21D10', '21D11', '21E2', '21E3', '21E4', '21E5', '21E6', '21E7', '21E8', '21E9', '21E10', '21E11', '21F2', '21F3', '21F4', '21F5', '21F6', '21F7', '21F8', '21F9', '21F10', '21F11', '21G2', '21G3', '21G4', '21G5', '21G6', '21G7', '21G8', '21G9', '21G10', '21G11', '21H2', '21H3', '21H4', '21H5', '21H6', '21H7', '21H8', '21H9', '21H10', '21H11', '31A2', '31A3', '31A4', '31A5', '31A6', '31A7', '31A8', '31A9', '31A10', '31A11', '31B2', '31B3', '31B4', '31B5', '31B6', '31B7', '31B8', '31B9', '31B10', '31B11', '31C2', '31C3', '31C4', '31C5', '31C6', '31C7', '31C8', '31C9', '31C10', '31C11', '31D2', '31D3', '31D4', '31D5', '31D6', '31D7', '31D8', '31D9', '31D10', '31D11', '31E2', '31E3', '31E4', '31E5', '31E6', '31E7', '31E8', '31E9', '31E10', '31E11', '31F2', '31F3', '31F4', '31F5', '31F6', '31F7', '31F8', '31F9', '31F10', '31F11', '31G2', '31G3', '31G4', '31G5', '31G6', '31G7', '31G8', '31G9', '31G10', '31G11', '31H2', '31H3', '31H4', '31H5', '31H6', '31H7', '31H8', '31H9', '31H10', '31H11', '41A2', '41A3', '41A4', '41A5', '41A6', '41A7', '41A8', '41A9', '41A10', '41A11', '41B2', '41B3', '41B4', '41B5', '41B6', '41B7', '41B8', '41B9', '41B10', '41B11', '41C2', '41C3', '41C4', '41C5', '41C6', '41C7', '41C8', '41C9', '41C10', '41C11', '41D2', '41D3', '41D4', '41D5', '41D6', '41D7', '41D8', '41D9', '41D10', '41D11', '41E2', '41E3', '41E4', '41E5', '41E6', '41E7', '41E8', '41E9', '41E10', '41E11', '41F2', '41F3', '41F4', '41F5', '41F6', '41F7', '41F8', '41F9', '41F10', '41F11', '41G2', '41G3', '41G4', '41G5', '41G6', '41G7', '41G8', '41G9', '41G10', '41G11', '41H2', '41H3', '41H4', '41H5', '41H6', '41H7', '41H8', '41H9', '41H10', '41H11', '51A2', '51A3', '51A4', '51A5', '51A6', '51A7', '51A8', '51A9', '51A10', '51A11', '51B2', '51B3', '51B4', '51B5', '51B6', '51B7', '51B8', '51B9', '51B10', '51B11', '51C2', '51C3', '51C4', '51C5', '51C6', '51C7', '51C8', '51C9', '51C10', '51C11', '51D2', '51D3', '51D4', '51D5', '51D6', '51D7', '51D8', '51D9', '51D10', '51D11', '51E2', '51E3', '51E4', '51E5', '51E6', '51E7', '51E8', '51E9', '51E10', '51E11', '51F2', '51F3', '51F4', '51F5', '51F6', '51F7', '51F8', '51F9', '51F10', '51F11', '51G2', '51G3', '51G4', '51G5', '51G6', '51G7', '51G8', '51G9', '51G10', '51G11', '51H2', '51H3', '51H4', '51H5', '51H6', '51H7', '51H8', '51H9', '51H10', '51H11', '61A2', '61A3', '61A4', '61A5', '61A6', '61A7', '61A8', '61A9', '61A10', '61A11', '61B2', '61B3', '61B4', '61B5', '61B6', '61B7', '61B8', '61B9', '61B10', '61B11', '61C2', '61C3', '61C4', '61C5', '61C6', '61C7', '61C8', '61C9', '61C10', '61C11', '61D2', '61D3', '61D4', '61D5', '61D6', '61D7', '61D8', '61D9', '61D10', '61D11', '61E2', '61E3', '61E4', '61E5', '61E6', '61E7', '61E8', '61E9', '61E10', '61E11', '61F2', '61F3', '61F4', '61F5', '61F6', '61F7', '61F8', '61F9', '61F10', '61F11', '61G2', '61G3', '61G4', '61G5', '61G6', '61G7', '61G8', '61G9', '61G10', '61G11', '61H2', '61H3', '61H4', '61H5', '61H6', '61H7', '61H8', '61H9', '61H10', '61H11', '71A2', '71A3', '71A4', '71A5', '71A6', '71A7', '71A8', '71A9', '71A10', '71A11', '71B2', '71B3', '71B4', '71B5', '71B6', '71B7', '71B8', '71B9', '71B10', '71B11', '71C2', '71C3', '71C4', '71C5', '71C6', '71C7', '71C8', '71C9', '71C10', '71C11', '71D2', '71D3', '71D4', '71D5', '71D6', '71D7', '71D8', '71D9', '71D10', '71D11', '71E2', '71E3', '71E4', '71E5', '71E6', '71E7', '71E8', '71E9', '71E10', '71E11', '71F2', '71F3', '71F4', '71F5', '71F6', '71F7', '71F8', '71F9', '71F10', '71F11', '71G2', '71G3', '71G4', '71G5', '71G6', '71G7', '71G8', '71G9', '71G10', '71G11', '71H2', '71H3', '71H4', '71H5', '71H6', '71H7', '71H8', '71H9', '71H10', '71H11', '81A2', '81A3', '81A4', '81A5', '81A6', '81A7', '81A8', '81A9', '81A10', '81A11', '81B2', '81B3', '81B4', '81B5', '81B6', '81B7', '81B8', '81B9', '81B10', '81B11', '81C2', '81C3', '81C4', '81C5', '81C6', '81C7', '81C8', '81C9', '81C10', '81C11', '81D2', '81D3', '81D4', '81D5', '81D6', '81D7', '81D8', '81D9', '81D10', '81D11', '81E2', '81E3', '81E4', '81E5', '81E6', '81E7', '81E8', '81E9', '81E10', '81E11', '81F2', '81F3', '81F4', '81F5', '81F6', '81F7', '81F8', '81F9', '81F10', '81F11', '81G2', '81G3', '81G4', '81G5', '81G6', '81G7', '81G8', '81G9', '81G10', '81G11', '81H2', '81H3', '81H4', '81H5', '81H6', '81H7', '81H8', '81H9', '81H10', '81H11', '91A2', '91A3', '91A4', '91A5', '91A6', '91A7', '91A8', '91A9', '91A10', '91A11', '91B2', '91B3', '91B4', '91B5', '91B6', '91B7', '91B8', '91B9', '91B10', '91B11', '91C2', '91C3', '91C4', '91C5', '91C6', '91C7', '91C8', '91C9', '91C10', '91C11', '91D2', '91D3', '91D4', '91D5', '91D6', '91D7', '91D8', '91D9', '91D10', '91D11', '91E2', '91E3', '91E4', '91E5', '91E6', '91E7', '91E8', '91E9', '91E10', '91E11', '91F2', '91F3', '91F4', '91F5', '91F6', '91F7', '91F8', '91F9', '91F10', '91F11', '91G2', '91G3', '91G4', '91G5', '91G6', '91G7', '91G8', '91G9', '91G10', '91G11', '91H2', '91H3', '91H4', '91H5', '91H6', '91H7', '91H8', '91H9', '91H10', '91H11', '101A2', '101A3', '101A4', '101A5', '101A6', '101A7', '101A8', '101A9', '101A10', '101A11', '101B2', '101B3', '101B4', '101B5', '101B6', '101B7', '101B8', '101B9', '101B10', '101B11', '101C2', '101C3', '101C4', '101C5', '101C6', '101C7', '101C8', '101C9', '101C10', '101C11', '101D2', '101D3', '101D4', '101D5', '101D6', '101D7', '101D8', '101D9', '101D10', '101D11', '101E2', '101E3', '101E4', '101E5', '101E6', '101E7', '101E8', '101E9', '101E10', '101E11', '101F2', '101F3', '101F4', '101F5', '101F6', '101F7', '101F8', '101F9', '101F10', '101F11', '101G2', '101G3', '101G4', '101G5', '101G6', '101G7', '101G8', '101G9', '101G10', '101G11', '101H2', '101H3', '101H4', '101H5', '101H6', '101H7', '101H8', '101H9', '101H10', '101H11', '111A2', '111A3', '111A4', '111A5', '111A6', '111A7', '111A8', '111A9', '111A10', '111A11', '111B2', '111B3', '111B4', '111B5', '111B6', '111B7', '111B8', '111B9', '111B10', '111B11', '111C2', '111C3', '111C4', '111C5', '111C6', '111C7', '111C8', '111C9', '111C10', '111C11', '111D2', '111D3', '111D4', '111D5', '111D6', '111D7', '111D8', '111D9', '111D10', '111D11', '111E2', '111E3', '111E4', '111E5', '111E6', '111E7', '111E8', '111E9', '111E10', '111E11', '111F2', '111F3', '111F4', '111F5', '111F6', '111F7', '111F8', '111F9', '111F10', '111F11', '111G2', '111G3', '111G4', '111G5', '111G6', '111G7', '111G8', '111G9', '111G10', '111G11', '111H2', '111H3', '111H4', '111H5', '111H6', '111H7', '111H8', '111H9', '111H10', '111H11']\n",
      "Loaded 19 aptamers and 960 targets.\n"
     ]
    }
   ],
   "source": [
    "# Build the targets]\n",
    "yfull,aptamers,tfull=build_targets.build_hitbyapt(molecules)\n",
    "print(\"Loaded\",len(aptamers),\"aptamers and\",len(tfull),\"targets.\")"
   ]
  },
  {
   "cell_type": "code",
   "execution_count": 8,
   "metadata": {
    "pycharm": {
     "is_executing": false,
     "name": "#%%\n"
    }
   },
   "outputs": [
    {
     "name": "stdout",
     "output_type": "stream",
     "text": [
      "Testing H960-050\n"
     ]
    }
   ],
   "source": [
    "# Choose an aptamer to work on\n",
    "# Setup training data to include only the ones for which we have definite hit/miss classification\n",
    "apt=4\n",
    "print(\"Testing\",aptamers[apt])\n",
    "tsel=[True if np.isfinite(yi) else False for yi in yfull[apt]]\n",
    "y=yfull[apt][tsel]\n",
    "X=[Xfull[i] for i in range(len(tsel)) if tsel[i]]\n",
    "targets=[tfull[i] for i in range(len(tsel)) if tsel[i] ]"
   ]
  },
  {
   "cell_type": "code",
   "execution_count": 9,
   "metadata": {
    "pycharm": {
     "is_executing": false,
     "name": "#%%\n"
    }
   },
   "outputs": [
    {
     "name": "stdout",
     "output_type": "stream",
     "text": [
      "Fraction hits: train: 0.017, test: 0.004\n"
     ]
    }
   ],
   "source": [
    "# Create train/test sets\n",
    "X_train, X_test, y_train, y_test, ind_train, ind_test = split_data.split(0.4,X,y,seed)\n",
    "tgt_test=[targets[x] for x in ind_test]\n",
    "tgt_train=[targets[x] for x in ind_train]\n",
    "    "
   ]
  },
  {
   "cell_type": "code",
   "execution_count": 10,
   "metadata": {
    "pycharm": {
     "is_executing": false,
     "name": "#%%\n"
    }
   },
   "outputs": [
    {
     "name": "stdout",
     "output_type": "stream",
     "text": [
      "RandomForestClassifier(bootstrap=True, class_weight='balanced',\n",
      "                       criterion='gini', max_depth=None, max_features='auto',\n",
      "                       max_leaf_nodes=None, min_impurity_decrease=0.0,\n",
      "                       min_impurity_split=None, min_samples_leaf=1,\n",
      "                       min_samples_split=2, min_weight_fraction_leaf=0.0,\n",
      "                       n_estimators=10, n_jobs=None, oob_score=False,\n",
      "                       random_state=42, verbose=0, warm_start=False)\n",
      "Cross-validation score = 0.993 += 0.014\n"
     ]
    }
   ],
   "source": [
    "# Train model\n",
    "# Need to handle NaNs!\n",
    "models=[train_model.train_rfc(X_train,y_train,seed,n_estimators=10)]"
   ]
  },
  {
   "cell_type": "code",
   "execution_count": 11,
   "metadata": {
    "pycharm": {
     "is_executing": false,
     "name": "#%%\n"
    }
   },
   "outputs": [
    {
     "name": "stdout",
     "output_type": "stream",
     "text": [
      "------\n",
      "RandomForestClassifier(bootstrap=True, class_weight='balanced',\n",
      "                       criterion='gini', max_depth=None, max_features='auto',\n",
      "                       max_leaf_nodes=None, min_impurity_decrease=0.0,\n",
      "                       min_impurity_split=None, min_samples_leaf=1,\n",
      "                       min_samples_split=2, min_weight_fraction_leaf=0.0,\n",
      "                       n_estimators=10, n_jobs=None, oob_score=False,\n",
      "                       random_state=42, verbose=0, warm_start=False)\n",
      "Train:\n",
      "              precision    recall  f1-score   support\n",
      "\n",
      "         0.0       1.00      1.00      1.00       352\n",
      "         1.0       1.00      1.00      1.00         6\n",
      "\n",
      "    accuracy                           1.00       358\n",
      "   macro avg       1.00      1.00      1.00       358\n",
      "weighted avg       1.00      1.00      1.00       358\n",
      "\n",
      "[[352   0]\n",
      " [  0   6]]\n",
      "ROC_AUC Score = 1.000\n",
      "Test:\n",
      "              precision    recall  f1-score   support\n",
      "\n",
      "         0.0       1.00      1.00      1.00       239\n",
      "         1.0       1.00      1.00      1.00         1\n",
      "\n",
      "    accuracy                           1.00       240\n",
      "   macro avg       1.00      1.00      1.00       240\n",
      "weighted avg       1.00      1.00      1.00       240\n",
      "\n",
      "[[239   0]\n",
      " [  0   1]]\n",
      "ROC_AUC Score = 1.000\n",
      "LOO:\n",
      "Running Leave-out validation on 598 molecules...\n",
      "0..."
     ]
    },
    {
     "ename": "KeyboardInterrupt",
     "evalue": "",
     "output_type": "error",
     "traceback": [
      "\u001b[0;31m---------------------------------------------------------------------------\u001b[0m",
      "\u001b[0;31mKeyboardInterrupt\u001b[0m                         Traceback (most recent call last)",
      "\u001b[0;32m<ipython-input-11-abbb762aefc9>\u001b[0m in \u001b[0;36m<module>\u001b[0;34m\u001b[0m\n\u001b[1;32m      8\u001b[0m     \u001b[0myp_test\u001b[0m\u001b[0;34m=\u001b[0m\u001b[0mpredict_model\u001b[0m\u001b[0;34m.\u001b[0m\u001b[0mpredict\u001b[0m\u001b[0;34m(\u001b[0m\u001b[0mmodel\u001b[0m\u001b[0;34m,\u001b[0m\u001b[0mX_test\u001b[0m\u001b[0;34m,\u001b[0m\u001b[0my_test\u001b[0m\u001b[0;34m,\u001b[0m\u001b[0mtgt_test\u001b[0m\u001b[0;34m)\u001b[0m\u001b[0;34m\u001b[0m\u001b[0;34m\u001b[0m\u001b[0m\n\u001b[1;32m      9\u001b[0m     \u001b[0mprint\u001b[0m\u001b[0;34m(\u001b[0m\u001b[0;34m\"LOO:\"\u001b[0m\u001b[0;34m)\u001b[0m\u001b[0;34m\u001b[0m\u001b[0;34m\u001b[0m\u001b[0m\n\u001b[0;32m---> 10\u001b[0;31m     \u001b[0myp_loo\u001b[0m\u001b[0;34m=\u001b[0m\u001b[0mpredict_model\u001b[0m\u001b[0;34m.\u001b[0m\u001b[0mpredictLOO\u001b[0m\u001b[0;34m(\u001b[0m\u001b[0mmodel\u001b[0m\u001b[0;34m,\u001b[0m\u001b[0mX\u001b[0m\u001b[0;34m,\u001b[0m\u001b[0my\u001b[0m\u001b[0;34m,\u001b[0m\u001b[0mtargets\u001b[0m\u001b[0;34m)\u001b[0m\u001b[0;34m\u001b[0m\u001b[0;34m\u001b[0m\u001b[0m\n\u001b[0m\u001b[1;32m     11\u001b[0m \u001b[0;34m\u001b[0m\u001b[0m\n",
      "\u001b[0;32m~/Dropbox/src/moldist/src/models/predict_model.py\u001b[0m in \u001b[0;36mpredictLOO\u001b[0;34m(mdl, X, y_true, molecules)\u001b[0m\n\u001b[1;32m     32\u001b[0m         \u001b[0mX_train\u001b[0m\u001b[0;34m,\u001b[0m \u001b[0mX_test\u001b[0m \u001b[0;34m=\u001b[0m \u001b[0;34m[\u001b[0m\u001b[0mX\u001b[0m\u001b[0;34m[\u001b[0m\u001b[0mi\u001b[0m\u001b[0;34m]\u001b[0m \u001b[0;32mfor\u001b[0m \u001b[0mi\u001b[0m \u001b[0;32min\u001b[0m \u001b[0mtrain_index\u001b[0m\u001b[0;34m]\u001b[0m\u001b[0;34m,\u001b[0m \u001b[0;34m[\u001b[0m\u001b[0mX\u001b[0m\u001b[0;34m[\u001b[0m\u001b[0mi\u001b[0m\u001b[0;34m]\u001b[0m \u001b[0;32mfor\u001b[0m \u001b[0mi\u001b[0m \u001b[0;32min\u001b[0m \u001b[0mtest_index\u001b[0m\u001b[0;34m]\u001b[0m\u001b[0;34m\u001b[0m\u001b[0;34m\u001b[0m\u001b[0m\n\u001b[1;32m     33\u001b[0m         \u001b[0my_train\u001b[0m\u001b[0;34m,\u001b[0m \u001b[0my_test\u001b[0m \u001b[0;34m=\u001b[0m \u001b[0;34m[\u001b[0m\u001b[0my_true\u001b[0m\u001b[0;34m[\u001b[0m\u001b[0mi\u001b[0m\u001b[0;34m]\u001b[0m \u001b[0;32mfor\u001b[0m \u001b[0mi\u001b[0m \u001b[0;32min\u001b[0m \u001b[0mtrain_index\u001b[0m\u001b[0;34m]\u001b[0m\u001b[0;34m,\u001b[0m \u001b[0;34m[\u001b[0m\u001b[0my_true\u001b[0m\u001b[0;34m[\u001b[0m\u001b[0mi\u001b[0m\u001b[0;34m]\u001b[0m \u001b[0;32mfor\u001b[0m \u001b[0mi\u001b[0m \u001b[0;32min\u001b[0m \u001b[0mtest_index\u001b[0m\u001b[0;34m]\u001b[0m\u001b[0;34m\u001b[0m\u001b[0;34m\u001b[0m\u001b[0m\n\u001b[0;32m---> 34\u001b[0;31m         \u001b[0mmdl\u001b[0m\u001b[0;34m.\u001b[0m\u001b[0mfit\u001b[0m\u001b[0;34m(\u001b[0m\u001b[0mX_train\u001b[0m\u001b[0;34m,\u001b[0m \u001b[0my_train\u001b[0m\u001b[0;34m)\u001b[0m\u001b[0;34m\u001b[0m\u001b[0;34m\u001b[0m\u001b[0m\n\u001b[0m\u001b[1;32m     35\u001b[0m         \u001b[0mp\u001b[0m \u001b[0;34m=\u001b[0m \u001b[0mmdl\u001b[0m\u001b[0;34m.\u001b[0m\u001b[0mpredict\u001b[0m\u001b[0;34m(\u001b[0m\u001b[0mX_test\u001b[0m\u001b[0;34m)\u001b[0m\u001b[0;34m\u001b[0m\u001b[0;34m\u001b[0m\u001b[0m\n\u001b[1;32m     36\u001b[0m         \u001b[0my\u001b[0m\u001b[0;34m[\u001b[0m\u001b[0mtest_index\u001b[0m\u001b[0;34m[\u001b[0m\u001b[0;36m0\u001b[0m\u001b[0;34m]\u001b[0m\u001b[0;34m]\u001b[0m \u001b[0;34m=\u001b[0m \u001b[0mp\u001b[0m\u001b[0;34m[\u001b[0m\u001b[0;36m0\u001b[0m\u001b[0;34m]\u001b[0m\u001b[0;34m\u001b[0m\u001b[0;34m\u001b[0m\u001b[0m\n",
      "\u001b[0;32m/opt/anaconda3/envs/moldist2/lib/python3.7/site-packages/sklearn/ensemble/forest.py\u001b[0m in \u001b[0;36mfit\u001b[0;34m(self, X, y, sample_weight)\u001b[0m\n\u001b[1;32m    247\u001b[0m \u001b[0;34m\u001b[0m\u001b[0m\n\u001b[1;32m    248\u001b[0m         \u001b[0;31m# Validate or convert input data\u001b[0m\u001b[0;34m\u001b[0m\u001b[0;34m\u001b[0m\u001b[0;34m\u001b[0m\u001b[0m\n\u001b[0;32m--> 249\u001b[0;31m         \u001b[0mX\u001b[0m \u001b[0;34m=\u001b[0m \u001b[0mcheck_array\u001b[0m\u001b[0;34m(\u001b[0m\u001b[0mX\u001b[0m\u001b[0;34m,\u001b[0m \u001b[0maccept_sparse\u001b[0m\u001b[0;34m=\u001b[0m\u001b[0;34m\"csc\"\u001b[0m\u001b[0;34m,\u001b[0m \u001b[0mdtype\u001b[0m\u001b[0;34m=\u001b[0m\u001b[0mDTYPE\u001b[0m\u001b[0;34m)\u001b[0m\u001b[0;34m\u001b[0m\u001b[0;34m\u001b[0m\u001b[0m\n\u001b[0m\u001b[1;32m    250\u001b[0m         \u001b[0my\u001b[0m \u001b[0;34m=\u001b[0m \u001b[0mcheck_array\u001b[0m\u001b[0;34m(\u001b[0m\u001b[0my\u001b[0m\u001b[0;34m,\u001b[0m \u001b[0maccept_sparse\u001b[0m\u001b[0;34m=\u001b[0m\u001b[0;34m'csc'\u001b[0m\u001b[0;34m,\u001b[0m \u001b[0mensure_2d\u001b[0m\u001b[0;34m=\u001b[0m\u001b[0;32mFalse\u001b[0m\u001b[0;34m,\u001b[0m \u001b[0mdtype\u001b[0m\u001b[0;34m=\u001b[0m\u001b[0;32mNone\u001b[0m\u001b[0;34m)\u001b[0m\u001b[0;34m\u001b[0m\u001b[0;34m\u001b[0m\u001b[0m\n\u001b[1;32m    251\u001b[0m         \u001b[0;32mif\u001b[0m \u001b[0msample_weight\u001b[0m \u001b[0;32mis\u001b[0m \u001b[0;32mnot\u001b[0m \u001b[0;32mNone\u001b[0m\u001b[0;34m:\u001b[0m\u001b[0;34m\u001b[0m\u001b[0;34m\u001b[0m\u001b[0m\n",
      "\u001b[0;32m/opt/anaconda3/envs/moldist2/lib/python3.7/site-packages/sklearn/utils/validation.py\u001b[0m in \u001b[0;36mcheck_array\u001b[0;34m(array, accept_sparse, accept_large_sparse, dtype, order, copy, force_all_finite, ensure_2d, allow_nd, ensure_min_samples, ensure_min_features, warn_on_dtype, estimator)\u001b[0m\n\u001b[1;32m    494\u001b[0m             \u001b[0;32mtry\u001b[0m\u001b[0;34m:\u001b[0m\u001b[0;34m\u001b[0m\u001b[0;34m\u001b[0m\u001b[0m\n\u001b[1;32m    495\u001b[0m                 \u001b[0mwarnings\u001b[0m\u001b[0;34m.\u001b[0m\u001b[0msimplefilter\u001b[0m\u001b[0;34m(\u001b[0m\u001b[0;34m'error'\u001b[0m\u001b[0;34m,\u001b[0m \u001b[0mComplexWarning\u001b[0m\u001b[0;34m)\u001b[0m\u001b[0;34m\u001b[0m\u001b[0;34m\u001b[0m\u001b[0m\n\u001b[0;32m--> 496\u001b[0;31m                 \u001b[0marray\u001b[0m \u001b[0;34m=\u001b[0m \u001b[0mnp\u001b[0m\u001b[0;34m.\u001b[0m\u001b[0masarray\u001b[0m\u001b[0;34m(\u001b[0m\u001b[0marray\u001b[0m\u001b[0;34m,\u001b[0m \u001b[0mdtype\u001b[0m\u001b[0;34m=\u001b[0m\u001b[0mdtype\u001b[0m\u001b[0;34m,\u001b[0m \u001b[0morder\u001b[0m\u001b[0;34m=\u001b[0m\u001b[0morder\u001b[0m\u001b[0;34m)\u001b[0m\u001b[0;34m\u001b[0m\u001b[0;34m\u001b[0m\u001b[0m\n\u001b[0m\u001b[1;32m    497\u001b[0m             \u001b[0;32mexcept\u001b[0m \u001b[0mComplexWarning\u001b[0m\u001b[0;34m:\u001b[0m\u001b[0;34m\u001b[0m\u001b[0;34m\u001b[0m\u001b[0m\n\u001b[1;32m    498\u001b[0m                 raise ValueError(\"Complex data not supported\\n\"\n",
      "\u001b[0;32m/opt/anaconda3/envs/moldist2/lib/python3.7/site-packages/numpy/core/_asarray.py\u001b[0m in \u001b[0;36masarray\u001b[0;34m(a, dtype, order)\u001b[0m\n\u001b[1;32m     83\u001b[0m \u001b[0;34m\u001b[0m\u001b[0m\n\u001b[1;32m     84\u001b[0m     \"\"\"\n\u001b[0;32m---> 85\u001b[0;31m     \u001b[0;32mreturn\u001b[0m \u001b[0marray\u001b[0m\u001b[0;34m(\u001b[0m\u001b[0ma\u001b[0m\u001b[0;34m,\u001b[0m \u001b[0mdtype\u001b[0m\u001b[0;34m,\u001b[0m \u001b[0mcopy\u001b[0m\u001b[0;34m=\u001b[0m\u001b[0;32mFalse\u001b[0m\u001b[0;34m,\u001b[0m \u001b[0morder\u001b[0m\u001b[0;34m=\u001b[0m\u001b[0morder\u001b[0m\u001b[0;34m)\u001b[0m\u001b[0;34m\u001b[0m\u001b[0;34m\u001b[0m\u001b[0m\n\u001b[0m\u001b[1;32m     86\u001b[0m \u001b[0;34m\u001b[0m\u001b[0m\n\u001b[1;32m     87\u001b[0m \u001b[0;34m\u001b[0m\u001b[0m\n",
      "\u001b[0;31mKeyboardInterrupt\u001b[0m: "
     ]
    }
   ],
   "source": [
    "# Test model\n",
    "for model in models:\n",
    "    print(\"------\")\n",
    "    print(model)\n",
    "    print(\"Train:\")\n",
    "    yp_train=predict_model.predict(model,X_train,y_train,tgt_train)\n",
    "    print(\"Test:\")\n",
    "    yp_test=predict_model.predict(model,X_test,y_test,tgt_test)\n",
    "    print(\"LOO:\")\n",
    "    yp_loo=predict_model.predictLOO(model,X,y,targets)"
   ]
  },
  {
   "cell_type": "code",
   "execution_count": 12,
   "metadata": {
    "pycharm": {
     "is_executing": false,
     "name": "#%%\n"
    }
   },
   "outputs": [
    {
     "name": "stdout",
     "output_type": "stream",
     "text": [
      "51F8 may be an untested hit\n",
      "91G3 may be an untested hit\n"
     ]
    }
   ],
   "source": [
    "model.fit(X,y)\n",
    "yfull = model.predict(Xfull)\n",
    "for i in range(len(yfull)):\n",
    "    if yfull[i]==1:\n",
    "        if molecules[i].GetProp(\"NAME\") not in targets:\n",
    "            print(molecules[i].GetProp(\"NAME\"),\"may be an untested hit\")    "
   ]
  },
  {
   "cell_type": "code",
   "execution_count": 15,
   "metadata": {
    "pycharm": {
     "is_executing": false,
     "name": "#%%\n"
    }
   },
   "outputs": [
    {
     "name": "stdout",
     "output_type": "stream",
     "text": [
      "Testing H960-319\n",
      "Num of targets active: 3, inactive: 934\n",
      "41301 0.020 10 3 c<=N>cC<=O>\n",
      "Postives       :  ['91B3', '91D2', '91E2']\n",
      "False negatives:  []\n",
      "False positives:  ['91B4', '91C3', '91D4', '91E3', '91E4', '91F2', '91F3', '91F4', '91G2', '91G4']\n",
      "Testing H960-940\n",
      "Num of targets active: 5, inactive: 934\n",
      "41301 0.035 8 5 c<=N>cC<=O>\n",
      "Postives       :  ['91C3', '91D3', '91F4', '91G2', '91H2']\n",
      "False negatives:  []\n",
      "False positives:  ['91A4', '91B4', '91D2', '91D4', '91E2', '91E3', '91F3', '91H3']\n",
      "Testing H960-003\n",
      "Num of targets active: 9, inactive: 740\n",
      "41141 0.058 8 8 ccnc<=N>\n",
      "Postives       :  ['91B2', '91B3', '91D2', '91D3', '91E2', '91F2', '91G2', '91H2']\n",
      "False negatives:  ['41F7']\n",
      "False positives:  ['91A4', '91B4', '91C3', '91C4', '91E3', '91E4', '91F3', '91H3']\n",
      "Testing H960-650\n",
      "Num of targets active: 6, inactive: 926\n",
      "41391 0.044 0 5 C<=O>cc<=N>nCCC<-OMe>\n",
      "Postives       :  ['91D2', '91E2', '91F2', '91G2', '91H2']\n",
      "False negatives:  ['91B3']\n",
      "False positives:  []\n",
      "Testing H960-050\n",
      "Num of targets active: 7, inactive: 591\n",
      "29592 0.061 13 7 c<=N>n\n",
      "Postives       :  ['51H8', '91A2', '91B2', '91C2', '91C3', '91C4', '91D3']\n",
      "False negatives:  []\n",
      "False positives:  ['91A3', '91A4', '91B3', '91B4', '91D2', '91E2', '91E3', '91F2', '91F3', '91F4', '91G4', '91H2', '91H3']\n",
      "Testing H960-616\n",
      "Num of targets active: 2, inactive: 923\n",
      "1147 0.012 20 2 cc(c)cccn\n",
      "Postives       :  ['31E3', '91F5']\n",
      "False negatives:  []\n",
      "False positives:  ['1A8', '1B5', '1B8', '1C5', '21D3', '21E3', '41A11', '41B10', '41B11', '41C10', '41D7', '41E7', '41F7', '41G7', '41G10', '41H7', '41H10', '51C3', '71F11', '81D8']\n",
      "Testing H960-724\n",
      "Num of targets active: 2, inactive: 951\n",
      "42642 0.015 6 2 Ccc(n)ncn\n",
      "Postives       :  ['91C2', '91C4']\n",
      "False negatives:  []\n",
      "False positives:  ['91C3', '91D3', '91D4', '91E4', '91F4', '91G4']\n",
      "Testing H960-354\n",
      "Num of targets active: 3, inactive: 923\n",
      "41301 0.021 10 3 c<=N>cC<=O>\n",
      "Postives       :  ['91A3', '91D3', '91G4']\n",
      "False negatives:  []\n",
      "False positives:  ['91A4', '91B4', '91C3', '91D2', '91D4', '91E2', '91E3', '91F2', '91F3', '91H3']\n",
      "Testing H960-256\n",
      "Num of targets active: 8, inactive: 885\n",
      "41147 0.042 3 6 C<-OMe>CCn\n",
      "Postives       :  ['91B2', '91D2', '91E2', '91F2', '91G2', '91H2']\n",
      "False negatives:  ['41F7', '91B3']\n",
      "False positives:  ['91A2', '91A3', '91C2']\n",
      "Testing H960-920\n",
      "Num of targets active: 8, inactive: 741\n",
      "41147 0.050 2 6 C<-OMe>CCn\n",
      "Postives       :  ['91B2', '91D2', '91E2', '91F2', '91G2', '91H2']\n",
      "False negatives:  ['41F7', '91B3']\n",
      "False positives:  ['91A2', '91C2']\n",
      "Testing H960-337\n",
      "Num of targets active: 7, inactive: 915\n",
      "41301 0.047 9 7 c<=N>cC<=O>\n",
      "Postives       :  ['91A3', '91D3', '91E4', '91F4', '91G2', '91G4', '91H2']\n",
      "False negatives:  []\n",
      "False positives:  ['91A4', '91B4', '91C3', '91D2', '91D4', '91E3', '91F2', '91F3', '91H3']\n",
      "Testing Amb-767\n",
      "Num of targets active: 7, inactive: 170\n",
      "42642 0.085 0 3 Ccc(n)ncn\n",
      "Postives       :  ['91D3', '91E4', '91G4']\n",
      "False negatives:  ['31E3', '31E9', '41F7', '101G6']\n",
      "False positives:  []\n",
      "Testing Amb-563\n",
      "Num of targets active: 5, inactive: 347\n",
      "19655 0.069 1 4 Ccc(n)n\n",
      "Postives       :  ['91C2', '91D3', '91D4', '91E4']\n",
      "False negatives:  ['91F5']\n",
      "False positives:  ['91C4']\n",
      "Testing Amb-113\n",
      "Num of targets active: 5, inactive: 614\n",
      "42642 0.039 3 4 Ccc(n)ncn\n",
      "Postives       :  ['91C2', '91D3', '91E4', '91F4']\n",
      "False negatives:  ['91F5']\n",
      "False positives:  ['91C3', '91C4', '91H3']\n",
      "Testing Amb-751\n",
      "Num of targets active: 7, inactive: 186\n",
      "42642 0.063 1 3 Ccc(n)ncn\n",
      "Postives       :  ['91D3', '91E4', '91G4']\n",
      "False negatives:  ['31E3', '31E9', '41F7', '101G6']\n",
      "False positives:  ['91C4']\n",
      "Testing Amb-816\n",
      "Num of targets active: 5, inactive: 677\n",
      "1156 0.028 46 5 cccnccc\n",
      "Postives       :  ['41D7', '41F7', '91D2', '91D3', '91G4']\n",
      "False negatives:  []\n",
      "False positives:  ['1A8', '1B5', '1B8', '1C5', '21D3', '21E3', '41A11', '41B10', '41B11', '41E7', '41H7', '41H10', '51C3', '51H5', '71F4', '71F11', '81A5', '81C5', '81C7', '81D4', '81D7', '81D8', '81E7', '81F3', '81F7', '81F9', '81G3', '81G4', '81H3', '91A2', '91A3', '91A4', '91B4', '91D5', '91E3', '91E7', '91F2', '91F3', '91F5', '91G2', '91G3', '91H2', '91H3', '101B5', '101G5', '101H5']\n",
      "Testing Amb-720\n",
      "Num of targets active: 10, inactive: 222\n",
      "42642 0.090 1 5 Ccc(n)ncn\n",
      "Postives       :  ['91D3', '91D4', '91E4', '91G4', '91H3']\n",
      "False negatives:  ['31E3', '31E9', '41F7', '101E6', '101G6']\n",
      "False positives:  ['91C4']\n",
      "Testing Amb-318\n",
      "Num of targets active: 6, inactive: 546\n",
      "3665 0.016 3 2 cc(c)cc(c)c\n",
      "Postives       :  ['31E3', '41F7']\n",
      "False negatives:  ['31E9', '91D3', '91E4', '101G6']\n",
      "False positives:  ['1D4', '1D10', '41E7']\n",
      "Testing Amb-6319\n",
      "Num of targets active: 6, inactive: 114\n",
      "14847 0.076 0 2 cC<=O>NCCN\n",
      "Postives       :  ['31E9', '91E4']\n",
      "False negatives:  ['31E3', '91D3', '91D4', '101G6']\n",
      "False positives:  []\n"
     ]
    }
   ],
   "source": [
    "# Rank fragments based on observed activity\n",
    "ntop=1\n",
    "for apt in range(len(aptamers)):\n",
    "    print(\"Testing\",aptamers[apt])\n",
    "    tsel=[True if np.isfinite(yi) else False for yi in yfull[apt]]\n",
    "    y=yfull[apt][tsel]\n",
    "    X=[Xfull[i] for i in range(len(tsel)) if tsel[i]]\n",
    "    targets=[tfull[i] for i in range(len(tsel)) if tsel[i] ]\n",
    "\n",
    "    frag=bitranking.getFragRanks(fpcat, X, y,ntop=ntop)\n",
    "    print('Postives       : ',[targets[i] for i in range(len(targets)) if y[i]==1 and X[i].GetBit(int(frag))])\n",
    "    print('False negatives: ',[targets[i] for i in range(len(targets)) if y[i]==1 and not X[i].GetBit(int(frag))])\n",
    "    print('False positives: ',[targets[i] for i in range(len(targets)) if y[i]==0 and X[i].GetBit(int(frag))])\n"
   ]
  },
  {
   "cell_type": "code",
   "execution_count": 21,
   "metadata": {
    "pycharm": {
     "is_executing": false,
     "name": "#%%\n"
    }
   },
   "outputs": [
    {
     "name": "stdout",
     "output_type": "stream",
     "text": [
      "C23H26N2O7S [H]/C(=C1\\C(=O)N(C([H])([H])C([H])([H])C([H])([H])OC([H])([H])[H])C(C([H])([H])[H])=C1C(=O)OC([H])([H])[H])c1oc(C([H])([H])N([H])S(=O)(=O)c2c([H])c([H])c([H])c([H])c2[H])c([H])c1[H]\n",
      "474.14607217200063\n"
     ]
    }
   ],
   "source": [
    "m=molecules[648]\n",
    "m2=Chem.AddHs(m)\n",
    "print(CalcMolFormula(m2), Chem.MolToSmiles(m2))\n",
    "print(Chem.Descriptors.ExactMolWt(m2))"
   ]
  },
  {
   "cell_type": "code",
   "execution_count": 5,
   "metadata": {
    "pycharm": {
     "name": "#%%\n"
    }
   },
   "outputs": [
    {
     "name": "stdout",
     "output_type": "stream",
     "text": [
      "\u001b[34m015C0934-09EE-49B4-9038-CBFCD2FEBDCC\u001b[m\u001b[m\r\n",
      "\u001b[34m063A22AA-44F8-4A7E-917A-1ECB7085ABA3\u001b[m\u001b[m\r\n",
      "\u001b[33m108CC535-64B3-4522-ACC4-71D438E6F80C_IN\u001b[m\u001b[m\r\n",
      "\u001b[33m108CC535-64B3-4522-ACC4-71D438E6F80C_OUT\u001b[m\u001b[m\r\n",
      "\u001b[34m1B08C95A-EC8C-4C4D-BBB2-6618D75EC074\u001b[m\u001b[m\r\n",
      "\u001b[34m251ACD2A-1EEE-4D77-A8F8-C523D90EBA71\u001b[m\u001b[m\r\n",
      "\u001b[34m296B0395-AA22-42EF-A013-8216528823A4\u001b[m\u001b[m\r\n",
      "\u001b[34m2BC41AC3-6AC4-46F5-91B0-9A30CCABA3F7\u001b[m\u001b[m\r\n",
      "\u001b[34m2C0BDF47-32FB-4C1C-8F44-6D863A170C77\u001b[m\u001b[m\r\n",
      "\u001b[34m2F6DDABD-A1D1-44E2-A43F-F96030AFC204\u001b[m\u001b[m\r\n",
      "\u001b[34m4CDC438B-A068-4307-96B2-FD98690588B1\u001b[m\u001b[m\r\n",
      "\u001b[34m5AE263A2-CB77-4C9E-BE90-55524A8F881E\u001b[m\u001b[m\r\n",
      "\u001b[35m5eaa258b67bc3\u001b[m\u001b[m\r\n",
      "\u001b[34m845C7F54-4480-469B-B49D-696EEB082250\u001b[m\u001b[m\r\n",
      "\u001b[34m85FF0CB7-BD27-4B72-9846-DF7881733D78\u001b[m\u001b[m\r\n",
      "\u001b[34m9470531D-3B98-4D17-BE40-BF0B96A0D97B\u001b[m\u001b[m\r\n",
      "\u001b[33m96138A0D-5E0B-4827-9208-A644432C88FF_IN\u001b[m\u001b[m\r\n",
      "\u001b[33m96138A0D-5E0B-4827-9208-A644432C88FF_OUT\u001b[m\u001b[m\r\n",
      "\u001b[33m9A9A1578-B008-4A9F-B580-2BC295913503_IN\u001b[m\u001b[m\r\n",
      "\u001b[33m9A9A1578-B008-4A9F-B580-2BC295913503_OUT\u001b[m\u001b[m\r\n",
      "\u001b[34mA01B7ADF-B7E4-4AEA-BDEA-42739205780D\u001b[m\u001b[m\r\n",
      "\u001b[34mAA829382-AC92-4A7E-AB09-515E0642F41D\u001b[m\u001b[m\r\n",
      "\u001b[33mAFF7C7ED-29BD-4330-A11D-C3E4B89A431D_IN\u001b[m\u001b[m\r\n",
      "\u001b[33mAFF7C7ED-29BD-4330-A11D-C3E4B89A431D_OUT\u001b[m\u001b[m\r\n",
      "AlTest1.err\r\n",
      "AlTest1.out\r\n",
      "\u001b[34mC44C0852-3109-45D7-9E4D-AED2DFD4478C\u001b[m\u001b[m\r\n",
      "\u001b[33mC5CBE3F9-BFC3-4094-9F35-5F980D7DFAD1_IN\u001b[m\u001b[m\r\n",
      "\u001b[33mC5CBE3F9-BFC3-4094-9F35-5F980D7DFAD1_OUT\u001b[m\u001b[m\r\n",
      "\u001b[34mCC7C0553-3281-4F6E-B21B-371374EF6173\u001b[m\u001b[m\r\n",
      "\u001b[34mCC9D8E67-7552-47BB-8472-FFCC68F22CD8\u001b[m\u001b[m\r\n",
      "\u001b[34mCD876B17-3EB0-4D1B-BFD4-D9B3F8EB5772\u001b[m\u001b[m\r\n",
      "\u001b[33mCF750A4F-296B-45D7-8D93-08E124455CAA_IN\u001b[m\u001b[m\r\n",
      "\u001b[33mCF750A4F-296B-45D7-8D93-08E124455CAA_OUT\u001b[m\u001b[m\r\n",
      "\u001b[34mDA6445CA-1FD5-4922-955C-37A922D13959\u001b[m\u001b[m\r\n",
      "\u001b[33mE6951049-A160-4022-99FC-14B2456C64E8_IN\u001b[m\u001b[m\r\n",
      "\u001b[33mE6951049-A160-4022-99FC-14B2456C64E8_OUT\u001b[m\u001b[m\r\n",
      "\u001b[33mEC7C1965-D466-486C-A9A5-32159E70CDF7_IN\u001b[m\u001b[m\r\n",
      "\u001b[33mEC7C1965-D466-486C-A9A5-32159E70CDF7_OUT\u001b[m\u001b[m\r\n",
      "\u001b[34mF07F035E-5D05-4EDD-9BC0-3CE3A41BF9F7\u001b[m\u001b[m\r\n",
      "\u001b[33mF504D86A-B7B0-4B13-9FCD-EC88A8B38F96_IN\u001b[m\u001b[m\r\n",
      "\u001b[33mF504D86A-B7B0-4B13-9FCD-EC88A8B38F96_OUT\u001b[m\u001b[m\r\n",
      "adobegc.log\r\n",
      "\u001b[30m\u001b[43mboost_interprocess\u001b[m\u001b[m\r\n",
      "\u001b[32mcom.adobe.AdobeIPCBroker.ctrl-bst\u001b[m\u001b[m\r\n",
      "\u001b[32mcom.adobe.acrobat.rna.0.1f6.DC\u001b[m\u001b[m\r\n",
      "\u001b[32mcom.adobe.acrobat.rna.12dd8.1f6\u001b[m\u001b[m\r\n",
      "\u001b[32mcom.adobe.acrobat.rna.17434.1f6\u001b[m\u001b[m\r\n",
      "\u001b[32mcom.adobe.acrobat.rna.175b3.1f6\u001b[m\u001b[m\r\n",
      "\u001b[32mcom.adobe.acrobat.rna.1784a.1f6\u001b[m\u001b[m\r\n",
      "\u001b[32mcom.adobe.acrobat.rna.886.1f6\u001b[m\u001b[m\r\n",
      "\u001b[32mcom.adobe.acrobat.rna.e10d.1f6\u001b[m\u001b[m\r\n",
      "\u001b[34mcom.apple.launchd.WB4ccb3dsq\u001b[m\u001b[m\r\n",
      "\u001b[34mcom.apple.launchd.Z3OGMcZBKv\u001b[m\u001b[m\r\n",
      "\u001b[34mcom.apple.launchd.onI04NgH2F\u001b[m\u001b[m\r\n",
      "\u001b[34mcom.google.Keystone\u001b[m\u001b[m\r\n",
      "\u001b[33mesets.gui.502.fifo\u001b[m\u001b[m\r\n",
      "\u001b[32mesets.sock\u001b[m\u001b[m\r\n",
      "\u001b[34mgettemp\u001b[m\u001b[m\r\n",
      "\u001b[34mleapd\u001b[m\u001b[m\r\n",
      "\u001b[34mlilo.96330\u001b[m\u001b[m\r\n",
      "\u001b[34mpowerlog\u001b[m\u001b[m\r\n",
      "swtag.log\r\n",
      "t1\r\n",
      "tt\r\n",
      "tt1\r\n",
      "tt1.gz\r\n",
      "undet.all\r\n",
      "undet.left\r\n",
      "undet.pairs\r\n",
      "undet.right\r\n",
      "varna.png\r\n"
     ]
    }
   ],
   "source": [
    "!ls /tmp\n"
   ]
  }
 ],
 "metadata": {
  "kernelspec": {
   "display_name": "Python 3",
   "language": "python",
   "name": "python3"
  },
  "language_info": {
   "codemirror_mode": {
    "name": "ipython",
    "version": 3
   },
   "file_extension": ".py",
   "mimetype": "text/x-python",
   "name": "python",
   "nbconvert_exporter": "python",
   "pygments_lexer": "ipython3",
   "version": "3.7.5"
  },
  "pycharm": {
   "stem_cell": {
    "cell_type": "raw",
    "metadata": {
     "collapsed": false
    },
    "source": []
   }
  }
 },
 "nbformat": 4,
 "nbformat_minor": 1
}
