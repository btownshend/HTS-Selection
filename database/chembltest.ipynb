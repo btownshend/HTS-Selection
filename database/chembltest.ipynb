{
 "cells": [
  {
   "cell_type": "code",
   "execution_count": 1,
   "metadata": {
    "collapsed": true
   },
   "outputs": [
    {
     "data": {
      "text/plain": "{'atc_classifications': ['N02BA01',\n  'N02BA71',\n  'N02BA51',\n  'A01AD05',\n  'B01AC06'],\n 'availability_type': 2,\n 'biotherapeutic': None,\n 'black_box_warning': 0,\n 'chebi_par_id': 15365,\n 'chirality': 2,\n 'cross_references': [{'xref_id': 'aspirin',\n   'xref_name': 'aspirin',\n   'xref_src': 'DailyMed'},\n  {'xref_id': '144203627',\n   'xref_name': 'SID: 144203627',\n   'xref_src': 'PubChem'},\n  {'xref_id': '144209315',\n   'xref_name': 'SID: 144209315',\n   'xref_src': 'PubChem'},\n  {'xref_id': '144210466',\n   'xref_name': 'SID: 144210466',\n   'xref_src': 'PubChem'},\n  {'xref_id': '170465039',\n   'xref_name': 'SID: 170465039',\n   'xref_src': 'PubChem'},\n  {'xref_id': '17389202', 'xref_name': 'SID: 17389202', 'xref_src': 'PubChem'},\n  {'xref_id': '17390036', 'xref_name': 'SID: 17390036', 'xref_src': 'PubChem'},\n  {'xref_id': '174007205',\n   'xref_name': 'SID: 174007205',\n   'xref_src': 'PubChem'},\n  {'xref_id': '26747283', 'xref_name': 'SID: 26747283', 'xref_src': 'PubChem'},\n  {'xref_id': '26752858', 'xref_name': 'SID: 26752858', 'xref_src': 'PubChem'},\n  {'xref_id': '47193676', 'xref_name': 'SID: 47193676', 'xref_src': 'PubChem'},\n  {'xref_id': '50105490', 'xref_name': 'SID: 50105490', 'xref_src': 'PubChem'},\n  {'xref_id': '85230910', 'xref_name': 'SID: 85230910', 'xref_src': 'PubChem'},\n  {'xref_id': '87798', 'xref_name': 'SID: 87798', 'xref_src': 'PubChem'},\n  {'xref_id': '90340586', 'xref_name': 'SID: 90340586', 'xref_src': 'PubChem'},\n  {'xref_id': '14', 'xref_name': 'aspirin', 'xref_src': 'TG-GATEs'},\n  {'xref_id': 'Aspirin', 'xref_name': None, 'xref_src': 'Wikipedia'}],\n 'dosed_ingredient': True,\n 'first_approval': 1950,\n 'first_in_class': 0,\n 'helm_notation': None,\n 'indication_class': 'Analgesic; Antirheumatic; Antipyretic',\n 'inorganic_flag': 0,\n 'max_phase': 4,\n 'molecule_chembl_id': 'CHEMBL25',\n 'molecule_hierarchy': {'molecule_chembl_id': 'CHEMBL25',\n  'parent_chembl_id': 'CHEMBL25'},\n 'molecule_properties': {'alogp': '1.31',\n  'aromatic_rings': 1,\n  'cx_logd': '-2.16',\n  'cx_logp': '1.24',\n  'cx_most_apka': '3.41',\n  'cx_most_bpka': None,\n  'full_molformula': 'C9H8O4',\n  'full_mwt': '180.16',\n  'hba': 3,\n  'hba_lipinski': 4,\n  'hbd': 1,\n  'hbd_lipinski': 1,\n  'heavy_atoms': 13,\n  'molecular_species': 'ACID',\n  'mw_freebase': '180.16',\n  'mw_monoisotopic': '180.0423',\n  'num_lipinski_ro5_violations': 0,\n  'num_ro5_violations': 0,\n  'psa': '63.60',\n  'qed_weighted': '0.55',\n  'ro3_pass': 'N',\n  'rtb': 2},\n 'molecule_structures': {'canonical_smiles': 'CC(=O)Oc1ccccc1C(=O)O',\n  'molfile': '\\n     RDKit          2D\\n\\n 13 13  0  0  0  0  0  0  0  0999 V2000\\n    8.8810   -2.1206    0.0000 C   0  0  0  0  0  0  0  0  0  0  0  0\\n    8.8798   -2.9479    0.0000 C   0  0  0  0  0  0  0  0  0  0  0  0\\n    9.5946   -3.3607    0.0000 C   0  0  0  0  0  0  0  0  0  0  0  0\\n   10.3110   -2.9474    0.0000 C   0  0  0  0  0  0  0  0  0  0  0  0\\n   10.3081   -2.1170    0.0000 C   0  0  0  0  0  0  0  0  0  0  0  0\\n    9.5928   -1.7078    0.0000 C   0  0  0  0  0  0  0  0  0  0  0  0\\n   11.0210   -1.7018    0.0000 C   0  0  0  0  0  0  0  0  0  0  0  0\\n   11.7369   -2.1116    0.0000 O   0  0  0  0  0  0  0  0  0  0  0  0\\n   11.0260   -3.3588    0.0000 O   0  0  0  0  0  0  0  0  0  0  0  0\\n   11.0273   -4.1837    0.0000 C   0  0  0  0  0  0  0  0  0  0  0  0\\n   11.7423   -4.5949    0.0000 C   0  0  0  0  0  0  0  0  0  0  0  0\\n   10.3136   -4.5972    0.0000 O   0  0  0  0  0  0  0  0  0  0  0  0\\n   11.0178   -0.8769    0.0000 O   0  0  0  0  0  0  0  0  0  0  0  0\\n  1  2  2  0\\n  5  7  1  0\\n  3  4  2  0\\n  7  8  2  0\\n  4  9  1  0\\n  4  5  1  0\\n  9 10  1  0\\n  2  3  1  0\\n 10 11  1  0\\n  5  6  2  0\\n 10 12  2  0\\n  6  1  1  0\\n  7 13  1  0\\nM  END\\n\\n> <chembl_id>\\nCHEMBL25\\n\\n> <chembl_pref_name>\\nASPIRIN\\n\\n',\n  'standard_inchi': 'InChI=1S/C9H8O4/c1-6(10)13-8-5-3-2-4-7(8)9(11)12/h2-5H,1H3,(H,11,12)',\n  'standard_inchi_key': 'BSYNRYMUTXBXSQ-UHFFFAOYSA-N'},\n 'molecule_synonyms': [{'molecule_synonym': '8-hour bayer',\n   'syn_type': 'TRADE_NAME',\n   'synonyms': '8-HOUR BAYER'},\n  {'molecule_synonym': 'Acetosalic Acid',\n   'syn_type': 'TRADE_NAME',\n   'synonyms': 'Acetosalic Acid'},\n  {'molecule_synonym': 'Acetylsalic acid',\n   'syn_type': 'TRADE_NAME',\n   'synonyms': 'ACETYLSALIC ACID'},\n  {'molecule_synonym': 'Acetylsalicylic Acid',\n   'syn_type': 'INN',\n   'synonyms': 'Acetylsalicylic Acid'},\n  {'molecule_synonym': 'Acetylsalicylic Acid',\n   'syn_type': 'TRADE_NAME',\n   'synonyms': 'Acetylsalicylic Acid'},\n  {'molecule_synonym': 'Acetylsalicylic acid',\n   'syn_type': 'ATC',\n   'synonyms': 'ACETYLSALICYLIC ACID'},\n  {'molecule_synonym': 'Acetylsalicylic acid',\n   'syn_type': 'OTHER',\n   'synonyms': 'ACETYLSALICYLIC ACID'},\n  {'molecule_synonym': 'Alka rapid',\n   'syn_type': 'TRADE_NAME',\n   'synonyms': 'ALKA RAPID'},\n  {'molecule_synonym': 'Anadin all night',\n   'syn_type': 'TRADE_NAME',\n   'synonyms': 'ANADIN ALL NIGHT'},\n  {'molecule_synonym': 'Angettes 75',\n   'syn_type': 'TRADE_NAME',\n   'synonyms': 'ANGETTES 75'},\n  {'molecule_synonym': 'Aspirin', 'syn_type': 'USAN', 'synonyms': 'Aspirin'},\n  {'molecule_synonym': 'Aspirin', 'syn_type': 'BAN', 'synonyms': 'ASPIRIN'},\n  {'molecule_synonym': 'Aspirin', 'syn_type': 'BNF', 'synonyms': 'ASPIRIN'},\n  {'molecule_synonym': 'Aspirin', 'syn_type': 'FDA', 'synonyms': 'ASPIRIN'},\n  {'molecule_synonym': 'Aspirin', 'syn_type': 'JAN', 'synonyms': 'ASPIRIN'},\n  {'molecule_synonym': 'Aspirin',\n   'syn_type': 'MERCK_INDEX',\n   'synonyms': 'ASPIRIN'},\n  {'molecule_synonym': 'Aspirin', 'syn_type': 'OTHER', 'synonyms': 'ASPIRIN'},\n  {'molecule_synonym': 'Aspirin',\n   'syn_type': 'TRADE_NAME',\n   'synonyms': 'ASPIRIN'},\n  {'molecule_synonym': 'Aspirin', 'syn_type': 'USP', 'synonyms': 'ASPIRIN'},\n  {'molecule_synonym': 'Aspro clr',\n   'syn_type': 'TRADE_NAME',\n   'synonyms': 'ASPRO CLR'},\n  {'molecule_synonym': 'BAY1019036',\n   'syn_type': 'RESEARCH_CODE',\n   'synonyms': 'BAY1019036'},\n  {'molecule_synonym': 'Bayer extra strength aspirin for migraine pain',\n   'syn_type': 'TRADE_NAME',\n   'synonyms': 'BAYER EXTRA STRENGTH ASPIRIN FOR MIGRAINE PAIN'},\n  {'molecule_synonym': 'Danamep',\n   'syn_type': 'TRADE_NAME',\n   'synonyms': 'DANAMEP'},\n  {'molecule_synonym': 'Disprin cv',\n   'syn_type': 'TRADE_NAME',\n   'synonyms': 'DISPRIN CV'},\n  {'molecule_synonym': 'Disprin direct',\n   'syn_type': 'TRADE_NAME',\n   'synonyms': 'DISPRIN DIRECT'},\n  {'molecule_synonym': 'Durlaza',\n   'syn_type': 'TRADE_NAME',\n   'synonyms': 'DURLAZA'},\n  {'molecule_synonym': 'Ecotrin',\n   'syn_type': 'TRADE_NAME',\n   'synonyms': 'Ecotrin'},\n  {'molecule_synonym': 'Enprin',\n   'syn_type': 'TRADE_NAME',\n   'synonyms': 'ENPRIN'},\n  {'molecule_synonym': 'Equi-Prin',\n   'syn_type': 'TRADE_NAME',\n   'synonyms': 'Equi-Prin'},\n  {'molecule_synonym': 'Gencardia',\n   'syn_type': 'TRADE_NAME',\n   'synonyms': 'GENCARDIA'},\n  {'molecule_synonym': 'Levius',\n   'syn_type': 'TRADE_NAME',\n   'synonyms': 'LEVIUS'},\n  {'molecule_synonym': 'Max strgh aspro clr',\n   'syn_type': 'TRADE_NAME',\n   'synonyms': 'MAX STRGH ASPRO CLR'},\n  {'molecule_synonym': 'Measurin',\n   'syn_type': 'TRADE_NAME',\n   'synonyms': 'MEASURIN'},\n  {'molecule_synonym': 'Micropirin ec',\n   'syn_type': 'TRADE_NAME',\n   'synonyms': 'MICROPIRIN EC'},\n  {'molecule_synonym': 'NSC-27223',\n   'syn_type': 'RESEARCH_CODE',\n   'synonyms': 'NSC-27223'},\n  {'molecule_synonym': 'NSC-406186',\n   'syn_type': 'RESEARCH_CODE',\n   'synonyms': 'NSC-406186'},\n  {'molecule_synonym': 'Nu-seals 300',\n   'syn_type': 'TRADE_NAME',\n   'synonyms': 'NU-SEALS 300'},\n  {'molecule_synonym': 'Nu-seals 600',\n   'syn_type': 'TRADE_NAME',\n   'synonyms': 'NU-SEALS 600'},\n  {'molecule_synonym': 'Nu-seals 75',\n   'syn_type': 'TRADE_NAME',\n   'synonyms': 'NU-SEALS 75'},\n  {'molecule_synonym': 'Nu-seals cardio 75',\n   'syn_type': 'TRADE_NAME',\n   'synonyms': 'NU-SEALS CARDIO 75'},\n  {'molecule_synonym': 'Paynocil',\n   'syn_type': 'TRADE_NAME',\n   'synonyms': 'PAYNOCIL'},\n  {'molecule_synonym': 'Platet',\n   'syn_type': 'TRADE_NAME',\n   'synonyms': 'PLATET'},\n  {'molecule_synonym': 'Platet 300',\n   'syn_type': 'TRADE_NAME',\n   'synonyms': 'PLATET 300'},\n  {'molecule_synonym': 'Postmi 300',\n   'syn_type': 'TRADE_NAME',\n   'synonyms': 'POSTMI 300'},\n  {'molecule_synonym': 'Postmi 75',\n   'syn_type': 'TRADE_NAME',\n   'synonyms': 'POSTMI 75'},\n  {'molecule_synonym': 'Salicylic Acid Acetate',\n   'syn_type': 'TRADE_NAME',\n   'synonyms': 'Salicylic Acid Acetate'},\n  {'molecule_synonym': 'Vazalore',\n   'syn_type': 'TRADE_NAME',\n   'synonyms': 'VAZALORE'}],\n 'molecule_type': 'Small molecule',\n 'natural_product': 0,\n 'oral': True,\n 'parenteral': False,\n 'polymer_flag': False,\n 'pref_name': 'ASPIRIN',\n 'prodrug': 0,\n 'structure_type': 'MOL',\n 'therapeutic_flag': True,\n 'topical': False,\n 'usan_stem': None,\n 'usan_stem_definition': None,\n 'usan_substem': None,\n 'usan_year': None,\n 'withdrawn_class': None,\n 'withdrawn_country': None,\n 'withdrawn_flag': False,\n 'withdrawn_reason': None,\n 'withdrawn_year': None}"
     },
     "execution_count": 1,
     "metadata": {},
     "output_type": "execute_result"
    }
   ],
   "source": [
    "from chembl_webresource_client.new_client import new_client\n",
    "molecule = new_client.molecule\n",
    "molecule.get('BSYNRYMUTXBXSQ-UHFFFAOYSA-N')"
   ]
  },
  {
   "cell_type": "code",
   "execution_count": 4,
   "outputs": [
    {
     "data": {
      "text/plain": "[Compound(2244)]"
     },
     "execution_count": 4,
     "metadata": {},
     "output_type": "execute_result"
    }
   ],
   "source": [
    "import pubchempy as pcp\n",
    "results = pcp.get_compounds('BSYNRYMUTXBXSQ-UHFFFAOYSA-N', 'inchikey')\n",
    "results"
   ],
   "metadata": {
    "collapsed": false,
    "pycharm": {
     "name": "#%%\n"
    }
   }
  },
  {
   "cell_type": "code",
   "execution_count": 10,
   "outputs": [
    {
     "name": "stdout",
     "output_type": "stream",
     "text": [
      "C9H8O4 CC(=O)OC1=CC=CC=C1C(=O)O\n",
      "2244\n"
     ]
    }
   ],
   "source": [
    "print(results[0].molecular_formula,results[0].isomeric_smiles)\n",
    "print(results[0].cid)"
   ],
   "metadata": {
    "collapsed": false,
    "pycharm": {
     "name": "#%%\n"
    }
   }
  },
  {
   "cell_type": "code",
   "execution_count": 11,
   "outputs": [
    {
     "data": {
      "text/plain": "180.042258736"
     },
     "execution_count": 11,
     "metadata": {},
     "output_type": "execute_result"
    }
   ],
   "source": [
    "results[0].monoisotopic_mass"
   ],
   "metadata": {
    "collapsed": false,
    "pycharm": {
     "name": "#%%\n"
    }
   }
  },
  {
   "cell_type": "code",
   "execution_count": 14,
   "outputs": [
    {
     "data": {
      "text/plain": "['__class__',\n '__delattr__',\n '__dict__',\n '__dir__',\n '__doc__',\n '__eq__',\n '__format__',\n '__ge__',\n '__getattribute__',\n '__gt__',\n '__hash__',\n '__init__',\n '__init_subclass__',\n '__le__',\n '__lt__',\n '__module__',\n '__ne__',\n '__new__',\n '__reduce__',\n '__reduce_ex__',\n '__repr__',\n '__setattr__',\n '__sizeof__',\n '__str__',\n '__subclasshook__',\n '__weakref__',\n '_atoms',\n '_bonds',\n '_record',\n '_setup_atoms',\n '_setup_bonds',\n 'aids',\n 'atom_stereo_count',\n 'atoms',\n 'bond_stereo_count',\n 'bonds',\n 'cactvs_fingerprint',\n 'canonical_smiles',\n 'charge',\n 'cid',\n 'complexity',\n 'conformer_id_3d',\n 'conformer_rmsd_3d',\n 'coordinate_type',\n 'covalent_unit_count',\n 'defined_atom_stereo_count',\n 'defined_bond_stereo_count',\n 'effective_rotor_count_3d',\n 'elements',\n 'exact_mass',\n 'feature_selfoverlap_3d',\n 'fingerprint',\n 'from_cid',\n 'h_bond_acceptor_count',\n 'h_bond_donor_count',\n 'heavy_atom_count',\n 'inchi',\n 'inchikey',\n 'isomeric_smiles',\n 'isotope_atom_count',\n 'iupac_name',\n 'mmff94_energy_3d',\n 'mmff94_partial_charges_3d',\n 'molecular_formula',\n 'molecular_weight',\n 'monoisotopic_mass',\n 'multipoles_3d',\n 'pharmacophore_features_3d',\n 'record',\n 'rotatable_bond_count',\n 'shape_fingerprint_3d',\n 'shape_selfoverlap_3d',\n 'sids',\n 'synonyms',\n 'to_dict',\n 'to_series',\n 'tpsa',\n 'undefined_atom_stereo_count',\n 'undefined_bond_stereo_count',\n 'volume_3d',\n 'xlogp']"
     },
     "execution_count": 14,
     "metadata": {},
     "output_type": "execute_result"
    }
   ],
   "source": [
    "dir(results[0])"
   ],
   "metadata": {
    "collapsed": false,
    "pycharm": {
     "name": "#%%\n"
    }
   }
  },
  {
   "cell_type": "code",
   "execution_count": null,
   "outputs": [],
   "source": [],
   "metadata": {
    "collapsed": false,
    "pycharm": {
     "name": "#%%\n"
    }
   }
  },
  {
   "cell_type": "code",
   "execution_count": null,
   "outputs": [],
   "source": [],
   "metadata": {
    "collapsed": false,
    "pycharm": {
     "name": "#%%\n"
    }
   }
  },
  {
   "cell_type": "code",
   "execution_count": null,
   "outputs": [],
   "source": [],
   "metadata": {
    "collapsed": false,
    "pycharm": {
     "name": "#%%\n"
    }
   }
  },
  {
   "cell_type": "code",
   "execution_count": null,
   "outputs": [],
   "source": [],
   "metadata": {
    "collapsed": false,
    "pycharm": {
     "name": "#%%\n"
    }
   }
  },
  {
   "cell_type": "code",
   "execution_count": null,
   "outputs": [],
   "source": [],
   "metadata": {
    "collapsed": false,
    "pycharm": {
     "name": "#%%\n"
    }
   }
  }
 ],
 "metadata": {
  "kernelspec": {
   "display_name": "Python 3",
   "language": "python",
   "name": "python3"
  },
  "language_info": {
   "codemirror_mode": {
    "name": "ipython",
    "version": 2
   },
   "file_extension": ".py",
   "mimetype": "text/x-python",
   "name": "python",
   "nbconvert_exporter": "python",
   "pygments_lexer": "ipython2",
   "version": "2.7.6"
  }
 },
 "nbformat": 4,
 "nbformat_minor": 0
}