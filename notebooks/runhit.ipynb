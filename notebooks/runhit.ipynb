{
 "cells": [
  {
   "cell_type": "code",
   "execution_count": 1,
   "metadata": {
    "collapsed": true,
    "pycharm": {
     "is_executing": false
    }
   },
   "outputs": [],
   "source": [
    "# OPTIONAL: Load the \"autoreload\" extension so that code can change\n",
    "%load_ext autoreload\n",
    "# OPTIONAL: always reload modules so that as you change code in src, it gets loaded\n",
    "%autoreload 2\n",
    "seed=42"
   ]
  },
  {
   "cell_type": "code",
   "execution_count": 2,
   "outputs": [
    {
     "name": "stderr",
     "text": [
      "RDKit WARNING: [21:05:19] Enabling RDKit 2019.09.2 jupyter extensions\n"
     ],
     "output_type": "stream"
    }
   ],
   "source": [
    "# Load data\n",
    "from src.data import make_dataset\n",
    "molecules=make_dataset.load()"
   ],
   "metadata": {
    "collapsed": false,
    "pycharm": {
     "name": "#%%\n",
     "is_executing": false
    }
   }
  },
  {
   "cell_type": "code",
   "execution_count": 3,
   "outputs": [
    {
     "name": "stdout",
     "text": [
      "mean value of features = 0.039648946126302084\n"
     ],
     "output_type": "stream"
    }
   ],
   "source": [
    "# Build the features\n",
    "from src.features import build_features\n",
    "X=build_features.build(molecules)"
   ],
   "metadata": {
    "collapsed": false,
    "pycharm": {
     "name": "#%%\n",
     "is_executing": false
    }
   }
  },
  {
   "cell_type": "code",
   "execution_count": 5,
   "outputs": [
    {
     "name": "stdout",
     "text": [
      "Processed 46 hits.\n",
      "Matched 46 hits\n"
     ],
     "output_type": "stream"
    }
   ],
   "source": [
    "# Build the targets\n",
    "from src.features import build_targets\n",
    "y=build_targets.build_hit(molecules)\n"
   ],
   "metadata": {
    "collapsed": false,
    "pycharm": {
     "name": "#%%\n",
     "is_executing": false
    }
   }
  },
  {
   "cell_type": "code",
   "execution_count": 6,
   "outputs": [
    {
     "name": "stdout",
     "text": [
      "Fraction hits: train: 0.049, test: 0.047\n"
     ],
     "output_type": "stream"
    }
   ],
   "source": [
    "# Create train/test sets\n",
    "from src.models import split_data\n",
    "X_train, X_test, y_train, y_test, ind_train, ind_test = split_data.split(0.4,X,y,seed)\n",
    "mol_test=[molecules[x] for x in ind_test]\n",
    "mol_train=[molecules[x] for x in ind_train]\n",
    "    "
   ],
   "metadata": {
    "collapsed": false,
    "pycharm": {
     "name": "#%%\n",
     "is_executing": false
    }
   }
  },
  {
   "cell_type": "code",
   "execution_count": 7,
   "outputs": [
    {
     "name": "stdout",
     "text": [
      "LogisticRegression(C=1.0, class_weight='balanced', dual=False,\n",
      "                   fit_intercept=True, intercept_scaling=1, l1_ratio=None,\n",
      "                   max_iter=1000, multi_class='auto', n_jobs=None, penalty='l2',\n",
      "                   random_state=42, solver='liblinear', tol=0.0001, verbose=0,\n",
      "                   warm_start=False)\n",
      "Cross-validation score = 0.784 += 0.135\n",
      "RandomForestClassifier(bootstrap=True, class_weight='balanced',\n",
      "                       criterion='gini', max_depth=None, max_features='auto',\n",
      "                       max_leaf_nodes=None, min_impurity_decrease=0.0,\n",
      "                       min_impurity_split=None, min_samples_leaf=1,\n",
      "                       min_samples_split=2, min_weight_fraction_leaf=0.0,\n",
      "                       n_estimators=10, n_jobs=None, oob_score=False,\n",
      "                       random_state=42, verbose=0, warm_start=False)\n",
      "Cross-validation score = 0.762 += 0.121\n"
     ],
     "output_type": "stream"
    }
   ],
   "source": [
    "# Train model\n",
    "from src.models import train_model\n",
    "models=[train_model.train_lr(X_train,y_train,seed),train_model.train_rfc(X_train,y_train,seed,n_estimators=10)]"
   ],
   "metadata": {
    "collapsed": false,
    "pycharm": {
     "name": "#%%\n",
     "is_executing": false
    }
   }
  },
  {
   "cell_type": "code",
   "execution_count": 8,
   "outputs": [
    {
     "name": "stdout",
     "text": [
      "------\n",
      "LogisticRegression(C=1.0, class_weight='balanced', dual=False,\n",
      "                   fit_intercept=True, intercept_scaling=1, l1_ratio=None,\n",
      "                   max_iter=1000, multi_class='auto', n_jobs=None, penalty='l2',\n",
      "                   random_state=42, solver='liblinear', tol=0.0001, verbose=0,\n",
      "                   warm_start=False)\n",
      "Train:\n",
      "              precision    recall  f1-score   support\n",
      "\n",
      "         0.0       1.00      1.00      1.00       548\n",
      "         1.0       1.00      1.00      1.00        28\n",
      "\n",
      "    accuracy                           1.00       576\n",
      "   macro avg       1.00      1.00      1.00       576\n",
      "weighted avg       1.00      1.00      1.00       576\n",
      "\n",
      "[[548   0]\n",
      " [  0  28]]\n",
      "ROC_AUC Score = 1.000\n",
      "Test:\n",
      "              precision    recall  f1-score   support\n",
      "\n",
      "         0.0       0.98      0.99      0.98       366\n",
      "         1.0       0.67      0.56      0.61        18\n",
      "\n",
      "    accuracy                           0.97       384\n",
      "   macro avg       0.82      0.77      0.79       384\n",
      "weighted avg       0.96      0.97      0.96       384\n",
      "\n",
      "[[361   5]\n",
      " [  8  10]]\n",
      "ROC_AUC Score = 0.771\n",
      " 31F10: predict=1.0, actual=0.0\n",
      "  31E3: predict=0.0, actual=1.0\n",
      " 101G6: predict=0.0, actual=1.0\n",
      "  41E7: predict=1.0, actual=0.0\n",
      " 101E6: predict=0.0, actual=1.0\n",
      " 31B11: predict=0.0, actual=1.0\n",
      "   1A4: predict=0.0, actual=1.0\n",
      "  51D8: predict=1.0, actual=0.0\n",
      "   1F7: predict=0.0, actual=1.0\n",
      "  51F8: predict=1.0, actual=0.0\n",
      " 41H10: predict=0.0, actual=1.0\n",
      "  61E4: predict=0.0, actual=1.0\n",
      "  91E3: predict=1.0, actual=0.0\n",
      "LOO:\n",
      "Running Leave-out validation on 960 molecules...\n",
      "0...\n",
      "   1A4: predict=0.0, actual=1.0\n",
      "20...40...\n",
      "   1F7: predict=0.0, actual=1.0\n",
      "60...80...100...\n",
      "  11D3: predict=0.0, actual=1.0\n",
      "120...140...160...180...200...220...\n",
      "  21G8: predict=0.0, actual=1.0\n",
      "240...260...\n",
      "  31D8: predict=0.0, actual=1.0\n",
      "280...\n",
      "  31E3: predict=0.0, actual=1.0\n",
      "\n",
      "  31E4: predict=0.0, actual=1.0\n",
      "\n",
      "  31E7: predict=0.0, actual=1.0\n",
      "\n",
      "  31E9: predict=0.0, actual=1.0\n",
      "\n",
      " 31E10: predict=0.0, actual=1.0\n",
      "\n",
      " 31F10: predict=1.0, actual=0.0\n",
      "300...320...340...360...\n",
      "  41E7: predict=1.0, actual=0.0\n",
      "\n",
      " 41E10: predict=0.0, actual=1.0\n",
      "\n",
      "  41F7: predict=0.0, actual=1.0\n",
      "380...\n",
      " 41H10: predict=0.0, actual=1.0\n",
      "400...\n",
      "  51B8: predict=0.0, actual=1.0\n",
      "420...440...\n",
      "  51F8: predict=1.0, actual=0.0\n",
      "460...\n",
      "  51G2: predict=0.0, actual=1.0\n",
      "\n",
      "  51H8: predict=0.0, actual=1.0\n",
      "480...500...\n",
      "  61C4: predict=0.0, actual=1.0\n",
      "520...\n",
      "  61E4: predict=0.0, actual=1.0\n",
      "\n",
      "  61F4: predict=1.0, actual=0.0\n",
      "540...560...580...\n",
      " 71D11: predict=1.0, actual=0.0\n",
      "600...\n",
      "  71F6: predict=1.0, actual=0.0\n",
      "620...640...660...680...700...720...\n",
      "  91A4: predict=1.0, actual=0.0\n",
      "740...760...\n",
      "  91E3: predict=1.0, actual=0.0\n",
      "\n",
      "  91F3: predict=1.0, actual=0.0\n",
      "780...800...820...840...\n",
      " 101E6: predict=0.0, actual=1.0\n",
      "\n",
      " 101F6: predict=1.0, actual=0.0\n",
      "860...\n",
      " 101G6: predict=0.0, actual=1.0\n",
      "\n",
      " 101G7: predict=1.0, actual=0.0\n",
      "880...900...920...\n",
      " 111E3: predict=0.0, actual=1.0\n",
      "940...done\n",
      "              precision    recall  f1-score   support\n",
      "\n",
      "         0.0       0.98      0.99      0.98       914\n",
      "         1.0       0.69      0.54      0.61        46\n",
      "\n",
      "    accuracy                           0.97       960\n",
      "   macro avg       0.84      0.77      0.80       960\n",
      "weighted avg       0.96      0.97      0.96       960\n",
      "\n",
      "[[903  11]\n",
      " [ 21  25]]\n",
      "ROC_AUC Score = 0.766\n",
      "------\n",
      "RandomForestClassifier(bootstrap=True, class_weight='balanced',\n",
      "                       criterion='gini', max_depth=None, max_features='auto',\n",
      "                       max_leaf_nodes=None, min_impurity_decrease=0.0,\n",
      "                       min_impurity_split=None, min_samples_leaf=1,\n",
      "                       min_samples_split=2, min_weight_fraction_leaf=0.0,\n",
      "                       n_estimators=10, n_jobs=None, oob_score=False,\n",
      "                       random_state=42, verbose=0, warm_start=False)\n",
      "Train:\n",
      "              precision    recall  f1-score   support\n",
      "\n",
      "         0.0       0.99      1.00      1.00       548\n",
      "         1.0       1.00      0.89      0.94        28\n",
      "\n",
      "    accuracy                           0.99       576\n",
      "   macro avg       1.00      0.95      0.97       576\n",
      "weighted avg       0.99      0.99      0.99       576\n",
      "\n",
      "[[548   0]\n",
      " [  3  25]]\n",
      "ROC_AUC Score = 0.946\n",
      "  41F7: predict=0.0, actual=1.0\n",
      "  31E9: predict=0.0, actual=1.0\n",
      "  51G2: predict=0.0, actual=1.0\n",
      "Test:\n",
      "              precision    recall  f1-score   support\n",
      "\n",
      "         0.0       0.97      1.00      0.98       366\n",
      "         1.0       0.88      0.39      0.54        18\n",
      "\n",
      "    accuracy                           0.97       384\n",
      "   macro avg       0.92      0.69      0.76       384\n",
      "weighted avg       0.97      0.97      0.96       384\n",
      "\n",
      "[[365   1]\n",
      " [ 11   7]]\n",
      "ROC_AUC Score = 0.693\n",
      "  31E3: predict=0.0, actual=1.0\n",
      "  41D7: predict=0.0, actual=1.0\n",
      " 101G6: predict=0.0, actual=1.0\n",
      "  91B2: predict=0.0, actual=1.0\n",
      " 101E6: predict=0.0, actual=1.0\n",
      " 31B11: predict=0.0, actual=1.0\n",
      "   1A4: predict=0.0, actual=1.0\n",
      " 101D7: predict=0.0, actual=1.0\n",
      "   1F7: predict=0.0, actual=1.0\n",
      " 41H10: predict=0.0, actual=1.0\n",
      "  61E4: predict=0.0, actual=1.0\n",
      "  91E3: predict=1.0, actual=0.0\n",
      "LOO:\n",
      "Running Leave-out validation on 960 molecules...\n",
      "0...\n",
      "   1A4: predict=0.0, actual=1.0\n",
      "20...40...\n",
      "   1F7: predict=0.0, actual=1.0\n",
      "60...80...100...\n",
      "  11D3: predict=0.0, actual=1.0\n",
      "120...140...160...180...200...220...\n",
      "  21G8: predict=0.0, actual=1.0\n",
      "240...\n",
      " 31B11: predict=0.0, actual=1.0\n",
      "260...\n",
      "  31D8: predict=0.0, actual=1.0\n",
      "280...\n",
      "  31E3: predict=0.0, actual=1.0\n",
      "\n",
      "  31E4: predict=0.0, actual=1.0\n",
      "\n",
      "  31E7: predict=0.0, actual=1.0\n",
      "\n",
      "  31E9: predict=0.0, actual=1.0\n",
      "\n",
      " 31E10: predict=0.0, actual=1.0\n",
      "300...320...340...\n",
      "  41C7: predict=0.0, actual=1.0\n",
      "\n",
      "  41D7: predict=0.0, actual=1.0\n",
      "360...\n",
      " 41E10: predict=0.0, actual=1.0\n",
      "\n",
      "  41F7: predict=0.0, actual=1.0\n",
      "380...\n",
      " 41H10: predict=0.0, actual=1.0\n",
      "400...\n",
      "  51B8: predict=0.0, actual=1.0\n",
      "420...440...\n",
      "  51E9: predict=0.0, actual=1.0\n",
      "\n",
      "  51F8: predict=1.0, actual=0.0\n",
      "460...\n",
      "  51G2: predict=0.0, actual=1.0\n",
      "\n",
      "  51H8: predict=0.0, actual=1.0\n",
      "480...500...\n",
      "  61C4: predict=0.0, actual=1.0\n",
      "520...\n",
      "  61E4: predict=0.0, actual=1.0\n",
      "540...560...580...600...620...640...660...680...700...720...740...760...\n",
      "  91E3: predict=1.0, actual=0.0\n",
      "\n",
      "  91F3: predict=1.0, actual=0.0\n",
      "\n",
      "  91F5: predict=0.0, actual=1.0\n",
      "780...\n",
      "  91G4: predict=0.0, actual=1.0\n",
      "800...820...\n",
      " 101D7: predict=0.0, actual=1.0\n",
      "840...\n",
      " 101E6: predict=0.0, actual=1.0\n",
      "860...\n",
      " 101G6: predict=0.0, actual=1.0\n",
      "\n",
      " 101G7: predict=1.0, actual=0.0\n",
      "\n",
      " 101H6: predict=0.0, actual=1.0\n",
      "880...900...920...\n",
      " 111E3: predict=0.0, actual=1.0\n",
      "940...done\n",
      "              precision    recall  f1-score   support\n",
      "\n",
      "         0.0       0.97      1.00      0.98       914\n",
      "         1.0       0.81      0.37      0.51        46\n",
      "\n",
      "    accuracy                           0.97       960\n",
      "   macro avg       0.89      0.68      0.74       960\n",
      "weighted avg       0.96      0.97      0.96       960\n",
      "\n",
      "[[910   4]\n",
      " [ 29  17]]\n",
      "ROC_AUC Score = 0.683\n"
     ],
     "output_type": "stream"
    }
   ],
   "source": [
    "# Test model\n",
    "from src.models import predict_model\n",
    "for model in models:\n",
    "    print(\"------\")\n",
    "    print(model)\n",
    "    print(\"Train:\")\n",
    "    yp_train=predict_model.predict(model,X_train,y_train,mol_train)\n",
    "    print(\"Test:\")\n",
    "    yp_test=predict_model.predict(model,X_test,y_test,mol_test)\n",
    "    print(\"LOO:\")\n",
    "    yp_loo=predict_model.predictLOO(model,X,y,molecules)\n",
    "\n"
   ],
   "metadata": {
    "collapsed": false,
    "pycharm": {
     "name": "#%%\n",
     "is_executing": false
    }
   }
  },
  {
   "cell_type": "code",
   "execution_count": null,
   "outputs": [],
   "source": [
    "\n"
   ],
   "metadata": {
    "collapsed": false,
    "pycharm": {
     "name": "#%%\n",
     "is_executing": false
    }
   }
  }
 ],
 "metadata": {
  "kernelspec": {
   "display_name": "Python 3",
   "language": "python",
   "name": "python3"
  },
  "language_info": {
   "codemirror_mode": {
    "name": "ipython",
    "version": 2
   },
   "file_extension": ".py",
   "mimetype": "text/x-python",
   "name": "python",
   "nbconvert_exporter": "python",
   "pygments_lexer": "ipython2",
   "version": "2.7.6"
  },
  "pycharm": {
   "stem_cell": {
    "cell_type": "raw",
    "source": [],
    "metadata": {
     "collapsed": false
    }
   }
  }
 },
 "nbformat": 4,
 "nbformat_minor": 0
}