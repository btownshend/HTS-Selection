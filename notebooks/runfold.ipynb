{
 "cells": [
  {
   "cell_type": "code",
   "execution_count": 1,
   "outputs": [],
   "source": [
    "# OPTIONAL: Load the \"autoreload\" extension so that code can change\n",
    "%load_ext autoreload\n",
    "# OPTIONAL: always reload modules so that as you change code in src, it gets loaded\n",
    "%autoreload 2\n",
    "seed=42"
   ],
   "metadata": {
    "collapsed": false,
    "pycharm": {
     "name": "#%%\n",
     "is_executing": false
    }
   }
  },
  {
   "cell_type": "code",
   "execution_count": 2,
   "outputs": [
    {
     "name": "stderr",
     "text": [
      "RDKit WARNING: [00:26:06] Enabling RDKit 2019.09.2 jupyter extensions\n"
     ],
     "output_type": "stream"
    }
   ],
   "source": [
    "# Load data\n",
    "from src.data import make_dataset\n",
    "molecules=make_dataset.load()"
   ],
   "metadata": {
    "collapsed": false,
    "pycharm": {
     "name": "#%%\n",
     "is_executing": false
    }
   }
  },
  {
   "cell_type": "code",
   "execution_count": 3,
   "outputs": [],
   "source": [
    "# Build the features\n",
    "from src.features import build_features\n",
    "X=build_features.build(molecules)"
   ],
   "metadata": {
    "collapsed": false,
    "pycharm": {
     "name": "#%%\n",
     "is_executing": false
    }
   }
  },
  {
   "cell_type": "code",
   "execution_count": 26,
   "outputs": [
    {
     "name": "stdout",
     "text": [
      "Column names are Target, H960-266, H960-319, H960-850, H960-892, H960-735, H960-425, H960-940, H960-613, H960-251, H960-003, H960-875, H960-650, H960-172, H960-186, H960-050, H960-594, H960-228, H960-316, H960-488, H960-629, H960-668, H960-5050, H960-561, H960-156, H960-922, H960-843, H960-616, H960-617, H960-505, H960-072, H960-724, H960-315, H960-939, H960-256, H960-920, H960-869, H960-356, H960-337, H960-540, NSRef-630, NS-404, NS-231, NS-160, Amb-767, Amb-563, Amb-113, Amb-751, Amb-816, Amb-720, Amb-318, Amb-6319\n",
      "Processed 101 targets.\n",
      "['1A4', '1C5', '1C7', '1F7', '101B7', '101C7', '101D11', '101D7', '101D9', '101E10', '101E6', '101F11', '101F2', '101F7', '101G6', '101H6', '111E3', '111H2', '111H7', '11D3', '21G8', '31B11', '31B9', '31C10', '31C2', '31C3', '31C8', '31D4', '31D7', '31D8', '31E10', '31E3', '31E4', '31E7', '31E9', '31F10', '31H10', '41A11', '41C4', '41C5', '41C7', '41D10', '41D4', '41D7', '41E10', '41E2', '41E3', '41E4', '41E7', '41E9', '41F10', '41F2', '41F3', '41F4', '41F6', '41F7', '41H10', '41H7', '51B8', '51E4', '51E9', '51G2', '51H8', '61C2', '61C3', '61C4', '61C5', '61C7', '61E4', '61F2', '61F7', '71E11', '91A2', '91A3', '91A4', '91B2', '91B3', '91B4', '91C2', '91C3', '91C4', '91D2', '91D3', '91D4', '91E2', '91E3', '91E4', '91E8', '91F2', '91F3', '91F4', '91F5', '91F6', '91F7', '91F8', '91G2', '91G4', '91H11', '91H2', '91H3', '91H7']\n"
     ],
     "output_type": "stream"
    }
   ],
   "source": [
    "# Build the targets\n",
    "from src.features import build_targets\n",
    "(y,aptamers)=build_targets.build_fold(molecules)"
   ],
   "metadata": {
    "collapsed": false,
    "pycharm": {
     "name": "#%%\n",
     "is_executing": false
    }
   }
  },
  {
   "cell_type": "code",
   "execution_count": 27,
   "outputs": [
    {
     "name": "stdout",
     "text": [
      "Fraction hits: train: 1.015, test: 1.016\n"
     ],
     "output_type": "stream"
    }
   ],
   "source": [
    "# Create train/test sets\n",
    "from src.models import split_data\n",
    "X_train, X_test, y_train, y_test, ind_train, ind_test = split_data.split(0.4,X,y,seed)\n",
    "mol_test=[molecules[x] for x in ind_test]\n",
    "mol_train=[molecules[x] for x in ind_train]"
   ],
   "metadata": {
    "collapsed": false,
    "pycharm": {
     "name": "#%%\n",
     "is_executing": false
    }
   }
  },
  {
   "cell_type": "code",
   "execution_count": 50,
   "outputs": [
    {
     "name": "stderr",
     "text": [
      "/opt/anaconda3/envs/moldist2/lib/python3.7/site-packages/sklearn/svm/base.py:929: ConvergenceWarning: Liblinear failed to converge, increase the number of iterations.\n",
      "  \"the number of iterations.\", ConvergenceWarning)\n",
      "/opt/anaconda3/envs/moldist2/lib/python3.7/site-packages/sklearn/svm/base.py:929: ConvergenceWarning: Liblinear failed to converge, increase the number of iterations.\n",
      "  \"the number of iterations.\", ConvergenceWarning)\n",
      "/opt/anaconda3/envs/moldist2/lib/python3.7/site-packages/sklearn/svm/base.py:929: ConvergenceWarning: Liblinear failed to converge, increase the number of iterations.\n",
      "  \"the number of iterations.\", ConvergenceWarning)\n",
      "/opt/anaconda3/envs/moldist2/lib/python3.7/site-packages/sklearn/svm/base.py:929: ConvergenceWarning: Liblinear failed to converge, increase the number of iterations.\n",
      "  \"the number of iterations.\", ConvergenceWarning)\n",
      "/opt/anaconda3/envs/moldist2/lib/python3.7/site-packages/sklearn/svm/base.py:929: ConvergenceWarning: Liblinear failed to converge, increase the number of iterations.\n",
      "  \"the number of iterations.\", ConvergenceWarning)\n",
      "/opt/anaconda3/envs/moldist2/lib/python3.7/site-packages/sklearn/svm/base.py:929: ConvergenceWarning: Liblinear failed to converge, increase the number of iterations.\n",
      "  \"the number of iterations.\", ConvergenceWarning)\n",
      "/opt/anaconda3/envs/moldist2/lib/python3.7/site-packages/sklearn/svm/base.py:929: ConvergenceWarning: Liblinear failed to converge, increase the number of iterations.\n",
      "  \"the number of iterations.\", ConvergenceWarning)\n",
      "/opt/anaconda3/envs/moldist2/lib/python3.7/site-packages/sklearn/svm/base.py:929: ConvergenceWarning: Liblinear failed to converge, increase the number of iterations.\n",
      "  \"the number of iterations.\", ConvergenceWarning)\n",
      "/opt/anaconda3/envs/moldist2/lib/python3.7/site-packages/sklearn/svm/base.py:929: ConvergenceWarning: Liblinear failed to converge, increase the number of iterations.\n",
      "  \"the number of iterations.\", ConvergenceWarning)\n",
      "/opt/anaconda3/envs/moldist2/lib/python3.7/site-packages/sklearn/svm/base.py:929: ConvergenceWarning: Liblinear failed to converge, increase the number of iterations.\n",
      "  \"the number of iterations.\", ConvergenceWarning)\n",
      "/opt/anaconda3/envs/moldist2/lib/python3.7/site-packages/sklearn/svm/base.py:929: ConvergenceWarning: Liblinear failed to converge, increase the number of iterations.\n",
      "  \"the number of iterations.\", ConvergenceWarning)\n",
      "/opt/anaconda3/envs/moldist2/lib/python3.7/site-packages/sklearn/svm/base.py:929: ConvergenceWarning: Liblinear failed to converge, increase the number of iterations.\n",
      "  \"the number of iterations.\", ConvergenceWarning)\n",
      "/opt/anaconda3/envs/moldist2/lib/python3.7/site-packages/sklearn/svm/base.py:929: ConvergenceWarning: Liblinear failed to converge, increase the number of iterations.\n",
      "  \"the number of iterations.\", ConvergenceWarning)\n",
      "/opt/anaconda3/envs/moldist2/lib/python3.7/site-packages/sklearn/svm/base.py:929: ConvergenceWarning: Liblinear failed to converge, increase the number of iterations.\n",
      "  \"the number of iterations.\", ConvergenceWarning)\n",
      "/opt/anaconda3/envs/moldist2/lib/python3.7/site-packages/sklearn/svm/base.py:929: ConvergenceWarning: Liblinear failed to converge, increase the number of iterations.\n",
      "  \"the number of iterations.\", ConvergenceWarning)\n",
      "/opt/anaconda3/envs/moldist2/lib/python3.7/site-packages/sklearn/svm/base.py:929: ConvergenceWarning: Liblinear failed to converge, increase the number of iterations.\n",
      "  \"the number of iterations.\", ConvergenceWarning)\n",
      "/opt/anaconda3/envs/moldist2/lib/python3.7/site-packages/sklearn/svm/base.py:929: ConvergenceWarning: Liblinear failed to converge, increase the number of iterations.\n",
      "  \"the number of iterations.\", ConvergenceWarning)\n",
      "/opt/anaconda3/envs/moldist2/lib/python3.7/site-packages/sklearn/svm/base.py:929: ConvergenceWarning: Liblinear failed to converge, increase the number of iterations.\n",
      "  \"the number of iterations.\", ConvergenceWarning)\n"
     ],
     "output_type": "stream"
    }
   ],
   "source": [
    "# Train model\n",
    "from src.models import train_model\n",
    "models=[train_model.train_multi(train_model.train_linearsvr,X_train,y_train)]"
   ],
   "metadata": {
    "collapsed": false,
    "pycharm": {
     "name": "#%%\n",
     "is_executing": false
    }
   }
  },
  {
   "cell_type": "code",
   "execution_count": 51,
   "outputs": [
    {
     "name": "stdout",
     "text": [
      "------\n",
      "LinearSVR(C=1.0, dual=True, epsilon=0.0, fit_intercept=True,\n",
      "          intercept_scaling=1.0, loss='epsilon_insensitive', max_iter=10000,\n",
      "          random_state=42, tol=0.0001, verbose=0)\n",
      "Train:\n",
      "score= [0.9999992716158789, 0.9999998456442095, 0.9999998639031777, 0.9999978698759123, 0.9999997056156911, 0.9999993641185843, 0.9999997421506112, 0.9999986672379612, 0.9999998543123726, 0.9993270238400713, 0.9999996501650068, 0.9999992687113056, 0.9999996310967894, 0.9999980830999865, 0.999999586976197, 0.9999993840802488, 0.9999997804722329, 0.9999994966081558, 0.999999729374822, 0.9999991384715179, 0.9999998998129049, 0.9999993869407591, 0.9999999011867364, 0.9999998841823902, 0.9999995693965075, 0.999999582077113, 0.9999999166500928, 0.9999995457408467, 0.9999995121797506, 0.9999993788541262, 0.9999999042114845, 0.9999996998751133, 0.9999980876865205, 0.9999997158412129, 0.9999802184228667, 0.9999989911159326, 0.9999984577153125, 0.9999997906309072, 0.9999996679604177, 0.9999996456156328, 0.9999991866543693, 0.999998945392908, 0.9999990480085851, 0.9999999271545259, 0.999999517518644, 0.9999992238420107, 0.9999998413533877, 0.9999997833636493, 0.999999909175293, 0.9999995672555, 0.9999997767017567]\n",
      "mean(score)=1.000\n",
      "Test:\n",
      "score= [-2.9436965993929314, -3.0903024273402497, -2.3582708425542935, -6.00877960966344, -3.706139764178898, -5.245257770321366, -3.5217268040783267, -2.9729219363690906, -1.0868972420378853, -3.088105627374075, -7.169408065979673, -3.021743126646795, -2.6085142448118854, -8.165135465947111, -1.4059625249735537, -2.4765955325045614, -0.7038867016493346, -5.932753347146346, -10.94361665472126, -33.85981175415919, -4.236686130545339, -8.254080803295894, -1.555491766496899, -3.2690428947034356, -2.5209989675290827, -4.485533212261641, -0.9429555996044031, -6.281856945107352, -10.442535642841886, -1.727693578742433, -1.5295734078554926, -2.738027011774422, -4.480793645041382, -3.348571633995322, -3.880890917062997, -7.31392152053396, -3.9780809088486078, -2.84451378880876, -1.35073769139946, -2.9216693395724858, -10.026993621628762, -17.201509960772682, -12.831729071436316, -0.4562264591800742, -4.232679280709491, -2.3360830410764657, -0.23742966875382557, -2.3491515447630573, -1.5531500096005981, -2.7239670260306093, -1.8661191159000725]\n",
      "mean(score)=-4.789\n"
     ],
     "output_type": "stream"
    },
    {
     "data": {
      "text/plain": "<Figure size 432x288 with 1 Axes>",
      "image/png": "[encoded data removed]"
     },
     "metadata": {
      "needs_background": "light"
     },
     "output_type": "display_data"
    },
    {
     "data": {
      "text/plain": "<Figure size 432x288 with 1 Axes>",
      "image/png": "[encoded data removed]"
     },
     "metadata": {
      "needs_background": "light"
     },
     "output_type": "display_data"
    }
   ],
   "source": [
    "# Test model\n",
    "from src.models import predict_model\n",
    "import matplotlib.pyplot as plt\n",
    "for model in models:\n",
    "    print(\"------\")\n",
    "    print(model[0])\n",
    "    print(\"Train:\")\n",
    "    yp_train=predict_model.predict_reg(model,X_train,y_train,mol_train)\n",
    "    print(\"Test:\")\n",
    "    yp_test=predict_model.predict_reg(model,X_test,y_test,mol_test)\n",
    "\n",
    "    for i in range(len(y_train[0])):\n",
    "        plt.scatter([y[i] for y in y_train],[y[i] for y in yp_train],label=\"Train\",s=1)\n",
    "    ax=plt.gca()\n",
    "    ax.set_yscale('log')\n",
    "    ax.set_xscale('log')\n",
    "    plt.xlabel(\"Measured\")\n",
    "    plt.ylabel(\"Predicted\")\n",
    "    plt.title(\"Train\")\n",
    "    plt.show()\n",
    "    \n",
    "    for i in range(len(y_test[0])):\n",
    "        plt.scatter([y[i] for y in y_test],[y[i] for y in yp_test],label=\"Test\",s=1)\n",
    "    ax=plt.gca()\n",
    "    ax.set_yscale('log')\n",
    "    ax.set_xscale('log')\n",
    "    plt.xlabel(\"Measured\")\n",
    "    plt.ylabel(\"Predicted\")\n",
    "    plt.title(\"Test\")\n",
    "    plt.show()\n",
    "\n"
   ],
   "metadata": {
    "collapsed": false,
    "pycharm": {
     "name": "#%%\n",
     "is_executing": false
    }
   }
  },
  {
   "cell_type": "code",
   "execution_count": 7,
   "outputs": [],
   "source": [
    "\n"
   ],
   "metadata": {
    "collapsed": false,
    "pycharm": {
     "name": "#%%\n",
     "is_executing": false
    }
   }
  }
 ],
 "metadata": {
  "kernelspec": {
   "display_name": "Python 3",
   "language": "python",
   "name": "python3"
  },
  "language_info": {
   "codemirror_mode": {
    "name": "ipython",
    "version": 2
   },
   "file_extension": ".py",
   "mimetype": "text/x-python",
   "name": "python",
   "nbconvert_exporter": "python",
   "pygments_lexer": "ipython2",
   "version": "2.7.6"
  },
  "pycharm": {
   "stem_cell": {
    "cell_type": "raw",
    "source": [],
    "metadata": {
     "collapsed": false
    }
   }
  }
 },
 "nbformat": 4,
 "nbformat_minor": 0
}