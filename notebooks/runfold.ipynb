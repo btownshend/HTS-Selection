{
 "cells": [
  {
   "cell_type": "code",
   "execution_count": 45,
   "outputs": [],
   "source": [
    "from sklearn.feature_selection import SelectFromModel\n",
    "from sklearn.linear_model import LinearRegression, Ridge, LassoCV, Lasso\n",
    "from sklearn.svm import LinearSVR\n",
    "from src.data import make_dataset\n",
    "from src.features import build_features,build_targets\n",
    "from src.models import predict_model, train_model, split_data\n",
    "import numpy as np\n",
    "import matplotlib.pyplot as plt"
   ],
   "metadata": {
    "collapsed": false,
    "pycharm": {
     "name": "#%%\n",
     "is_executing": false
    }
   }
  },
  {
   "cell_type": "code",
   "execution_count": 2,
   "outputs": [],
   "source": [
    "# OPTIONAL: Load the \"autoreload\" extension so that code can change\n",
    "%load_ext autoreload\n",
    "# OPTIONAL: always reload modules so that as you change code in src, it gets loaded\n",
    "%autoreload 2\n",
    "seed=42"
   ],
   "metadata": {
    "collapsed": false,
    "pycharm": {
     "name": "#%%\n",
     "is_executing": false
    }
   }
  },
  {
   "cell_type": "code",
   "execution_count": 3,
   "outputs": [],
   "source": [
    "# Load data\n",
    "molecules=make_dataset.load()"
   ],
   "metadata": {
    "collapsed": false,
    "pycharm": {
     "name": "#%%\n",
     "is_executing": false
    }
   }
  },
  {
   "cell_type": "code",
   "execution_count": 87,
   "outputs": [
    {
     "name": "stdout",
     "text": [
      "mean value of features = 0.6247121175130208\n"
     ],
     "output_type": "stream"
    }
   ],
   "source": [
    "# Build the features\n",
    "X=build_features.build(molecules,fpSize=1024)"
   ],
   "metadata": {
    "collapsed": false,
    "pycharm": {
     "name": "#%%\n",
     "is_executing": false
    }
   }
  },
  {
   "cell_type": "code",
   "execution_count": 46,
   "outputs": [
    {
     "data": {
      "text/plain": "<Figure size 432x288 with 1 Axes>",
      "image/png": "[encoded data removed]"
     },
     "metadata": {
      "needs_background": "light"
     },
     "output_type": "display_data"
    }
   ],
   "source": [
    "# Plot one of the feature vectors\n",
    "plt.plot(X[900])\n",
    "plt.show()"
   ],
   "metadata": {
    "collapsed": false,
    "pycharm": {
     "name": "#%%\n",
     "is_executing": false
    }
   }
  },
  {
   "cell_type": "code",
   "execution_count": 74,
   "outputs": [
    {
     "name": "stdout",
     "text": [
      "Column names are Target, H960-266, H960-319, H960-850, H960-892, H960-735, H960-425, H960-940, H960-613, H960-251, H960-003, H960-875, H960-650, H960-172, H960-186, H960-050, H960-594, H960-228, H960-316, H960-488, H960-629, H960-668, H960-5050, H960-561, H960-156, H960-922, H960-843, H960-616, H960-617, H960-505, H960-072, H960-724, H960-315, H960-939, H960-256, H960-920, H960-869, H960-356, H960-337, H960-540, NSRef-630, NS-404, NS-231, NS-160, Amb-767, Amb-563, Amb-113, Amb-751, Amb-816, Amb-720, Amb-318, Amb-6319\n",
      "Processed 101 targets.\n",
      "['1A4', '1C5', '1C7', '1F7', '101B7', '101C7', '101D11', '101D7', '101D9', '101E10', '101E6', '101F11', '101F2', '101F7', '101G6', '101H6', '111E3', '111H2', '111H7', '11D3', '21G8', '31B11', '31B9', '31C10', '31C2', '31C3', '31C8', '31D4', '31D7', '31D8', '31E10', '31E3', '31E4', '31E7', '31E9', '31F10', '31H10', '41A11', '41C4', '41C5', '41C7', '41D10', '41D4', '41D7', '41E10', '41E2', '41E3', '41E4', '41E7', '41E9', '41F10', '41F2', '41F3', '41F4', '41F6', '41F7', '41H10', '41H7', '51B8', '51E4', '51E9', '51G2', '51H8', '61C2', '61C3', '61C4', '61C5', '61C7', '61E4', '61F2', '61F7', '71E11', '91A2', '91A3', '91A4', '91B2', '91B3', '91B4', '91C2', '91C3', '91C4', '91D2', '91D3', '91D4', '91E2', '91E3', '91E4', '91E8', '91F2', '91F3', '91F4', '91F5', '91F6', '91F7', '91F8', '91G2', '91G4', '91H11', '91H2', '91H3', '91H7']\n"
     ],
     "output_type": "stream"
    }
   ],
   "source": [
    "# Build the targets\n",
    "keep=['H960-003','Amb-751']\n",
    "(y,aptamers)=build_targets.build_fold(molecules,keep)"
   ],
   "metadata": {
    "collapsed": false,
    "pycharm": {
     "name": "#%%\n",
     "is_executing": false
    }
   }
  },
  {
   "cell_type": "code",
   "execution_count": 49,
   "outputs": [
    {
     "data": {
      "text/plain": "<Figure size 432x288 with 1 Axes>",
      "image/png": "[encoded data removed]"
     },
     "metadata": {
      "needs_background": "light"
     },
     "output_type": "display_data"
    }
   ],
   "source": [
    "# Plot the target distribution\n",
    "plt.hist(y[0])\n",
    "plt.yscale('log')\n",
    "plt.show()"
   ],
   "metadata": {
    "collapsed": false,
    "pycharm": {
     "name": "#%%\n",
     "is_executing": false
    }
   }
  },
  {
   "cell_type": "code",
   "execution_count": 89,
   "outputs": [
    {
     "name": "stdout",
     "text": [
      "Fraction hits: train: 0.020, test: 0.025\n"
     ],
     "output_type": "stream"
    }
   ],
   "source": [
    "# Create train/test sets\n",
    "X_train, X_test, y_train, y_test, ind_train, ind_test = split_data.split(0.4,X,np.transpose(y),seed)\n",
    "y_test=np.transpose(y_test)\n",
    "y_train=np.transpose(y_train)\n",
    "mol_test=[molecules[x] for x in ind_test]\n",
    "mol_train=[molecules[x] for x in ind_train]"
   ],
   "metadata": {
    "collapsed": false,
    "pycharm": {
     "name": "#%%\n",
     "is_executing": false
    }
   }
  },
  {
   "cell_type": "code",
   "execution_count": 101,
   "outputs": [
    {
     "name": "stdout",
     "text": [
      "LinearRegression(copy_X=True, fit_intercept=True, n_jobs=None, normalize=False)\n",
      "{'fit_time': array([0.03459096, 0.02601719, 0.02591586]), 'score_time': array([0.00115895, 0.00053096, 0.00056291]), 'test_score': array([-0.03224491, -0.02255614, -0.02799374]), 'train_score': array([-5.00705862e-31, -3.69370324e-31, -7.20115237e-31])}\n",
      "Cross-validation scores: test=-0.028+-0.004, train=-0.000+-0.000\n",
      "features: [  18   21   75   78   83  114  121  134  158  173  176  217  239  267\n",
      "  302  313  316  320  339  369  376  378  384  415  425  455  462  466\n",
      "  476  501  512  513  599  612  613  614  780  783  820  873  877  909\n",
      "  937  940  961  983  989  992 1003 1016]\n",
      "LinearRegression(copy_X=True, fit_intercept=True, n_jobs=None, normalize=False)\n",
      "{'fit_time': array([0.00132298, 0.00103879, 0.00090718]), 'score_time': array([0.00025702, 0.00023031, 0.00024104]), 'test_score': array([-0.02009272, -0.0103758 , -0.01205651]), 'train_score': array([-0.00855514, -0.0128776 , -0.01249376])}\n",
      "Cross-validation scores: test=-0.014+-0.004, train=-0.011+-0.002\n",
      "LinearSVR(C=1e-06, dual=True, epsilon=0.1, fit_intercept=True,\n",
      "          intercept_scaling=1.0, loss='epsilon_insensitive', max_iter=10000,\n",
      "          random_state=None, tol=0.0001, verbose=0)\n",
      "{'fit_time': array([0.00434899, 0.00588369, 0.0042429 ]), 'score_time': array([0.00056219, 0.0006721 , 0.00054312]), 'test_score': array([-0.02267173, -0.01193743, -0.01237466]), 'train_score': array([-0.01227032, -0.01726511, -0.01717313])}\n",
      "Cross-validation scores: test=-0.016+-0.005, train=-0.016+-0.002\n",
      "LassoCV(alphas=None, copy_X=True, cv='warn', eps=0.001, fit_intercept=True,\n",
      "        max_iter=1000, n_alphas=100, n_jobs=None, normalize=False,\n",
      "        positive=False, precompute='auto', random_state=None,\n",
      "        selection='cyclic', tol=0.0001, verbose=False)\n",
      "{'fit_time': array([0.27449083, 0.16101098, 0.30247593]), 'score_time': array([0.00087309, 0.0005219 , 0.00059891]), 'test_score': array([-0.02214325, -0.01230911, -0.01244192]), 'train_score': array([-0.01223869, -0.01711842, -0.01701382])}\n",
      "Cross-validation scores: test=-0.016+-0.005, train=-0.015+-0.002\n"
     ],
     "output_type": "stream"
    },
    {
     "name": "stderr",
     "text": [
      "/opt/anaconda3/envs/moldist2/lib/python3.7/site-packages/sklearn/model_selection/_split.py:1978: FutureWarning: The default value of cv will change from 3 to 5 in version 0.22. Specify it explicitly to silence this warning.\n",
      "  warnings.warn(CV_WARNING, FutureWarning)\n",
      "/opt/anaconda3/envs/moldist2/lib/python3.7/site-packages/sklearn/model_selection/_split.py:1978: FutureWarning: The default value of cv will change from 3 to 5 in version 0.22. Specify it explicitly to silence this warning.\n",
      "  warnings.warn(CV_WARNING, FutureWarning)\n",
      "/opt/anaconda3/envs/moldist2/lib/python3.7/site-packages/sklearn/model_selection/_split.py:1978: FutureWarning: The default value of cv will change from 3 to 5 in version 0.22. Specify it explicitly to silence this warning.\n",
      "  warnings.warn(CV_WARNING, FutureWarning)\n"
     ],
     "output_type": "stream"
    }
   ],
   "source": [
    "# Test models to choose best one based on cross-validation over training set\n",
    "test_aptamer=1\n",
    "max_features=50\n",
    "train_model.cv_model(LinearRegression(), X_train, y_train[test_aptamer])\n",
    "train_model.cv_model_sfm(LinearRegression(), X_train, y_train[test_aptamer],max_features=max_features)\n",
    "train_model.cv_model(LinearSVR(C=.000001,max_iter=10000,epsilon=0.1), X_train, y_train[test_aptamer])\n",
    "train_model.cv_model(LassoCV(), X_train, y_train[test_aptamer])"
   ],
   "metadata": {
    "collapsed": false,
    "pycharm": {
     "name": "#%%\n",
     "is_executing": false
    }
   }
  },
  {
   "cell_type": "code",
   "execution_count": 92,
   "outputs": [],
   "source": [
    "# Define models (with a model for each aptamer)\n",
    "models=[\n",
    "    [ LinearRegression() for _ in y],\n",
    "    [ Lasso(alpha=0.5) for _ in y],\n",
    "    [ Lasso(alpha=0.99) for _ in y],\n",
    "    [ Ridge(alpha=0.9) for _ in y],\n",
    "    [ Ridge(alpha=0.99) for _ in y],\n",
    "    [ LinearSVR(C=.000001,max_iter=10000,epsilon=0.1,random_state=seed) for _ in y],\n",
    "    [ LinearSVR(C=.000001,max_iter=10000,epsilon=0.05,random_state=seed) for _ in y]\n",
    "]"
   ],
   "metadata": {
    "collapsed": false,
    "pycharm": {
     "name": "#%%\n",
     "is_executing": false
    }
   }
  },
  {
   "cell_type": "code",
   "execution_count": 43,
   "outputs": [
    {
     "name": "stdout",
     "text": [
      "SelectFromModel(estimator=LinearRegression(copy_X=True, fit_intercept=True,\n",
      "                                           n_jobs=None, normalize=False),\n",
      "                max_features=3, norm_order=1, prefit=True, threshold=None)\n",
      "[535 678 709]\n",
      "(576, 3)\n",
      "SelectFromModel(estimator=Lasso(alpha=0.5, copy_X=True, fit_intercept=True,\n",
      "                                max_iter=1000, normalize=False, positive=False,\n",
      "                                precompute=False, random_state=None,\n",
      "                                selection='cyclic', tol=0.0001,\n",
      "                                warm_start=False),\n",
      "                max_features=3, norm_order=1, prefit=True, threshold=None)\n",
      "[]\n",
      "(576, 0)\n",
      "SelectFromModel(estimator=Lasso(alpha=0.99, copy_X=True, fit_intercept=True,\n",
      "                                max_iter=1000, normalize=False, positive=False,\n",
      "                                precompute=False, random_state=None,\n",
      "                                selection='cyclic', tol=0.0001,\n",
      "                                warm_start=False),\n",
      "                max_features=3, norm_order=1, prefit=True, threshold=None)\n",
      "[]\n",
      "(576, 0)\n",
      "SelectFromModel(estimator=Ridge(alpha=0.9, copy_X=True, fit_intercept=True,\n",
      "                                max_iter=None, normalize=False,\n",
      "                                random_state=None, solver='auto', tol=0.001),\n",
      "                max_features=3, norm_order=1, prefit=True, threshold=None)\n",
      "[535 678 709]\n",
      "(576, 3)\n",
      "SelectFromModel(estimator=Ridge(alpha=0.99, copy_X=True, fit_intercept=True,\n",
      "                                max_iter=None, normalize=False,\n",
      "                                random_state=None, solver='auto', tol=0.001),\n",
      "                max_features=3, norm_order=1, prefit=True, threshold=None)\n",
      "[535 678 709]\n",
      "(576, 3)\n",
      "SelectFromModel(estimator=LinearSVR(C=1e-06, dual=True, epsilon=0.1,\n",
      "                                    fit_intercept=True, intercept_scaling=1.0,\n",
      "                                    loss='epsilon_insensitive', max_iter=10000,\n",
      "                                    random_state=42, tol=0.0001, verbose=0),\n",
      "                max_features=3, norm_order=1, prefit=True, threshold=None)\n",
      "[0 5 8]\n",
      "(576, 3)\n",
      "SelectFromModel(estimator=LinearSVR(C=1e-06, dual=True, epsilon=0.05,\n",
      "                                    fit_intercept=True, intercept_scaling=1.0,\n",
      "                                    loss='epsilon_insensitive', max_iter=10000,\n",
      "                                    random_state=42, tol=0.0001, verbose=0),\n",
      "                max_features=3, norm_order=1, prefit=True, threshold=None)\n",
      "[0 5 9]\n",
      "(576, 3)\n"
     ],
     "output_type": "stream"
    },
    {
     "name": "stderr",
     "text": [
      "/opt/anaconda3/envs/moldist2/lib/python3.7/site-packages/sklearn/feature_selection/base.py:79: UserWarning: No features were selected: either the data is too noisy or the selection test too strict.\n",
      "  UserWarning)\n",
      "/opt/anaconda3/envs/moldist2/lib/python3.7/site-packages/sklearn/feature_selection/base.py:79: UserWarning: No features were selected: either the data is too noisy or the selection test too strict.\n",
      "  UserWarning)\n"
     ],
     "output_type": "stream"
    }
   ],
   "source": [
    "# Reduce the number of features\n",
    "X_train_red=[]\n",
    "for model in models:\n",
    "    Xtmp=[]    \n",
    "    for i in range(len(aptamers)):\n",
    "        smodel = SelectFromModel(model[i].fit(X_train,y_train[i]), prefit=True,max_features=3)\n",
    "        print(smodel)\n",
    "        print(smodel.get_support(indices=True))\n",
    "        X_new = smodel.transform(X_train)\n",
    "        print(X_new.shape)\n",
    "        Xtmp.append(X_new)\n",
    "    X_train_red.append(Xtmp)"
   ],
   "metadata": {
    "collapsed": false,
    "pycharm": {
     "name": "#%%\n",
     "is_executing": false
    }
   }
  },
  {
   "cell_type": "code",
   "execution_count": 11,
   "outputs": [
    {
     "name": "stdout",
     "text": [
      "Cross-validation scores = -87.79 +- 162.42\n"
     ],
     "output_type": "stream"
    },
    {
     "name": "stderr",
     "text": [
      "/opt/anaconda3/envs/moldist2/lib/python3.7/site-packages/sklearn/svm/base.py:929: ConvergenceWarning: Liblinear failed to converge, increase the number of iterations.\n",
      "  \"the number of iterations.\", ConvergenceWarning)\n"
     ],
     "output_type": "stream"
    }
   ],
   "source": [
    "# Train models\n",
    "models=[train_model.train_multi(LinearSVR(C=.000001,max_iter=10000,epsilon=0.1,random_state=seed),X_train,y_train)]"
   ],
   "metadata": {
    "collapsed": false,
    "pycharm": {
     "name": "#%%\n",
     "is_executing": false
    }
   }
  },
  {
   "cell_type": "code",
   "execution_count": 12,
   "outputs": [
    {
     "name": "stdout",
     "text": [
      "------\n",
      "LinearSVR(C=10, dual=True, epsilon=0.1, fit_intercept=True,\n",
      "          intercept_scaling=1.0, loss='epsilon_insensitive', max_iter=10000,\n",
      "          random_state=42, tol=0.0001, verbose=0)\n",
      "Train:\n",
      "score= [0.5405530252202837]\n",
      "mean(score)=0.541\n",
      "Test:\n",
      "score= [-0.09601006214352514]\n",
      "mean(score)=-0.096\n"
     ],
     "output_type": "stream"
    },
    {
     "data": {
      "text/plain": "<Figure size 432x288 with 1 Axes>",
      "image/png": "[encoded data removed]"
     },
     "metadata": {
      "needs_background": "light"
     },
     "output_type": "display_data"
    },
    {
     "data": {
      "text/plain": "<Figure size 432x288 with 1 Axes>",
      "image/png": "[encoded data removed]"
     },
     "metadata": {
      "needs_background": "light"
     },
     "output_type": "display_data"
    }
   ],
   "source": [
    "# Test model\n",
    "for model in models:\n",
    "    print(\"------\")\n",
    "    print(model[0])\n",
    "    print(\"Train:\")\n",
    "    yp_train=predict_model.predict_reg(model,X_train,y_train,mol_train)\n",
    "    print(\"Test:\")\n",
    "    yp_test=predict_model.predict_reg(model,X_test,y_test,mol_test)\n",
    "\n",
    "    for i in range(len(y_train[0])):\n",
    "        plt.scatter([y[i] for y in y_train],[y[i] for y in yp_train],label=\"Train\",s=1)\n",
    "    ax=plt.gca()\n",
    "    #ax.set_yscale('log')\n",
    "    #ax.set_xscale('log')\n",
    "    plt.xlabel(\"Measured\")\n",
    "    plt.ylabel(\"Predicted\")\n",
    "    plt.title(\"Train - log(fold)\")\n",
    "    plt.show()\n",
    "    \n",
    "    for i in range(len(y_test[0])):\n",
    "        plt.scatter([y[i] for y in y_test],[y[i] for y in yp_test],label=\"Test\",s=1)\n",
    "    ax=plt.gca()\n",
    "    #ax.set_yscale('log')\n",
    "    #ax.set_xscale('log')\n",
    "    plt.xlabel(\"Measured - log(fold)\")\n",
    "    plt.ylabel(\"Predicted\")\n",
    "    plt.title(\"Test\")\n",
    "    plt.show()\n",
    "\n"
   ],
   "metadata": {
    "collapsed": false,
    "pycharm": {
     "name": "#%%\n",
     "is_executing": false
    }
   }
  }
 ],
 "metadata": {
  "kernelspec": {
   "display_name": "Python 3",
   "language": "python",
   "name": "python3"
  },
  "language_info": {
   "codemirror_mode": {
    "name": "ipython",
    "version": 2
   },
   "file_extension": ".py",
   "mimetype": "text/x-python",
   "name": "python",
   "nbconvert_exporter": "python",
   "pygments_lexer": "ipython2",
   "version": "2.7.6"
  },
  "pycharm": {
   "stem_cell": {
    "cell_type": "raw",
    "source": [],
    "metadata": {
     "collapsed": false
    }
   }
  }
 },
 "nbformat": 4,
 "nbformat_minor": 0
}