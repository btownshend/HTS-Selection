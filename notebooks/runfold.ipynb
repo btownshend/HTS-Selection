{
 "cells": [
  {
   "cell_type": "code",
   "execution_count": 128,
   "outputs": [],
   "source": [
    "from sklearn.feature_selection import SelectFromModel\n",
    "from sklearn.linear_model import LinearRegression, Ridge, LassoCV, Lasso, ElasticNetCV\n",
    "from sklearn.svm import LinearSVR\n",
    "from src.data import make_dataset\n",
    "from src.features import build_features,build_targets\n",
    "from src.models import predict_model, train_model, split_data\n",
    "import numpy as np\n",
    "import matplotlib.pyplot as plt"
   ],
   "metadata": {
    "collapsed": false,
    "pycharm": {
     "name": "#%%\n",
     "is_executing": false
    }
   }
  },
  {
   "cell_type": "code",
   "execution_count": 2,
   "outputs": [],
   "source": [
    "# OPTIONAL: Load the \"autoreload\" extension so that code can change\n",
    "%load_ext autoreload\n",
    "# OPTIONAL: always reload modules so that as you change code in src, it gets loaded\n",
    "%autoreload 2\n",
    "seed=42"
   ],
   "metadata": {
    "collapsed": false,
    "pycharm": {
     "name": "#%%\n",
     "is_executing": false
    }
   }
  },
  {
   "cell_type": "code",
   "execution_count": 3,
   "outputs": [],
   "source": [
    "# Load data\n",
    "molecules=make_dataset.load()"
   ],
   "metadata": {
    "collapsed": false,
    "pycharm": {
     "name": "#%%\n",
     "is_executing": false
    }
   }
  },
  {
   "cell_type": "code",
   "execution_count": 131,
   "outputs": [
    {
     "name": "stdout",
     "text": [
      "mean value of features = 0.149053955078125\n"
     ],
     "output_type": "stream"
    }
   ],
   "source": [
    "# Build the features\n",
    "X=build_features.build(molecules,fpSize=512)"
   ],
   "metadata": {
    "collapsed": false,
    "pycharm": {
     "name": "#%%\n",
     "is_executing": false
    }
   }
  },
  {
   "cell_type": "code",
   "execution_count": 149,
   "outputs": [
    {
     "data": {
      "text/plain": "<Figure size 432x288 with 1 Axes>",
      "image/png": "[encoded data removed]"
     },
     "metadata": {
      "needs_background": "light"
     },
     "output_type": "display_data"
    },
    {
     "name": "stdout",
     "text": [
      "Different at 53/512\n"
     ],
     "output_type": "stream"
    }
   ],
   "source": [
    "# Plot one of the feature vectors\n",
    "m1=[i for i in range(len(molecules)) if molecules[i].GetProp(\"NAME\")=='91E2']\n",
    "m1=m1[0]\n",
    "m2=[i for i in range(len(molecules)) if molecules[i].GetProp(\"NAME\")=='91F2']\n",
    "m2=m2[0]\n",
    "plt.plot(X[m1]-X[m2])\n",
    "plt.ylabel(\"%s - %s\"%(molecules[m1].GetProp(\"NAME\"),molecules[m2].GetProp(\"NAME\")))\n",
    "plt.show()\n",
    "print(\"Different at %d/%d\"%(sum(X[m1]!=X[m2]),len(X[m1])))"
   ],
   "metadata": {
    "collapsed": false,
    "pycharm": {
     "name": "#%%\n",
     "is_executing": false
    }
   }
  },
  {
   "cell_type": "code",
   "execution_count": 74,
   "outputs": [
    {
     "name": "stdout",
     "text": [
      "Column names are Target, H960-266, H960-319, H960-850, H960-892, H960-735, H960-425, H960-940, H960-613, H960-251, H960-003, H960-875, H960-650, H960-172, H960-186, H960-050, H960-594, H960-228, H960-316, H960-488, H960-629, H960-668, H960-5050, H960-561, H960-156, H960-922, H960-843, H960-616, H960-617, H960-505, H960-072, H960-724, H960-315, H960-939, H960-256, H960-920, H960-869, H960-356, H960-337, H960-540, NSRef-630, NS-404, NS-231, NS-160, Amb-767, Amb-563, Amb-113, Amb-751, Amb-816, Amb-720, Amb-318, Amb-6319\n",
      "Processed 101 targets.\n",
      "['1A4', '1C5', '1C7', '1F7', '101B7', '101C7', '101D11', '101D7', '101D9', '101E10', '101E6', '101F11', '101F2', '101F7', '101G6', '101H6', '111E3', '111H2', '111H7', '11D3', '21G8', '31B11', '31B9', '31C10', '31C2', '31C3', '31C8', '31D4', '31D7', '31D8', '31E10', '31E3', '31E4', '31E7', '31E9', '31F10', '31H10', '41A11', '41C4', '41C5', '41C7', '41D10', '41D4', '41D7', '41E10', '41E2', '41E3', '41E4', '41E7', '41E9', '41F10', '41F2', '41F3', '41F4', '41F6', '41F7', '41H10', '41H7', '51B8', '51E4', '51E9', '51G2', '51H8', '61C2', '61C3', '61C4', '61C5', '61C7', '61E4', '61F2', '61F7', '71E11', '91A2', '91A3', '91A4', '91B2', '91B3', '91B4', '91C2', '91C3', '91C4', '91D2', '91D3', '91D4', '91E2', '91E3', '91E4', '91E8', '91F2', '91F3', '91F4', '91F5', '91F6', '91F7', '91F8', '91G2', '91G4', '91H11', '91H2', '91H3', '91H7']\n"
     ],
     "output_type": "stream"
    }
   ],
   "source": [
    "# Build the targets\n",
    "keep=['H960-003','Amb-751']\n",
    "(y,aptamers)=build_targets.build_fold(molecules,keep)"
   ],
   "metadata": {
    "collapsed": false,
    "pycharm": {
     "name": "#%%\n",
     "is_executing": false
    }
   }
  },
  {
   "cell_type": "code",
   "execution_count": 49,
   "outputs": [
    {
     "data": {
      "text/plain": "<Figure size 432x288 with 1 Axes>",
      "image/png": "[encoded data removed]"
     },
     "metadata": {
      "needs_background": "light"
     },
     "output_type": "display_data"
    }
   ],
   "source": [
    "# Plot the target distribution\n",
    "plt.hist(y[0])\n",
    "plt.yscale('log')\n",
    "plt.show()"
   ],
   "metadata": {
    "collapsed": false,
    "pycharm": {
     "name": "#%%\n",
     "is_executing": false
    }
   }
  },
  {
   "cell_type": "code",
   "execution_count": 133,
   "outputs": [
    {
     "name": "stdout",
     "text": [
      "Fraction hits: train: 0.020, test: 0.025\n"
     ],
     "output_type": "stream"
    }
   ],
   "source": [
    "# Create train/test sets\n",
    "X_train, X_test, y_train, y_test, ind_train, ind_test = split_data.split(0.4,X,np.transpose(y),seed)\n",
    "y_test=np.transpose(y_test)\n",
    "y_train=np.transpose(y_train)\n",
    "mol_test=[molecules[x] for x in ind_test]\n",
    "mol_train=[molecules[x] for x in ind_train]"
   ],
   "metadata": {
    "collapsed": false,
    "pycharm": {
     "name": "#%%\n",
     "is_executing": false
    }
   }
  },
  {
   "cell_type": "code",
   "execution_count": 134,
   "outputs": [
    {
     "name": "stdout",
     "text": [
      "LinearRegression(copy_X=True, fit_intercept=True, n_jobs=None, normalize=False)\n",
      "{'fit_time': array([0.03098297, 0.02358103, 0.02237797]), 'score_time': array([0.00090814, 0.00048208, 0.00053406]), 'test_score': array([-0.03239599, -0.03056814, -0.03451219]), 'train_score': array([-1.52341090e-31, -2.31530790e-31, -2.07913424e-31])}\n",
      "Cross-validation scores: test=-0.032+-0.002, train=-0.000+-0.000\n",
      "features: [ 15  19  34  57  65  84  91 107 113 148 164 173 179 200 206 224 236 273\n",
      " 334 337 347 356 365 396 403 424 426 440 441 506]\n",
      "LinearRegression(copy_X=True, fit_intercept=True, n_jobs=None, normalize=False)\n",
      "{'fit_time': array([0.00093889, 0.00081897, 0.00064707]), 'score_time': array([0.00023818, 0.00022221, 0.00022912]), 'test_score': array([-0.02307886, -0.01162276, -0.01069211]), 'train_score': array([-0.0089284 , -0.01422296, -0.01454076])}\n",
      "Cross-validation scores: test=-0.015+-0.006, train=-0.013+-0.003\n",
      "LinearSVR(C=0.001, dual=True, epsilon=0, fit_intercept=True,\n",
      "          intercept_scaling=1.0, loss='epsilon_insensitive', max_iter=10000,\n",
      "          random_state=None, tol=0.0001, verbose=0)\n",
      "{'fit_time': array([0.01015878, 0.00598907, 0.00983286]), 'score_time': array([0.00056696, 0.00034404, 0.00057507]), 'test_score': array([-0.02232445, -0.01073485, -0.01140329]), 'train_score': array([-0.00990276, -0.01503495, -0.01528834])}\n",
      "Cross-validation scores: test=-0.015+-0.005, train=-0.013+-0.002\n",
      "LassoCV(alphas=None, copy_X=True, cv='warn', eps=0.001, fit_intercept=True,\n",
      "        max_iter=1000, n_alphas=100, n_jobs=None, normalize=False,\n",
      "        positive=False, precompute='auto', random_state=None,\n",
      "        selection='cyclic', tol=0.0001, verbose=False)\n",
      "{'fit_time': array([0.1063571 , 0.1955719 , 0.08524299]), 'score_time': array([0.00060678, 0.00037408, 0.00046992]), 'test_score': array([-0.02214325, -0.01230911, -0.01244192]), 'train_score': array([-0.01223869, -0.01711842, -0.01701382])}\n",
      "Cross-validation scores: test=-0.016+-0.005, train=-0.015+-0.002\n",
      "ElasticNetCV(alphas=None, copy_X=True, cv='warn', eps=0.001, fit_intercept=True,\n",
      "             l1_ratio=0.5, max_iter=1000, n_alphas=100, n_jobs=None,\n",
      "             normalize=False, positive=False, precompute='auto',\n",
      "             random_state=None, selection='cyclic', tol=0.0001, verbose=0)\n",
      "{'fit_time': array([0.09235907, 0.09959006, 0.11724281]), 'score_time': array([0.00041294, 0.00034094, 0.00038981]), 'test_score': array([-0.02214325, -0.01230911, -0.01244192]), 'train_score': array([-0.01223869, -0.01711842, -0.01701382])}\n",
      "Cross-validation scores: test=-0.016+-0.005, train=-0.015+-0.002\n"
     ],
     "output_type": "stream"
    },
    {
     "name": "stderr",
     "text": [
      "/opt/anaconda3/envs/moldist2/lib/python3.7/site-packages/sklearn/model_selection/_split.py:1978: FutureWarning: The default value of cv will change from 3 to 5 in version 0.22. Specify it explicitly to silence this warning.\n",
      "  warnings.warn(CV_WARNING, FutureWarning)\n",
      "/opt/anaconda3/envs/moldist2/lib/python3.7/site-packages/sklearn/model_selection/_split.py:1978: FutureWarning: The default value of cv will change from 3 to 5 in version 0.22. Specify it explicitly to silence this warning.\n",
      "  warnings.warn(CV_WARNING, FutureWarning)\n",
      "/opt/anaconda3/envs/moldist2/lib/python3.7/site-packages/sklearn/model_selection/_split.py:1978: FutureWarning: The default value of cv will change from 3 to 5 in version 0.22. Specify it explicitly to silence this warning.\n",
      "  warnings.warn(CV_WARNING, FutureWarning)\n",
      "/opt/anaconda3/envs/moldist2/lib/python3.7/site-packages/sklearn/model_selection/_split.py:1978: FutureWarning: The default value of cv will change from 3 to 5 in version 0.22. Specify it explicitly to silence this warning.\n",
      "  warnings.warn(CV_WARNING, FutureWarning)\n",
      "/opt/anaconda3/envs/moldist2/lib/python3.7/site-packages/sklearn/model_selection/_split.py:1978: FutureWarning: The default value of cv will change from 3 to 5 in version 0.22. Specify it explicitly to silence this warning.\n",
      "  warnings.warn(CV_WARNING, FutureWarning)\n",
      "/opt/anaconda3/envs/moldist2/lib/python3.7/site-packages/sklearn/model_selection/_split.py:1978: FutureWarning: The default value of cv will change from 3 to 5 in version 0.22. Specify it explicitly to silence this warning.\n",
      "  warnings.warn(CV_WARNING, FutureWarning)\n"
     ],
     "output_type": "stream"
    }
   ],
   "source": [
    "# Test models to (manually) choose best one based on cross-validation over training set\n",
    "test_aptamer=1\n",
    "max_features=30\n",
    "train_model.cv_model(LinearRegression(), X_train, y_train[test_aptamer])\n",
    "train_model.cv_model_sfm(LinearRegression(), X_train, y_train[test_aptamer],max_features=max_features)\n",
    "train_model.cv_model(LinearSVR(C=.001,max_iter=10000,epsilon=0), X_train, y_train[test_aptamer])\n",
    "train_model.cv_model(LassoCV(), X_train, y_train[test_aptamer])\n",
    "train_model.cv_model(ElasticNetCV(), X_train, y_train[test_aptamer])"
   ],
   "metadata": {
    "collapsed": false,
    "pycharm": {
     "name": "#%%\n",
     "is_executing": false
    }
   }
  },
  {
   "cell_type": "code",
   "execution_count": 123,
   "outputs": [],
   "source": [
    "# Train model using best model determined above\n",
    "model=train_model.train_multi(LinearSVR(C=.000001,max_iter=10000,epsilon=0.1,random_state=seed),X_train,y_train)"
   ],
   "metadata": {
    "collapsed": false,
    "pycharm": {
     "name": "#%%\n",
     "is_executing": false
    }
   }
  },
  {
   "cell_type": "code",
   "execution_count": 124,
   "outputs": [
    {
     "name": "stdout",
     "text": [
      "------\n",
      "LinearSVR(C=1e-06, dual=True, epsilon=0.1, fit_intercept=True,\n",
      "          intercept_scaling=1.0, loss='epsilon_insensitive', max_iter=10000,\n",
      "          random_state=42, tol=0.0001, verbose=0)\n",
      "Train:\n",
      "score= [0.00018951428262503622, 0.003833998742699407]\n",
      "mean(score)=0.002\n",
      "Test:\n",
      "score= [-0.0032463853696482747, -0.007682630028783999]\n",
      "mean(score)=-0.005\n"
     ],
     "output_type": "stream"
    },
    {
     "data": {
      "text/plain": "<Figure size 432x288 with 1 Axes>",
      "image/png": "[encoded data removed]"
     },
     "metadata": {
      "needs_background": "light"
     },
     "output_type": "display_data"
    },
    {
     "data": {
      "text/plain": "<Figure size 432x288 with 1 Axes>",
      "image/png": "[encoded data removed]"
     },
     "metadata": {
      "needs_background": "light"
     },
     "output_type": "display_data"
    }
   ],
   "source": [
    "# Test model\n",
    "print(\"------\")\n",
    "print(model[0])\n",
    "print(\"Train:\")\n",
    "yp_train=predict_model.predict_reg(model,X_train,y_train,mol_train)\n",
    "yp_train=np.transpose(yp_train)\n",
    "print(\"Test:\")\n",
    "yp_test=predict_model.predict_reg(model,X_test,y_test,mol_test)\n",
    "yp_test=np.transpose(yp_test)\n",
    "\n",
    "for i in range(len(y_train)):\n",
    "    plt.scatter(y_train[i] ,yp_train[i],label=\"Train\",s=1)\n",
    "ax=plt.gca()\n",
    "#ax.set_yscale('log')\n",
    "#ax.set_xscale('log')\n",
    "plt.xlabel(\"Measured - log(fold)\")\n",
    "plt.ylabel(\"Predicted\")\n",
    "plt.title(\"Train\")\n",
    "plt.show()\n",
    "\n",
    "for i in range(len(y_test)):\n",
    "    plt.scatter(y_test[i],yp_test[i] ,label=\"Test\",s=1)\n",
    "ax=plt.gca()\n",
    "#ax.set_yscale('log')\n",
    "#ax.set_xscale('log')\n",
    "plt.xlabel(\"Measured - log(fold)\")\n",
    "plt.ylabel(\"Predicted\")\n",
    "plt.title(\"Test\")\n",
    "plt.show()\n"
   ],
   "metadata": {
    "collapsed": false,
    "pycharm": {
     "name": "#%%\n",
     "is_executing": false
    }
   }
  }
 ],
 "metadata": {
  "kernelspec": {
   "display_name": "Python 3",
   "language": "python",
   "name": "python3"
  },
  "language_info": {
   "codemirror_mode": {
    "name": "ipython",
    "version": 2
   },
   "file_extension": ".py",
   "mimetype": "text/x-python",
   "name": "python",
   "nbconvert_exporter": "python",
   "pygments_lexer": "ipython2",
   "version": "2.7.6"
  },
  "pycharm": {
   "stem_cell": {
    "cell_type": "raw",
    "source": [],
    "metadata": {
     "collapsed": false
    }
   }
  }
 },
 "nbformat": 4,
 "nbformat_minor": 0
}