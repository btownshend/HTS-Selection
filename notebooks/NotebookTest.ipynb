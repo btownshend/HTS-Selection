{
 "cells": [
  {
   "cell_type": "code",
   "execution_count": 1,
   "metadata": {
    "pycharm": {
     "is_executing": false
    }
   },
   "outputs": [
    {
     "name": "stderr",
     "text": [
      "RDKit WARNING: [00:08:19] Enabling RDKit 2019.09.2 jupyter extensions\n"
     ],
     "output_type": "stream"
    }
   ],
   "source": [
    "import sklearn as sk\n",
    "import rdkit as rd\n",
    "from rdkit.Chem import AllChem\n",
    "from rdkit.Chem import Draw\n",
    "import matplotlib \n",
    "matplotlib.use('Qt5Agg') \n",
    "import matplotlib.pyplot as plt"
   ]
  },
  {
   "cell_type": "code",
   "execution_count": 2,
   "metadata": {
    "pycharm": {
     "is_executing": false
    }
   },
   "outputs": [],
   "source": [
    "suppl = rd.Chem.SDMolSupplier('../data/raw/ChemDivFull.sdf')"
   ]
  },
  {
   "cell_type": "code",
   "execution_count": 3,
   "metadata": {
    "pycharm": {
     "is_executing": false
    }
   },
   "outputs": [
    {
     "name": "stdout",
     "text": [
      "12 ['CDIV0001', 'CDIV0011', 'CDIV0021', 'CDIV0031', 'CDIV0041', 'CDIV0051', 'CDIV0061', 'CDIV0071', 'CDIV0081', 'CDIV0091', 'CDIV0101', 'CDIV0111']\n"
     ],
     "output_type": "stream"
    }
   ],
   "source": [
    "# Extract only the 960 tested molecules\n",
    "plates = [\"CDIV%04d\"%p for p in range(1,121,10)]\n",
    "print(len(plates),plates)"
   ]
  },
  {
   "cell_type": "code",
   "execution_count": 4,
   "metadata": {
    "pycharm": {
     "is_executing": false
    }
   },
   "outputs": [
    {
     "name": "stdout",
     "text": [
      "50000 960\n"
     ],
     "output_type": "stream"
    }
   ],
   "source": [
    "tested = [x for x in suppl if x.GetProp(\"BATCH_PLATE\") in plates]\n",
    "print(len(suppl),len(tested))"
   ]
  },
  {
   "cell_type": "code",
   "execution_count": 5,
   "metadata": {
    "pycharm": {
     "is_executing": false
    }
   },
   "outputs": [
    {
     "name": "stdout",
     "text": [
      "1 A02 1A2\n",
      "1 A03 1A3\n",
      "1 A04 1A4\n",
      "1 A05 1A5\n",
      "1 A06 1A6\n",
      "1 A07 1A7\n",
      "1 A08 1A8\n",
      "1 A09 1A9\n",
      "1 A10 1A1\n",
      "1 A11 1A11\n",
      "1 B02 1B2\n",
      "1 B03 1B3\n",
      "1 B04 1B4\n",
      "1 B05 1B5\n",
      "1 B06 1B6\n",
      "1 B07 1B7\n",
      "1 B08 1B8\n",
      "1 B09 1B9\n",
      "1 B10 1B1\n",
      "1 B11 1B11\n",
      "1 C02 1C2\n",
      "1 C03 1C3\n",
      "1 C04 1C4\n",
      "1 C05 1C5\n",
      "1 C06 1C6\n",
      "1 C07 1C7\n",
      "1 C08 1C8\n",
      "1 C09 1C9\n",
      "1 C10 1C1\n",
      "1 C11 1C11\n",
      "1 D02 1D2\n",
      "1 D03 1D3\n",
      "1 D04 1D4\n",
      "1 D05 1D5\n",
      "1 D06 1D6\n",
      "1 D07 1D7\n",
      "1 D08 1D8\n",
      "1 D09 1D9\n",
      "1 D10 1D1\n",
      "1 D11 1D11\n",
      "1 E02 1E2\n",
      "1 E03 1E3\n",
      "1 E04 1E4\n",
      "1 E05 1E5\n",
      "1 E06 1E6\n",
      "1 E07 1E7\n",
      "1 E08 1E8\n",
      "1 E09 1E9\n",
      "1 E10 1E1\n",
      "1 E11 1E11\n",
      "1 F02 1F2\n",
      "1 F03 1F3\n",
      "1 F04 1F4\n",
      "1 F05 1F5\n",
      "1 F06 1F6\n",
      "1 F07 1F7\n",
      "1 F08 1F8\n",
      "1 F09 1F9\n",
      "1 F10 1F1\n",
      "1 F11 1F11\n",
      "1 G02 1G2\n",
      "1 G03 1G3\n",
      "1 G04 1G4\n",
      "1 G05 1G5\n",
      "1 G06 1G6\n",
      "1 G07 1G7\n",
      "1 G08 1G8\n",
      "1 G09 1G9\n",
      "1 G10 1G1\n",
      "1 G11 1G11\n",
      "1 H02 1H2\n",
      "1 H03 1H3\n",
      "1 H04 1H4\n",
      "1 H05 1H5\n",
      "1 H06 1H6\n",
      "1 H07 1H7\n",
      "1 H08 1H8\n",
      "1 H09 1H9\n",
      "1 H10 1H1\n",
      "1 H11 1H11\n",
      "11 A02 11A2\n",
      "11 A03 11A3\n",
      "11 A04 11A4\n",
      "11 A05 11A5\n",
      "11 A06 11A6\n",
      "11 A07 11A7\n",
      "11 A08 11A8\n",
      "11 A09 11A9\n",
      "11 A10 11A1\n",
      "11 A11 11A11\n",
      "11 B02 11B2\n",
      "11 B03 11B3\n",
      "11 B04 11B4\n",
      "11 B05 11B5\n",
      "11 B06 11B6\n",
      "11 B07 11B7\n",
      "11 B08 11B8\n",
      "11 B09 11B9\n",
      "11 B10 11B1\n",
      "11 B11 11B11\n",
      "11 C02 11C2\n",
      "11 C03 11C3\n",
      "11 C04 11C4\n",
      "11 C05 11C5\n",
      "11 C06 11C6\n",
      "11 C07 11C7\n",
      "11 C08 11C8\n",
      "11 C09 11C9\n",
      "11 C10 11C1\n",
      "11 C11 11C11\n",
      "11 D02 11D2\n",
      "11 D03 11D3\n",
      "11 D04 11D4\n",
      "11 D05 11D5\n",
      "11 D06 11D6\n",
      "11 D07 11D7\n",
      "11 D08 11D8\n",
      "11 D09 11D9\n",
      "11 D10 11D1\n",
      "11 D11 11D11\n",
      "11 E02 11E2\n",
      "11 E03 11E3\n",
      "11 E04 11E4\n",
      "11 E05 11E5\n",
      "11 E06 11E6\n",
      "11 E07 11E7\n",
      "11 E08 11E8\n",
      "11 E09 11E9\n",
      "11 E10 11E1\n",
      "11 E11 11E11\n",
      "11 F02 11F2\n",
      "11 F03 11F3\n",
      "11 F04 11F4\n",
      "11 F05 11F5\n",
      "11 F06 11F6\n",
      "11 F07 11F7\n",
      "11 F08 11F8\n",
      "11 F09 11F9\n",
      "11 F10 11F1\n",
      "11 F11 11F11\n",
      "11 G02 11G2\n",
      "11 G03 11G3\n",
      "11 G04 11G4\n",
      "11 G05 11G5\n",
      "11 G06 11G6\n",
      "11 G07 11G7\n",
      "11 G08 11G8\n",
      "11 G09 11G9\n",
      "11 G10 11G1\n",
      "11 G11 11G11\n",
      "11 H02 11H2\n",
      "11 H03 11H3\n",
      "11 H04 11H4\n",
      "11 H05 11H5\n",
      "11 H06 11H6\n",
      "11 H07 11H7\n",
      "11 H08 11H8\n",
      "11 H09 11H9\n",
      "11 H10 11H1\n",
      "11 H11 11H11\n",
      "21 A02 21A2\n",
      "21 A03 21A3\n",
      "21 A04 21A4\n",
      "21 A05 21A5\n",
      "21 A06 21A6\n",
      "21 A07 21A7\n",
      "21 A08 21A8\n",
      "21 A09 21A9\n",
      "21 A10 21A1\n",
      "21 A11 21A11\n",
      "21 B02 21B2\n",
      "21 B03 21B3\n",
      "21 B04 21B4\n",
      "21 B05 21B5\n",
      "21 B06 21B6\n",
      "21 B07 21B7\n",
      "21 B08 21B8\n",
      "21 B09 21B9\n",
      "21 B10 21B1\n",
      "21 B11 21B11\n",
      "21 C02 21C2\n",
      "21 C03 21C3\n",
      "21 C04 21C4\n",
      "21 C05 21C5\n",
      "21 C06 21C6\n",
      "21 C07 21C7\n",
      "21 C08 21C8\n",
      "21 C09 21C9\n",
      "21 C10 21C1\n",
      "21 C11 21C11\n",
      "21 D02 21D2\n",
      "21 D03 21D3\n",
      "21 D04 21D4\n",
      "21 D05 21D5\n",
      "21 D06 21D6\n",
      "21 D07 21D7\n",
      "21 D08 21D8\n",
      "21 D09 21D9\n",
      "21 D10 21D1\n",
      "21 D11 21D11\n",
      "21 E02 21E2\n",
      "21 E03 21E3\n",
      "21 E04 21E4\n",
      "21 E05 21E5\n",
      "21 E06 21E6\n",
      "21 E07 21E7\n",
      "21 E08 21E8\n",
      "21 E09 21E9\n",
      "21 E10 21E1\n",
      "21 E11 21E11\n",
      "21 F02 21F2\n",
      "21 F03 21F3\n",
      "21 F04 21F4\n",
      "21 F05 21F5\n",
      "21 F06 21F6\n",
      "21 F07 21F7\n",
      "21 F08 21F8\n",
      "21 F09 21F9\n",
      "21 F10 21F1\n",
      "21 F11 21F11\n",
      "21 G02 21G2\n",
      "21 G03 21G3\n",
      "21 G04 21G4\n",
      "21 G05 21G5\n",
      "21 G06 21G6\n",
      "21 G07 21G7\n",
      "21 G08 21G8\n",
      "21 G09 21G9\n",
      "21 G10 21G1\n",
      "21 G11 21G11\n",
      "21 H02 21H2\n",
      "21 H03 21H3\n",
      "21 H04 21H4\n",
      "21 H05 21H5\n",
      "21 H06 21H6\n",
      "21 H07 21H7\n",
      "21 H08 21H8\n",
      "21 H09 21H9\n",
      "21 H10 21H1\n",
      "21 H11 21H11\n",
      "31 A02 31A2\n",
      "31 A03 31A3\n",
      "31 A04 31A4\n",
      "31 A05 31A5\n",
      "31 A06 31A6\n",
      "31 A07 31A7\n",
      "31 A08 31A8\n",
      "31 A09 31A9\n",
      "31 A10 31A1\n",
      "31 A11 31A11\n",
      "31 B02 31B2\n",
      "31 B03 31B3\n",
      "31 B04 31B4\n",
      "31 B05 31B5\n",
      "31 B06 31B6\n",
      "31 B07 31B7\n",
      "31 B08 31B8\n",
      "31 B09 31B9\n",
      "31 B10 31B1\n",
      "31 B11 31B11\n",
      "31 C02 31C2\n",
      "31 C03 31C3\n",
      "31 C04 31C4\n",
      "31 C05 31C5\n",
      "31 C06 31C6\n",
      "31 C07 31C7\n",
      "31 C08 31C8\n",
      "31 C09 31C9\n",
      "31 C10 31C1\n",
      "31 C11 31C11\n",
      "31 D02 31D2\n",
      "31 D03 31D3\n",
      "31 D04 31D4\n",
      "31 D05 31D5\n",
      "31 D06 31D6\n",
      "31 D07 31D7\n",
      "31 D08 31D8\n",
      "31 D09 31D9\n",
      "31 D10 31D1\n",
      "31 D11 31D11\n",
      "31 E02 31E2\n",
      "31 E03 31E3\n",
      "31 E04 31E4\n",
      "31 E05 31E5\n",
      "31 E06 31E6\n",
      "31 E07 31E7\n",
      "31 E08 31E8\n",
      "31 E09 31E9\n",
      "31 E10 31E1\n",
      "31 E11 31E11\n",
      "31 F02 31F2\n",
      "31 F03 31F3\n",
      "31 F04 31F4\n",
      "31 F05 31F5\n",
      "31 F06 31F6\n",
      "31 F07 31F7\n",
      "31 F08 31F8\n",
      "31 F09 31F9\n",
      "31 F10 31F1\n",
      "31 F11 31F11\n",
      "31 G02 31G2\n",
      "31 G03 31G3\n",
      "31 G04 31G4\n",
      "31 G05 31G5\n",
      "31 G06 31G6\n",
      "31 G07 31G7\n",
      "31 G08 31G8\n",
      "31 G09 31G9\n",
      "31 G10 31G1\n",
      "31 G11 31G11\n",
      "31 H02 31H2\n",
      "31 H03 31H3\n",
      "31 H04 31H4\n",
      "31 H05 31H5\n",
      "31 H06 31H6\n",
      "31 H07 31H7\n",
      "31 H08 31H8\n",
      "31 H09 31H9\n",
      "31 H10 31H1\n",
      "31 H11 31H11\n",
      "41 A02 41A2\n",
      "41 A03 41A3\n",
      "41 A04 41A4\n",
      "41 A05 41A5\n",
      "41 A06 41A6\n",
      "41 A07 41A7\n",
      "41 A08 41A8\n",
      "41 A09 41A9\n",
      "41 A10 41A1\n",
      "41 A11 41A11\n",
      "41 B02 41B2\n",
      "41 B03 41B3\n",
      "41 B04 41B4\n",
      "41 B05 41B5\n",
      "41 B06 41B6\n",
      "41 B07 41B7\n",
      "41 B08 41B8\n",
      "41 B09 41B9\n",
      "41 B10 41B1\n",
      "41 B11 41B11\n",
      "41 C02 41C2\n",
      "41 C03 41C3\n",
      "41 C04 41C4\n",
      "41 C05 41C5\n",
      "41 C06 41C6\n",
      "41 C07 41C7\n",
      "41 C08 41C8\n",
      "41 C09 41C9\n",
      "41 C10 41C1\n",
      "41 C11 41C11\n",
      "41 D02 41D2\n",
      "41 D03 41D3\n",
      "41 D04 41D4\n",
      "41 D05 41D5\n",
      "41 D06 41D6\n",
      "41 D07 41D7\n",
      "41 D08 41D8\n",
      "41 D09 41D9\n",
      "41 D10 41D1\n",
      "41 D11 41D11\n",
      "41 E02 41E2\n",
      "41 E03 41E3\n",
      "41 E04 41E4\n",
      "41 E05 41E5\n",
      "41 E06 41E6\n",
      "41 E07 41E7\n",
      "41 E08 41E8\n",
      "41 E09 41E9\n",
      "41 E10 41E1\n",
      "41 E11 41E11\n",
      "41 F02 41F2\n",
      "41 F03 41F3\n",
      "41 F04 41F4\n",
      "41 F05 41F5\n",
      "41 F06 41F6\n",
      "41 F07 41F7\n",
      "41 F08 41F8\n",
      "41 F09 41F9\n",
      "41 F10 41F1\n",
      "41 F11 41F11\n",
      "41 G02 41G2\n",
      "41 G03 41G3\n",
      "41 G04 41G4\n",
      "41 G05 41G5\n",
      "41 G06 41G6\n",
      "41 G07 41G7\n",
      "41 G08 41G8\n",
      "41 G09 41G9\n",
      "41 G10 41G1\n",
      "41 G11 41G11\n",
      "41 H02 41H2\n",
      "41 H03 41H3\n",
      "41 H04 41H4\n",
      "41 H05 41H5\n",
      "41 H06 41H6\n",
      "41 H07 41H7\n",
      "41 H08 41H8\n",
      "41 H09 41H9\n",
      "41 H10 41H1\n",
      "41 H11 41H11\n",
      "51 A02 51A2\n",
      "51 A03 51A3\n",
      "51 A04 51A4\n",
      "51 A05 51A5\n",
      "51 A06 51A6\n",
      "51 A07 51A7\n",
      "51 A08 51A8\n",
      "51 A09 51A9\n",
      "51 A10 51A1\n",
      "51 A11 51A11\n",
      "51 B02 51B2\n",
      "51 B03 51B3\n",
      "51 B04 51B4\n",
      "51 B05 51B5\n",
      "51 B06 51B6\n",
      "51 B07 51B7\n",
      "51 B08 51B8\n",
      "51 B09 51B9\n",
      "51 B10 51B1\n",
      "51 B11 51B11\n",
      "51 C02 51C2\n",
      "51 C03 51C3\n",
      "51 C04 51C4\n",
      "51 C05 51C5\n",
      "51 C06 51C6\n",
      "51 C07 51C7\n",
      "51 C08 51C8\n",
      "51 C09 51C9\n",
      "51 C10 51C1\n",
      "51 C11 51C11\n",
      "51 D02 51D2\n",
      "51 D03 51D3\n",
      "51 D04 51D4\n",
      "51 D05 51D5\n",
      "51 D06 51D6\n",
      "51 D07 51D7\n",
      "51 D08 51D8\n",
      "51 D09 51D9\n",
      "51 D10 51D1\n",
      "51 D11 51D11\n",
      "51 E02 51E2\n",
      "51 E03 51E3\n",
      "51 E04 51E4\n",
      "51 E05 51E5\n",
      "51 E06 51E6\n",
      "51 E07 51E7\n",
      "51 E08 51E8\n",
      "51 E09 51E9\n",
      "51 E10 51E1\n",
      "51 E11 51E11\n",
      "51 F02 51F2\n",
      "51 F03 51F3\n",
      "51 F04 51F4\n",
      "51 F05 51F5\n",
      "51 F06 51F6\n",
      "51 F07 51F7\n",
      "51 F08 51F8\n",
      "51 F09 51F9\n",
      "51 F10 51F1\n",
      "51 F11 51F11\n",
      "51 G02 51G2\n",
      "51 G03 51G3\n",
      "51 G04 51G4\n",
      "51 G05 51G5\n",
      "51 G06 51G6\n",
      "51 G07 51G7\n",
      "51 G08 51G8\n",
      "51 G09 51G9\n",
      "51 G10 51G1\n",
      "51 G11 51G11\n",
      "51 H02 51H2\n",
      "51 H03 51H3\n",
      "51 H04 51H4\n",
      "51 H05 51H5\n",
      "51 H06 51H6\n",
      "51 H07 51H7\n",
      "51 H08 51H8\n",
      "51 H09 51H9\n",
      "51 H10 51H1\n",
      "51 H11 51H11\n",
      "61 A02 61A2\n",
      "61 A03 61A3\n",
      "61 A04 61A4\n",
      "61 A05 61A5\n",
      "61 A06 61A6\n",
      "61 A07 61A7\n",
      "61 A08 61A8\n",
      "61 A09 61A9\n",
      "61 A10 61A1\n",
      "61 A11 61A11\n",
      "61 B02 61B2\n",
      "61 B03 61B3\n",
      "61 B04 61B4\n",
      "61 B05 61B5\n",
      "61 B06 61B6\n",
      "61 B07 61B7\n",
      "61 B08 61B8\n",
      "61 B09 61B9\n",
      "61 B10 61B1\n",
      "61 B11 61B11\n",
      "61 C02 61C2\n",
      "61 C03 61C3\n",
      "61 C04 61C4\n",
      "61 C05 61C5\n",
      "61 C06 61C6\n",
      "61 C07 61C7\n",
      "61 C08 61C8\n",
      "61 C09 61C9\n",
      "61 C10 61C1\n",
      "61 C11 61C11\n",
      "61 D02 61D2\n",
      "61 D03 61D3\n",
      "61 D04 61D4\n",
      "61 D05 61D5\n",
      "61 D06 61D6\n",
      "61 D07 61D7\n",
      "61 D08 61D8\n",
      "61 D09 61D9\n",
      "61 D10 61D1\n",
      "61 D11 61D11\n",
      "61 E02 61E2\n",
      "61 E03 61E3\n",
      "61 E04 61E4\n",
      "61 E05 61E5\n",
      "61 E06 61E6\n",
      "61 E07 61E7\n",
      "61 E08 61E8\n",
      "61 E09 61E9\n",
      "61 E10 61E1\n",
      "61 E11 61E11\n",
      "61 F02 61F2\n",
      "61 F03 61F3\n",
      "61 F04 61F4\n",
      "61 F05 61F5\n",
      "61 F06 61F6\n",
      "61 F07 61F7\n",
      "61 F08 61F8\n",
      "61 F09 61F9\n",
      "61 F10 61F1\n",
      "61 F11 61F11\n",
      "61 G02 61G2\n",
      "61 G03 61G3\n",
      "61 G04 61G4\n",
      "61 G05 61G5\n",
      "61 G06 61G6\n",
      "61 G07 61G7\n",
      "61 G08 61G8\n",
      "61 G09 61G9\n",
      "61 G10 61G1\n",
      "61 G11 61G11\n",
      "61 H02 61H2\n",
      "61 H03 61H3\n",
      "61 H04 61H4\n",
      "61 H05 61H5\n",
      "61 H06 61H6\n",
      "61 H07 61H7\n",
      "61 H08 61H8\n",
      "61 H09 61H9\n",
      "61 H10 61H1\n",
      "61 H11 61H11\n",
      "71 A02 71A2\n",
      "71 A03 71A3\n",
      "71 A04 71A4\n",
      "71 A05 71A5\n",
      "71 A06 71A6\n",
      "71 A07 71A7\n",
      "71 A08 71A8\n",
      "71 A09 71A9\n",
      "71 A10 71A1\n",
      "71 A11 71A11\n",
      "71 B02 71B2\n",
      "71 B03 71B3\n",
      "71 B04 71B4\n",
      "71 B05 71B5\n",
      "71 B06 71B6\n",
      "71 B07 71B7\n",
      "71 B08 71B8\n",
      "71 B09 71B9\n",
      "71 B10 71B1\n",
      "71 B11 71B11\n",
      "71 C02 71C2\n",
      "71 C03 71C3\n",
      "71 C04 71C4\n",
      "71 C05 71C5\n",
      "71 C06 71C6\n",
      "71 C07 71C7\n",
      "71 C08 71C8\n",
      "71 C09 71C9\n",
      "71 C10 71C1\n",
      "71 C11 71C11\n",
      "71 D02 71D2\n",
      "71 D03 71D3\n",
      "71 D04 71D4\n",
      "71 D05 71D5\n",
      "71 D06 71D6\n",
      "71 D07 71D7\n",
      "71 D08 71D8\n",
      "71 D09 71D9\n",
      "71 D10 71D1\n",
      "71 D11 71D11\n",
      "71 E02 71E2\n",
      "71 E03 71E3\n",
      "71 E04 71E4\n",
      "71 E05 71E5\n",
      "71 E06 71E6\n",
      "71 E07 71E7\n",
      "71 E08 71E8\n",
      "71 E09 71E9\n",
      "71 E10 71E1\n",
      "71 E11 71E11\n",
      "71 F02 71F2\n",
      "71 F03 71F3\n",
      "71 F04 71F4\n",
      "71 F05 71F5\n",
      "71 F06 71F6\n",
      "71 F07 71F7\n",
      "71 F08 71F8\n",
      "71 F09 71F9\n",
      "71 F10 71F1\n",
      "71 F11 71F11\n",
      "71 G02 71G2\n",
      "71 G03 71G3\n",
      "71 G04 71G4\n",
      "71 G05 71G5\n",
      "71 G06 71G6\n",
      "71 G07 71G7\n",
      "71 G08 71G8\n",
      "71 G09 71G9\n",
      "71 G10 71G1\n",
      "71 G11 71G11\n",
      "71 H02 71H2\n",
      "71 H03 71H3\n",
      "71 H04 71H4\n",
      "71 H05 71H5\n",
      "71 H06 71H6\n",
      "71 H07 71H7\n",
      "71 H08 71H8\n",
      "71 H09 71H9\n",
      "71 H10 71H1\n",
      "71 H11 71H11\n",
      "81 A02 81A2\n",
      "81 A03 81A3\n",
      "81 A04 81A4\n",
      "81 A05 81A5\n",
      "81 A06 81A6\n",
      "81 A07 81A7\n",
      "81 A08 81A8\n",
      "81 A09 81A9\n",
      "81 A10 81A1\n",
      "81 A11 81A11\n",
      "81 B02 81B2\n",
      "81 B03 81B3\n",
      "81 B04 81B4\n",
      "81 B05 81B5\n",
      "81 B06 81B6\n",
      "81 B07 81B7\n",
      "81 B08 81B8\n",
      "81 B09 81B9\n",
      "81 B10 81B1\n",
      "81 B11 81B11\n",
      "81 C02 81C2\n",
      "81 C03 81C3\n",
      "81 C04 81C4\n",
      "81 C05 81C5\n",
      "81 C06 81C6\n",
      "81 C07 81C7\n",
      "81 C08 81C8\n",
      "81 C09 81C9\n",
      "81 C10 81C1\n",
      "81 C11 81C11\n",
      "81 D02 81D2\n",
      "81 D03 81D3\n",
      "81 D04 81D4\n",
      "81 D05 81D5\n",
      "81 D06 81D6\n",
      "81 D07 81D7\n",
      "81 D08 81D8\n",
      "81 D09 81D9\n",
      "81 D10 81D1\n",
      "81 D11 81D11\n",
      "81 E02 81E2\n",
      "81 E03 81E3\n",
      "81 E04 81E4\n",
      "81 E05 81E5\n",
      "81 E06 81E6\n",
      "81 E07 81E7\n",
      "81 E08 81E8\n",
      "81 E09 81E9\n",
      "81 E10 81E1\n",
      "81 E11 81E11\n",
      "81 F02 81F2\n",
      "81 F03 81F3\n",
      "81 F04 81F4\n",
      "81 F05 81F5\n",
      "81 F06 81F6\n",
      "81 F07 81F7\n",
      "81 F08 81F8\n",
      "81 F09 81F9\n",
      "81 F10 81F1\n",
      "81 F11 81F11\n",
      "81 G02 81G2\n",
      "81 G03 81G3\n",
      "81 G04 81G4\n",
      "81 G05 81G5\n",
      "81 G06 81G6\n",
      "81 G07 81G7\n",
      "81 G08 81G8\n",
      "81 G09 81G9\n",
      "81 G10 81G1\n",
      "81 G11 81G11\n",
      "81 H02 81H2\n",
      "81 H03 81H3\n",
      "81 H04 81H4\n",
      "81 H05 81H5\n",
      "81 H06 81H6\n",
      "81 H07 81H7\n",
      "81 H08 81H8\n",
      "81 H09 81H9\n",
      "81 H10 81H1\n",
      "81 H11 81H11\n",
      "91 A02 91A2\n",
      "91 A03 91A3\n",
      "91 A04 91A4\n",
      "91 A05 91A5\n",
      "91 A06 91A6\n",
      "91 A07 91A7\n",
      "91 A08 91A8\n",
      "91 A09 91A9\n",
      "91 A10 91A1\n",
      "91 A11 91A11\n",
      "91 B02 91B2\n",
      "91 B03 91B3\n",
      "91 B04 91B4\n",
      "91 B05 91B5\n",
      "91 B06 91B6\n",
      "91 B07 91B7\n",
      "91 B08 91B8\n",
      "91 B09 91B9\n",
      "91 B10 91B1\n",
      "91 B11 91B11\n",
      "91 C02 91C2\n",
      "91 C03 91C3\n",
      "91 C04 91C4\n",
      "91 C05 91C5\n",
      "91 C06 91C6\n",
      "91 C07 91C7\n",
      "91 C08 91C8\n",
      "91 C09 91C9\n",
      "91 C10 91C1\n",
      "91 C11 91C11\n",
      "91 D02 91D2\n",
      "91 D03 91D3\n",
      "91 D04 91D4\n",
      "91 D05 91D5\n",
      "91 D06 91D6\n",
      "91 D07 91D7\n",
      "91 D08 91D8\n",
      "91 D09 91D9\n",
      "91 D10 91D1\n",
      "91 D11 91D11\n",
      "91 E02 91E2\n",
      "91 E03 91E3\n",
      "91 E04 91E4\n",
      "91 E05 91E5\n",
      "91 E06 91E6\n",
      "91 E07 91E7\n",
      "91 E08 91E8\n",
      "91 E09 91E9\n",
      "91 E10 91E1\n",
      "91 E11 91E11\n",
      "91 F02 91F2\n",
      "91 F03 91F3\n",
      "91 F04 91F4\n",
      "91 F05 91F5\n",
      "91 F06 91F6\n",
      "91 F07 91F7\n",
      "91 F08 91F8\n",
      "91 F09 91F9\n",
      "91 F10 91F1\n",
      "91 F11 91F11\n",
      "91 G02 91G2\n",
      "91 G03 91G3\n",
      "91 G04 91G4\n",
      "91 G05 91G5\n",
      "91 G06 91G6\n",
      "91 G07 91G7\n",
      "91 G08 91G8\n",
      "91 G09 91G9\n",
      "91 G10 91G1\n",
      "91 G11 91G11\n",
      "91 H02 91H2\n",
      "91 H03 91H3\n",
      "91 H04 91H4\n",
      "91 H05 91H5\n",
      "91 H06 91H6\n",
      "91 H07 91H7\n",
      "91 H08 91H8\n",
      "91 H09 91H9\n",
      "91 H10 91H1\n",
      "91 H11 91H11\n",
      "101 A02 101A2\n",
      "101 A03 101A3\n",
      "101 A04 101A4\n",
      "101 A05 101A5\n",
      "101 A06 101A6\n",
      "101 A07 101A7\n",
      "101 A08 101A8\n",
      "101 A09 101A9\n",
      "101 A10 101A1\n",
      "101 A11 101A11\n",
      "101 B02 101B2\n",
      "101 B03 101B3\n",
      "101 B04 101B4\n",
      "101 B05 101B5\n",
      "101 B06 101B6\n",
      "101 B07 101B7\n",
      "101 B08 101B8\n",
      "101 B09 101B9\n",
      "101 B10 101B1\n",
      "101 B11 101B11\n",
      "101 C02 101C2\n",
      "101 C03 101C3\n",
      "101 C04 101C4\n",
      "101 C05 101C5\n",
      "101 C06 101C6\n",
      "101 C07 101C7\n",
      "101 C08 101C8\n",
      "101 C09 101C9\n",
      "101 C10 101C1\n",
      "101 C11 101C11\n",
      "101 D02 101D2\n",
      "101 D03 101D3\n",
      "101 D04 101D4\n",
      "101 D05 101D5\n",
      "101 D06 101D6\n",
      "101 D07 101D7\n",
      "101 D08 101D8\n",
      "101 D09 101D9\n",
      "101 D10 101D1\n",
      "101 D11 101D11\n",
      "101 E02 101E2\n",
      "101 E03 101E3\n",
      "101 E04 101E4\n",
      "101 E05 101E5\n",
      "101 E06 101E6\n",
      "101 E07 101E7\n",
      "101 E08 101E8\n",
      "101 E09 101E9\n",
      "101 E10 101E1\n",
      "101 E11 101E11\n",
      "101 F02 101F2\n",
      "101 F03 101F3\n",
      "101 F04 101F4\n",
      "101 F05 101F5\n",
      "101 F06 101F6\n",
      "101 F07 101F7\n",
      "101 F08 101F8\n",
      "101 F09 101F9\n",
      "101 F10 101F1\n",
      "101 F11 101F11\n",
      "101 G02 101G2\n",
      "101 G03 101G3\n",
      "101 G04 101G4\n",
      "101 G05 101G5\n",
      "101 G06 101G6\n",
      "101 G07 101G7\n",
      "101 G08 101G8\n",
      "101 G09 101G9\n",
      "101 G10 101G1\n",
      "101 G11 101G11\n",
      "101 H02 101H2\n",
      "101 H03 101H3\n",
      "101 H04 101H4\n",
      "101 H05 101H5\n",
      "101 H06 101H6\n",
      "101 H07 101H7\n",
      "101 H08 101H8\n",
      "101 H09 101H9\n",
      "101 H10 101H1\n",
      "101 H11 101H11\n",
      "111 A02 111A2\n",
      "111 A03 111A3\n",
      "111 A04 111A4\n",
      "111 A05 111A5\n",
      "111 A06 111A6\n",
      "111 A07 111A7\n",
      "111 A08 111A8\n",
      "111 A09 111A9\n",
      "111 A10 111A1\n",
      "111 A11 111A11\n",
      "111 B02 111B2\n",
      "111 B03 111B3\n",
      "111 B04 111B4\n",
      "111 B05 111B5\n",
      "111 B06 111B6\n",
      "111 B07 111B7\n",
      "111 B08 111B8\n",
      "111 B09 111B9\n",
      "111 B10 111B1\n",
      "111 B11 111B11\n",
      "111 C02 111C2\n",
      "111 C03 111C3\n",
      "111 C04 111C4\n",
      "111 C05 111C5\n",
      "111 C06 111C6\n",
      "111 C07 111C7\n",
      "111 C08 111C8\n",
      "111 C09 111C9\n",
      "111 C10 111C1\n",
      "111 C11 111C11\n",
      "111 D02 111D2\n",
      "111 D03 111D3\n",
      "111 D04 111D4\n",
      "111 D05 111D5\n",
      "111 D06 111D6\n",
      "111 D07 111D7\n",
      "111 D08 111D8\n",
      "111 D09 111D9\n",
      "111 D10 111D1\n",
      "111 D11 111D11\n",
      "111 E02 111E2\n",
      "111 E03 111E3\n",
      "111 E04 111E4\n",
      "111 E05 111E5\n",
      "111 E06 111E6\n",
      "111 E07 111E7\n",
      "111 E08 111E8\n",
      "111 E09 111E9\n",
      "111 E10 111E1\n",
      "111 E11 111E11\n",
      "111 F02 111F2\n",
      "111 F03 111F3\n",
      "111 F04 111F4\n",
      "111 F05 111F5\n",
      "111 F06 111F6\n",
      "111 F07 111F7\n",
      "111 F08 111F8\n",
      "111 F09 111F9\n",
      "111 F10 111F1\n",
      "111 F11 111F11\n",
      "111 G02 111G2\n",
      "111 G03 111G3\n",
      "111 G04 111G4\n",
      "111 G05 111G5\n",
      "111 G06 111G6\n",
      "111 G07 111G7\n",
      "111 G08 111G8\n",
      "111 G09 111G9\n",
      "111 G10 111G1\n",
      "111 G11 111G11\n",
      "111 H02 111H2\n",
      "111 H03 111H3\n",
      "111 H04 111H4\n",
      "111 H05 111H5\n",
      "111 H06 111H6\n",
      "111 H07 111H7\n",
      "111 H08 111H8\n",
      "111 H09 111H9\n",
      "111 H10 111H1\n",
      "111 H11 111H11\n"
     ],
     "output_type": "stream"
    }
   ],
   "source": [
    "for mol in tested:\n",
    "    if mol is None: continue\n",
    "    plate=mol.GetProp(\"BATCH_PLATE\")\n",
    "    plate=int(plate[5:])\n",
    "    well=mol.GetProp(\"BATCH_WELL\")\n",
    "    name=\"%d%s\"%(plate,well.replace('0',''))\n",
    "    print(plate,well,name)\n",
    "    mol.SetProp(\"NAME\",name)"
   ]
  },
  {
   "cell_type": "code",
   "execution_count": 6,
   "metadata": {
    "pycharm": {
     "is_executing": false
    }
   },
   "outputs": [
    {
     "name": "stdout",
     "text": [
      "__computedProps [numArom,_StereochemDone,]\n",
      "_Name \n",
      "_MolFileInfo   -ISIS-  01311913252D\n",
      "_MolFileComments \n",
      "numArom 3\n",
      "_StereochemDone 1\n",
      "compound_Corp_Reg_Number STF-085941\n",
      "rotatable_bonds 6.000000000000000e+000\n",
      "BATCH_NUMBER 1\n",
      "BATCH_MW 3.824600000000000e+002\n",
      "BATCH_VENDOR_CATALOG 6024-0185\n",
      "BATCH_PLATE CDIV0111\n",
      "BATCH_WELL H11\n",
      "LogP 5.249700000000000e+000\n",
      "LogS -6.007000000000000e+000\n",
      "H_Acceptors 4\n",
      "H_Donors 1\n",
      "AnlTst_Display NMR\n",
      "BatAnl_Link D:\\Spectra\\FirstSide\\10K\\6024-0185.emf\n",
      "VENDOR_DISPLAY ChemDiv\n",
      "NAME 111H11\n"
     ],
     "output_type": "stream"
    }
   ],
   "source": [
    "for x in tested[0].GetPropNames(includePrivate=True,includeComputed=True):\n",
    "    print(x,mol.GetProp(x))"
   ]
  },
  {
   "cell_type": "code",
   "execution_count": 7,
   "metadata": {
    "pycharm": {
     "is_executing": false
    }
   },
   "outputs": [
    {
     "data": {
      "text/plain": "0"
     },
     "metadata": {},
     "output_type": "execute_result",
     "execution_count": 7
    }
   ],
   "source": [
    "AllChem.Compute2DCoords(mol)"
   ]
  },
  {
   "cell_type": "code",
   "execution_count": 8,
   "metadata": {
    "pycharm": {
     "is_executing": false
    }
   },
   "outputs": [
    {
     "name": "stdout",
     "text": [
      "<rdkit.Chem.rdchem.Mol object at 0xa1eaefe90>\n"
     ],
     "output_type": "stream"
    }
   ],
   "source": [
    "print(mol)"
   ]
  },
  {
   "cell_type": "code",
   "execution_count": 9,
   "metadata": {
    "pycharm": {
     "is_executing": false
    }
   },
   "outputs": [],
   "source": [
    "m2=rd.Chem.AddHs(mol)\n",
    "AllChem.EmbedMolecule(m2)\n",
    "AllChem.MMFFOptimizeMolecule(m2)\n",
    "m2=rd.Chem.RemoveHs(m2)\n",
    "img=Draw.MolsToGridImage([mol,m2],molsPerRow=2,subImgSize=(200,200),legends=[\"2d\",\"3d\"])\n",
    "img.show()"
   ]
  },
  {
   "cell_type": "code",
   "execution_count": 10,
   "metadata": {
    "collapsed": true,
    "pycharm": {
     "is_executing": false
    }
   },
   "outputs": [
    {
     "name": "stdout",
     "text": [
      "\n",
      "     RDKit          2D\n",
      "\n",
      " 20 22  0  0  0  0  0  0  0  0999 V2000\n",
      "    0.5917   -1.2875    0.0000 C   0  0  0  0  0  0  0  0  0  0  0  0\n",
      "    0.0125   -0.4667    0.0000 N   0  0  0  0  0  0  0  0  0  0  0  0\n",
      "    1.5917   -1.2875    0.0000 C   0  0  0  0  0  0  0  0  0  0  0  0\n",
      "    0.0125   -2.0792    0.0000 N   0  0  0  0  0  0  0  0  0  0  0  0\n",
      "    2.1167   -0.4042    0.0000 C   0  0  0  0  0  0  0  0  0  0  0  0\n",
      "   -0.9250   -0.7750    0.0000 C   0  0  0  0  0  0  0  0  0  0  0  0\n",
      "    2.1167   -2.1375    0.0000 C   0  0  0  0  0  0  0  0  0  0  0  0\n",
      "   -0.9250   -1.7750    0.0000 C   0  0  0  0  0  0  0  0  0  0  0  0\n",
      "    2.6250   -3.0167    0.0000 N   0  0  0  0  0  0  0  0  0  0  0  0\n",
      "    1.5917    0.4458    0.0000 C   0  0  0  0  0  0  0  0  0  0  0  0\n",
      "    0.5542    2.1417    0.0000 C   0  0  0  0  0  0  0  0  0  0  0  0\n",
      "    0.0417    3.0250    0.0000 F   0  0  0  0  0  0  0  0  0  0  0  0\n",
      "    0.5917    0.4083    0.0000 C   0  0  0  0  0  0  0  0  0  0  0  0\n",
      "    2.1167    1.2958    0.0000 C   0  0  0  0  0  0  0  0  0  0  0  0\n",
      "    0.1042    1.2958    0.0000 C   0  0  0  0  0  0  0  0  0  0  0  0\n",
      "    1.5667    2.1833    0.0000 C   0  0  0  0  0  0  0  0  0  0  0  0\n",
      "   -1.7833   -0.2875    0.0000 C   0  0  0  0  0  0  0  0  0  0  0  0\n",
      "   -1.7833   -2.2917    0.0000 C   0  0  0  0  0  0  0  0  0  0  0  0\n",
      "   -2.6333   -1.7750    0.0000 C   0  0  0  0  0  0  0  0  0  0  0  0\n",
      "   -2.6333   -0.7750    0.0000 C   0  0  0  0  0  0  0  0  0  0  0  0\n",
      "  2  1  2  0\n",
      "  3  1  1  0\n",
      "  4  1  1  0\n",
      "  5  3  2  0\n",
      "  6  2  1  0\n",
      "  7  3  1  0\n",
      "  8  4  1  0\n",
      "  9  7  3  0\n",
      " 10  5  1  0\n",
      " 11 16  2  0\n",
      " 12 11  1  0\n",
      " 13 10  1  0\n",
      " 14 10  2  0\n",
      " 15 13  2  0\n",
      " 16 14  1  0\n",
      " 17  6  2  0\n",
      " 18  8  2  0\n",
      " 19 18  1  0\n",
      " 20 17  1  0\n",
      "  8  6  1  0\n",
      " 20 19  2  0\n",
      " 11 15  1  0\n",
      "M  END\n",
      "\n"
     ],
     "output_type": "stream"
    }
   ],
   "source": [
    "print(rd.Chem.MolToMolBlock(tested[1]))"
   ]
  },
  {
   "cell_type": "code",
   "execution_count": 11,
   "metadata": {
    "pycharm": {
     "is_executing": false
    }
   },
   "outputs": [],
   "source": [
    "def getMol(mols,plate,well):\n",
    "    mol=[x for x in mols if x.GetProp(\"BATCH_PLATE\")==\"CDIV%04d\"%plate and x.GetProp(\"BATCH_WELL\")==well]\n",
    "    assert(len(mol)==1)\n",
    "    return mol[0]"
   ]
  },
  {
   "cell_type": "code",
   "execution_count": 12,
   "metadata": {
    "pycharm": {
     "is_executing": false
    }
   },
   "outputs": [],
   "source": [
    "# Compare some molecules which give the same response\n",
    "m91d2=getMol(tested,91,'D02')\n",
    "m91e2=getMol(tested,91,\"E02\")\n",
    "img=Draw.MolsToGridImage([m91d2,m91e2],molsPerRow=2,subImgSize=(200,200),legends=[\"91E2\",\"91D2\"])\n",
    "img.show()"
   ]
  },
  {
   "cell_type": "code",
   "execution_count": 13,
   "metadata": {
    "pycharm": {
     "is_executing": false
    }
   },
   "outputs": [
    {
     "data": {
      "text/plain": "'[#6]12:[#6](:[#7]:[#6]3:[#7](:[#6]:1=[#8]):[#6]:[#6]:[#6]:[#6]:3):[#7](:[#6](:[#6](:[#6]:2)-[#6](=[#8])-[#7]-[#6])=[#7])-[#6]-[#6]-[#6]-[#8]-[#6]'"
     },
     "metadata": {},
     "output_type": "execute_result",
     "execution_count": 13
    }
   ],
   "source": [
    "from rdkit.Chem import rdFMCS\n",
    "res=rdFMCS.FindMCS([m91d2,m91e2])\n",
    "res.smartsString"
   ]
  },
  {
   "cell_type": "code",
   "execution_count": 14,
   "metadata": {
    "pycharm": {
     "is_executing": false
    }
   },
   "outputs": [
    {
     "data": {
      "text/plain": "<rdkit.Chem.rdFMCS.MCSResult at 0xa1fe58da0>"
     },
     "metadata": {},
     "output_type": "execute_result",
     "execution_count": 14
    }
   ],
   "source": [
    "res"
   ]
  },
  {
   "cell_type": "code",
   "execution_count": 15,
   "metadata": {
    "pycharm": {
     "is_executing": false
    }
   },
   "outputs": [],
   "source": [
    "# Check chemical features\n",
    "from rdkit import Chem\n",
    "from rdkit.Chem import ChemicalFeatures\n",
    "from rdkit import RDConfig\n",
    "import os\n",
    "fdefName = os.path.join(RDConfig.RDDataDir,'BaseFeatures.fdef')\n",
    "factory = ChemicalFeatures.BuildFeatureFactory(fdefName)\n",
    "feats = [factory.GetFeaturesForMol(x) for x in [m91d2,m91e2]]"
   ]
  },
  {
   "cell_type": "code",
   "execution_count": 16,
   "metadata": {
    "pycharm": {
     "is_executing": false
    }
   },
   "outputs": [
    {
     "data": {
      "text/plain": "13"
     },
     "metadata": {},
     "output_type": "execute_result",
     "execution_count": 16
    }
   ],
   "source": [
    "len(feats[1])"
   ]
  },
  {
   "cell_type": "code",
   "execution_count": 17,
   "metadata": {
    "collapsed": true,
    "pycharm": {
     "is_executing": false
    }
   },
   "outputs": [
    {
     "name": "stdout",
     "text": [
      "Help on MolChemicalFeature in module rdkit.Chem.rdMolChemicalFeatures object:\n",
      "\n",
      "class MolChemicalFeature(Boost.Python.instance)\n",
      " |  Class to represent a chemical feature.\n",
      " |  These chemical features may or may not have been derived from molecule object;\n",
      " |  i.e. it is possible to have a chemical feature that was created just from its type\n",
      " |  and location.\n",
      " |  \n",
      " |  Method resolution order:\n",
      " |      MolChemicalFeature\n",
      " |      Boost.Python.instance\n",
      " |      builtins.object\n",
      " |  \n",
      " |  Static methods defined here:\n",
      " |  \n",
      " |  ClearCache(...)\n",
      " |      ClearCache( (MolChemicalFeature)arg1) -> None :\n",
      " |          Clears the cache used to store position information.\n",
      " |      \n",
      " |          C++ signature :\n",
      " |              void ClearCache(RDKit::MolChemicalFeature {lvalue})\n",
      " |  \n",
      " |  GetActiveConformer(...)\n",
      " |      GetActiveConformer( (MolChemicalFeature)arg1) -> int :\n",
      " |          Gets the conformer to use.\n",
      " |      \n",
      " |          C++ signature :\n",
      " |              int GetActiveConformer(RDKit::MolChemicalFeature {lvalue})\n",
      " |  \n",
      " |  GetAtomIds(...)\n",
      " |      GetAtomIds( (MolChemicalFeature)arg1) -> object :\n",
      " |          Get the IDs of the atoms that participate in the feature\n",
      " |      \n",
      " |          C++ signature :\n",
      " |              _object* GetAtomIds(RDKit::MolChemicalFeature)\n",
      " |  \n",
      " |  GetFactory(...)\n",
      " |      GetFactory( (MolChemicalFeature)arg1) -> MolChemicalFeatureFactory :\n",
      " |          Get the factory used to generate this feature\n",
      " |      \n",
      " |          C++ signature :\n",
      " |              RDKit::MolChemicalFeatureFactory const* GetFactory(RDKit::MolChemicalFeature {lvalue})\n",
      " |  \n",
      " |  GetFamily(...)\n",
      " |      GetFamily( (MolChemicalFeature)arg1) -> str :\n",
      " |          Get the family to which the feature belongs; donor, acceptor, etc.\n",
      " |      \n",
      " |          C++ signature :\n",
      " |              std::__1::basic_string<char, std::__1::char_traits<char>, std::__1::allocator<char> > GetFamily(RDKit::MolChemicalFeature {lvalue})\n",
      " |  \n",
      " |  GetId(...)\n",
      " |      GetId( (MolChemicalFeature)arg1) -> int :\n",
      " |          Returns the identifier of the feature\n",
      " |          \n",
      " |      \n",
      " |          C++ signature :\n",
      " |              int GetId(RDKit::MolChemicalFeature {lvalue})\n",
      " |  \n",
      " |  GetMol(...)\n",
      " |      GetMol( (MolChemicalFeature)arg1) -> Mol :\n",
      " |          Get the molecule used to derive the features\n",
      " |      \n",
      " |          C++ signature :\n",
      " |              RDKit::ROMol const* GetMol(RDKit::MolChemicalFeature {lvalue})\n",
      " |  \n",
      " |  GetPos(...)\n",
      " |      GetPos( (MolChemicalFeature)self [, (int)confId=-1]) -> Point3D :\n",
      " |          Get the location of the chemical feature\n",
      " |      \n",
      " |          C++ signature :\n",
      " |              RDGeom::Point3D GetPos(RDKit::MolChemicalFeature {lvalue} [,int=-1])\n",
      " |  \n",
      " |  GetType(...)\n",
      " |      GetType( (MolChemicalFeature)arg1) -> str :\n",
      " |          Get the specific type for the feature\n",
      " |      \n",
      " |          C++ signature :\n",
      " |              std::__1::basic_string<char, std::__1::char_traits<char>, std::__1::allocator<char> > GetType(RDKit::MolChemicalFeature {lvalue})\n",
      " |  \n",
      " |  SetActiveConformer(...)\n",
      " |      SetActiveConformer( (MolChemicalFeature)arg1, (int)arg2) -> None :\n",
      " |          Sets the conformer to use (must be associated with a molecule).\n",
      " |      \n",
      " |          C++ signature :\n",
      " |              void SetActiveConformer(RDKit::MolChemicalFeature {lvalue},int)\n",
      " |  \n",
      " |  __init__(...)\n",
      " |      Raises an exception\n",
      " |      This class cannot be instantiated from Python\n",
      " |  \n",
      " |  __reduce__ = <unnamed Boost.Python function>(...)\n",
      " |  \n",
      " |  ----------------------------------------------------------------------\n",
      " |  Static methods inherited from Boost.Python.instance:\n",
      " |  \n",
      " |  __new__(*args, **kwargs) from Boost.Python.class\n",
      " |      Create and return a new object.  See help(type) for accurate signature.\n",
      " |  \n",
      " |  ----------------------------------------------------------------------\n",
      " |  Data descriptors inherited from Boost.Python.instance:\n",
      " |  \n",
      " |  __dict__\n",
      " |  \n",
      " |  __weakref__\n",
      "\n"
     ],
     "output_type": "stream"
    }
   ],
   "source": [
    "help(feats[0][0])"
   ]
  },
  {
   "cell_type": "code",
   "execution_count": 18,
   "metadata": {
    "collapsed": true,
    "pycharm": {
     "is_executing": false
    }
   },
   "outputs": [
    {
     "name": "stdout",
     "text": [
      "\n",
      "Donor SingleAtomDonor (11,)\n",
      "Donor SingleAtomDonor (19,)\n",
      "Acceptor SingleAtomAcceptor (2,)\n",
      "Acceptor SingleAtomAcceptor (13,)\n",
      "Acceptor SingleAtomAcceptor (15,)\n",
      "Acceptor SingleAtomAcceptor (21,)\n",
      "Aromatic Arom6 (0, 1, 5, 7, 8, 2)\n",
      "Aromatic Arom6 (0, 1, 9, 4, 6, 3)\n",
      "Aromatic Arom6 (7, 8, 14, 17, 16, 12)\n",
      "Hydrophobe ThreeWayAttach (1,)\n",
      "Hydrophobe ThreeWayAttach (4,)\n",
      "Hydrophobe ChainTwoWayAttach (20,)\n",
      "\n",
      "Donor SingleAtomDonor (13,)\n",
      "Donor SingleAtomDonor (19,)\n",
      "Acceptor SingleAtomAcceptor (2,)\n",
      "Acceptor SingleAtomAcceptor (16,)\n",
      "Acceptor SingleAtomAcceptor (17,)\n",
      "Acceptor SingleAtomAcceptor (21,)\n",
      "Aromatic Arom6 (0, 1, 6, 3, 8, 2)\n",
      "Aromatic Arom6 (0, 1, 9, 5, 7, 4)\n",
      "Aromatic Arom6 (3, 8, 12, 15, 14, 10)\n",
      "Hydrophobe ThreeWayAttach (1,)\n",
      "Hydrophobe ThreeWayAttach (5,)\n",
      "Hydrophobe ThreeWayAttach (14,)\n",
      "Hydrophobe ChainTwoWayAttach (20,)\n"
     ],
     "output_type": "stream"
    }
   ],
   "source": [
    "for fs in feats:\n",
    "    print(\"\")\n",
    "    for f in fs:\n",
    "        print(f.GetFamily(),f.GetType(),f.GetAtomIds())"
   ]
  },
  {
   "cell_type": "code",
   "execution_count": 19,
   "metadata": {
    "pycharm": {
     "is_executing": false
    }
   },
   "outputs": [],
   "source": [
    "# Generate pharmacophore fingerprints \n",
    "# from rdkit import Chem\n",
    "# from rdkit.Chem import ChemicalFeatures\n",
    "# fdefName = 'data/MinimalFeatures.fdef'\n",
    "# featFactory = ChemicalFeatures.BuildFeatureFactory(fdefName)"
   ]
  },
  {
   "cell_type": "code",
   "execution_count": 20,
   "metadata": {
    "pycharm": {
     "is_executing": false
    }
   },
   "outputs": [],
   "source": [
    "# from rdkit.Chem.Pharm2D.SigFactory import SigFactory\n",
    "# sigFactory = SigFactory(featFactory,minPointCount=2,maxPointCount=3)\n",
    "# sigFactory.SetBins([(0,2),(2,5),(5,8)])\n",
    "# sigFactory.Init()\n",
    "# sigFactory.GetSigSize()"
   ]
  },
  {
   "cell_type": "code",
   "execution_count": 21,
   "outputs": [
    {
     "name": "stdout",
     "text": [
      "[<rdkit.DataStructs.cDataStructs.ExplicitBitVect object at 0xa1fe85670>, <rdkit.DataStructs.cDataStructs.ExplicitBitVect object at 0xa1fe85940>]\n"
     ],
     "output_type": "stream"
    }
   ],
   "source": [
    "# Generate RDK fingerprints\n",
    "fp=[]\n",
    "for m in [m91d2, m91e2]:\n",
    "    fp.append(AllChem.RDKFingerprint(m, fpSize=2048))\n",
    "print(fp)"
   ],
   "metadata": {
    "collapsed": false,
    "pycharm": {
     "name": "#%%\n",
     "is_executing": false
    }
   }
  },
  {
   "cell_type": "code",
   "execution_count": 22,
   "outputs": [
    {
     "name": "stdout",
     "text": [
      "Help on ExplicitBitVect in module rdkit.DataStructs.cDataStructs object:\n",
      "\n",
      "class ExplicitBitVect(Boost.Python.instance)\n",
      " |  A class to store explicit bit vectors.\n",
      " |  \n",
      " |  This class is most useful for situations where the size of the vector\n",
      " |  is relatively small (tens of thousands or smaller).\n",
      " |  \n",
      " |  For larger vectors, use the _SparseBitVect_ class instead.\n",
      " |  \n",
      " |  As you would expect, _ExplicitBitVects_ support a set of binary operations\n",
      " |  so you can do things like:\n",
      " |    bv3 = bv1 & bv2  (bitwise and)\n",
      " |    bv3 = bv1 | bv2  (bitwise or)\n",
      " |    bv3 = bv1 ^ bv2  (bitwise xor)\n",
      " |    bv3 = ~bv1       (bitwise negation)\n",
      " |  \n",
      " |  Bits can be set and read using either the Set/UnsetBit() and GetBit() methods\n",
      " |  or by indexing (i.e. bv[i] = 1 or if bv[i]).\n",
      " |  \n",
      " |  Method resolution order:\n",
      " |      ExplicitBitVect\n",
      " |      Boost.Python.instance\n",
      " |      builtins.object\n",
      " |  \n",
      " |  Static methods defined here:\n",
      " |  \n",
      " |  FromBase64(...)\n",
      " |      FromBase64( (ExplicitBitVect)arg1, (str)arg2) -> None :\n",
      " |          Initializes the vector from a base64 encoded binary string.\n",
      " |          \n",
      " |      \n",
      " |          C++ signature :\n",
      " |              void FromBase64(ExplicitBitVect {lvalue},std::__1::basic_string<char, std::__1::char_traits<char>, std::__1::allocator<char> >)\n",
      " |  \n",
      " |  GetBit(...)\n",
      " |      GetBit( (ExplicitBitVect)arg1, (int)arg2) -> bool :\n",
      " |          Returns the value of a bit.\n",
      " |          \n",
      " |      \n",
      " |          C++ signature :\n",
      " |              bool GetBit(ExplicitBitVect {lvalue},unsigned int)\n",
      " |  \n",
      " |  GetNumBits(...)\n",
      " |      GetNumBits( (ExplicitBitVect)arg1) -> int :\n",
      " |          Returns the number of bits in the vector (the vector's size).\n",
      " |          \n",
      " |      \n",
      " |          C++ signature :\n",
      " |              unsigned int GetNumBits(ExplicitBitVect {lvalue})\n",
      " |  \n",
      " |  GetNumOffBits(...)\n",
      " |      GetNumOffBits( (ExplicitBitVect)arg1) -> int :\n",
      " |          Returns the number of off bits.\n",
      " |          \n",
      " |      \n",
      " |          C++ signature :\n",
      " |              unsigned int GetNumOffBits(ExplicitBitVect {lvalue})\n",
      " |  \n",
      " |  GetNumOnBits(...)\n",
      " |      GetNumOnBits( (ExplicitBitVect)arg1) -> int :\n",
      " |          Returns the number of on bits.\n",
      " |          \n",
      " |      \n",
      " |          C++ signature :\n",
      " |              unsigned int GetNumOnBits(ExplicitBitVect {lvalue})\n",
      " |  \n",
      " |  GetOnBits(...)\n",
      " |      GetOnBits( (ExplicitBitVect)arg1) -> _vecti :\n",
      " |          Returns a tuple containing IDs of the on bits.\n",
      " |          \n",
      " |      \n",
      " |          C++ signature :\n",
      " |              std::__1::vector<int, std::__1::allocator<int> > GetOnBits(ExplicitBitVect)\n",
      " |  \n",
      " |  SetBit(...)\n",
      " |      SetBit( (ExplicitBitVect)arg1, (int)arg2) -> bool :\n",
      " |          Turns on a particular bit.  Returns the original state of the bit.\n",
      " |          \n",
      " |      \n",
      " |          C++ signature :\n",
      " |              bool SetBit(ExplicitBitVect {lvalue},unsigned int)\n",
      " |  \n",
      " |  SetBitsFromList(...)\n",
      " |      SetBitsFromList( (ExplicitBitVect)arg1, (AtomPairsParameters)arg2) -> None :\n",
      " |          Turns on a set of bits.  The argument should be a tuple or list of bit ids.\n",
      " |          \n",
      " |      \n",
      " |          C++ signature :\n",
      " |              void SetBitsFromList(ExplicitBitVect*,boost::python::api::object)\n",
      " |  \n",
      " |  ToBase64(...)\n",
      " |      ToBase64( (ExplicitBitVect)arg1) -> str :\n",
      " |          Converts the vector to a base64 string (the base64 encoded version of the results of ToString()).\n",
      " |          \n",
      " |      \n",
      " |          C++ signature :\n",
      " |              std::__1::basic_string<char, std::__1::char_traits<char>, std::__1::allocator<char> > ToBase64(ExplicitBitVect {lvalue})\n",
      " |  \n",
      " |  ToBinary(...)\n",
      " |      ToBinary( (ExplicitBitVect)arg1) -> object :\n",
      " |          Returns an internal binary representation of the vector.\n",
      " |          \n",
      " |      \n",
      " |          C++ signature :\n",
      " |              boost::python::api::object ToBinary(ExplicitBitVect)\n",
      " |  \n",
      " |  ToBitString = BitVectToText(...)\n",
      " |      BitVectToText( (SparseBitVect)arg1) -> str :\n",
      " |      \n",
      " |          C++ signature :\n",
      " |              std::__1::basic_string<char, std::__1::char_traits<char>, std::__1::allocator<char> > BitVectToText(SparseBitVect)\n",
      " |      \n",
      " |      BitVectToText( (ExplicitBitVect)arg1) -> str :\n",
      " |          Returns a string of zeros and ones representing the bit vector.\n",
      " |      \n",
      " |          C++ signature :\n",
      " |              std::__1::basic_string<char, std::__1::char_traits<char>, std::__1::allocator<char> > BitVectToText(ExplicitBitVect)\n",
      " |  \n",
      " |  UnSetBit(...)\n",
      " |      UnSetBit( (ExplicitBitVect)arg1, (int)arg2) -> bool :\n",
      " |          Turns off a particular bit.  Returns the original state of the bit.\n",
      " |          \n",
      " |      \n",
      " |          C++ signature :\n",
      " |              bool UnSetBit(ExplicitBitVect {lvalue},unsigned int)\n",
      " |  \n",
      " |  UnSetBitsFromList(...)\n",
      " |      UnSetBitsFromList( (ExplicitBitVect)arg1, (AtomPairsParameters)arg2) -> None :\n",
      " |          Turns off a set of bits.  The argument should be a tuple or list of bit ids.\n",
      " |          \n",
      " |      \n",
      " |          C++ signature :\n",
      " |              void UnSetBitsFromList(ExplicitBitVect*,boost::python::api::object)\n",
      " |  \n",
      " |  __add__(...)\n",
      " |      __add__( (ExplicitBitVect)arg1, (ExplicitBitVect)arg2) -> object :\n",
      " |      \n",
      " |          C++ signature :\n",
      " |              _object* __add__(ExplicitBitVect {lvalue},ExplicitBitVect)\n",
      " |  \n",
      " |  __and__(...)\n",
      " |      __and__( (ExplicitBitVect)arg1, (ExplicitBitVect)arg2) -> object :\n",
      " |      \n",
      " |          C++ signature :\n",
      " |              _object* __and__(ExplicitBitVect {lvalue},ExplicitBitVect)\n",
      " |  \n",
      " |  __eq__(...)\n",
      " |      __eq__( (ExplicitBitVect)arg1, (ExplicitBitVect)arg2) -> object :\n",
      " |      \n",
      " |          C++ signature :\n",
      " |              _object* __eq__(ExplicitBitVect {lvalue},ExplicitBitVect)\n",
      " |  \n",
      " |  __getinitargs__(...)\n",
      " |      __getinitargs__( (ExplicitBitVect)arg1) -> tuple :\n",
      " |      \n",
      " |          C++ signature :\n",
      " |              boost::python::tuple __getinitargs__(ExplicitBitVect)\n",
      " |  \n",
      " |  __getitem__(...)\n",
      " |      __getitem__( (ExplicitBitVect)arg1, (int)arg2) -> int :\n",
      " |      \n",
      " |          C++ signature :\n",
      " |              int __getitem__(ExplicitBitVect,int)\n",
      " |  \n",
      " |  __iadd__(...)\n",
      " |      __iadd__( (object)arg1, (ExplicitBitVect)arg2) -> object :\n",
      " |      \n",
      " |          C++ signature :\n",
      " |              _object* __iadd__(boost::python::back_reference<ExplicitBitVect&>,ExplicitBitVect)\n",
      " |  \n",
      " |  __init__(...)\n",
      " |      __init__( (object)arg1, (int)arg2) -> None :\n",
      " |      \n",
      " |          C++ signature :\n",
      " |              void __init__(_object*,unsigned int)\n",
      " |      \n",
      " |      __init__( (object)arg1, (str)arg2) -> None :\n",
      " |      \n",
      " |          C++ signature :\n",
      " |              void __init__(_object*,std::__1::basic_string<char, std::__1::char_traits<char>, std::__1::allocator<char> >)\n",
      " |      \n",
      " |      __init__( (object)arg1, (int)arg2, (bool)arg3) -> None :\n",
      " |      \n",
      " |          C++ signature :\n",
      " |              void __init__(_object*,unsigned int,bool)\n",
      " |  \n",
      " |  __invert__(...)\n",
      " |      __invert__( (ExplicitBitVect)arg1) -> object :\n",
      " |      \n",
      " |          C++ signature :\n",
      " |              _object* __invert__(ExplicitBitVect {lvalue})\n",
      " |  \n",
      " |  __len__(...)\n",
      " |      __len__( (ExplicitBitVect)arg1) -> int :\n",
      " |      \n",
      " |          C++ signature :\n",
      " |              unsigned int __len__(ExplicitBitVect {lvalue})\n",
      " |  \n",
      " |  __ne__(...)\n",
      " |      __ne__( (ExplicitBitVect)arg1, (ExplicitBitVect)arg2) -> object :\n",
      " |      \n",
      " |          C++ signature :\n",
      " |              _object* __ne__(ExplicitBitVect {lvalue},ExplicitBitVect)\n",
      " |  \n",
      " |  __or__(...)\n",
      " |      __or__( (ExplicitBitVect)arg1, (ExplicitBitVect)arg2) -> object :\n",
      " |      \n",
      " |          C++ signature :\n",
      " |              _object* __or__(ExplicitBitVect {lvalue},ExplicitBitVect)\n",
      " |  \n",
      " |  __reduce__ = <unnamed Boost.Python function>(...)\n",
      " |  \n",
      " |  __setitem__(...)\n",
      " |      __setitem__( (ExplicitBitVect)arg1, (int)arg2, (int)arg3) -> int :\n",
      " |      \n",
      " |          C++ signature :\n",
      " |              int __setitem__(ExplicitBitVect {lvalue},int,int)\n",
      " |  \n",
      " |  __xor__(...)\n",
      " |      __xor__( (ExplicitBitVect)arg1, (ExplicitBitVect)arg2) -> object :\n",
      " |      \n",
      " |          C++ signature :\n",
      " |              _object* __xor__(ExplicitBitVect {lvalue},ExplicitBitVect)\n",
      " |  \n",
      " |  ----------------------------------------------------------------------\n",
      " |  Data and other attributes defined here:\n",
      " |  \n",
      " |  __instance_size__ = 32\n",
      " |  \n",
      " |  __safe_for_unpickling__ = True\n",
      " |  \n",
      " |  ----------------------------------------------------------------------\n",
      " |  Static methods inherited from Boost.Python.instance:\n",
      " |  \n",
      " |  __new__(*args, **kwargs) from Boost.Python.class\n",
      " |      Create and return a new object.  See help(type) for accurate signature.\n",
      " |  \n",
      " |  ----------------------------------------------------------------------\n",
      " |  Data descriptors inherited from Boost.Python.instance:\n",
      " |  \n",
      " |  __dict__\n",
      " |  \n",
      " |  __weakref__\n",
      "\n"
     ],
     "output_type": "stream"
    }
   ],
   "source": [
    "help(fp[0])"
   ],
   "metadata": {
    "collapsed": false,
    "pycharm": {
     "name": "#%%\n",
     "is_executing": false
    }
   }
  },
  {
   "cell_type": "code",
   "execution_count": 23,
   "outputs": [
    {
     "name": "stdout",
     "text": [
      "0 18 1221 809\n"
     ],
     "output_type": "stream"
    },
    {
     "data": {
      "text/plain": "0.9854721549636803"
     },
     "metadata": {},
     "output_type": "execute_result",
     "execution_count": 23
    }
   ],
   "source": [
    "d=(~fp[0]&~fp[1]).GetNumOnBits()\n",
    "a=(fp[0]&~fp[1]).GetNumOnBits()\n",
    "b=(~fp[0]&fp[1]).GetNumOnBits()\n",
    "c=(fp[0]&fp[1]).GetNumOnBits()\n",
    "print(a,b,c,d)\n",
    "rd.DataStructs.FingerprintSimilarity(fp[0],fp[1])"
   ],
   "metadata": {
    "collapsed": false,
    "pycharm": {
     "name": "#%%\n",
     "is_executing": false
    }
   }
  },
  {
   "cell_type": "code",
   "execution_count": 24,
   "outputs": [
    {
     "name": "stdout",
     "text": [
      "[<rdkit.DataStructs.cDataStructs.ExplicitBitVect object at 0xa1eb10cb0>, <rdkit.DataStructs.cDataStructs.ExplicitBitVect object at 0xa1fe85670>, <rdkit.DataStructs.cDataStructs.ExplicitBitVect object at 0xa1fe85710>, <rdkit.DataStructs.cDataStructs.ExplicitBitVect object at 0xa1fe855d0>, <rdkit.DataStructs.cDataStructs.ExplicitBitVect object at 0xa1fe857b0>, <rdkit.DataStructs.cDataStructs.ExplicitBitVect object at 0xa1eadf1c0>, <rdkit.DataStructs.cDataStructs.ExplicitBitVect object at 0xa1eb048a0>, <rdkit.DataStructs.cDataStructs.ExplicitBitVect object at 0xa1eb04e90>, <rdkit.DataStructs.cDataStructs.ExplicitBitVect object at 0xa1eb04990>, <rdkit.DataStructs.cDataStructs.ExplicitBitVect object at 0xa1fe8c030>, <rdkit.DataStructs.cDataStructs.ExplicitBitVect object at 0xa1fe8c1c0>, <rdkit.DataStructs.cDataStructs.ExplicitBitVect object at 0xa1fe8c210>, <rdkit.DataStructs.cDataStructs.ExplicitBitVect object at 0xa1fe8c260>, <rdkit.DataStructs.cDataStructs.ExplicitBitVect object at 0xa1fe8c2b0>, <rdkit.DataStructs.cDataStructs.ExplicitBitVect object at 0xa1fe8c300>, <rdkit.DataStructs.cDataStructs.ExplicitBitVect object at 0xa1fe8c350>, <rdkit.DataStructs.cDataStructs.ExplicitBitVect object at 0xa1fe8c3a0>, <rdkit.DataStructs.cDataStructs.ExplicitBitVect object at 0xa1fe8c3f0>, <rdkit.DataStructs.cDataStructs.ExplicitBitVect object at 0xa1fe8c440>, <rdkit.DataStructs.cDataStructs.ExplicitBitVect object at 0xa1fe8c490>, <rdkit.DataStructs.cDataStructs.ExplicitBitVect object at 0xa1fe8c4e0>, <rdkit.DataStructs.cDataStructs.ExplicitBitVect object at 0xa1fe8c530>, <rdkit.DataStructs.cDataStructs.ExplicitBitVect object at 0xa1fe8c580>, <rdkit.DataStructs.cDataStructs.ExplicitBitVect object at 0xa1fe8c5d0>, <rdkit.DataStructs.cDataStructs.ExplicitBitVect object at 0xa1fe7a210>, <rdkit.DataStructs.cDataStructs.ExplicitBitVect object at 0xa1fe8c620>, <rdkit.DataStructs.cDataStructs.ExplicitBitVect object at 0xa1fe8c670>, <rdkit.DataStructs.cDataStructs.ExplicitBitVect object at 0xa1fe8c6c0>, <rdkit.DataStructs.cDataStructs.ExplicitBitVect object at 0xa1fe8c710>, <rdkit.DataStructs.cDataStructs.ExplicitBitVect object at 0xa1fe8c760>, <rdkit.DataStructs.cDataStructs.ExplicitBitVect object at 0xa1fe8c7b0>, <rdkit.DataStructs.cDataStructs.ExplicitBitVect object at 0xa1fe8c800>, <rdkit.DataStructs.cDataStructs.ExplicitBitVect object at 0xa1fe8c850>, <rdkit.DataStructs.cDataStructs.ExplicitBitVect object at 0xa1fe8c8a0>, <rdkit.DataStructs.cDataStructs.ExplicitBitVect object at 0xa1fe8c8f0>, <rdkit.DataStructs.cDataStructs.ExplicitBitVect object at 0xa1fe8c940>, <rdkit.DataStructs.cDataStructs.ExplicitBitVect object at 0xa1fe8c990>, <rdkit.DataStructs.cDataStructs.ExplicitBitVect object at 0xa1fe8c9e0>, <rdkit.DataStructs.cDataStructs.ExplicitBitVect object at 0xa1fe8ca30>, <rdkit.DataStructs.cDataStructs.ExplicitBitVect object at 0xa1fe8ca80>, <rdkit.DataStructs.cDataStructs.ExplicitBitVect object at 0xa1fe8cad0>, <rdkit.DataStructs.cDataStructs.ExplicitBitVect object at 0xa1fe8cb20>, <rdkit.DataStructs.cDataStructs.ExplicitBitVect object at 0xa1fe8cb70>, <rdkit.DataStructs.cDataStructs.ExplicitBitVect object at 0xa1fe8cbc0>, <rdkit.DataStructs.cDataStructs.ExplicitBitVect object at 0xa1fe8cc10>, <rdkit.DataStructs.cDataStructs.ExplicitBitVect object at 0xa1fe8cc60>, <rdkit.DataStructs.cDataStructs.ExplicitBitVect object at 0xa1fe8ccb0>, <rdkit.DataStructs.cDataStructs.ExplicitBitVect object at 0xa1fe8cd00>, <rdkit.DataStructs.cDataStructs.ExplicitBitVect object at 0xa1fe8cd50>, <rdkit.DataStructs.cDataStructs.ExplicitBitVect object at 0xa1fe8cda0>, <rdkit.DataStructs.cDataStructs.ExplicitBitVect object at 0xa1fe8cdf0>, <rdkit.DataStructs.cDataStructs.ExplicitBitVect object at 0xa1fe8ce40>, <rdkit.DataStructs.cDataStructs.ExplicitBitVect object at 0xa1fe8ce90>, <rdkit.DataStructs.cDataStructs.ExplicitBitVect object at 0xa1fe8cee0>, <rdkit.DataStructs.cDataStructs.ExplicitBitVect object at 0xa1fe8cf30>, <rdkit.DataStructs.cDataStructs.ExplicitBitVect object at 0xa1fe8cf80>, <rdkit.DataStructs.cDataStructs.ExplicitBitVect object at 0xa1eb09030>, <rdkit.DataStructs.cDataStructs.ExplicitBitVect object at 0xa1eb09080>, <rdkit.DataStructs.cDataStructs.ExplicitBitVect object at 0xa1eb090d0>, <rdkit.DataStructs.cDataStructs.ExplicitBitVect object at 0xa1eb09120>, <rdkit.DataStructs.cDataStructs.ExplicitBitVect object at 0xa1eb09170>, <rdkit.DataStructs.cDataStructs.ExplicitBitVect object at 0xa1eb091c0>, <rdkit.DataStructs.cDataStructs.ExplicitBitVect object at 0xa1eb09210>, <rdkit.DataStructs.cDataStructs.ExplicitBitVect object at 0xa1eb09260>, <rdkit.DataStructs.cDataStructs.ExplicitBitVect object at 0xa1eb092b0>, <rdkit.DataStructs.cDataStructs.ExplicitBitVect object at 0xa1eb09300>, <rdkit.DataStructs.cDataStructs.ExplicitBitVect object at 0xa1eb09350>, <rdkit.DataStructs.cDataStructs.ExplicitBitVect object at 0xa1eb093a0>, <rdkit.DataStructs.cDataStructs.ExplicitBitVect object at 0xa1eb093f0>, <rdkit.DataStructs.cDataStructs.ExplicitBitVect object at 0xa1eb09440>, <rdkit.DataStructs.cDataStructs.ExplicitBitVect object at 0xa1eb09490>, <rdkit.DataStructs.cDataStructs.ExplicitBitVect object at 0xa1eb094e0>, <rdkit.DataStructs.cDataStructs.ExplicitBitVect object at 0xa1eb09530>, <rdkit.DataStructs.cDataStructs.ExplicitBitVect object at 0xa1eb09580>, <rdkit.DataStructs.cDataStructs.ExplicitBitVect object at 0xa1eb095d0>, <rdkit.DataStructs.cDataStructs.ExplicitBitVect object at 0xa1eb09620>, <rdkit.DataStructs.cDataStructs.ExplicitBitVect object at 0xa1eb09670>, <rdkit.DataStructs.cDataStructs.ExplicitBitVect object at 0xa1eb096c0>, <rdkit.DataStructs.cDataStructs.ExplicitBitVect object at 0xa1eb09710>, <rdkit.DataStructs.cDataStructs.ExplicitBitVect object at 0xa1eb09760>, <rdkit.DataStructs.cDataStructs.ExplicitBitVect object at 0xa1eb097b0>, <rdkit.DataStructs.cDataStructs.ExplicitBitVect object at 0xa1eb09800>, <rdkit.DataStructs.cDataStructs.ExplicitBitVect object at 0xa1eb09850>, <rdkit.DataStructs.cDataStructs.ExplicitBitVect object at 0xa1eb098a0>, <rdkit.DataStructs.cDataStructs.ExplicitBitVect object at 0xa1eb098f0>, <rdkit.DataStructs.cDataStructs.ExplicitBitVect object at 0xa1eb09940>, <rdkit.DataStructs.cDataStructs.ExplicitBitVect object at 0xa1eb09990>, <rdkit.DataStructs.cDataStructs.ExplicitBitVect object at 0xa1eb099e0>, <rdkit.DataStructs.cDataStructs.ExplicitBitVect object at 0xa1eb09a30>, <rdkit.DataStructs.cDataStructs.ExplicitBitVect object at 0xa1eb09a80>, <rdkit.DataStructs.cDataStructs.ExplicitBitVect object at 0xa1eb09ad0>, <rdkit.DataStructs.cDataStructs.ExplicitBitVect object at 0xa1eb09b20>, <rdkit.DataStructs.cDataStructs.ExplicitBitVect object at 0xa1eb09b70>, <rdkit.DataStructs.cDataStructs.ExplicitBitVect object at 0xa1eb09bc0>, <rdkit.DataStructs.cDataStructs.ExplicitBitVect object at 0xa1eb09c10>, <rdkit.DataStructs.cDataStructs.ExplicitBitVect object at 0xa1eb09c60>, <rdkit.DataStructs.cDataStructs.ExplicitBitVect object at 0xa1eb09cb0>, <rdkit.DataStructs.cDataStructs.ExplicitBitVect object at 0xa1eb09d00>, <rdkit.DataStructs.cDataStructs.ExplicitBitVect object at 0xa1eb09d50>, <rdkit.DataStructs.cDataStructs.ExplicitBitVect object at 0xa1eb09da0>, <rdkit.DataStructs.cDataStructs.ExplicitBitVect object at 0xa1eb09df0>, <rdkit.DataStructs.cDataStructs.ExplicitBitVect object at 0xa1eb09e40>, <rdkit.DataStructs.cDataStructs.ExplicitBitVect object at 0xa1eb09e90>, <rdkit.DataStructs.cDataStructs.ExplicitBitVect object at 0xa1eb09ee0>, <rdkit.DataStructs.cDataStructs.ExplicitBitVect object at 0xa1eb09f30>, <rdkit.DataStructs.cDataStructs.ExplicitBitVect object at 0xa1eb09f80>, <rdkit.DataStructs.cDataStructs.ExplicitBitVect object at 0xa1fe91030>, <rdkit.DataStructs.cDataStructs.ExplicitBitVect object at 0xa1fe91080>, <rdkit.DataStructs.cDataStructs.ExplicitBitVect object at 0xa1fe910d0>, <rdkit.DataStructs.cDataStructs.ExplicitBitVect object at 0xa1fe91120>, <rdkit.DataStructs.cDataStructs.ExplicitBitVect object at 0xa1fe91170>, <rdkit.DataStructs.cDataStructs.ExplicitBitVect object at 0xa1fe911c0>, <rdkit.DataStructs.cDataStructs.ExplicitBitVect object at 0xa1fe91210>, <rdkit.DataStructs.cDataStructs.ExplicitBitVect object at 0xa1fe91260>, <rdkit.DataStructs.cDataStructs.ExplicitBitVect object at 0xa1fe912b0>, <rdkit.DataStructs.cDataStructs.ExplicitBitVect object at 0xa1fe91300>, <rdkit.DataStructs.cDataStructs.ExplicitBitVect object at 0xa1fe91350>, <rdkit.DataStructs.cDataStructs.ExplicitBitVect object at 0xa1fe913a0>, <rdkit.DataStructs.cDataStructs.ExplicitBitVect object at 0xa1fe913f0>, <rdkit.DataStructs.cDataStructs.ExplicitBitVect object at 0xa1fe91440>, <rdkit.DataStructs.cDataStructs.ExplicitBitVect object at 0xa1fe91490>, <rdkit.DataStructs.cDataStructs.ExplicitBitVect object at 0xa1fe914e0>, <rdkit.DataStructs.cDataStructs.ExplicitBitVect object at 0xa1fe91530>, <rdkit.DataStructs.cDataStructs.ExplicitBitVect object at 0xa1fe91580>, <rdkit.DataStructs.cDataStructs.ExplicitBitVect object at 0xa1fe915d0>, <rdkit.DataStructs.cDataStructs.ExplicitBitVect object at 0xa1fe91620>, <rdkit.DataStructs.cDataStructs.ExplicitBitVect object at 0xa1fe91670>, <rdkit.DataStructs.cDataStructs.ExplicitBitVect object at 0xa1fe916c0>, <rdkit.DataStructs.cDataStructs.ExplicitBitVect object at 0xa1fe91710>, <rdkit.DataStructs.cDataStructs.ExplicitBitVect object at 0xa1fe91760>, <rdkit.DataStructs.cDataStructs.ExplicitBitVect object at 0xa1fe917b0>, <rdkit.DataStructs.cDataStructs.ExplicitBitVect object at 0xa1fe91800>, <rdkit.DataStructs.cDataStructs.ExplicitBitVect object at 0xa1fe91850>, <rdkit.DataStructs.cDataStructs.ExplicitBitVect object at 0xa1fe918a0>, <rdkit.DataStructs.cDataStructs.ExplicitBitVect object at 0xa1fe918f0>, <rdkit.DataStructs.cDataStructs.ExplicitBitVect object at 0xa1fe91940>, <rdkit.DataStructs.cDataStructs.ExplicitBitVect object at 0xa1fe91990>, <rdkit.DataStructs.cDataStructs.ExplicitBitVect object at 0xa1fe919e0>, <rdkit.DataStructs.cDataStructs.ExplicitBitVect object at 0xa1fe91a30>, <rdkit.DataStructs.cDataStructs.ExplicitBitVect object at 0xa1fe91a80>, <rdkit.DataStructs.cDataStructs.ExplicitBitVect object at 0xa1fe91ad0>, <rdkit.DataStructs.cDataStructs.ExplicitBitVect object at 0xa1fe91b20>, <rdkit.DataStructs.cDataStructs.ExplicitBitVect object at 0xa1fe91b70>, <rdkit.DataStructs.cDataStructs.ExplicitBitVect object at 0xa1fe91bc0>, <rdkit.DataStructs.cDataStructs.ExplicitBitVect object at 0xa1fe91c10>, <rdkit.DataStructs.cDataStructs.ExplicitBitVect object at 0xa1fe91c60>, <rdkit.DataStructs.cDataStructs.ExplicitBitVect object at 0xa1fe91cb0>, <rdkit.DataStructs.cDataStructs.ExplicitBitVect object at 0xa1fe91d00>, <rdkit.DataStructs.cDataStructs.ExplicitBitVect object at 0xa1fe91d50>, <rdkit.DataStructs.cDataStructs.ExplicitBitVect object at 0xa1fe91da0>, <rdkit.DataStructs.cDataStructs.ExplicitBitVect object at 0xa1fe91df0>, <rdkit.DataStructs.cDataStructs.ExplicitBitVect object at 0xa1fe91e40>, <rdkit.DataStructs.cDataStructs.ExplicitBitVect object at 0xa1fe91e90>, <rdkit.DataStructs.cDataStructs.ExplicitBitVect object at 0xa1fe91ee0>, <rdkit.DataStructs.cDataStructs.ExplicitBitVect object at 0xa1fe91f30>, <rdkit.DataStructs.cDataStructs.ExplicitBitVect object at 0xa1fe91f80>, <rdkit.DataStructs.cDataStructs.ExplicitBitVect object at 0xa1fe94030>, <rdkit.DataStructs.cDataStructs.ExplicitBitVect object at 0xa1fe94080>, <rdkit.DataStructs.cDataStructs.ExplicitBitVect object at 0xa1fe940d0>, <rdkit.DataStructs.cDataStructs.ExplicitBitVect object at 0xa1fe94120>, <rdkit.DataStructs.cDataStructs.ExplicitBitVect object at 0xa1fe94170>, <rdkit.DataStructs.cDataStructs.ExplicitBitVect object at 0xa1fe941c0>, <rdkit.DataStructs.cDataStructs.ExplicitBitVect object at 0xa1fe94210>, <rdkit.DataStructs.cDataStructs.ExplicitBitVect object at 0xa1fe94260>, <rdkit.DataStructs.cDataStructs.ExplicitBitVect object at 0xa1fe942b0>, <rdkit.DataStructs.cDataStructs.ExplicitBitVect object at 0xa1fe94300>, <rdkit.DataStructs.cDataStructs.ExplicitBitVect object at 0xa1fe94350>, <rdkit.DataStructs.cDataStructs.ExplicitBitVect object at 0xa1fe943a0>, <rdkit.DataStructs.cDataStructs.ExplicitBitVect object at 0xa1fe943f0>, <rdkit.DataStructs.cDataStructs.ExplicitBitVect object at 0xa1fe94440>, <rdkit.DataStructs.cDataStructs.ExplicitBitVect object at 0xa1fe94490>, <rdkit.DataStructs.cDataStructs.ExplicitBitVect object at 0xa1fe944e0>, <rdkit.DataStructs.cDataStructs.ExplicitBitVect object at 0xa1fe94530>, <rdkit.DataStructs.cDataStructs.ExplicitBitVect object at 0xa1fe94580>, <rdkit.DataStructs.cDataStructs.ExplicitBitVect object at 0xa1fe945d0>, <rdkit.DataStructs.cDataStructs.ExplicitBitVect object at 0xa1fe94620>, <rdkit.DataStructs.cDataStructs.ExplicitBitVect object at 0xa1fe94670>, <rdkit.DataStructs.cDataStructs.ExplicitBitVect object at 0xa1fe946c0>, <rdkit.DataStructs.cDataStructs.ExplicitBitVect object at 0xa1fe94710>, <rdkit.DataStructs.cDataStructs.ExplicitBitVect object at 0xa1fe94760>, <rdkit.DataStructs.cDataStructs.ExplicitBitVect object at 0xa1fe947b0>, <rdkit.DataStructs.cDataStructs.ExplicitBitVect object at 0xa1fe94800>, <rdkit.DataStructs.cDataStructs.ExplicitBitVect object at 0xa1fe94850>, <rdkit.DataStructs.cDataStructs.ExplicitBitVect object at 0xa1fe948a0>, <rdkit.DataStructs.cDataStructs.ExplicitBitVect object at 0xa1fe948f0>, <rdkit.DataStructs.cDataStructs.ExplicitBitVect object at 0xa1fe94940>, <rdkit.DataStructs.cDataStructs.ExplicitBitVect object at 0xa1fe94990>, <rdkit.DataStructs.cDataStructs.ExplicitBitVect object at 0xa1fe949e0>, <rdkit.DataStructs.cDataStructs.ExplicitBitVect object at 0xa1fe94a30>, <rdkit.DataStructs.cDataStructs.ExplicitBitVect object at 0xa1fe94a80>, <rdkit.DataStructs.cDataStructs.ExplicitBitVect object at 0xa1fe94ad0>, <rdkit.DataStructs.cDataStructs.ExplicitBitVect object at 0xa1fe94b20>, <rdkit.DataStructs.cDataStructs.ExplicitBitVect object at 0xa1fe94b70>, <rdkit.DataStructs.cDataStructs.ExplicitBitVect object at 0xa1fe94bc0>, <rdkit.DataStructs.cDataStructs.ExplicitBitVect object at 0xa1fe94c10>, <rdkit.DataStructs.cDataStructs.ExplicitBitVect object at 0xa1fe94c60>, <rdkit.DataStructs.cDataStructs.ExplicitBitVect object at 0xa1fe94cb0>, <rdkit.DataStructs.cDataStructs.ExplicitBitVect object at 0xa1fe94d00>, <rdkit.DataStructs.cDataStructs.ExplicitBitVect object at 0xa1fe94d50>, <rdkit.DataStructs.cDataStructs.ExplicitBitVect object at 0xa1fe94da0>, <rdkit.DataStructs.cDataStructs.ExplicitBitVect object at 0xa1fe94df0>, <rdkit.DataStructs.cDataStructs.ExplicitBitVect object at 0xa1fe94e40>, <rdkit.DataStructs.cDataStructs.ExplicitBitVect object at 0xa1fe94e90>, <rdkit.DataStructs.cDataStructs.ExplicitBitVect object at 0xa1fe94ee0>, <rdkit.DataStructs.cDataStructs.ExplicitBitVect object at 0xa1fe94f30>, <rdkit.DataStructs.cDataStructs.ExplicitBitVect object at 0xa1fe94f80>, <rdkit.DataStructs.cDataStructs.ExplicitBitVect object at 0xa1fe90030>, <rdkit.DataStructs.cDataStructs.ExplicitBitVect object at 0xa1fe90080>, <rdkit.DataStructs.cDataStructs.ExplicitBitVect object at 0xa1fe900d0>, <rdkit.DataStructs.cDataStructs.ExplicitBitVect object at 0xa1fe90120>, <rdkit.DataStructs.cDataStructs.ExplicitBitVect object at 0xa1fe90170>, <rdkit.DataStructs.cDataStructs.ExplicitBitVect object at 0xa1fe901c0>, <rdkit.DataStructs.cDataStructs.ExplicitBitVect object at 0xa1fe90210>, <rdkit.DataStructs.cDataStructs.ExplicitBitVect object at 0xa1fe90260>, <rdkit.DataStructs.cDataStructs.ExplicitBitVect object at 0xa1fe902b0>, <rdkit.DataStructs.cDataStructs.ExplicitBitVect object at 0xa1fe90300>, <rdkit.DataStructs.cDataStructs.ExplicitBitVect object at 0xa1fe90350>, <rdkit.DataStructs.cDataStructs.ExplicitBitVect object at 0xa1fe903a0>, <rdkit.DataStructs.cDataStructs.ExplicitBitVect object at 0xa1fe903f0>, <rdkit.DataStructs.cDataStructs.ExplicitBitVect object at 0xa1fe90440>, <rdkit.DataStructs.cDataStructs.ExplicitBitVect object at 0xa1fe90490>, <rdkit.DataStructs.cDataStructs.ExplicitBitVect object at 0xa1fe904e0>, <rdkit.DataStructs.cDataStructs.ExplicitBitVect object at 0xa1fe90530>, <rdkit.DataStructs.cDataStructs.ExplicitBitVect object at 0xa1fe90580>, <rdkit.DataStructs.cDataStructs.ExplicitBitVect object at 0xa1fe905d0>, <rdkit.DataStructs.cDataStructs.ExplicitBitVect object at 0xa1fe90620>, <rdkit.DataStructs.cDataStructs.ExplicitBitVect object at 0xa1fe90670>, <rdkit.DataStructs.cDataStructs.ExplicitBitVect object at 0xa1fe906c0>, <rdkit.DataStructs.cDataStructs.ExplicitBitVect object at 0xa1fe90710>, <rdkit.DataStructs.cDataStructs.ExplicitBitVect object at 0xa1fe90760>, <rdkit.DataStructs.cDataStructs.ExplicitBitVect object at 0xa1fe907b0>, <rdkit.DataStructs.cDataStructs.ExplicitBitVect object at 0xa1fe90800>, <rdkit.DataStructs.cDataStructs.ExplicitBitVect object at 0xa1fe90850>, <rdkit.DataStructs.cDataStructs.ExplicitBitVect object at 0xa1fe908a0>, <rdkit.DataStructs.cDataStructs.ExplicitBitVect object at 0xa1fe908f0>, <rdkit.DataStructs.cDataStructs.ExplicitBitVect object at 0xa1fe90940>, <rdkit.DataStructs.cDataStructs.ExplicitBitVect object at 0xa1fe90990>, <rdkit.DataStructs.cDataStructs.ExplicitBitVect object at 0xa1fe909e0>, <rdkit.DataStructs.cDataStructs.ExplicitBitVect object at 0xa1fe90a30>, <rdkit.DataStructs.cDataStructs.ExplicitBitVect object at 0xa1fe90a80>, <rdkit.DataStructs.cDataStructs.ExplicitBitVect object at 0xa1fe90ad0>, <rdkit.DataStructs.cDataStructs.ExplicitBitVect object at 0xa1fe90b20>, <rdkit.DataStructs.cDataStructs.ExplicitBitVect object at 0xa1fe90b70>, <rdkit.DataStructs.cDataStructs.ExplicitBitVect object at 0xa1fe90bc0>, <rdkit.DataStructs.cDataStructs.ExplicitBitVect object at 0xa1fe90c10>, <rdkit.DataStructs.cDataStructs.ExplicitBitVect object at 0xa1fe90c60>, <rdkit.DataStructs.cDataStructs.ExplicitBitVect object at 0xa1fe90cb0>, <rdkit.DataStructs.cDataStructs.ExplicitBitVect object at 0xa1fe90d00>, <rdkit.DataStructs.cDataStructs.ExplicitBitVect object at 0xa1fe90d50>, <rdkit.DataStructs.cDataStructs.ExplicitBitVect object at 0xa1fe90da0>, <rdkit.DataStructs.cDataStructs.ExplicitBitVect object at 0xa1fe90df0>, <rdkit.DataStructs.cDataStructs.ExplicitBitVect object at 0xa1fe90e40>, <rdkit.DataStructs.cDataStructs.ExplicitBitVect object at 0xa1fe90e90>, <rdkit.DataStructs.cDataStructs.ExplicitBitVect object at 0xa1fe90ee0>, <rdkit.DataStructs.cDataStructs.ExplicitBitVect object at 0xa1fe90f30>, <rdkit.DataStructs.cDataStructs.ExplicitBitVect object at 0xa1fe90f80>, <rdkit.DataStructs.cDataStructs.ExplicitBitVect object at 0xa1fe95030>, <rdkit.DataStructs.cDataStructs.ExplicitBitVect object at 0xa1fe95080>, <rdkit.DataStructs.cDataStructs.ExplicitBitVect object at 0xa1fe950d0>, <rdkit.DataStructs.cDataStructs.ExplicitBitVect object at 0xa1fe95120>, <rdkit.DataStructs.cDataStructs.ExplicitBitVect object at 0xa1fe95170>, <rdkit.DataStructs.cDataStructs.ExplicitBitVect object at 0xa1fe951c0>, <rdkit.DataStructs.cDataStructs.ExplicitBitVect object at 0xa1fe95210>, <rdkit.DataStructs.cDataStructs.ExplicitBitVect object at 0xa1fe95260>, <rdkit.DataStructs.cDataStructs.ExplicitBitVect object at 0xa1fe952b0>, <rdkit.DataStructs.cDataStructs.ExplicitBitVect object at 0xa1fe95300>, <rdkit.DataStructs.cDataStructs.ExplicitBitVect object at 0xa1fe95350>, <rdkit.DataStructs.cDataStructs.ExplicitBitVect object at 0xa1fe953a0>, <rdkit.DataStructs.cDataStructs.ExplicitBitVect object at 0xa1fe953f0>, <rdkit.DataStructs.cDataStructs.ExplicitBitVect object at 0xa1fe95440>, <rdkit.DataStructs.cDataStructs.ExplicitBitVect object at 0xa1fe95490>, <rdkit.DataStructs.cDataStructs.ExplicitBitVect object at 0xa1fe954e0>, <rdkit.DataStructs.cDataStructs.ExplicitBitVect object at 0xa1fe95530>, <rdkit.DataStructs.cDataStructs.ExplicitBitVect object at 0xa1fe95580>, <rdkit.DataStructs.cDataStructs.ExplicitBitVect object at 0xa1fe955d0>, <rdkit.DataStructs.cDataStructs.ExplicitBitVect object at 0xa1fe95620>, <rdkit.DataStructs.cDataStructs.ExplicitBitVect object at 0xa1fe95670>, <rdkit.DataStructs.cDataStructs.ExplicitBitVect object at 0xa1fe956c0>, <rdkit.DataStructs.cDataStructs.ExplicitBitVect object at 0xa1fe95710>, <rdkit.DataStructs.cDataStructs.ExplicitBitVect object at 0xa1fe95760>, <rdkit.DataStructs.cDataStructs.ExplicitBitVect object at 0xa1fe957b0>, <rdkit.DataStructs.cDataStructs.ExplicitBitVect object at 0xa1fe95800>, <rdkit.DataStructs.cDataStructs.ExplicitBitVect object at 0xa1fe95850>, <rdkit.DataStructs.cDataStructs.ExplicitBitVect object at 0xa1fe958a0>, <rdkit.DataStructs.cDataStructs.ExplicitBitVect object at 0xa1fe958f0>, <rdkit.DataStructs.cDataStructs.ExplicitBitVect object at 0xa1fe95940>, <rdkit.DataStructs.cDataStructs.ExplicitBitVect object at 0xa1fe95990>, <rdkit.DataStructs.cDataStructs.ExplicitBitVect object at 0xa1fe959e0>, <rdkit.DataStructs.cDataStructs.ExplicitBitVect object at 0xa1fe95a30>, <rdkit.DataStructs.cDataStructs.ExplicitBitVect object at 0xa1fe95a80>, <rdkit.DataStructs.cDataStructs.ExplicitBitVect object at 0xa1fe95ad0>, <rdkit.DataStructs.cDataStructs.ExplicitBitVect object at 0xa1fe95b20>, <rdkit.DataStructs.cDataStructs.ExplicitBitVect object at 0xa1fe95b70>, <rdkit.DataStructs.cDataStructs.ExplicitBitVect object at 0xa1fe95bc0>, <rdkit.DataStructs.cDataStructs.ExplicitBitVect object at 0xa1fe95c10>, <rdkit.DataStructs.cDataStructs.ExplicitBitVect object at 0xa1fe95c60>, <rdkit.DataStructs.cDataStructs.ExplicitBitVect object at 0xa1fe95cb0>, <rdkit.DataStructs.cDataStructs.ExplicitBitVect object at 0xa1fe95d00>, <rdkit.DataStructs.cDataStructs.ExplicitBitVect object at 0xa1fe95d50>, <rdkit.DataStructs.cDataStructs.ExplicitBitVect object at 0xa1fe95da0>, <rdkit.DataStructs.cDataStructs.ExplicitBitVect object at 0xa1fe95df0>, <rdkit.DataStructs.cDataStructs.ExplicitBitVect object at 0xa1fe95e40>, <rdkit.DataStructs.cDataStructs.ExplicitBitVect object at 0xa1fe95e90>, <rdkit.DataStructs.cDataStructs.ExplicitBitVect object at 0xa1fe95ee0>, <rdkit.DataStructs.cDataStructs.ExplicitBitVect object at 0xa1fe95f30>, <rdkit.DataStructs.cDataStructs.ExplicitBitVect object at 0xa1fe95f80>, <rdkit.DataStructs.cDataStructs.ExplicitBitVect object at 0xa1fe93030>, <rdkit.DataStructs.cDataStructs.ExplicitBitVect object at 0xa1fe93080>, <rdkit.DataStructs.cDataStructs.ExplicitBitVect object at 0xa1fe930d0>, <rdkit.DataStructs.cDataStructs.ExplicitBitVect object at 0xa1fe93120>, <rdkit.DataStructs.cDataStructs.ExplicitBitVect object at 0xa1fe93170>, <rdkit.DataStructs.cDataStructs.ExplicitBitVect object at 0xa1fe931c0>, <rdkit.DataStructs.cDataStructs.ExplicitBitVect object at 0xa1fe93210>, <rdkit.DataStructs.cDataStructs.ExplicitBitVect object at 0xa1fe93260>, <rdkit.DataStructs.cDataStructs.ExplicitBitVect object at 0xa1fe932b0>, <rdkit.DataStructs.cDataStructs.ExplicitBitVect object at 0xa1fe93300>, <rdkit.DataStructs.cDataStructs.ExplicitBitVect object at 0xa1fe93350>, <rdkit.DataStructs.cDataStructs.ExplicitBitVect object at 0xa1fe933a0>, <rdkit.DataStructs.cDataStructs.ExplicitBitVect object at 0xa1fe933f0>, <rdkit.DataStructs.cDataStructs.ExplicitBitVect object at 0xa1fe93440>, <rdkit.DataStructs.cDataStructs.ExplicitBitVect object at 0xa1fe93490>, <rdkit.DataStructs.cDataStructs.ExplicitBitVect object at 0xa1fe934e0>, <rdkit.DataStructs.cDataStructs.ExplicitBitVect object at 0xa1fe93530>, <rdkit.DataStructs.cDataStructs.ExplicitBitVect object at 0xa1fe93580>, <rdkit.DataStructs.cDataStructs.ExplicitBitVect object at 0xa1fe935d0>, <rdkit.DataStructs.cDataStructs.ExplicitBitVect object at 0xa1fe93620>, <rdkit.DataStructs.cDataStructs.ExplicitBitVect object at 0xa1fe93670>, <rdkit.DataStructs.cDataStructs.ExplicitBitVect object at 0xa1fe936c0>, <rdkit.DataStructs.cDataStructs.ExplicitBitVect object at 0xa1fe93710>, <rdkit.DataStructs.cDataStructs.ExplicitBitVect object at 0xa1fe93760>, <rdkit.DataStructs.cDataStructs.ExplicitBitVect object at 0xa1fe937b0>, <rdkit.DataStructs.cDataStructs.ExplicitBitVect object at 0xa1fe93800>, <rdkit.DataStructs.cDataStructs.ExplicitBitVect object at 0xa1fe93850>, <rdkit.DataStructs.cDataStructs.ExplicitBitVect object at 0xa1fe938a0>, <rdkit.DataStructs.cDataStructs.ExplicitBitVect object at 0xa1fe938f0>, <rdkit.DataStructs.cDataStructs.ExplicitBitVect object at 0xa1fe93940>, <rdkit.DataStructs.cDataStructs.ExplicitBitVect object at 0xa1fe93990>, <rdkit.DataStructs.cDataStructs.ExplicitBitVect object at 0xa1fe939e0>, <rdkit.DataStructs.cDataStructs.ExplicitBitVect object at 0xa1fe93a30>, <rdkit.DataStructs.cDataStructs.ExplicitBitVect object at 0xa1fe93a80>, <rdkit.DataStructs.cDataStructs.ExplicitBitVect object at 0xa1fe93ad0>, <rdkit.DataStructs.cDataStructs.ExplicitBitVect object at 0xa1fe93b20>, <rdkit.DataStructs.cDataStructs.ExplicitBitVect object at 0xa1fe93b70>, <rdkit.DataStructs.cDataStructs.ExplicitBitVect object at 0xa1fe93bc0>, <rdkit.DataStructs.cDataStructs.ExplicitBitVect object at 0xa1fe93c10>, <rdkit.DataStructs.cDataStructs.ExplicitBitVect object at 0xa1fe93c60>, <rdkit.DataStructs.cDataStructs.ExplicitBitVect object at 0xa1fe93cb0>, <rdkit.DataStructs.cDataStructs.ExplicitBitVect object at 0xa1fe93d00>, <rdkit.DataStructs.cDataStructs.ExplicitBitVect object at 0xa1fe93d50>, <rdkit.DataStructs.cDataStructs.ExplicitBitVect object at 0xa1fe93da0>, <rdkit.DataStructs.cDataStructs.ExplicitBitVect object at 0xa1fe93df0>, <rdkit.DataStructs.cDataStructs.ExplicitBitVect object at 0xa1fe93e40>, <rdkit.DataStructs.cDataStructs.ExplicitBitVect object at 0xa1fe93e90>, <rdkit.DataStructs.cDataStructs.ExplicitBitVect object at 0xa1fe93ee0>, <rdkit.DataStructs.cDataStructs.ExplicitBitVect object at 0xa1fe93f30>, <rdkit.DataStructs.cDataStructs.ExplicitBitVect object at 0xa1fe93f80>, <rdkit.DataStructs.cDataStructs.ExplicitBitVect object at 0xa1fe96030>, <rdkit.DataStructs.cDataStructs.ExplicitBitVect object at 0xa1fe96080>, <rdkit.DataStructs.cDataStructs.ExplicitBitVect object at 0xa1fe960d0>, <rdkit.DataStructs.cDataStructs.ExplicitBitVect object at 0xa1fe96120>, <rdkit.DataStructs.cDataStructs.ExplicitBitVect object at 0xa1fe96170>, <rdkit.DataStructs.cDataStructs.ExplicitBitVect object at 0xa1fe961c0>, <rdkit.DataStructs.cDataStructs.ExplicitBitVect object at 0xa1fe96210>, <rdkit.DataStructs.cDataStructs.ExplicitBitVect object at 0xa1fe96260>, <rdkit.DataStructs.cDataStructs.ExplicitBitVect object at 0xa1fe962b0>, <rdkit.DataStructs.cDataStructs.ExplicitBitVect object at 0xa1fe96300>, <rdkit.DataStructs.cDataStructs.ExplicitBitVect object at 0xa1fe96350>, <rdkit.DataStructs.cDataStructs.ExplicitBitVect object at 0xa1fe963a0>, <rdkit.DataStructs.cDataStructs.ExplicitBitVect object at 0xa1fe963f0>, <rdkit.DataStructs.cDataStructs.ExplicitBitVect object at 0xa1fe96440>, <rdkit.DataStructs.cDataStructs.ExplicitBitVect object at 0xa1fe96490>, <rdkit.DataStructs.cDataStructs.ExplicitBitVect object at 0xa1fe964e0>, <rdkit.DataStructs.cDataStructs.ExplicitBitVect object at 0xa1fe96530>, <rdkit.DataStructs.cDataStructs.ExplicitBitVect object at 0xa1fe96580>, <rdkit.DataStructs.cDataStructs.ExplicitBitVect object at 0xa1fe965d0>, <rdkit.DataStructs.cDataStructs.ExplicitBitVect object at 0xa1fe96620>, <rdkit.DataStructs.cDataStructs.ExplicitBitVect object at 0xa1fe96670>, <rdkit.DataStructs.cDataStructs.ExplicitBitVect object at 0xa1fe966c0>, <rdkit.DataStructs.cDataStructs.ExplicitBitVect object at 0xa1fe96710>, <rdkit.DataStructs.cDataStructs.ExplicitBitVect object at 0xa1fe96760>, <rdkit.DataStructs.cDataStructs.ExplicitBitVect object at 0xa1fe967b0>, <rdkit.DataStructs.cDataStructs.ExplicitBitVect object at 0xa1fe96800>, <rdkit.DataStructs.cDataStructs.ExplicitBitVect object at 0xa1fe96850>, <rdkit.DataStructs.cDataStructs.ExplicitBitVect object at 0xa1fe968a0>, <rdkit.DataStructs.cDataStructs.ExplicitBitVect object at 0xa1fe968f0>, <rdkit.DataStructs.cDataStructs.ExplicitBitVect object at 0xa1fe96940>, <rdkit.DataStructs.cDataStructs.ExplicitBitVect object at 0xa1fe96990>, <rdkit.DataStructs.cDataStructs.ExplicitBitVect object at 0xa1fe969e0>, <rdkit.DataStructs.cDataStructs.ExplicitBitVect object at 0xa1fe96a30>, <rdkit.DataStructs.cDataStructs.ExplicitBitVect object at 0xa1fe96a80>, <rdkit.DataStructs.cDataStructs.ExplicitBitVect object at 0xa1fe96ad0>, <rdkit.DataStructs.cDataStructs.ExplicitBitVect object at 0xa1fe96b20>, <rdkit.DataStructs.cDataStructs.ExplicitBitVect object at 0xa1fe96b70>, <rdkit.DataStructs.cDataStructs.ExplicitBitVect object at 0xa1fe96bc0>, <rdkit.DataStructs.cDataStructs.ExplicitBitVect object at 0xa1fe96c10>, <rdkit.DataStructs.cDataStructs.ExplicitBitVect object at 0xa1fe96c60>, <rdkit.DataStructs.cDataStructs.ExplicitBitVect object at 0xa1fe96cb0>, <rdkit.DataStructs.cDataStructs.ExplicitBitVect object at 0xa1fe96d00>, <rdkit.DataStructs.cDataStructs.ExplicitBitVect object at 0xa1fe96d50>, <rdkit.DataStructs.cDataStructs.ExplicitBitVect object at 0xa1fe96da0>, <rdkit.DataStructs.cDataStructs.ExplicitBitVect object at 0xa1fe96df0>, <rdkit.DataStructs.cDataStructs.ExplicitBitVect object at 0xa1fe96e40>, <rdkit.DataStructs.cDataStructs.ExplicitBitVect object at 0xa1fe96e90>, <rdkit.DataStructs.cDataStructs.ExplicitBitVect object at 0xa1fe96ee0>, <rdkit.DataStructs.cDataStructs.ExplicitBitVect object at 0xa1fe96f30>, <rdkit.DataStructs.cDataStructs.ExplicitBitVect object at 0xa1fe96f80>, <rdkit.DataStructs.cDataStructs.ExplicitBitVect object at 0xa1fe97030>, <rdkit.DataStructs.cDataStructs.ExplicitBitVect object at 0xa1fe97080>, <rdkit.DataStructs.cDataStructs.ExplicitBitVect object at 0xa1fe970d0>, <rdkit.DataStructs.cDataStructs.ExplicitBitVect object at 0xa1fe97120>, <rdkit.DataStructs.cDataStructs.ExplicitBitVect object at 0xa1fe97170>, <rdkit.DataStructs.cDataStructs.ExplicitBitVect object at 0xa1fe971c0>, <rdkit.DataStructs.cDataStructs.ExplicitBitVect object at 0xa1fe97210>, <rdkit.DataStructs.cDataStructs.ExplicitBitVect object at 0xa1fe97260>, <rdkit.DataStructs.cDataStructs.ExplicitBitVect object at 0xa1fe972b0>, <rdkit.DataStructs.cDataStructs.ExplicitBitVect object at 0xa1fe97300>, <rdkit.DataStructs.cDataStructs.ExplicitBitVect object at 0xa1fe97350>, <rdkit.DataStructs.cDataStructs.ExplicitBitVect object at 0xa1fe973a0>, <rdkit.DataStructs.cDataStructs.ExplicitBitVect object at 0xa1fe973f0>, <rdkit.DataStructs.cDataStructs.ExplicitBitVect object at 0xa1fe97440>, <rdkit.DataStructs.cDataStructs.ExplicitBitVect object at 0xa1fe97490>, <rdkit.DataStructs.cDataStructs.ExplicitBitVect object at 0xa1fe974e0>, <rdkit.DataStructs.cDataStructs.ExplicitBitVect object at 0xa1fe97530>, <rdkit.DataStructs.cDataStructs.ExplicitBitVect object at 0xa1fe97580>, <rdkit.DataStructs.cDataStructs.ExplicitBitVect object at 0xa1fe975d0>, <rdkit.DataStructs.cDataStructs.ExplicitBitVect object at 0xa1fe97620>, <rdkit.DataStructs.cDataStructs.ExplicitBitVect object at 0xa1fe97670>, <rdkit.DataStructs.cDataStructs.ExplicitBitVect object at 0xa1fe976c0>, <rdkit.DataStructs.cDataStructs.ExplicitBitVect object at 0xa1fe97710>, <rdkit.DataStructs.cDataStructs.ExplicitBitVect object at 0xa1fe97760>, <rdkit.DataStructs.cDataStructs.ExplicitBitVect object at 0xa1fe977b0>, <rdkit.DataStructs.cDataStructs.ExplicitBitVect object at 0xa1fe97800>, <rdkit.DataStructs.cDataStructs.ExplicitBitVect object at 0xa1fe97850>, <rdkit.DataStructs.cDataStructs.ExplicitBitVect object at 0xa1fe978a0>, <rdkit.DataStructs.cDataStructs.ExplicitBitVect object at 0xa1fe978f0>, <rdkit.DataStructs.cDataStructs.ExplicitBitVect object at 0xa1fe97940>, <rdkit.DataStructs.cDataStructs.ExplicitBitVect object at 0xa1fe97990>, <rdkit.DataStructs.cDataStructs.ExplicitBitVect object at 0xa1fe979e0>, <rdkit.DataStructs.cDataStructs.ExplicitBitVect object at 0xa1fe97a30>, <rdkit.DataStructs.cDataStructs.ExplicitBitVect object at 0xa1fe97a80>, <rdkit.DataStructs.cDataStructs.ExplicitBitVect object at 0xa1fe97ad0>, <rdkit.DataStructs.cDataStructs.ExplicitBitVect object at 0xa1fe97b20>, <rdkit.DataStructs.cDataStructs.ExplicitBitVect object at 0xa1fe97b70>, <rdkit.DataStructs.cDataStructs.ExplicitBitVect object at 0xa1fe97bc0>, <rdkit.DataStructs.cDataStructs.ExplicitBitVect object at 0xa1fe97c10>, <rdkit.DataStructs.cDataStructs.ExplicitBitVect object at 0xa1fe97c60>, <rdkit.DataStructs.cDataStructs.ExplicitBitVect object at 0xa1fe97cb0>, <rdkit.DataStructs.cDataStructs.ExplicitBitVect object at 0xa1fe97d00>, <rdkit.DataStructs.cDataStructs.ExplicitBitVect object at 0xa1fe97d50>, <rdkit.DataStructs.cDataStructs.ExplicitBitVect object at 0xa1fe97da0>, <rdkit.DataStructs.cDataStructs.ExplicitBitVect object at 0xa1fe97df0>, <rdkit.DataStructs.cDataStructs.ExplicitBitVect object at 0xa1fe97e40>, <rdkit.DataStructs.cDataStructs.ExplicitBitVect object at 0xa1fe97e90>, <rdkit.DataStructs.cDataStructs.ExplicitBitVect object at 0xa1fe97ee0>, <rdkit.DataStructs.cDataStructs.ExplicitBitVect object at 0xa1fe97f30>, <rdkit.DataStructs.cDataStructs.ExplicitBitVect object at 0xa1fe97f80>, <rdkit.DataStructs.cDataStructs.ExplicitBitVect object at 0xa1fe98030>, <rdkit.DataStructs.cDataStructs.ExplicitBitVect object at 0xa1fe98080>, <rdkit.DataStructs.cDataStructs.ExplicitBitVect object at 0xa1fe980d0>, <rdkit.DataStructs.cDataStructs.ExplicitBitVect object at 0xa1fe98120>, <rdkit.DataStructs.cDataStructs.ExplicitBitVect object at 0xa1fe98170>, <rdkit.DataStructs.cDataStructs.ExplicitBitVect object at 0xa1fe981c0>, <rdkit.DataStructs.cDataStructs.ExplicitBitVect object at 0xa1fe98210>, <rdkit.DataStructs.cDataStructs.ExplicitBitVect object at 0xa1fe98260>, <rdkit.DataStructs.cDataStructs.ExplicitBitVect object at 0xa1fe982b0>, <rdkit.DataStructs.cDataStructs.ExplicitBitVect object at 0xa1fe98300>, <rdkit.DataStructs.cDataStructs.ExplicitBitVect object at 0xa1fe98350>, <rdkit.DataStructs.cDataStructs.ExplicitBitVect object at 0xa1fe983a0>, <rdkit.DataStructs.cDataStructs.ExplicitBitVect object at 0xa1fe983f0>, <rdkit.DataStructs.cDataStructs.ExplicitBitVect object at 0xa1fe98440>, <rdkit.DataStructs.cDataStructs.ExplicitBitVect object at 0xa1fe98490>, <rdkit.DataStructs.cDataStructs.ExplicitBitVect object at 0xa1fe984e0>, <rdkit.DataStructs.cDataStructs.ExplicitBitVect object at 0xa1fe98530>, <rdkit.DataStructs.cDataStructs.ExplicitBitVect object at 0xa1fe98580>, <rdkit.DataStructs.cDataStructs.ExplicitBitVect object at 0xa1fe985d0>, <rdkit.DataStructs.cDataStructs.ExplicitBitVect object at 0xa1fe98620>, <rdkit.DataStructs.cDataStructs.ExplicitBitVect object at 0xa1fe98670>, <rdkit.DataStructs.cDataStructs.ExplicitBitVect object at 0xa1fe986c0>, <rdkit.DataStructs.cDataStructs.ExplicitBitVect object at 0xa1fe98710>, <rdkit.DataStructs.cDataStructs.ExplicitBitVect object at 0xa1fe98760>, <rdkit.DataStructs.cDataStructs.ExplicitBitVect object at 0xa1fe987b0>, <rdkit.DataStructs.cDataStructs.ExplicitBitVect object at 0xa1fe98800>, <rdkit.DataStructs.cDataStructs.ExplicitBitVect object at 0xa1fe98850>, <rdkit.DataStructs.cDataStructs.ExplicitBitVect object at 0xa1fe988a0>, <rdkit.DataStructs.cDataStructs.ExplicitBitVect object at 0xa1fe988f0>, <rdkit.DataStructs.cDataStructs.ExplicitBitVect object at 0xa1fe98940>, <rdkit.DataStructs.cDataStructs.ExplicitBitVect object at 0xa1fe98990>, <rdkit.DataStructs.cDataStructs.ExplicitBitVect object at 0xa1fe989e0>, <rdkit.DataStructs.cDataStructs.ExplicitBitVect object at 0xa1fe98a30>, <rdkit.DataStructs.cDataStructs.ExplicitBitVect object at 0xa1fe98a80>, <rdkit.DataStructs.cDataStructs.ExplicitBitVect object at 0xa1fe98ad0>, <rdkit.DataStructs.cDataStructs.ExplicitBitVect object at 0xa1fe98b20>, <rdkit.DataStructs.cDataStructs.ExplicitBitVect object at 0xa1fe98b70>, <rdkit.DataStructs.cDataStructs.ExplicitBitVect object at 0xa1fe98bc0>, <rdkit.DataStructs.cDataStructs.ExplicitBitVect object at 0xa1fe98c10>, <rdkit.DataStructs.cDataStructs.ExplicitBitVect object at 0xa1fe98c60>, <rdkit.DataStructs.cDataStructs.ExplicitBitVect object at 0xa1fe98cb0>, <rdkit.DataStructs.cDataStructs.ExplicitBitVect object at 0xa1fe98d00>, <rdkit.DataStructs.cDataStructs.ExplicitBitVect object at 0xa1fe98d50>, <rdkit.DataStructs.cDataStructs.ExplicitBitVect object at 0xa1fe98da0>, <rdkit.DataStructs.cDataStructs.ExplicitBitVect object at 0xa1fe98df0>, <rdkit.DataStructs.cDataStructs.ExplicitBitVect object at 0xa1fe98e40>, <rdkit.DataStructs.cDataStructs.ExplicitBitVect object at 0xa1fe98e90>, <rdkit.DataStructs.cDataStructs.ExplicitBitVect object at 0xa1fe98ee0>, <rdkit.DataStructs.cDataStructs.ExplicitBitVect object at 0xa1fe98f30>, <rdkit.DataStructs.cDataStructs.ExplicitBitVect object at 0xa1fe98f80>, <rdkit.DataStructs.cDataStructs.ExplicitBitVect object at 0xa1fe99030>, <rdkit.DataStructs.cDataStructs.ExplicitBitVect object at 0xa1fe99080>, <rdkit.DataStructs.cDataStructs.ExplicitBitVect object at 0xa1fe990d0>, <rdkit.DataStructs.cDataStructs.ExplicitBitVect object at 0xa1fe99120>, <rdkit.DataStructs.cDataStructs.ExplicitBitVect object at 0xa1fe99170>, <rdkit.DataStructs.cDataStructs.ExplicitBitVect object at 0xa1fe991c0>, <rdkit.DataStructs.cDataStructs.ExplicitBitVect object at 0xa1fe99210>, <rdkit.DataStructs.cDataStructs.ExplicitBitVect object at 0xa1fe99260>, <rdkit.DataStructs.cDataStructs.ExplicitBitVect object at 0xa1fe992b0>, <rdkit.DataStructs.cDataStructs.ExplicitBitVect object at 0xa1fe99300>, <rdkit.DataStructs.cDataStructs.ExplicitBitVect object at 0xa1fe99350>, <rdkit.DataStructs.cDataStructs.ExplicitBitVect object at 0xa1fe993a0>, <rdkit.DataStructs.cDataStructs.ExplicitBitVect object at 0xa1fe993f0>, <rdkit.DataStructs.cDataStructs.ExplicitBitVect object at 0xa1fe99440>, <rdkit.DataStructs.cDataStructs.ExplicitBitVect object at 0xa1fe99490>, <rdkit.DataStructs.cDataStructs.ExplicitBitVect object at 0xa1fe994e0>, <rdkit.DataStructs.cDataStructs.ExplicitBitVect object at 0xa1fe99530>, <rdkit.DataStructs.cDataStructs.ExplicitBitVect object at 0xa1fe99580>, <rdkit.DataStructs.cDataStructs.ExplicitBitVect object at 0xa1fe995d0>, <rdkit.DataStructs.cDataStructs.ExplicitBitVect object at 0xa1fe99620>, <rdkit.DataStructs.cDataStructs.ExplicitBitVect object at 0xa1fe99670>, <rdkit.DataStructs.cDataStructs.ExplicitBitVect object at 0xa1fe996c0>, <rdkit.DataStructs.cDataStructs.ExplicitBitVect object at 0xa1fe99710>, <rdkit.DataStructs.cDataStructs.ExplicitBitVect object at 0xa1fe99760>, <rdkit.DataStructs.cDataStructs.ExplicitBitVect object at 0xa1fe997b0>, <rdkit.DataStructs.cDataStructs.ExplicitBitVect object at 0xa1fe99800>, <rdkit.DataStructs.cDataStructs.ExplicitBitVect object at 0xa1fe99850>, <rdkit.DataStructs.cDataStructs.ExplicitBitVect object at 0xa1fe998a0>, <rdkit.DataStructs.cDataStructs.ExplicitBitVect object at 0xa1fe998f0>, <rdkit.DataStructs.cDataStructs.ExplicitBitVect object at 0xa1fe99940>, <rdkit.DataStructs.cDataStructs.ExplicitBitVect object at 0xa1fe99990>, <rdkit.DataStructs.cDataStructs.ExplicitBitVect object at 0xa1fe999e0>, <rdkit.DataStructs.cDataStructs.ExplicitBitVect object at 0xa1fe99a30>, <rdkit.DataStructs.cDataStructs.ExplicitBitVect object at 0xa1fe99a80>, <rdkit.DataStructs.cDataStructs.ExplicitBitVect object at 0xa1fe99ad0>, <rdkit.DataStructs.cDataStructs.ExplicitBitVect object at 0xa1fe99b20>, <rdkit.DataStructs.cDataStructs.ExplicitBitVect object at 0xa1fe99b70>, <rdkit.DataStructs.cDataStructs.ExplicitBitVect object at 0xa1fe99bc0>, <rdkit.DataStructs.cDataStructs.ExplicitBitVect object at 0xa1fe99c10>, <rdkit.DataStructs.cDataStructs.ExplicitBitVect object at 0xa1fe99c60>, <rdkit.DataStructs.cDataStructs.ExplicitBitVect object at 0xa1fe99cb0>, <rdkit.DataStructs.cDataStructs.ExplicitBitVect object at 0xa1fe99d00>, <rdkit.DataStructs.cDataStructs.ExplicitBitVect object at 0xa1fe99d50>, <rdkit.DataStructs.cDataStructs.ExplicitBitVect object at 0xa1fe99da0>, <rdkit.DataStructs.cDataStructs.ExplicitBitVect object at 0xa1fe99df0>, <rdkit.DataStructs.cDataStructs.ExplicitBitVect object at 0xa1fe99e40>, <rdkit.DataStructs.cDataStructs.ExplicitBitVect object at 0xa1fe99e90>, <rdkit.DataStructs.cDataStructs.ExplicitBitVect object at 0xa1fe99ee0>, <rdkit.DataStructs.cDataStructs.ExplicitBitVect object at 0xa1fe99f30>, <rdkit.DataStructs.cDataStructs.ExplicitBitVect object at 0xa1fe99f80>, <rdkit.DataStructs.cDataStructs.ExplicitBitVect object at 0xa1fe9a030>, <rdkit.DataStructs.cDataStructs.ExplicitBitVect object at 0xa1fe9a080>, <rdkit.DataStructs.cDataStructs.ExplicitBitVect object at 0xa1fe9a0d0>, <rdkit.DataStructs.cDataStructs.ExplicitBitVect object at 0xa1fe9a120>, <rdkit.DataStructs.cDataStructs.ExplicitBitVect object at 0xa1fe9a170>, <rdkit.DataStructs.cDataStructs.ExplicitBitVect object at 0xa1fe9a1c0>, <rdkit.DataStructs.cDataStructs.ExplicitBitVect object at 0xa1fe9a210>, <rdkit.DataStructs.cDataStructs.ExplicitBitVect object at 0xa1fe9a260>, <rdkit.DataStructs.cDataStructs.ExplicitBitVect object at 0xa1fe9a2b0>, <rdkit.DataStructs.cDataStructs.ExplicitBitVect object at 0xa1fe9a300>, <rdkit.DataStructs.cDataStructs.ExplicitBitVect object at 0xa1fe9a350>, <rdkit.DataStructs.cDataStructs.ExplicitBitVect object at 0xa1fe9a3a0>, <rdkit.DataStructs.cDataStructs.ExplicitBitVect object at 0xa1fe9a3f0>, <rdkit.DataStructs.cDataStructs.ExplicitBitVect object at 0xa1fe9a440>, <rdkit.DataStructs.cDataStructs.ExplicitBitVect object at 0xa1fe9a490>, <rdkit.DataStructs.cDataStructs.ExplicitBitVect object at 0xa1fe9a4e0>, <rdkit.DataStructs.cDataStructs.ExplicitBitVect object at 0xa1fe9a530>, <rdkit.DataStructs.cDataStructs.ExplicitBitVect object at 0xa1fe9a580>, <rdkit.DataStructs.cDataStructs.ExplicitBitVect object at 0xa1fe9a5d0>, <rdkit.DataStructs.cDataStructs.ExplicitBitVect object at 0xa1fe9a620>, <rdkit.DataStructs.cDataStructs.ExplicitBitVect object at 0xa1fe9a670>, <rdkit.DataStructs.cDataStructs.ExplicitBitVect object at 0xa1fe9a6c0>, <rdkit.DataStructs.cDataStructs.ExplicitBitVect object at 0xa1fe9a710>, <rdkit.DataStructs.cDataStructs.ExplicitBitVect object at 0xa1fe9a760>, <rdkit.DataStructs.cDataStructs.ExplicitBitVect object at 0xa1fe9a7b0>, <rdkit.DataStructs.cDataStructs.ExplicitBitVect object at 0xa1fe9a800>, <rdkit.DataStructs.cDataStructs.ExplicitBitVect object at 0xa1fe9a850>, <rdkit.DataStructs.cDataStructs.ExplicitBitVect object at 0xa1fe9a8a0>, <rdkit.DataStructs.cDataStructs.ExplicitBitVect object at 0xa1fe9a8f0>, <rdkit.DataStructs.cDataStructs.ExplicitBitVect object at 0xa1fe9a940>, <rdkit.DataStructs.cDataStructs.ExplicitBitVect object at 0xa1fe9a990>, <rdkit.DataStructs.cDataStructs.ExplicitBitVect object at 0xa1fe9a9e0>, <rdkit.DataStructs.cDataStructs.ExplicitBitVect object at 0xa1fe9aa30>, <rdkit.DataStructs.cDataStructs.ExplicitBitVect object at 0xa1fe9aa80>, <rdkit.DataStructs.cDataStructs.ExplicitBitVect object at 0xa1fe9aad0>, <rdkit.DataStructs.cDataStructs.ExplicitBitVect object at 0xa1fe9ab20>, <rdkit.DataStructs.cDataStructs.ExplicitBitVect object at 0xa1fe9ab70>, <rdkit.DataStructs.cDataStructs.ExplicitBitVect object at 0xa1fe9abc0>, <rdkit.DataStructs.cDataStructs.ExplicitBitVect object at 0xa1fe9ac10>, <rdkit.DataStructs.cDataStructs.ExplicitBitVect object at 0xa1fe9ac60>, <rdkit.DataStructs.cDataStructs.ExplicitBitVect object at 0xa1fe9acb0>, <rdkit.DataStructs.cDataStructs.ExplicitBitVect object at 0xa1fe9ad00>, <rdkit.DataStructs.cDataStructs.ExplicitBitVect object at 0xa1fe9ad50>, <rdkit.DataStructs.cDataStructs.ExplicitBitVect object at 0xa1fe9ada0>, <rdkit.DataStructs.cDataStructs.ExplicitBitVect object at 0xa1fe9adf0>, <rdkit.DataStructs.cDataStructs.ExplicitBitVect object at 0xa1fe9ae40>, <rdkit.DataStructs.cDataStructs.ExplicitBitVect object at 0xa1fe9ae90>, <rdkit.DataStructs.cDataStructs.ExplicitBitVect object at 0xa1fe9aee0>, <rdkit.DataStructs.cDataStructs.ExplicitBitVect object at 0xa1fe9af30>, <rdkit.DataStructs.cDataStructs.ExplicitBitVect object at 0xa1fe9af80>, <rdkit.DataStructs.cDataStructs.ExplicitBitVect object at 0xa1fe9b030>, <rdkit.DataStructs.cDataStructs.ExplicitBitVect object at 0xa1fe9b080>, <rdkit.DataStructs.cDataStructs.ExplicitBitVect object at 0xa1fe9b0d0>, <rdkit.DataStructs.cDataStructs.ExplicitBitVect object at 0xa1fe9b120>, <rdkit.DataStructs.cDataStructs.ExplicitBitVect object at 0xa1fe9b170>, <rdkit.DataStructs.cDataStructs.ExplicitBitVect object at 0xa1fe9b1c0>, <rdkit.DataStructs.cDataStructs.ExplicitBitVect object at 0xa1fe9b210>, <rdkit.DataStructs.cDataStructs.ExplicitBitVect object at 0xa1fe9b260>, <rdkit.DataStructs.cDataStructs.ExplicitBitVect object at 0xa1fe9b2b0>, <rdkit.DataStructs.cDataStructs.ExplicitBitVect object at 0xa1fe9b300>, <rdkit.DataStructs.cDataStructs.ExplicitBitVect object at 0xa1fe9b350>, <rdkit.DataStructs.cDataStructs.ExplicitBitVect object at 0xa1fe9b3a0>, <rdkit.DataStructs.cDataStructs.ExplicitBitVect object at 0xa1fe9b3f0>, <rdkit.DataStructs.cDataStructs.ExplicitBitVect object at 0xa1fe9b440>, <rdkit.DataStructs.cDataStructs.ExplicitBitVect object at 0xa1fe9b490>, <rdkit.DataStructs.cDataStructs.ExplicitBitVect object at 0xa1fe9b4e0>, <rdkit.DataStructs.cDataStructs.ExplicitBitVect object at 0xa1fe9b530>, <rdkit.DataStructs.cDataStructs.ExplicitBitVect object at 0xa1fe9b580>, <rdkit.DataStructs.cDataStructs.ExplicitBitVect object at 0xa1fe9b5d0>, <rdkit.DataStructs.cDataStructs.ExplicitBitVect object at 0xa1fe9b620>, <rdkit.DataStructs.cDataStructs.ExplicitBitVect object at 0xa1fe9b670>, <rdkit.DataStructs.cDataStructs.ExplicitBitVect object at 0xa1fe9b6c0>, <rdkit.DataStructs.cDataStructs.ExplicitBitVect object at 0xa1fe9b710>, <rdkit.DataStructs.cDataStructs.ExplicitBitVect object at 0xa1fe9b760>, <rdkit.DataStructs.cDataStructs.ExplicitBitVect object at 0xa1fe9b7b0>, <rdkit.DataStructs.cDataStructs.ExplicitBitVect object at 0xa1fe9b800>, <rdkit.DataStructs.cDataStructs.ExplicitBitVect object at 0xa1fe9b850>, <rdkit.DataStructs.cDataStructs.ExplicitBitVect object at 0xa1fe9b8a0>, <rdkit.DataStructs.cDataStructs.ExplicitBitVect object at 0xa1fe9b8f0>, <rdkit.DataStructs.cDataStructs.ExplicitBitVect object at 0xa1fe9b940>, <rdkit.DataStructs.cDataStructs.ExplicitBitVect object at 0xa1fe9b990>, <rdkit.DataStructs.cDataStructs.ExplicitBitVect object at 0xa1fe9b9e0>, <rdkit.DataStructs.cDataStructs.ExplicitBitVect object at 0xa1fe9ba30>, <rdkit.DataStructs.cDataStructs.ExplicitBitVect object at 0xa1fe9ba80>, <rdkit.DataStructs.cDataStructs.ExplicitBitVect object at 0xa1fe9bad0>, <rdkit.DataStructs.cDataStructs.ExplicitBitVect object at 0xa1fe9bb20>, <rdkit.DataStructs.cDataStructs.ExplicitBitVect object at 0xa1fe9bb70>, <rdkit.DataStructs.cDataStructs.ExplicitBitVect object at 0xa1fe9bbc0>, <rdkit.DataStructs.cDataStructs.ExplicitBitVect object at 0xa1fe9bc10>, <rdkit.DataStructs.cDataStructs.ExplicitBitVect object at 0xa1fe9bc60>, <rdkit.DataStructs.cDataStructs.ExplicitBitVect object at 0xa1fe9bcb0>, <rdkit.DataStructs.cDataStructs.ExplicitBitVect object at 0xa1fe9bd00>, <rdkit.DataStructs.cDataStructs.ExplicitBitVect object at 0xa1fe9bd50>, <rdkit.DataStructs.cDataStructs.ExplicitBitVect object at 0xa1fe9bda0>, <rdkit.DataStructs.cDataStructs.ExplicitBitVect object at 0xa1fe9bdf0>, <rdkit.DataStructs.cDataStructs.ExplicitBitVect object at 0xa1fe9be40>, <rdkit.DataStructs.cDataStructs.ExplicitBitVect object at 0xa1fe9be90>, <rdkit.DataStructs.cDataStructs.ExplicitBitVect object at 0xa1fe9bee0>, <rdkit.DataStructs.cDataStructs.ExplicitBitVect object at 0xa1fe9bf30>, <rdkit.DataStructs.cDataStructs.ExplicitBitVect object at 0xa1fe9bf80>, <rdkit.DataStructs.cDataStructs.ExplicitBitVect object at 0xa1fe9c030>, <rdkit.DataStructs.cDataStructs.ExplicitBitVect object at 0xa1fe9c080>, <rdkit.DataStructs.cDataStructs.ExplicitBitVect object at 0xa1fe9c0d0>, <rdkit.DataStructs.cDataStructs.ExplicitBitVect object at 0xa1fe9c120>, <rdkit.DataStructs.cDataStructs.ExplicitBitVect object at 0xa1fe9c170>, <rdkit.DataStructs.cDataStructs.ExplicitBitVect object at 0xa1fe9c1c0>, <rdkit.DataStructs.cDataStructs.ExplicitBitVect object at 0xa1fe9c210>, <rdkit.DataStructs.cDataStructs.ExplicitBitVect object at 0xa1fe9c260>, <rdkit.DataStructs.cDataStructs.ExplicitBitVect object at 0xa1fe9c2b0>, <rdkit.DataStructs.cDataStructs.ExplicitBitVect object at 0xa1fe9c300>, <rdkit.DataStructs.cDataStructs.ExplicitBitVect object at 0xa1fe9c350>, <rdkit.DataStructs.cDataStructs.ExplicitBitVect object at 0xa1fe9c3a0>, <rdkit.DataStructs.cDataStructs.ExplicitBitVect object at 0xa1fe9c3f0>, <rdkit.DataStructs.cDataStructs.ExplicitBitVect object at 0xa1fe9c440>, <rdkit.DataStructs.cDataStructs.ExplicitBitVect object at 0xa1fe9c490>, <rdkit.DataStructs.cDataStructs.ExplicitBitVect object at 0xa1fe9c4e0>, <rdkit.DataStructs.cDataStructs.ExplicitBitVect object at 0xa1fe9c530>, <rdkit.DataStructs.cDataStructs.ExplicitBitVect object at 0xa1fe9c580>, <rdkit.DataStructs.cDataStructs.ExplicitBitVect object at 0xa1fe9c5d0>, <rdkit.DataStructs.cDataStructs.ExplicitBitVect object at 0xa1fe9c620>, <rdkit.DataStructs.cDataStructs.ExplicitBitVect object at 0xa1fe9c670>, <rdkit.DataStructs.cDataStructs.ExplicitBitVect object at 0xa1fe9c6c0>, <rdkit.DataStructs.cDataStructs.ExplicitBitVect object at 0xa1fe9c710>, <rdkit.DataStructs.cDataStructs.ExplicitBitVect object at 0xa1fe9c760>, <rdkit.DataStructs.cDataStructs.ExplicitBitVect object at 0xa1fe9c7b0>, <rdkit.DataStructs.cDataStructs.ExplicitBitVect object at 0xa1fe9c800>, <rdkit.DataStructs.cDataStructs.ExplicitBitVect object at 0xa1fe9c850>, <rdkit.DataStructs.cDataStructs.ExplicitBitVect object at 0xa1fe9c8a0>, <rdkit.DataStructs.cDataStructs.ExplicitBitVect object at 0xa1fe9c8f0>, <rdkit.DataStructs.cDataStructs.ExplicitBitVect object at 0xa1fe9c940>, <rdkit.DataStructs.cDataStructs.ExplicitBitVect object at 0xa1fe9c990>, <rdkit.DataStructs.cDataStructs.ExplicitBitVect object at 0xa1fe9c9e0>, <rdkit.DataStructs.cDataStructs.ExplicitBitVect object at 0xa1fe9ca30>, <rdkit.DataStructs.cDataStructs.ExplicitBitVect object at 0xa1fe9ca80>, <rdkit.DataStructs.cDataStructs.ExplicitBitVect object at 0xa1fe9cad0>, <rdkit.DataStructs.cDataStructs.ExplicitBitVect object at 0xa1fe9cb20>, <rdkit.DataStructs.cDataStructs.ExplicitBitVect object at 0xa1fe9cb70>, <rdkit.DataStructs.cDataStructs.ExplicitBitVect object at 0xa1fe9cbc0>, <rdkit.DataStructs.cDataStructs.ExplicitBitVect object at 0xa1fe9cc10>, <rdkit.DataStructs.cDataStructs.ExplicitBitVect object at 0xa1fe9cc60>, <rdkit.DataStructs.cDataStructs.ExplicitBitVect object at 0xa1fe9ccb0>, <rdkit.DataStructs.cDataStructs.ExplicitBitVect object at 0xa1fe9cd00>, <rdkit.DataStructs.cDataStructs.ExplicitBitVect object at 0xa1fe9cd50>, <rdkit.DataStructs.cDataStructs.ExplicitBitVect object at 0xa1fe9cda0>, <rdkit.DataStructs.cDataStructs.ExplicitBitVect object at 0xa1fe9cdf0>, <rdkit.DataStructs.cDataStructs.ExplicitBitVect object at 0xa1fe9ce40>, <rdkit.DataStructs.cDataStructs.ExplicitBitVect object at 0xa1fe9ce90>, <rdkit.DataStructs.cDataStructs.ExplicitBitVect object at 0xa1fe9cee0>, <rdkit.DataStructs.cDataStructs.ExplicitBitVect object at 0xa1fe9cf30>, <rdkit.DataStructs.cDataStructs.ExplicitBitVect object at 0xa1fe9cf80>, <rdkit.DataStructs.cDataStructs.ExplicitBitVect object at 0xa1fe9d030>, <rdkit.DataStructs.cDataStructs.ExplicitBitVect object at 0xa1fe9d080>, <rdkit.DataStructs.cDataStructs.ExplicitBitVect object at 0xa1fe9d0d0>, <rdkit.DataStructs.cDataStructs.ExplicitBitVect object at 0xa1fe9d120>, <rdkit.DataStructs.cDataStructs.ExplicitBitVect object at 0xa1fe9d170>, <rdkit.DataStructs.cDataStructs.ExplicitBitVect object at 0xa1fe9d1c0>, <rdkit.DataStructs.cDataStructs.ExplicitBitVect object at 0xa1fe9d210>, <rdkit.DataStructs.cDataStructs.ExplicitBitVect object at 0xa1fe9d260>, <rdkit.DataStructs.cDataStructs.ExplicitBitVect object at 0xa1fe9d2b0>, <rdkit.DataStructs.cDataStructs.ExplicitBitVect object at 0xa1fe9d300>, <rdkit.DataStructs.cDataStructs.ExplicitBitVect object at 0xa1fe9d350>, <rdkit.DataStructs.cDataStructs.ExplicitBitVect object at 0xa1fe9d3a0>, <rdkit.DataStructs.cDataStructs.ExplicitBitVect object at 0xa1fe9d3f0>, <rdkit.DataStructs.cDataStructs.ExplicitBitVect object at 0xa1fe9d440>, <rdkit.DataStructs.cDataStructs.ExplicitBitVect object at 0xa1fe9d490>, <rdkit.DataStructs.cDataStructs.ExplicitBitVect object at 0xa1fe9d4e0>, <rdkit.DataStructs.cDataStructs.ExplicitBitVect object at 0xa1fe9d530>, <rdkit.DataStructs.cDataStructs.ExplicitBitVect object at 0xa1fe9d580>, <rdkit.DataStructs.cDataStructs.ExplicitBitVect object at 0xa1fe9d5d0>, <rdkit.DataStructs.cDataStructs.ExplicitBitVect object at 0xa1fe9d620>, <rdkit.DataStructs.cDataStructs.ExplicitBitVect object at 0xa1fe9d670>, <rdkit.DataStructs.cDataStructs.ExplicitBitVect object at 0xa1fe9d6c0>, <rdkit.DataStructs.cDataStructs.ExplicitBitVect object at 0xa1fe9d710>, <rdkit.DataStructs.cDataStructs.ExplicitBitVect object at 0xa1fe9d760>, <rdkit.DataStructs.cDataStructs.ExplicitBitVect object at 0xa1fe9d7b0>, <rdkit.DataStructs.cDataStructs.ExplicitBitVect object at 0xa1fe9d800>, <rdkit.DataStructs.cDataStructs.ExplicitBitVect object at 0xa1fe9d850>, <rdkit.DataStructs.cDataStructs.ExplicitBitVect object at 0xa1fe9d8a0>, <rdkit.DataStructs.cDataStructs.ExplicitBitVect object at 0xa1fe9d8f0>, <rdkit.DataStructs.cDataStructs.ExplicitBitVect object at 0xa1fe9d940>, <rdkit.DataStructs.cDataStructs.ExplicitBitVect object at 0xa1fe9d990>, <rdkit.DataStructs.cDataStructs.ExplicitBitVect object at 0xa1fe9d9e0>, <rdkit.DataStructs.cDataStructs.ExplicitBitVect object at 0xa1fe9da30>, <rdkit.DataStructs.cDataStructs.ExplicitBitVect object at 0xa1fe9da80>, <rdkit.DataStructs.cDataStructs.ExplicitBitVect object at 0xa1fe9dad0>, <rdkit.DataStructs.cDataStructs.ExplicitBitVect object at 0xa1fe9db20>, <rdkit.DataStructs.cDataStructs.ExplicitBitVect object at 0xa1fe9db70>, <rdkit.DataStructs.cDataStructs.ExplicitBitVect object at 0xa1fe9dbc0>, <rdkit.DataStructs.cDataStructs.ExplicitBitVect object at 0xa1fe9dc10>, <rdkit.DataStructs.cDataStructs.ExplicitBitVect object at 0xa1fe9dc60>, <rdkit.DataStructs.cDataStructs.ExplicitBitVect object at 0xa1fe9dcb0>, <rdkit.DataStructs.cDataStructs.ExplicitBitVect object at 0xa1fe9dd00>, <rdkit.DataStructs.cDataStructs.ExplicitBitVect object at 0xa1fe9dd50>, <rdkit.DataStructs.cDataStructs.ExplicitBitVect object at 0xa1fe9dda0>, <rdkit.DataStructs.cDataStructs.ExplicitBitVect object at 0xa1fe9ddf0>, <rdkit.DataStructs.cDataStructs.ExplicitBitVect object at 0xa1fe9de40>, <rdkit.DataStructs.cDataStructs.ExplicitBitVect object at 0xa1fe9de90>, <rdkit.DataStructs.cDataStructs.ExplicitBitVect object at 0xa1fe9dee0>, <rdkit.DataStructs.cDataStructs.ExplicitBitVect object at 0xa1fe9df30>, <rdkit.DataStructs.cDataStructs.ExplicitBitVect object at 0xa1fe9df80>, <rdkit.DataStructs.cDataStructs.ExplicitBitVect object at 0xa1fe9e030>, <rdkit.DataStructs.cDataStructs.ExplicitBitVect object at 0xa1fe9e080>, <rdkit.DataStructs.cDataStructs.ExplicitBitVect object at 0xa1fe9e0d0>, <rdkit.DataStructs.cDataStructs.ExplicitBitVect object at 0xa1fe9e120>, <rdkit.DataStructs.cDataStructs.ExplicitBitVect object at 0xa1fe9e170>, <rdkit.DataStructs.cDataStructs.ExplicitBitVect object at 0xa1fe9e1c0>, <rdkit.DataStructs.cDataStructs.ExplicitBitVect object at 0xa1fe9e210>, <rdkit.DataStructs.cDataStructs.ExplicitBitVect object at 0xa1fe9e260>, <rdkit.DataStructs.cDataStructs.ExplicitBitVect object at 0xa1fe9e2b0>, <rdkit.DataStructs.cDataStructs.ExplicitBitVect object at 0xa1fe9e300>, <rdkit.DataStructs.cDataStructs.ExplicitBitVect object at 0xa1fe9e350>, <rdkit.DataStructs.cDataStructs.ExplicitBitVect object at 0xa1fe9e3a0>, <rdkit.DataStructs.cDataStructs.ExplicitBitVect object at 0xa1fe9e3f0>, <rdkit.DataStructs.cDataStructs.ExplicitBitVect object at 0xa1fe9e440>, <rdkit.DataStructs.cDataStructs.ExplicitBitVect object at 0xa1fe9e490>, <rdkit.DataStructs.cDataStructs.ExplicitBitVect object at 0xa1fe9e4e0>, <rdkit.DataStructs.cDataStructs.ExplicitBitVect object at 0xa1fe9e530>, <rdkit.DataStructs.cDataStructs.ExplicitBitVect object at 0xa1fe9e580>, <rdkit.DataStructs.cDataStructs.ExplicitBitVect object at 0xa1fe9e5d0>, <rdkit.DataStructs.cDataStructs.ExplicitBitVect object at 0xa1fe9e620>, <rdkit.DataStructs.cDataStructs.ExplicitBitVect object at 0xa1fe9e670>, <rdkit.DataStructs.cDataStructs.ExplicitBitVect object at 0xa1fe9e6c0>, <rdkit.DataStructs.cDataStructs.ExplicitBitVect object at 0xa1fe9e710>, <rdkit.DataStructs.cDataStructs.ExplicitBitVect object at 0xa1fe9e760>, <rdkit.DataStructs.cDataStructs.ExplicitBitVect object at 0xa1fe9e7b0>, <rdkit.DataStructs.cDataStructs.ExplicitBitVect object at 0xa1fe9e800>, <rdkit.DataStructs.cDataStructs.ExplicitBitVect object at 0xa1fe9e850>, <rdkit.DataStructs.cDataStructs.ExplicitBitVect object at 0xa1fe9e8a0>, <rdkit.DataStructs.cDataStructs.ExplicitBitVect object at 0xa1fe9e8f0>, <rdkit.DataStructs.cDataStructs.ExplicitBitVect object at 0xa1fe9e940>, <rdkit.DataStructs.cDataStructs.ExplicitBitVect object at 0xa1fe9e990>, <rdkit.DataStructs.cDataStructs.ExplicitBitVect object at 0xa1fe9e9e0>, <rdkit.DataStructs.cDataStructs.ExplicitBitVect object at 0xa1fe9ea30>, <rdkit.DataStructs.cDataStructs.ExplicitBitVect object at 0xa1fe9ea80>, <rdkit.DataStructs.cDataStructs.ExplicitBitVect object at 0xa1fe9ead0>, <rdkit.DataStructs.cDataStructs.ExplicitBitVect object at 0xa1fe9eb20>, <rdkit.DataStructs.cDataStructs.ExplicitBitVect object at 0xa1fe9eb70>, <rdkit.DataStructs.cDataStructs.ExplicitBitVect object at 0xa1fe9ebc0>, <rdkit.DataStructs.cDataStructs.ExplicitBitVect object at 0xa1fe9ec10>, <rdkit.DataStructs.cDataStructs.ExplicitBitVect object at 0xa1fe9ec60>, <rdkit.DataStructs.cDataStructs.ExplicitBitVect object at 0xa1fe9ecb0>, <rdkit.DataStructs.cDataStructs.ExplicitBitVect object at 0xa1fe9ed00>, <rdkit.DataStructs.cDataStructs.ExplicitBitVect object at 0xa1fe9ed50>, <rdkit.DataStructs.cDataStructs.ExplicitBitVect object at 0xa1fe9eda0>, <rdkit.DataStructs.cDataStructs.ExplicitBitVect object at 0xa1fe9edf0>, <rdkit.DataStructs.cDataStructs.ExplicitBitVect object at 0xa1fe9ee40>, <rdkit.DataStructs.cDataStructs.ExplicitBitVect object at 0xa1fe9ee90>, <rdkit.DataStructs.cDataStructs.ExplicitBitVect object at 0xa1fe9eee0>, <rdkit.DataStructs.cDataStructs.ExplicitBitVect object at 0xa1fe9ef30>, <rdkit.DataStructs.cDataStructs.ExplicitBitVect object at 0xa1fe9ef80>, <rdkit.DataStructs.cDataStructs.ExplicitBitVect object at 0xa1fe9f030>, <rdkit.DataStructs.cDataStructs.ExplicitBitVect object at 0xa1fe9f080>, <rdkit.DataStructs.cDataStructs.ExplicitBitVect object at 0xa1fe9f0d0>, <rdkit.DataStructs.cDataStructs.ExplicitBitVect object at 0xa1fe9f120>, <rdkit.DataStructs.cDataStructs.ExplicitBitVect object at 0xa1fe9f170>, <rdkit.DataStructs.cDataStructs.ExplicitBitVect object at 0xa1fe9f1c0>, <rdkit.DataStructs.cDataStructs.ExplicitBitVect object at 0xa1fe9f210>, <rdkit.DataStructs.cDataStructs.ExplicitBitVect object at 0xa1fe9f260>, <rdkit.DataStructs.cDataStructs.ExplicitBitVect object at 0xa1fe9f2b0>, <rdkit.DataStructs.cDataStructs.ExplicitBitVect object at 0xa1fe9f300>, <rdkit.DataStructs.cDataStructs.ExplicitBitVect object at 0xa1fe9f350>, <rdkit.DataStructs.cDataStructs.ExplicitBitVect object at 0xa1fe9f3a0>, <rdkit.DataStructs.cDataStructs.ExplicitBitVect object at 0xa1fe9f3f0>, <rdkit.DataStructs.cDataStructs.ExplicitBitVect object at 0xa1fe9f440>, <rdkit.DataStructs.cDataStructs.ExplicitBitVect object at 0xa1fe9f490>, <rdkit.DataStructs.cDataStructs.ExplicitBitVect object at 0xa1fe9f4e0>, <rdkit.DataStructs.cDataStructs.ExplicitBitVect object at 0xa1fe9f530>, <rdkit.DataStructs.cDataStructs.ExplicitBitVect object at 0xa1fe9f580>, <rdkit.DataStructs.cDataStructs.ExplicitBitVect object at 0xa1fe9f5d0>, <rdkit.DataStructs.cDataStructs.ExplicitBitVect object at 0xa1fe9f620>, <rdkit.DataStructs.cDataStructs.ExplicitBitVect object at 0xa1fe9f670>, <rdkit.DataStructs.cDataStructs.ExplicitBitVect object at 0xa1fe9f6c0>, <rdkit.DataStructs.cDataStructs.ExplicitBitVect object at 0xa1fe9f710>, <rdkit.DataStructs.cDataStructs.ExplicitBitVect object at 0xa1fe9f760>, <rdkit.DataStructs.cDataStructs.ExplicitBitVect object at 0xa1fe9f7b0>, <rdkit.DataStructs.cDataStructs.ExplicitBitVect object at 0xa1fe9f800>, <rdkit.DataStructs.cDataStructs.ExplicitBitVect object at 0xa1fe9f850>, <rdkit.DataStructs.cDataStructs.ExplicitBitVect object at 0xa1fe9f8a0>, <rdkit.DataStructs.cDataStructs.ExplicitBitVect object at 0xa1fe9f8f0>, <rdkit.DataStructs.cDataStructs.ExplicitBitVect object at 0xa1fe9f940>, <rdkit.DataStructs.cDataStructs.ExplicitBitVect object at 0xa1fe9f990>, <rdkit.DataStructs.cDataStructs.ExplicitBitVect object at 0xa1fe9f9e0>, <rdkit.DataStructs.cDataStructs.ExplicitBitVect object at 0xa1fe9fa30>, <rdkit.DataStructs.cDataStructs.ExplicitBitVect object at 0xa1fe9fa80>, <rdkit.DataStructs.cDataStructs.ExplicitBitVect object at 0xa1fe9fad0>, <rdkit.DataStructs.cDataStructs.ExplicitBitVect object at 0xa1fe9fb20>, <rdkit.DataStructs.cDataStructs.ExplicitBitVect object at 0xa1fe9fb70>, <rdkit.DataStructs.cDataStructs.ExplicitBitVect object at 0xa1fe9fbc0>, <rdkit.DataStructs.cDataStructs.ExplicitBitVect object at 0xa1fe9fc10>, <rdkit.DataStructs.cDataStructs.ExplicitBitVect object at 0xa1fe9fc60>, <rdkit.DataStructs.cDataStructs.ExplicitBitVect object at 0xa1fe9fcb0>, <rdkit.DataStructs.cDataStructs.ExplicitBitVect object at 0xa1fe9fd00>, <rdkit.DataStructs.cDataStructs.ExplicitBitVect object at 0xa1fe9fd50>, <rdkit.DataStructs.cDataStructs.ExplicitBitVect object at 0xa1fe9fda0>, <rdkit.DataStructs.cDataStructs.ExplicitBitVect object at 0xa1fe9fdf0>, <rdkit.DataStructs.cDataStructs.ExplicitBitVect object at 0xa1fe9fe40>, <rdkit.DataStructs.cDataStructs.ExplicitBitVect object at 0xa1fe9fe90>, <rdkit.DataStructs.cDataStructs.ExplicitBitVect object at 0xa1fe9fee0>, <rdkit.DataStructs.cDataStructs.ExplicitBitVect object at 0xa1fe9ff30>, <rdkit.DataStructs.cDataStructs.ExplicitBitVect object at 0xa1fe9ff80>, <rdkit.DataStructs.cDataStructs.ExplicitBitVect object at 0xa1fea0030>, <rdkit.DataStructs.cDataStructs.ExplicitBitVect object at 0xa1fea0080>, <rdkit.DataStructs.cDataStructs.ExplicitBitVect object at 0xa1fea00d0>, <rdkit.DataStructs.cDataStructs.ExplicitBitVect object at 0xa1fea0120>, <rdkit.DataStructs.cDataStructs.ExplicitBitVect object at 0xa1fea0170>, <rdkit.DataStructs.cDataStructs.ExplicitBitVect object at 0xa1fea01c0>, <rdkit.DataStructs.cDataStructs.ExplicitBitVect object at 0xa1fea0210>, <rdkit.DataStructs.cDataStructs.ExplicitBitVect object at 0xa1fea0260>, <rdkit.DataStructs.cDataStructs.ExplicitBitVect object at 0xa1fea02b0>, <rdkit.DataStructs.cDataStructs.ExplicitBitVect object at 0xa1fea0300>, <rdkit.DataStructs.cDataStructs.ExplicitBitVect object at 0xa1fea0350>, <rdkit.DataStructs.cDataStructs.ExplicitBitVect object at 0xa1fea03a0>, <rdkit.DataStructs.cDataStructs.ExplicitBitVect object at 0xa1fea03f0>, <rdkit.DataStructs.cDataStructs.ExplicitBitVect object at 0xa1fea0440>, <rdkit.DataStructs.cDataStructs.ExplicitBitVect object at 0xa1fea0490>, <rdkit.DataStructs.cDataStructs.ExplicitBitVect object at 0xa1fea04e0>, <rdkit.DataStructs.cDataStructs.ExplicitBitVect object at 0xa1fea0530>, <rdkit.DataStructs.cDataStructs.ExplicitBitVect object at 0xa1fea0580>, <rdkit.DataStructs.cDataStructs.ExplicitBitVect object at 0xa1fea05d0>, <rdkit.DataStructs.cDataStructs.ExplicitBitVect object at 0xa1fea0620>, <rdkit.DataStructs.cDataStructs.ExplicitBitVect object at 0xa1fea0670>, <rdkit.DataStructs.cDataStructs.ExplicitBitVect object at 0xa1fea06c0>, <rdkit.DataStructs.cDataStructs.ExplicitBitVect object at 0xa1fea0710>, <rdkit.DataStructs.cDataStructs.ExplicitBitVect object at 0xa1fea0760>, <rdkit.DataStructs.cDataStructs.ExplicitBitVect object at 0xa1fea07b0>, <rdkit.DataStructs.cDataStructs.ExplicitBitVect object at 0xa1fea0800>, <rdkit.DataStructs.cDataStructs.ExplicitBitVect object at 0xa1fea0850>, <rdkit.DataStructs.cDataStructs.ExplicitBitVect object at 0xa1fea08a0>, <rdkit.DataStructs.cDataStructs.ExplicitBitVect object at 0xa1fea08f0>, <rdkit.DataStructs.cDataStructs.ExplicitBitVect object at 0xa1fea0940>, <rdkit.DataStructs.cDataStructs.ExplicitBitVect object at 0xa1fea0990>, <rdkit.DataStructs.cDataStructs.ExplicitBitVect object at 0xa1fea09e0>, <rdkit.DataStructs.cDataStructs.ExplicitBitVect object at 0xa1fea0a30>, <rdkit.DataStructs.cDataStructs.ExplicitBitVect object at 0xa1fea0a80>, <rdkit.DataStructs.cDataStructs.ExplicitBitVect object at 0xa1fea0ad0>, <rdkit.DataStructs.cDataStructs.ExplicitBitVect object at 0xa1fea0b20>, <rdkit.DataStructs.cDataStructs.ExplicitBitVect object at 0xa1fea0b70>, <rdkit.DataStructs.cDataStructs.ExplicitBitVect object at 0xa1fea0bc0>, <rdkit.DataStructs.cDataStructs.ExplicitBitVect object at 0xa1fea0c10>, <rdkit.DataStructs.cDataStructs.ExplicitBitVect object at 0xa1fea0c60>, <rdkit.DataStructs.cDataStructs.ExplicitBitVect object at 0xa1fea0cb0>, <rdkit.DataStructs.cDataStructs.ExplicitBitVect object at 0xa1fea0d00>, <rdkit.DataStructs.cDataStructs.ExplicitBitVect object at 0xa1fea0d50>, <rdkit.DataStructs.cDataStructs.ExplicitBitVect object at 0xa1fea0da0>, <rdkit.DataStructs.cDataStructs.ExplicitBitVect object at 0xa1fea0df0>, <rdkit.DataStructs.cDataStructs.ExplicitBitVect object at 0xa1fea0e40>, <rdkit.DataStructs.cDataStructs.ExplicitBitVect object at 0xa1fea0e90>, <rdkit.DataStructs.cDataStructs.ExplicitBitVect object at 0xa1fea0ee0>, <rdkit.DataStructs.cDataStructs.ExplicitBitVect object at 0xa1fea0f30>, <rdkit.DataStructs.cDataStructs.ExplicitBitVect object at 0xa1fea0f80>, <rdkit.DataStructs.cDataStructs.ExplicitBitVect object at 0xa1fea1030>, <rdkit.DataStructs.cDataStructs.ExplicitBitVect object at 0xa1fea1080>, <rdkit.DataStructs.cDataStructs.ExplicitBitVect object at 0xa1fea10d0>, <rdkit.DataStructs.cDataStructs.ExplicitBitVect object at 0xa1fea1120>, <rdkit.DataStructs.cDataStructs.ExplicitBitVect object at 0xa1fea1170>, <rdkit.DataStructs.cDataStructs.ExplicitBitVect object at 0xa1fea11c0>, <rdkit.DataStructs.cDataStructs.ExplicitBitVect object at 0xa1fea1210>, <rdkit.DataStructs.cDataStructs.ExplicitBitVect object at 0xa1fea1260>, <rdkit.DataStructs.cDataStructs.ExplicitBitVect object at 0xa1fea12b0>, <rdkit.DataStructs.cDataStructs.ExplicitBitVect object at 0xa1fea1300>, <rdkit.DataStructs.cDataStructs.ExplicitBitVect object at 0xa1fea1350>, <rdkit.DataStructs.cDataStructs.ExplicitBitVect object at 0xa1fea13a0>, <rdkit.DataStructs.cDataStructs.ExplicitBitVect object at 0xa1fea13f0>, <rdkit.DataStructs.cDataStructs.ExplicitBitVect object at 0xa1fea1440>, <rdkit.DataStructs.cDataStructs.ExplicitBitVect object at 0xa1fea1490>, <rdkit.DataStructs.cDataStructs.ExplicitBitVect object at 0xa1fea14e0>, <rdkit.DataStructs.cDataStructs.ExplicitBitVect object at 0xa1fea1530>, <rdkit.DataStructs.cDataStructs.ExplicitBitVect object at 0xa1fea1580>, <rdkit.DataStructs.cDataStructs.ExplicitBitVect object at 0xa1fea15d0>, <rdkit.DataStructs.cDataStructs.ExplicitBitVect object at 0xa1fea1620>, <rdkit.DataStructs.cDataStructs.ExplicitBitVect object at 0xa1fea1670>, <rdkit.DataStructs.cDataStructs.ExplicitBitVect object at 0xa1fea16c0>, <rdkit.DataStructs.cDataStructs.ExplicitBitVect object at 0xa1fea1710>, <rdkit.DataStructs.cDataStructs.ExplicitBitVect object at 0xa1fea1760>, <rdkit.DataStructs.cDataStructs.ExplicitBitVect object at 0xa1fea17b0>, <rdkit.DataStructs.cDataStructs.ExplicitBitVect object at 0xa1fea1800>, <rdkit.DataStructs.cDataStructs.ExplicitBitVect object at 0xa1fea1850>, <rdkit.DataStructs.cDataStructs.ExplicitBitVect object at 0xa1fea18a0>, <rdkit.DataStructs.cDataStructs.ExplicitBitVect object at 0xa1fea18f0>, <rdkit.DataStructs.cDataStructs.ExplicitBitVect object at 0xa1fea1940>, <rdkit.DataStructs.cDataStructs.ExplicitBitVect object at 0xa1fea1990>, <rdkit.DataStructs.cDataStructs.ExplicitBitVect object at 0xa1fea19e0>, <rdkit.DataStructs.cDataStructs.ExplicitBitVect object at 0xa1fea1a30>, <rdkit.DataStructs.cDataStructs.ExplicitBitVect object at 0xa1fea1a80>, <rdkit.DataStructs.cDataStructs.ExplicitBitVect object at 0xa1fea1ad0>, <rdkit.DataStructs.cDataStructs.ExplicitBitVect object at 0xa1fea1b20>, <rdkit.DataStructs.cDataStructs.ExplicitBitVect object at 0xa1fea1b70>, <rdkit.DataStructs.cDataStructs.ExplicitBitVect object at 0xa1fea1bc0>, <rdkit.DataStructs.cDataStructs.ExplicitBitVect object at 0xa1fea1c10>, <rdkit.DataStructs.cDataStructs.ExplicitBitVect object at 0xa1fea1c60>, <rdkit.DataStructs.cDataStructs.ExplicitBitVect object at 0xa1fea1cb0>, <rdkit.DataStructs.cDataStructs.ExplicitBitVect object at 0xa1fea1d00>, <rdkit.DataStructs.cDataStructs.ExplicitBitVect object at 0xa1fea1d50>, <rdkit.DataStructs.cDataStructs.ExplicitBitVect object at 0xa1fea1da0>, <rdkit.DataStructs.cDataStructs.ExplicitBitVect object at 0xa1fea1df0>, <rdkit.DataStructs.cDataStructs.ExplicitBitVect object at 0xa1fea1e40>, <rdkit.DataStructs.cDataStructs.ExplicitBitVect object at 0xa1fea1e90>, <rdkit.DataStructs.cDataStructs.ExplicitBitVect object at 0xa1fea1ee0>, <rdkit.DataStructs.cDataStructs.ExplicitBitVect object at 0xa1fea1f30>, <rdkit.DataStructs.cDataStructs.ExplicitBitVect object at 0xa1fea1f80>, <rdkit.DataStructs.cDataStructs.ExplicitBitVect object at 0xa1fea2030>, <rdkit.DataStructs.cDataStructs.ExplicitBitVect object at 0xa1fea2080>, <rdkit.DataStructs.cDataStructs.ExplicitBitVect object at 0xa1fea20d0>, <rdkit.DataStructs.cDataStructs.ExplicitBitVect object at 0xa1fea2120>]\n"
     ],
     "output_type": "stream"
    }
   ],
   "source": [
    "# Setup fingerprints for all the molecules \n",
    "fp=[]\n",
    "for m in tested:\n",
    "    fp.append(AllChem.RDKFingerprint(m, fpSize=2048))\n",
    "print(fp)\n"
   ],
   "metadata": {
    "collapsed": false,
    "pycharm": {
     "name": "#%%\n",
     "is_executing": false
    }
   }
  },
  {
   "cell_type": "code",
   "execution_count": 25,
   "outputs": [
    {
     "name": "stdout",
     "text": [
      "Column names are Plate, Well, Fold\n",
      "\tPlate 1, well A4 is a hit.\n",
      "\tPlate 101, well E10 is a hit.\n",
      "\tPlate 101, well E6 is a hit.\n",
      "\tPlate 101, well G6 is a hit.\n",
      "\tPlate 101, well H6 is a hit.\n",
      "\tPlate 31, well D8 is a hit.\n",
      "\tPlate 31, well E3 is a hit.\n",
      "\tPlate 31, well E9 is a hit.\n",
      "\tPlate 41, well D7 is a hit.\n",
      "\tPlate 41, well F3 is a hit.\n",
      "\tPlate 41, well F7 is a hit.\n",
      "\tPlate 41, well H7 is a hit.\n",
      "\tPlate 51, well H8 is a hit.\n",
      "\tPlate 91, well A2 is a hit.\n",
      "\tPlate 91, well A4 is a hit.\n",
      "\tPlate 91, well B2 is a hit.\n",
      "\tPlate 91, well B3 is a hit.\n",
      "\tPlate 91, well C2 is a hit.\n",
      "\tPlate 91, well C3 is a hit.\n",
      "\tPlate 91, well C4 is a hit.\n",
      "\tPlate 91, well D2 is a hit.\n",
      "\tPlate 91, well D3 is a hit.\n",
      "\tPlate 91, well D4 is a hit.\n",
      "\tPlate 91, well E2 is a hit.\n",
      "\tPlate 91, well E4 is a hit.\n",
      "\tPlate 91, well F2 is a hit.\n",
      "\tPlate 91, well F4 is a hit.\n",
      "\tPlate 91, well F5 is a hit.\n",
      "\tPlate 91, well G2 is a hit.\n",
      "\tPlate 91, well G4 is a hit.\n",
      "\tPlate 91, well H2 is a hit.\n",
      "\tPlate 91, well H3 is a hit.\n",
      "Processed 33 hits.\n"
     ],
     "output_type": "stream"
    }
   ],
   "source": [
    "# Set categorization of molecules\n",
    "# Property, HIT, will be set to true iff we found an aptamer for the molecule\n",
    "import csv\n",
    "\n",
    "allhits=[]\n",
    "with open('../data/raw/hasaptamer.csv') as csv_file:\n",
    "    csv_reader = csv.reader(csv_file, delimiter=',')\n",
    "    line_count = 0\n",
    "    for row in csv_reader:\n",
    "        if line_count == 0:\n",
    "            print(f'Column names are {\", \".join(row)}')\n",
    "            line_count += 1\n",
    "        else:\n",
    "            print(f'\\tPlate {row[0]}, well {row[1]} is a hit.')\n",
    "            line_count += 1\n",
    "            allhits.append(\"%s%s\"%(row[0],row[1]))\n",
    "    print(f'Processed {line_count} hits.')\n",
    "# Set HIT property\n",
    "for t in tested:\n",
    "    t.SetBoolProp(\"HIT\",t.GetProp(\"NAME\") in allhits)"
   ],
   "metadata": {
    "collapsed": false,
    "pycharm": {
     "name": "#%%\n",
     "is_executing": false
    }
   }
  },
  {
   "cell_type": "code",
   "execution_count": 2,
   "outputs": [
    {
     "name": "stdout",
     "text": [
      "Column names are Target, H960-266, H960-319, H960-850, H960-892, H960-735, H960-425, H960-940, H960-613, H960-251, H960-003, H960-875, H960-650, H960-172, H960-186, H960-050, H960-594, H960-228, H960-316, H960-488, H960-629, H960-668, H960-5050, H960-561, H960-156, H960-922, H960-843, H960-616, H960-617, H960-505, H960-072, H960-724, H960-315, H960-939, H960-256, H960-920, H960-869, H960-356, H960-337, H960-540, NSRef-630, NS-404, NS-231, NS-160, Amb-767, Amb-563, Amb-113, Amb-751, Amb-816, Amb-720, Amb-318, Amb-6319\n",
      "Processed 102 targets.\n",
      "['01A4', '01C5', '01C7', '01F7', '101B7', '101C7', '101D11', '101D7', '101D9', '101E10', '101E6', '101F11', '101F2', '101F7', '101G6', '101H6', '111E3', '111H2', '111H7', '11D3', '21G8', '31B11', '31B9', '31C10', '31C2', '31C3', '31C8', '31D4', '31D7', '31D8', '31E10', '31E3', '31E4', '31E7', '31E9', '31F10', '31H10', '41A11', '41C4', '41C5', '41C7', '41D10', '41D4', '41D7', '41E10', '41E2', '41E3', '41E4', '41E7', '41E9', '41F10', '41F2', '41F3', '41F4', '41F6', '41F7', '41H10', '41H7', '51B8', '51E4', '51E9', '51G2', '51H8', '61C2', '61C3', '61C4', '61C5', '61C7', '61E4', '61F2', '61F7', '71E11', '91A2', '91A3', '91A4', '91B2', '91B3', '91B4', '91C2', '91C3', '91C4', '91D2', '91D3', '91D4', '91E2', '91E3', '91E4', '91E8', '91F2', '91F3', '91F4', '91F5', '91F6', '91F7', '91F8', '91G2', '91G4', '91H11', '91H2', '91H3', '91H7']\n"
     ],
     "output_type": "stream"
    },
    {
     "traceback": [
      "\u001b[0;31m---------------------------------------------------------------------------\u001b[0m",
      "\u001b[0;31mNameError\u001b[0m                                 Traceback (most recent call last)",
      "\u001b[0;32m<ipython-input-2-aa3ff4e12af7>\u001b[0m in \u001b[0;36m<module>\u001b[0;34m\u001b[0m\n\u001b[1;32m     19\u001b[0m \u001b[0mprint\u001b[0m\u001b[0;34m(\u001b[0m\u001b[0mtargets\u001b[0m\u001b[0;34m)\u001b[0m\u001b[0;34m\u001b[0m\u001b[0;34m\u001b[0m\u001b[0m\n\u001b[1;32m     20\u001b[0m \u001b[0;31m# Set HIT property\u001b[0m\u001b[0;34m\u001b[0m\u001b[0;34m\u001b[0m\u001b[0;34m\u001b[0m\u001b[0m\n\u001b[0;32m---> 21\u001b[0;31m \u001b[0;32mfor\u001b[0m \u001b[0mt\u001b[0m \u001b[0;32min\u001b[0m \u001b[0mtested\u001b[0m\u001b[0;34m:\u001b[0m\u001b[0;34m\u001b[0m\u001b[0;34m\u001b[0m\u001b[0m\n\u001b[0m\u001b[1;32m     22\u001b[0m     \u001b[0mt\u001b[0m\u001b[0;34m.\u001b[0m\u001b[0mSetBoolProp\u001b[0m\u001b[0;34m(\u001b[0m\u001b[0;34m\"HIT\"\u001b[0m\u001b[0;34m,\u001b[0m\u001b[0mt\u001b[0m\u001b[0;34m.\u001b[0m\u001b[0mGetProp\u001b[0m\u001b[0;34m(\u001b[0m\u001b[0;34m\"NAME\"\u001b[0m\u001b[0;34m)\u001b[0m \u001b[0;32min\u001b[0m \u001b[0mallhits\u001b[0m\u001b[0;34m)\u001b[0m\u001b[0;34m\u001b[0m\u001b[0;34m\u001b[0m\u001b[0m\n\u001b[1;32m     23\u001b[0m \u001b[0;34m\u001b[0m\u001b[0m\n",
      "\u001b[0;31mNameError\u001b[0m: name 'tested' is not defined"
     ],
     "ename": "NameError",
     "evalue": "name 'tested' is not defined",
     "output_type": "error"
    }
   ],
   "source": [
    "# Set categorization of molecules\n",
    "# Property, HIT, will be set to true iff we found an aptamer for the molecule\n",
    "import csv\n",
    "fold=[]\n",
    "targets=[]\n",
    "with open('../data/raw/fold.csv') as csv_file:\n",
    "    csv_reader = csv.reader(csv_file, delimiter=',')\n",
    "    line_count = 0\n",
    "    for row in csv_reader:\n",
    "        if line_count == 0:\n",
    "            print(f'Column names are {\", \".join(row)}')\n",
    "            aptamers=row[1:]\n",
    "            line_count += 1\n",
    "        else:\n",
    "            line_count += 1\n",
    "            fold.append([float(x) for x in row[1:]])\n",
    "            targets.append(row[0])\n",
    "    print(f'Processed {line_count} targets.')\n",
    "print(targets)\n",
    "# Set fold property\n",
    "for t in tested:\n",
    "    t.SetBoolProp(\"HIT\",t.GetProp(\"NAME\") in allhits)\n",
    "\n"
   ],
   "metadata": {
    "collapsed": false,
    "pycharm": {
     "name": "#%%\n",
     "is_executing": false
    }
   }
  },
  {
   "cell_type": "code",
   "execution_count": 26,
   "outputs": [],
   "source": [
    "# Setup ML input as X, output as Y\n",
    "import numpy as np\n",
    "X = np.array(list(fp))\n",
    "from sklearn.preprocessing import StandardScaler\n",
    "#st = StandardScaler()\n",
    "#X = st.fit_transform(X)\n",
    "y=[t.GetBoolProp(\"HIT\") for t in tested]\n"
   ],
   "metadata": {
    "collapsed": false,
    "pycharm": {
     "name": "#%%\n",
     "is_executing": false
    }
   }
  },
  {
   "cell_type": "code",
   "execution_count": 27,
   "outputs": [
    {
     "name": "stdout",
     "text": [
      "Fraction hits: train: 0.036, test: 0.026\n"
     ],
     "output_type": "stream"
    }
   ],
   "source": [
    "from sklearn.model_selection import train_test_split\n",
    "X_train, X_test, y_train, y_test = train_test_split(X, y, test_size=0.4, random_state=0)\n",
    "print('Fraction hits: train: %.3f, test: %.3f'%(np.mean(y_train),np.mean(y_test)))\n"
   ],
   "metadata": {
    "collapsed": false,
    "pycharm": {
     "name": "#%%\n",
     "is_executing": false
    }
   }
  },
  {
   "cell_type": "code",
   "execution_count": 28,
   "outputs": [
    {
     "data": {
      "text/plain": "0.9781355118953965"
     },
     "metadata": {},
     "output_type": "execute_result",
     "execution_count": 28
    }
   ],
   "source": [
    "from sklearn.ensemble import RandomForestClassifier\n",
    "from sklearn.model_selection import cross_val_score\n",
    "clf = RandomForestClassifier(n_estimators=15)\n",
    "scores = cross_val_score(clf, X, y, cv=5)\n",
    "np.mean(scores)"
   ],
   "metadata": {
    "collapsed": false,
    "pycharm": {
     "name": "#%%\n",
     "is_executing": false
    }
   }
  },
  {
   "cell_type": "code",
   "execution_count": 29,
   "outputs": [
    {
     "name": "stderr",
     "text": [
      "/opt/anaconda3/envs/moldist2/lib/python3.7/site-packages/sklearn/ensemble/forest.py:245: FutureWarning: The default value of n_estimators will change from 10 in version 0.20 to 100 in 0.22.\n",
      "  \"10 in version 0.20 to 100 in 0.22.\", FutureWarning)\n"
     ],
     "output_type": "stream"
    }
   ],
   "source": [
    "from sklearn.ensemble import RandomForestClassifier\n",
    "\n",
    "rfc = RandomForestClassifier(random_state=42)\n",
    "rfc.fit(X_train, y_train)\n",
    "y_predict=rfc.predict(X_test)\n",
    "y_train_predict=rfc.predict(X_train)"
   ],
   "metadata": {
    "collapsed": false,
    "pycharm": {
     "name": "#%%\n",
     "is_executing": false
    }
   }
  },
  {
   "cell_type": "code",
   "execution_count": 30,
   "outputs": [
    {
     "data": {
      "text/plain": "0.8933155080213904"
     },
     "metadata": {},
     "output_type": "execute_result",
     "execution_count": 30
    }
   ],
   "source": [
    "import matplotlib.pyplot as plt\n",
    "import sklearn.metrics as sm\n",
    "\n",
    "ax = plt.gca()\n",
    "sm.roc_auc_score(y_test, y_predict)\n",
    "\n"
   ],
   "metadata": {
    "collapsed": false,
    "pycharm": {
     "name": "#%%\n",
     "is_executing": false
    }
   }
  },
  {
   "cell_type": "code",
   "execution_count": 31,
   "outputs": [
    {
     "name": "stdout",
     "text": [
      "              precision    recall  f1-score   support\n",
      "\n",
      "       False       0.99      0.99      0.99       374\n",
      "        True       0.62      0.80      0.70        10\n",
      "\n",
      "    accuracy                           0.98       384\n",
      "   macro avg       0.80      0.89      0.84       384\n",
      "weighted avg       0.98      0.98      0.98       384\n",
      "\n"
     ],
     "output_type": "stream"
    }
   ],
   "source": [
    "print(sm.classification_report(y_test, y_predict))\n"
   ],
   "metadata": {
    "collapsed": false,
    "pycharm": {
     "name": "#%%\n",
     "is_executing": false
    }
   }
  },
  {
   "cell_type": "code",
   "execution_count": 32,
   "outputs": [
    {
     "name": "stdout",
     "text": [
      "[[369   5]\n",
      " [  2   8]]\n"
     ],
     "output_type": "stream"
    }
   ],
   "source": [
    "print(sm.confusion_matrix(y_test, y_predict))"
   ],
   "metadata": {
    "collapsed": false,
    "pycharm": {
     "name": "#%%\n",
     "is_executing": false
    }
   }
  },
  {
   "cell_type": "code",
   "execution_count": 33,
   "outputs": [
    {
     "name": "stdout",
     "text": [
      "              precision    recall  f1-score   support\n",
      "\n",
      "       False       1.00      1.00      1.00       555\n",
      "        True       1.00      0.90      0.95        21\n",
      "\n",
      "    accuracy                           1.00       576\n",
      "   macro avg       1.00      0.95      0.97       576\n",
      "weighted avg       1.00      1.00      1.00       576\n",
      "\n"
     ],
     "output_type": "stream"
    }
   ],
   "source": [
    "print(sm.classification_report(y_train, y_train_predict))"
   ],
   "metadata": {
    "collapsed": false,
    "pycharm": {
     "name": "#%%\n",
     "is_executing": false
    }
   }
  },
  {
   "cell_type": "code",
   "execution_count": 34,
   "outputs": [
    {
     "name": "stdout",
     "text": [
      "[[555   0]\n",
      " [  2  19]]\n"
     ],
     "output_type": "stream"
    }
   ],
   "source": [
    "print(sm.confusion_matrix(y_train, y_train_predict))"
   ],
   "metadata": {
    "collapsed": false,
    "pycharm": {
     "name": "#%%\n",
     "is_executing": false
    }
   }
  },
  {
   "cell_type": "code",
   "execution_count": 35,
   "outputs": [
    {
     "name": "stderr",
     "text": [
      "/opt/anaconda3/envs/moldist2/lib/python3.7/site-packages/sklearn/linear_model/logistic.py:432: FutureWarning: Default solver will be changed to 'lbfgs' in 0.22. Specify a solver to silence this warning.\n",
      "  FutureWarning)\n"
     ],
     "output_type": "stream"
    }
   ],
   "source": [
    "\n",
    "from sklearn.linear_model import LogisticRegression\n",
    "\n",
    "lr = LogisticRegression(random_state=42)\n",
    "lr.fit(X_train, y_train)\n",
    "y_predict=lr.predict(X_test)\n",
    "y_train_predict=lr.predict(X_train)"
   ],
   "metadata": {
    "collapsed": false,
    "pycharm": {
     "name": "#%%\n",
     "is_executing": false
    }
   }
  },
  {
   "cell_type": "code",
   "execution_count": 36,
   "outputs": [
    {
     "name": "stdout",
     "text": [
      "              precision    recall  f1-score   support\n",
      "\n",
      "       False       1.00      1.00      1.00       555\n",
      "        True       1.00      1.00      1.00        21\n",
      "\n",
      "    accuracy                           1.00       576\n",
      "   macro avg       1.00      1.00      1.00       576\n",
      "weighted avg       1.00      1.00      1.00       576\n",
      "\n"
     ],
     "output_type": "stream"
    }
   ],
   "source": [
    "print(sm.classification_report(y_train, y_train_predict))\n"
   ],
   "metadata": {
    "collapsed": false,
    "pycharm": {
     "name": "#%%\n",
     "is_executing": false
    }
   }
  },
  {
   "cell_type": "code",
   "execution_count": null,
   "outputs": [],
   "source": [
    "lr.coef_.shape\n",
    "plt.hist(lr.coef_[0],100)\n",
    "plt.show()"
   ],
   "metadata": {
    "collapsed": false,
    "pycharm": {
     "name": "#%%\n",
     "is_executing": true
    }
   }
  },
  {
   "cell_type": "code",
   "execution_count": null,
   "outputs": [],
   "source": [],
   "metadata": {
    "collapsed": false,
    "pycharm": {
     "name": "#%%\n",
     "is_executing": true
    }
   }
  }
 ],
 "metadata": {
  "kernelspec": {
   "display_name": "Python 3",
   "language": "python",
   "name": "python3"
  },
  "language_info": {
   "codemirror_mode": {
    "name": "ipython",
    "version": 3
   },
   "file_extension": ".py",
   "mimetype": "text/x-python",
   "name": "python",
   "nbconvert_exporter": "python",
   "pygments_lexer": "ipython3",
   "version": "3.7.5"
  },
  "pycharm": {
   "stem_cell": {
    "cell_type": "raw",
    "source": [],
    "metadata": {
     "collapsed": false
    }
   }
  }
 },
 "nbformat": 4,
 "nbformat_minor": 2
}